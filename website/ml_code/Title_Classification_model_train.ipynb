{
 "cells": [
  {
   "cell_type": "markdown",
   "metadata": {},
   "source": [
    "---\n",
    "format:\n",
    "  html:\n",
    "    toc: true\n",
    "    embed-resources: true\n",
    "    code-fold: false\n",
    "execute:\n",
    "  echo: true\n",
    "---"
   ]
  },
  {
   "cell_type": "markdown",
   "id": "349c34d4-2132-4c54-94ca-f71da9c95e5b",
   "metadata": {},
   "source": [
    "## Title Classification Model Training"
   ]
  },
  {
   "cell_type": "code",
   "execution_count": 3,
   "id": "0ab568d4-87e3-4256-8dc4-7585a5ebd72f",
   "metadata": {
    "tags": []
   },
   "outputs": [
    {
     "name": "stdout",
     "output_type": "stream",
     "text": [
      "Collecting package metadata (current_repodata.json): done\n",
      "Solving environment: done\n",
      "\n",
      "\n",
      "==> WARNING: A newer version of conda exists. <==\n",
      "  current version: 23.3.1\n",
      "  latest version: 23.11.0\n",
      "\n",
      "Please update conda by running\n",
      "\n",
      "    $ conda update -n base -c defaults conda\n",
      "\n",
      "Or to minimize the number of packages updated during conda update use\n",
      "\n",
      "     conda install conda=23.11.0\n",
      "\n",
      "\n",
      "\n",
      "## Package Plan ##\n",
      "\n",
      "  environment location: /opt/conda\n",
      "\n",
      "  added / updated specs:\n",
      "    - openjdk\n",
      "\n",
      "\n",
      "The following packages will be downloaded:\n",
      "\n",
      "    package                    |            build\n",
      "    ---------------------------|-----------------\n",
      "    ca-certificates-2023.08.22 |       h06a4308_0         123 KB\n",
      "    certifi-2023.11.17         |  py310h06a4308_0         158 KB\n",
      "    openjdk-11.0.13            |       h87a67e3_0       341.0 MB\n",
      "    ------------------------------------------------------------\n",
      "                                           Total:       341.3 MB\n",
      "\n",
      "The following NEW packages will be INSTALLED:\n",
      "\n",
      "  openjdk            pkgs/main/linux-64::openjdk-11.0.13-h87a67e3_0 \n",
      "\n",
      "The following packages will be UPDATED:\n",
      "\n",
      "  ca-certificates    conda-forge::ca-certificates-2023.7.2~ --> pkgs/main::ca-certificates-2023.08.22-h06a4308_0 \n",
      "  certifi            conda-forge/noarch::certifi-2023.7.22~ --> pkgs/main/linux-64::certifi-2023.11.17-py310h06a4308_0 \n",
      "\n",
      "\n",
      "\n",
      "Downloading and Extracting Packages\n",
      "openjdk-11.0.13      | 341.0 MB  |                                       |   0% \n",
      "certifi-2023.11.17   | 158 KB    |                                       |   0% \u001b[A\n",
      "\n",
      "ca-certificates-2023 | 123 KB    |                                       |   0% \u001b[A\u001b[A\n",
      "certifi-2023.11.17   | 158 KB    | ##################################### | 100% \u001b[A\n",
      "\n",
      "                                                                                \u001b[A\u001b[A\n",
      "                                                                                \u001b[A\n",
      "\n",
      "                                                                                \u001b[A\u001b[A\n",
      "Preparing transaction: done\n",
      "Verifying transaction: done\n",
      "Executing transaction: done\n",
      "\n",
      "Note: you may need to restart the kernel to use updated packages.\n",
      "Collecting pyspark==3.4.0\n",
      "  Using cached pyspark-3.4.0-py2.py3-none-any.whl\n",
      "Collecting py4j==0.10.9.7 (from pyspark==3.4.0)\n",
      "  Using cached py4j-0.10.9.7-py2.py3-none-any.whl (200 kB)\n",
      "Installing collected packages: py4j, pyspark\n",
      "Successfully installed py4j-0.10.9.7 pyspark-3.4.0\n",
      "\u001b[33mWARNING: Running pip as the 'root' user can result in broken permissions and conflicting behaviour with the system package manager. It is recommended to use a virtual environment instead: https://pip.pypa.io/warnings/venv\u001b[0m\u001b[33m\n",
      "\u001b[0m\n",
      "\u001b[1m[\u001b[0m\u001b[34;49mnotice\u001b[0m\u001b[1;39;49m]\u001b[0m\u001b[39;49m A new release of pip is available: \u001b[0m\u001b[31;49m23.2.1\u001b[0m\u001b[39;49m -> \u001b[0m\u001b[32;49m23.3.1\u001b[0m\n",
      "\u001b[1m[\u001b[0m\u001b[34;49mnotice\u001b[0m\u001b[1;39;49m]\u001b[0m\u001b[39;49m To update, run: \u001b[0m\u001b[32;49mpip install --upgrade pip\u001b[0m\n",
      "Note: you may need to restart the kernel to use updated packages.\n",
      "Collecting spark-nlp==5.1.3\n",
      "  Obtaining dependency information for spark-nlp==5.1.3 from https://files.pythonhosted.org/packages/cd/7d/bc0eca4c9ec4c9c1d9b28c42c2f07942af70980a7d912d0aceebf8db32dd/spark_nlp-5.1.3-py2.py3-none-any.whl.metadata\n",
      "  Using cached spark_nlp-5.1.3-py2.py3-none-any.whl.metadata (53 kB)\n",
      "Using cached spark_nlp-5.1.3-py2.py3-none-any.whl (537 kB)\n",
      "Installing collected packages: spark-nlp\n",
      "Successfully installed spark-nlp-5.1.3\n",
      "\u001b[33mWARNING: Running pip as the 'root' user can result in broken permissions and conflicting behaviour with the system package manager. It is recommended to use a virtual environment instead: https://pip.pypa.io/warnings/venv\u001b[0m\u001b[33m\n",
      "\u001b[0m\n",
      "\u001b[1m[\u001b[0m\u001b[34;49mnotice\u001b[0m\u001b[1;39;49m]\u001b[0m\u001b[39;49m A new release of pip is available: \u001b[0m\u001b[31;49m23.2.1\u001b[0m\u001b[39;49m -> \u001b[0m\u001b[32;49m23.3.1\u001b[0m\n",
      "\u001b[1m[\u001b[0m\u001b[34;49mnotice\u001b[0m\u001b[1;39;49m]\u001b[0m\u001b[39;49m To update, run: \u001b[0m\u001b[32;49mpip install --upgrade pip\u001b[0m\n",
      "Note: you may need to restart the kernel to use updated packages.\n"
     ]
    },
    {
     "data": {
      "text/html": [
       "<script>Jupyter.notebook.kernel.restart()</script>"
      ],
      "text/plain": [
       "<IPython.core.display.HTML object>"
      ]
     },
     "execution_count": 3,
     "metadata": {},
     "output_type": "execute_result"
    }
   ],
   "source": [
    "# Setup - Run only once per Kernel App\n",
    "%conda install openjdk -y\n",
    "\n",
    "# install PySpark\n",
    "%pip install pyspark==3.4.0\n",
    "\n",
    "# install spark-nlp\n",
    "%pip install spark-nlp==5.1.3\n",
    "\n",
    "# restart kernel\n",
    "from IPython.core.display import HTML\n",
    "HTML(\"<script>Jupyter.notebook.kernel.restart()</script>\")"
   ]
  },
  {
   "cell_type": "code",
   "execution_count": 4,
   "id": "36ab3dbb-ea3e-469f-899a-91de4931d0d6",
   "metadata": {
    "tags": []
   },
   "outputs": [],
   "source": [
    "import json\n",
    "import sparknlp\n",
    "import numpy as np\n",
    "import pandas as pd\n",
    "from sparknlp.base import *\n",
    "from pyspark.ml import Pipeline\n",
    "from sparknlp.annotator import *\n",
    "import pyspark.sql.functions as F\n",
    "from pyspark.sql import SparkSession\n",
    "from sparknlp.pretrained import PretrainedPipeline"
   ]
  },
  {
   "cell_type": "code",
   "execution_count": 5,
   "id": "6a954b57-fae0-423c-933f-9f583b417104",
   "metadata": {
    "tags": []
   },
   "outputs": [
    {
     "name": "stderr",
     "output_type": "stream",
     "text": [
      "Warning: Ignoring non-Spark config property: fs.s3a.aws.credentials.provider\n"
     ]
    },
    {
     "name": "stdout",
     "output_type": "stream",
     "text": [
      ":: loading settings :: url = jar:file:/opt/conda/lib/python3.10/site-packages/pyspark/jars/ivy-2.5.1.jar!/org/apache/ivy/core/settings/ivysettings.xml\n"
     ]
    },
    {
     "name": "stderr",
     "output_type": "stream",
     "text": [
      "Ivy Default Cache set to: /root/.ivy2/cache\n",
      "The jars for the packages stored in: /root/.ivy2/jars\n",
      "com.johnsnowlabs.nlp#spark-nlp_2.12 added as a dependency\n",
      "org.apache.hadoop#hadoop-aws added as a dependency\n",
      ":: resolving dependencies :: org.apache.spark#spark-submit-parent-9e71241c-b38e-4fad-99c6-1c7c2ea85723;1.0\n",
      "\tconfs: [default]\n",
      "\tfound com.johnsnowlabs.nlp#spark-nlp_2.12;5.1.3 in central\n",
      "\tfound com.typesafe#config;1.4.2 in central\n",
      "\tfound org.rocksdb#rocksdbjni;6.29.5 in central\n",
      "\tfound com.amazonaws#aws-java-sdk-bundle;1.11.828 in central\n",
      "\tfound com.github.universal-automata#liblevenshtein;3.0.0 in central\n",
      "\tfound com.google.protobuf#protobuf-java-util;3.0.0-beta-3 in central\n",
      "\tfound com.google.protobuf#protobuf-java;3.0.0-beta-3 in central\n",
      "\tfound com.google.code.gson#gson;2.3 in central\n",
      "\tfound it.unimi.dsi#fastutil;7.0.12 in central\n",
      "\tfound org.projectlombok#lombok;1.16.8 in central\n",
      "\tfound com.google.cloud#google-cloud-storage;2.20.1 in central\n",
      "\tfound com.google.guava#guava;31.1-jre in central\n",
      "\tfound com.google.guava#failureaccess;1.0.1 in central\n",
      "\tfound com.google.guava#listenablefuture;9999.0-empty-to-avoid-conflict-with-guava in central\n",
      "\tfound com.google.errorprone#error_prone_annotations;2.18.0 in central\n",
      "\tfound com.google.j2objc#j2objc-annotations;1.3 in central\n",
      "\tfound com.google.http-client#google-http-client;1.43.0 in central\n",
      "\tfound io.opencensus#opencensus-contrib-http-util;0.31.1 in central\n",
      "\tfound com.google.http-client#google-http-client-jackson2;1.43.0 in central\n",
      "\tfound com.google.http-client#google-http-client-gson;1.43.0 in central\n",
      "\tfound com.google.api-client#google-api-client;2.2.0 in central\n",
      "\tfound commons-codec#commons-codec;1.15 in central\n",
      "\tfound com.google.oauth-client#google-oauth-client;1.34.1 in central\n",
      "\tfound com.google.http-client#google-http-client-apache-v2;1.43.0 in central\n",
      "\tfound com.google.apis#google-api-services-storage;v1-rev20220705-2.0.0 in central\n",
      "\tfound com.google.code.gson#gson;2.10.1 in central\n",
      "\tfound com.google.cloud#google-cloud-core;2.12.0 in central\n",
      "\tfound io.grpc#grpc-context;1.53.0 in central\n",
      "\tfound com.google.auto.value#auto-value-annotations;1.10.1 in central\n",
      "\tfound com.google.auto.value#auto-value;1.10.1 in central\n",
      "\tfound javax.annotation#javax.annotation-api;1.3.2 in central\n",
      "\tfound commons-logging#commons-logging;1.2 in central\n",
      "\tfound com.google.cloud#google-cloud-core-http;2.12.0 in central\n",
      "\tfound com.google.http-client#google-http-client-appengine;1.43.0 in central\n",
      "\tfound com.google.api#gax-httpjson;0.108.2 in central\n",
      "\tfound com.google.cloud#google-cloud-core-grpc;2.12.0 in central\n",
      "\tfound io.grpc#grpc-alts;1.53.0 in central\n",
      "\tfound io.grpc#grpc-grpclb;1.53.0 in central\n",
      "\tfound org.conscrypt#conscrypt-openjdk-uber;2.5.2 in central\n",
      "\tfound io.grpc#grpc-auth;1.53.0 in central\n",
      "\tfound io.grpc#grpc-protobuf;1.53.0 in central\n",
      "\tfound io.grpc#grpc-protobuf-lite;1.53.0 in central\n",
      "\tfound io.grpc#grpc-core;1.53.0 in central\n",
      "\tfound com.google.api#gax;2.23.2 in central\n",
      "\tfound com.google.api#gax-grpc;2.23.2 in central\n",
      "\tfound com.google.auth#google-auth-library-credentials;1.16.0 in central\n",
      "\tfound com.google.auth#google-auth-library-oauth2-http;1.16.0 in central\n",
      "\tfound com.google.api#api-common;2.6.2 in central\n",
      "\tfound io.opencensus#opencensus-api;0.31.1 in central\n",
      "\tfound com.google.api.grpc#proto-google-iam-v1;1.9.2 in central\n",
      "\tfound com.google.protobuf#protobuf-java;3.21.12 in central\n",
      "\tfound com.google.protobuf#protobuf-java-util;3.21.12 in central\n",
      "\tfound com.google.api.grpc#proto-google-common-protos;2.14.2 in central\n",
      "\tfound org.threeten#threetenbp;1.6.5 in central\n",
      "\tfound com.google.api.grpc#proto-google-cloud-storage-v2;2.20.1-alpha in central\n",
      "\tfound com.google.api.grpc#grpc-google-cloud-storage-v2;2.20.1-alpha in central\n",
      "\tfound com.google.api.grpc#gapic-google-cloud-storage-v2;2.20.1-alpha in central\n",
      "\tfound com.fasterxml.jackson.core#jackson-core;2.14.2 in central\n",
      "\tfound com.google.code.findbugs#jsr305;3.0.2 in central\n",
      "\tfound io.grpc#grpc-api;1.53.0 in central\n",
      "\tfound io.grpc#grpc-stub;1.53.0 in central\n",
      "\tfound org.checkerframework#checker-qual;3.31.0 in central\n",
      "\tfound io.perfmark#perfmark-api;0.26.0 in central\n",
      "\tfound com.google.android#annotations;4.1.1.4 in central\n",
      "\tfound org.codehaus.mojo#animal-sniffer-annotations;1.22 in central\n",
      "\tfound io.opencensus#opencensus-proto;0.2.0 in central\n",
      "\tfound io.grpc#grpc-services;1.53.0 in central\n",
      "\tfound com.google.re2j#re2j;1.6 in central\n",
      "\tfound io.grpc#grpc-netty-shaded;1.53.0 in central\n",
      "\tfound io.grpc#grpc-googleapis;1.53.0 in central\n",
      "\tfound io.grpc#grpc-xds;1.53.0 in central\n",
      "\tfound com.navigamez#greex;1.0 in central\n",
      "\tfound dk.brics.automaton#automaton;1.11-8 in central\n",
      "\tfound com.johnsnowlabs.nlp#tensorflow-cpu_2.12;0.4.4 in central\n",
      "\tfound com.microsoft.onnxruntime#onnxruntime;1.15.0 in central\n",
      "\tfound org.apache.hadoop#hadoop-aws;3.2.2 in central\n",
      ":: resolution report :: resolve 4115ms :: artifacts dl 509ms\n",
      "\t:: modules in use:\n",
      "\tcom.amazonaws#aws-java-sdk-bundle;1.11.828 from central in [default]\n",
      "\tcom.fasterxml.jackson.core#jackson-core;2.14.2 from central in [default]\n",
      "\tcom.github.universal-automata#liblevenshtein;3.0.0 from central in [default]\n",
      "\tcom.google.android#annotations;4.1.1.4 from central in [default]\n",
      "\tcom.google.api#api-common;2.6.2 from central in [default]\n",
      "\tcom.google.api#gax;2.23.2 from central in [default]\n",
      "\tcom.google.api#gax-grpc;2.23.2 from central in [default]\n",
      "\tcom.google.api#gax-httpjson;0.108.2 from central in [default]\n",
      "\tcom.google.api-client#google-api-client;2.2.0 from central in [default]\n",
      "\tcom.google.api.grpc#gapic-google-cloud-storage-v2;2.20.1-alpha from central in [default]\n",
      "\tcom.google.api.grpc#grpc-google-cloud-storage-v2;2.20.1-alpha from central in [default]\n",
      "\tcom.google.api.grpc#proto-google-cloud-storage-v2;2.20.1-alpha from central in [default]\n",
      "\tcom.google.api.grpc#proto-google-common-protos;2.14.2 from central in [default]\n",
      "\tcom.google.api.grpc#proto-google-iam-v1;1.9.2 from central in [default]\n",
      "\tcom.google.apis#google-api-services-storage;v1-rev20220705-2.0.0 from central in [default]\n",
      "\tcom.google.auth#google-auth-library-credentials;1.16.0 from central in [default]\n",
      "\tcom.google.auth#google-auth-library-oauth2-http;1.16.0 from central in [default]\n",
      "\tcom.google.auto.value#auto-value;1.10.1 from central in [default]\n",
      "\tcom.google.auto.value#auto-value-annotations;1.10.1 from central in [default]\n",
      "\tcom.google.cloud#google-cloud-core;2.12.0 from central in [default]\n",
      "\tcom.google.cloud#google-cloud-core-grpc;2.12.0 from central in [default]\n",
      "\tcom.google.cloud#google-cloud-core-http;2.12.0 from central in [default]\n",
      "\tcom.google.cloud#google-cloud-storage;2.20.1 from central in [default]\n",
      "\tcom.google.code.findbugs#jsr305;3.0.2 from central in [default]\n",
      "\tcom.google.code.gson#gson;2.10.1 from central in [default]\n",
      "\tcom.google.errorprone#error_prone_annotations;2.18.0 from central in [default]\n",
      "\tcom.google.guava#failureaccess;1.0.1 from central in [default]\n",
      "\tcom.google.guava#guava;31.1-jre from central in [default]\n",
      "\tcom.google.guava#listenablefuture;9999.0-empty-to-avoid-conflict-with-guava from central in [default]\n",
      "\tcom.google.http-client#google-http-client;1.43.0 from central in [default]\n",
      "\tcom.google.http-client#google-http-client-apache-v2;1.43.0 from central in [default]\n",
      "\tcom.google.http-client#google-http-client-appengine;1.43.0 from central in [default]\n",
      "\tcom.google.http-client#google-http-client-gson;1.43.0 from central in [default]\n",
      "\tcom.google.http-client#google-http-client-jackson2;1.43.0 from central in [default]\n",
      "\tcom.google.j2objc#j2objc-annotations;1.3 from central in [default]\n",
      "\tcom.google.oauth-client#google-oauth-client;1.34.1 from central in [default]\n",
      "\tcom.google.protobuf#protobuf-java;3.21.12 from central in [default]\n",
      "\tcom.google.protobuf#protobuf-java-util;3.21.12 from central in [default]\n",
      "\tcom.google.re2j#re2j;1.6 from central in [default]\n",
      "\tcom.johnsnowlabs.nlp#spark-nlp_2.12;5.1.3 from central in [default]\n",
      "\tcom.johnsnowlabs.nlp#tensorflow-cpu_2.12;0.4.4 from central in [default]\n",
      "\tcom.microsoft.onnxruntime#onnxruntime;1.15.0 from central in [default]\n",
      "\tcom.navigamez#greex;1.0 from central in [default]\n",
      "\tcom.typesafe#config;1.4.2 from central in [default]\n",
      "\tcommons-codec#commons-codec;1.15 from central in [default]\n",
      "\tcommons-logging#commons-logging;1.2 from central in [default]\n",
      "\tdk.brics.automaton#automaton;1.11-8 from central in [default]\n",
      "\tio.grpc#grpc-alts;1.53.0 from central in [default]\n",
      "\tio.grpc#grpc-api;1.53.0 from central in [default]\n",
      "\tio.grpc#grpc-auth;1.53.0 from central in [default]\n",
      "\tio.grpc#grpc-context;1.53.0 from central in [default]\n",
      "\tio.grpc#grpc-core;1.53.0 from central in [default]\n",
      "\tio.grpc#grpc-googleapis;1.53.0 from central in [default]\n",
      "\tio.grpc#grpc-grpclb;1.53.0 from central in [default]\n",
      "\tio.grpc#grpc-netty-shaded;1.53.0 from central in [default]\n",
      "\tio.grpc#grpc-protobuf;1.53.0 from central in [default]\n",
      "\tio.grpc#grpc-protobuf-lite;1.53.0 from central in [default]\n",
      "\tio.grpc#grpc-services;1.53.0 from central in [default]\n",
      "\tio.grpc#grpc-stub;1.53.0 from central in [default]\n",
      "\tio.grpc#grpc-xds;1.53.0 from central in [default]\n",
      "\tio.opencensus#opencensus-api;0.31.1 from central in [default]\n",
      "\tio.opencensus#opencensus-contrib-http-util;0.31.1 from central in [default]\n",
      "\tio.opencensus#opencensus-proto;0.2.0 from central in [default]\n",
      "\tio.perfmark#perfmark-api;0.26.0 from central in [default]\n",
      "\tit.unimi.dsi#fastutil;7.0.12 from central in [default]\n",
      "\tjavax.annotation#javax.annotation-api;1.3.2 from central in [default]\n",
      "\torg.apache.hadoop#hadoop-aws;3.2.2 from central in [default]\n",
      "\torg.checkerframework#checker-qual;3.31.0 from central in [default]\n",
      "\torg.codehaus.mojo#animal-sniffer-annotations;1.22 from central in [default]\n",
      "\torg.conscrypt#conscrypt-openjdk-uber;2.5.2 from central in [default]\n",
      "\torg.projectlombok#lombok;1.16.8 from central in [default]\n",
      "\torg.rocksdb#rocksdbjni;6.29.5 from central in [default]\n",
      "\torg.threeten#threetenbp;1.6.5 from central in [default]\n",
      "\t:: evicted modules:\n",
      "\tcom.google.protobuf#protobuf-java-util;3.0.0-beta-3 by [com.google.protobuf#protobuf-java-util;3.21.12] in [default]\n",
      "\tcom.google.protobuf#protobuf-java;3.0.0-beta-3 by [com.google.protobuf#protobuf-java;3.21.12] in [default]\n",
      "\tcom.google.code.gson#gson;2.3 by [com.google.code.gson#gson;2.10.1] in [default]\n",
      "\tcom.amazonaws#aws-java-sdk-bundle;1.11.563 by [com.amazonaws#aws-java-sdk-bundle;1.11.828] in [default]\n",
      "\t---------------------------------------------------------------------\n",
      "\t|                  |            modules            ||   artifacts   |\n",
      "\t|       conf       | number| search|dwnlded|evicted|| number|dwnlded|\n",
      "\t---------------------------------------------------------------------\n",
      "\t|      default     |   77  |   0   |   0   |   4   ||   73  |   0   |\n",
      "\t---------------------------------------------------------------------\n",
      ":: retrieving :: org.apache.spark#spark-submit-parent-9e71241c-b38e-4fad-99c6-1c7c2ea85723\n",
      "\tconfs: [default]\n",
      "\t0 artifacts copied, 73 already retrieved (0kB/143ms)\n",
      "23/12/07 17:06:05 WARN NativeCodeLoader: Unable to load native-hadoop library for your platform... using builtin-java classes where applicable\n",
      "Setting default log level to \"WARN\".\n",
      "To adjust logging level use sc.setLogLevel(newLevel). For SparkR, use setLogLevel(newLevel).\n"
     ]
    }
   ],
   "source": [
    "spark = SparkSession.builder \\\n",
    "    .appName(\"Spark NLP and PySparkApp\") \\\n",
    "    .master(\"local[*]\") \\\n",
    "    .config(\"spark.driver.memory\", \"32G\") \\\n",
    "    .config(\"spark.executor.memory\", \"16G\") \\\n",
    "    .config(\"spark.executor.memoryOverhead\", \"4G\") \\\n",
    "    .config(\"spark.driver.maxResultSize\", \"0\") \\\n",
    "    .config(\"spark.kryoserializer.buffer.max\", \"2000M\") \\\n",
    "    .config(\"spark.jars.packages\", \"com.johnsnowlabs.nlp:spark-nlp_2.12:5.1.3,org.apache.hadoop:hadoop-aws:3.2.2\") \\\n",
    "    .config(\"spark.hadoop.fs.s3a.impl\", \"org.apache.hadoop.fs.s3a.S3AFileSystem\") \\\n",
    "    .config(\"fs.s3a.aws.credentials.provider\", \"com.amazonaws.auth.ContainerCredentialsProvider\") \\\n",
    "    .getOrCreate()"
   ]
  },
  {
   "cell_type": "code",
   "execution_count": 6,
   "id": "89de9ab4-1b3f-4a20-a535-04f0ed9a71de",
   "metadata": {
    "tags": []
   },
   "outputs": [
    {
     "name": "stdout",
     "output_type": "stream",
     "text": [
      "sagemaker.config INFO - Not applying SDK defaults from location: /etc/xdg/sagemaker/config.yaml\n",
      "sagemaker.config INFO - Not applying SDK defaults from location: /root/.config/sagemaker/config.yaml\n",
      "sagemaker.config INFO - Not applying SDK defaults from location: /etc/xdg/sagemaker/config.yaml\n",
      "sagemaker.config INFO - Not applying SDK defaults from location: /root/.config/sagemaker/config.yaml\n",
      "reading submissions from s3a://sagemaker-us-east-1-032393624300/project/submissions/yyyy=*\n"
     ]
    },
    {
     "name": "stderr",
     "output_type": "stream",
     "text": [
      "23/12/07 17:06:19 WARN MetricsConfig: Cannot locate configuration: tried hadoop-metrics2-s3a-file-system.properties,hadoop-metrics2.properties\n",
      "23/12/07 17:06:25 WARN package: Truncated the string representation of a plan since it was too large. This behavior can be adjusted by setting 'spark.sql.debug.maxToStringFields'.\n",
      "[Stage 1:========================================================>(96 + 1) / 97]\r"
     ]
    },
    {
     "name": "stdout",
     "output_type": "stream",
     "text": [
      "shape of the comments dataframe is 59,459x68\n",
      "CPU times: user 2.77 s, sys: 173 ms, total: 2.94 s\n",
      "Wall time: 3min 51s\n"
     ]
    },
    {
     "name": "stderr",
     "output_type": "stream",
     "text": [
      "                                                                                \r"
     ]
    }
   ],
   "source": [
    "%%time\n",
    "import sagemaker\n",
    "session = sagemaker.Session()\n",
    "bucket = session.default_bucket()\n",
    "output_prefix_data_submissions = f\"project/submissions/yyyy=*\"\n",
    "s3_path = f\"s3a://{bucket}/{output_prefix_data_submissions}\"\n",
    "print(f\"reading submissions from {s3_path}\")\n",
    "submissions = spark.read.parquet(s3_path, header=True)\n",
    "#remove null tag\n",
    "submissions = submissions.filter(submissions.link_flair_text.isNotNull())\n",
    "print(f\"shape of the comments dataframe is {submissions.count():,}x{len(submissions.columns)}\")"
   ]
  },
  {
   "cell_type": "code",
   "execution_count": 6,
   "id": "ffe0afd7-ff98-4843-b09d-7a6e84da0256",
   "metadata": {
    "tags": []
   },
   "outputs": [
    {
     "name": "stderr",
     "output_type": "stream",
     "text": [
      "WARNING: An illegal reflective access operation has occurred\n",
      "WARNING: Illegal reflective access by org.apache.spark.util.SizeEstimator$ (file:/opt/conda/lib/python3.10/site-packages/pyspark/jars/spark-core_2.12-3.4.0.jar) to field java.util.regex.Pattern.pattern\n",
      "WARNING: Please consider reporting this to the maintainers of org.apache.spark.util.SizeEstimator$\n",
      "WARNING: Use --illegal-access=warn to enable warnings of further illegal reflective access operations\n",
      "WARNING: All illegal access operations will be denied in a future release\n",
      "                                                                                \r"
     ]
    }
   ],
   "source": [
    "import sparknlp\n",
    "from pyspark.sql.functions import col, lower, regexp_replace, trim, when, count, desc, sum as sum_\n",
    "from pyspark.sql.window import Window\n",
    "from pyspark.sql.functions import rank\n",
    "import plotly.express as px\n",
    "from sparknlp.base import DocumentAssembler\n",
    "from sparknlp.annotator import Tokenizer, Normalizer\n",
    "from sparknlp.base import Finisher\n",
    "from pyspark.ml import Pipeline\n",
    "from pyspark.sql.functions import col, explode, regexp_replace, expr, sum as sum_\n",
    "from pyspark.ml.feature import StringIndexer\n",
    "\n",
    "\n",
    "# Document Assembler\n",
    "document_assembler = DocumentAssembler() \\\n",
    "    .setInputCol(\"link_flair_text\") \\\n",
    "    .setOutputCol(\"document\")\n",
    "\n",
    "# Tokenizer\n",
    "tokenizer = Tokenizer() \\\n",
    "    .setInputCols([\"document\"]) \\\n",
    "    .setOutputCol(\"token\")\n",
    "\n",
    "# Normalizer\n",
    "normalizer = Normalizer() \\\n",
    "    .setInputCols([\"token\"]) \\\n",
    "    .setOutputCol(\"normalized\") \\\n",
    "    .setLowercase(True)\n",
    "\n",
    "# Finisher\n",
    "finisher = Finisher() \\\n",
    "    .setInputCols([\"normalized\"])\n",
    "\n",
    "# Pipeline\n",
    "nlp_pipeline = Pipeline(stages=[\n",
    "    document_assembler,\n",
    "    tokenizer,\n",
    "    normalizer,\n",
    "    finisher\n",
    "])\n",
    "\n",
    "# Apply the pipeline\n",
    "processed_tags_df = nlp_pipeline.fit(submissions).transform(submissions)\n",
    "\n",
    "\n",
    "# Text Processing for Title and Selftext (Body)\n",
    "\n",
    "# Document Assemblers for title and selftext\n",
    "title_assembler = DocumentAssembler().setInputCol(\"title\").setOutputCol(\"title_document\")\n",
    "selftext_assembler = DocumentAssembler().setInputCol(\"selftext\").setOutputCol(\"selftext_document\")\n",
    "\n",
    "# Tokenizers for title and selftext\n",
    "title_tokenizer = Tokenizer().setInputCols([\"title_document\"]).setOutputCol(\"title_token\")\n",
    "selftext_tokenizer = Tokenizer().setInputCols([\"selftext_document\"]).setOutputCol(\"selftext_token\")\n",
    "\n",
    "# Normalizers for title and selftext\n",
    "title_normalizer = Normalizer().setInputCols([\"title_token\"]).setOutputCol(\"title_normalized\").setLowercase(True)\n",
    "selftext_normalizer = Normalizer().setInputCols([\"selftext_token\"]).setOutputCol(\"selftext_normalized\").setLowercase(True)\n",
    "\n",
    "# Finishers for title and selftext\n",
    "title_finisher = Finisher().setInputCols([\"title_normalized\"]).setOutputCols([\"finished_title_normalized\"]).setOutputAsArray(True)\n",
    "selftext_finisher = Finisher().setInputCols([\"selftext_normalized\"]).setOutputCols([\"finished_selftext_normalized\"]).setOutputAsArray(True)\n",
    "\n",
    "\n",
    "# Extended NLP Pipeline\n",
    "extended_nlp_pipeline = Pipeline(stages=[\n",
    "    document_assembler,\n",
    "    tokenizer,\n",
    "    normalizer,\n",
    "    finisher,\n",
    "    title_assembler,\n",
    "    title_tokenizer,\n",
    "    title_normalizer,\n",
    "    title_finisher,\n",
    "    selftext_assembler,\n",
    "    selftext_tokenizer,\n",
    "    selftext_normalizer,\n",
    "    selftext_finisher\n",
    "])\n",
    "\n",
    "# Apply the extended pipeline\n",
    "extended_processed_df = extended_nlp_pipeline.fit(submissions).transform(submissions)\n",
    "\n",
    "from pyspark.ml.feature import CountVectorizer\n",
    "\n",
    "# CountVectorizer for each text feature\n",
    "cv_text = CountVectorizer(inputCol=\"finished_normalized\", outputCol=\"cv_text_features\")\n",
    "cv_title = CountVectorizer(inputCol=\"finished_title_normalized\", outputCol=\"cv_title_features\")\n",
    "cv_selftext = CountVectorizer(inputCol=\"finished_selftext_normalized\", outputCol=\"cv_selftext_features\")\n",
    "\n",
    "# Fitting and transforming\n",
    "model_text = cv_text.fit(extended_processed_df)\n",
    "model_title = cv_title.fit(extended_processed_df)\n",
    "model_selftext = cv_selftext.fit(extended_processed_df)\n",
    "\n",
    "df_with_features = model_text.transform(extended_processed_df)\n",
    "df_with_features = model_title.transform(df_with_features)\n",
    "df_with_features = model_selftext.transform(df_with_features)\n",
    "\n",
    "from pyspark.ml.feature import StringIndexer, VectorAssembler\n",
    "from pyspark.ml.classification import RandomForestClassifier\n",
    "from pyspark.ml.evaluation import MulticlassClassificationEvaluator\n",
    "from pyspark.ml.tuning import ParamGridBuilder, CrossValidator\n",
    "\n",
    "# Prepare the Label Column with handling invalid values\n",
    "label_indexer = StringIndexer(inputCol=\"link_flair_text\", outputCol=\"label\", handleInvalid=\"keep\")\n",
    "df_with_features = label_indexer.fit(df_with_features).transform(df_with_features)\n",
    "\n",
    "# Assemble all features into a single vector\n",
    "assembler = VectorAssembler(inputCols=[\"cv_text_features\", \"cv_title_features\", \"cv_selftext_features\"], outputCol=\"features\")\n",
    "final_prepared_df = assembler.transform(df_with_features)\n",
    "training_data, testing_data = final_prepared_df.randomSplit([0.6, 0.4], seed=42)"
   ]
  },
  {
   "cell_type": "markdown",
   "id": "dbe0da51-7dc6-435b-bbf5-d0c9eaec54cb",
   "metadata": {},
   "source": [
    "### Load the model to Predict and print the predict result"
   ]
  },
  {
   "cell_type": "code",
   "execution_count": 7,
   "id": "dd60c3d7-a275-4557-9bac-e88e200cdd12",
   "metadata": {
    "tags": []
   },
   "outputs": [
    {
     "name": "stderr",
     "output_type": "stream",
     "text": [
      "                                                                                \r"
     ]
    }
   ],
   "source": [
    "from pyspark.ml.classification import LogisticRegressionModel\n",
    "\n",
    "# Evaluate best model\n",
    "# Load a pre-trained model\n",
    "lrModel = LogisticRegressionModel.load(\"../../data/models/best_logistic_regression_model\")"
   ]
  },
  {
   "cell_type": "code",
   "execution_count": 8,
   "id": "a2996f14-8701-4e5e-bc1c-4fe57a4cf707",
   "metadata": {
    "tags": []
   },
   "outputs": [
    {
     "name": "stderr",
     "output_type": "stream",
     "text": [
      "23/12/07 09:15:15 WARN DAGScheduler: Broadcasting large task binary with size 41.2 MiB\n",
      "[Stage 20:>                                                         (0 + 1) / 1]\r"
     ]
    },
    {
     "name": "stdout",
     "output_type": "stream",
     "text": [
      "+-----+----------+--------------------+\n",
      "|label|prediction|         probability|\n",
      "+-----+----------+--------------------+\n",
      "|  0.0|       0.0|[1.0,2.2574461237...|\n",
      "|  0.0|       0.0|[0.99999429112962...|\n",
      "|  1.0|       1.0|[1.56182057744478...|\n",
      "|  0.0|       0.0|[1.0,3.2186355964...|\n",
      "|  1.0|       1.0|[2.81837635406791...|\n",
      "|  4.0|       4.0|[9.27858568667229...|\n",
      "|  0.0|       0.0|[1.0,3.9805376240...|\n",
      "|  1.0|       1.0|[2.35222368714639...|\n",
      "|  0.0|       0.0|[1.0,1.2301904949...|\n",
      "|  0.0|       0.0|[1.0,1.0298742724...|\n",
      "|  1.0|       0.0|[1.0,1.7401249905...|\n",
      "|  1.0|       1.0|[1.53576186600649...|\n",
      "|  2.0|       2.0|[4.55599402455953...|\n",
      "|  1.0|       1.0|[7.96642016175923...|\n",
      "|  0.0|       0.0|[1.0,8.2526283755...|\n",
      "|  1.0|       1.0|[2.29613276177369...|\n",
      "|  1.0|       1.0|[1.96106700064173...|\n",
      "|  0.0|       0.0|[1.0,5.8391558668...|\n",
      "|  7.0|       7.0|[3.81266501720795...|\n",
      "|  0.0|       0.0|[1.0,1.5822241615...|\n",
      "+-----+----------+--------------------+\n",
      "only showing top 20 rows\n",
      "\n"
     ]
    },
    {
     "name": "stderr",
     "output_type": "stream",
     "text": [
      "23/12/07 09:15:26 WARN InstanceBuilder: Failed to load implementation from:dev.ludovic.netlib.blas.JNIBLAS\n",
      "                                                                                \r"
     ]
    }
   ],
   "source": [
    "# Make predictions on the new data\n",
    "predictions = lrModel.transform(testing_data)\n",
    "predictions.select(\"label\",\"prediction\", \"probability\").show()"
   ]
  },
  {
   "cell_type": "markdown",
   "id": "e5bb1c79-d811-476b-b69f-d0bc3d29cf0c",
   "metadata": {},
   "source": [
    "### Make the predict result more readable"
   ]
  },
  {
   "cell_type": "code",
   "execution_count": 14,
   "id": "f829890b-5ef8-4856-8ea8-a024b608a991",
   "metadata": {
    "tags": []
   },
   "outputs": [
    {
     "name": "stderr",
     "output_type": "stream",
     "text": [
      "23/12/07 09:22:50 WARN DAGScheduler: Broadcasting large task binary with size 41.2 MiB\n",
      "[Stage 25:>                                                         (0 + 1) / 1]\r"
     ]
    },
    {
     "name": "stdout",
     "output_type": "stream",
     "text": [
      "+-----------------------------+-----------------------------+\n",
      "|ActualLabel                  |predictedLabel               |\n",
      "+-----------------------------+-----------------------------+\n",
      "|Question                     |Question                     |\n",
      "|Question                     |Question                     |\n",
      "|FOTD                         |FOTD                         |\n",
      "|Question                     |Question                     |\n",
      "|FOTD                         |FOTD                         |\n",
      "|Rule 2 Removal: Photo Editing|Rule 2 Removal: Photo Editing|\n",
      "|Question                     |Question                     |\n",
      "|FOTD                         |FOTD                         |\n",
      "|Question                     |Question                     |\n",
      "|Question                     |Question                     |\n",
      "|FOTD                         |Question                     |\n",
      "|FOTD                         |FOTD                         |\n",
      "|Discussion                   |Discussion                   |\n",
      "|FOTD                         |FOTD                         |\n",
      "|Question                     |Question                     |\n",
      "|FOTD                         |FOTD                         |\n",
      "|FOTD                         |FOTD                         |\n",
      "|Question                     |Question                     |\n",
      "|Rule 5 Removal: Product List |Rule 5 Removal: Product List |\n",
      "|Question                     |Question                     |\n",
      "+-----------------------------+-----------------------------+\n",
      "only showing top 20 rows\n",
      "\n"
     ]
    },
    {
     "name": "stderr",
     "output_type": "stream",
     "text": [
      "                                                                                \r"
     ]
    }
   ],
   "source": [
    "if 'label' in df_with_features.columns:\n",
    "    df_with_features = df_with_features.drop('label')\n",
    "\n",
    "# Fit the StringIndexer model and get the label mapping\n",
    "label_indexer_model = label_indexer.fit(df_with_features)\n",
    "original_labels = label_indexer_model.labels\n",
    "\n",
    "# Create a dictionary to map numerical labels to string labels\n",
    "label_dict = {i: label for i, label in enumerate(original_labels)}\n",
    "\n",
    "# Your existing UDF definition and the rest of the code\n",
    "from pyspark.sql.functions import udf\n",
    "from pyspark.sql.types import StringType\n",
    "\n",
    "def replace_label(num_label):\n",
    "    return label_dict.get(num_label, \"Unknown\")\n",
    "\n",
    "replace_label_udf = udf(replace_label, StringType())\n",
    "\n",
    "predictions_with_tags = predictions.withColumn(\"predictedLabel\", replace_label_udf(predictions[\"prediction\"]))\n",
    "predictions_with_tags = predictions_with_tags.withColumn(\"ActualLabel\", replace_label_udf(predictions[\"label\"]))\n",
    "\n",
    "predictions_with_tags.select(\"ActualLabel\",\"predictedLabel\").show(truncate=False)\n",
    "\n"
   ]
  },
  {
   "cell_type": "markdown",
   "id": "d669e825-9f2e-4833-962f-1c05171f4963",
   "metadata": {
    "tags": []
   },
   "source": [
    "### Prediction Visualization"
   ]
  },
  {
   "cell_type": "markdown",
   "id": "bf98a16e-9fdc-4bd0-85de-76ddde688f97",
   "metadata": {},
   "source": [
    "A insightful way to visualize the predictions data is through a bar chart comparing the actual and predicted counts for each label. "
   ]
  },
  {
   "cell_type": "code",
   "execution_count": 15,
   "id": "986d2853-2690-4121-9fab-e66fadcee9c9",
   "metadata": {
    "tags": []
   },
   "outputs": [
    {
     "name": "stderr",
     "output_type": "stream",
     "text": [
      "23/12/07 09:23:12 WARN DAGScheduler: Broadcasting large task binary with size 2.7 MiB\n",
      "23/12/07 09:26:32 WARN DAGScheduler: Broadcasting large task binary with size 2.7 MiB\n",
      "23/12/07 09:26:33 WARN DAGScheduler: Broadcasting large task binary with size 41.2 MiB\n",
      "23/12/07 09:29:50 WARN DAGScheduler: Broadcasting large task binary with size 41.2 MiB\n",
      "                                                                                \r"
     ]
    }
   ],
   "source": [
    "from pyspark.sql.functions import col, count\n",
    "\n",
    "# Counting the number of actual occurrences for each label\n",
    "actual_counts = predictions_with_tags.groupBy(\"ActualLabel\").agg(count(col(\"ActualLabel\")).alias(\"ActualCount\"))\n",
    "\n",
    "# Counting the number of predicted occurrences for each label\n",
    "predicted_counts = predictions_with_tags.groupBy(\"predictedLabel\").agg(count(col(\"predictedLabel\")).alias(\"PredictedCount\"))\n",
    "\n",
    "# Convert to Pandas DataFrame\n",
    "actual_counts_pd = actual_counts.toPandas()\n",
    "predicted_counts_pd = predicted_counts.toPandas()\n",
    "\n"
   ]
  },
  {
   "cell_type": "code",
   "execution_count": 16,
   "id": "51a6684f-18e6-432c-b242-53e99fdcec1a",
   "metadata": {
    "tags": []
   },
   "outputs": [],
   "source": [
    "# Merging the dataframes on labels\n",
    "merged_counts = pd.merge(actual_counts_pd, predicted_counts_pd, left_on='ActualLabel', right_on='predictedLabel')\n",
    "\n",
    "# Dropping duplicate columns\n",
    "merged_counts = merged_counts.drop(columns=['predictedLabel'])"
   ]
  },
  {
   "cell_type": "code",
   "execution_count": 17,
   "id": "82dcdced-093a-4ee5-a790-3e5b200d7856",
   "metadata": {
    "tags": []
   },
   "outputs": [],
   "source": [
    "# Save to a CSV file\n",
    "csv_file_path = '../../data/csv/title_classification_merged_counts.csv'\n",
    "merged_counts.to_csv(csv_file_path, index=False)"
   ]
  },
  {
   "cell_type": "code",
   "execution_count": 19,
   "id": "77218ce3-7acf-4fd4-80fb-e6a09d9fc474",
   "metadata": {
    "tags": []
   },
   "outputs": [
    {
     "data": {
      "application/vnd.plotly.v1+json": {
       "config": {
        "plotlyServerURL": "https://plot.ly"
       },
       "data": [
        {
         "name": "Actual",
         "title": {
          "text": "Halloween"
         },
         "type": "bar",
         "visible": false,
         "x": [
          "Swatches",
          "Discussion",
          "Review",
          "Haul",
          "Meta",
          "Rule 2 Removal: Photo Editing",
          "FOTD",
          "PSA",
          "Question",
          "Organization",
          "Rule 5 Removal: Product List",
          "Tutorial",
          "Halloween",
          "News",
          "Rule 4 Removal: Showcase Makeup",
          "Under Review",
          "Rule 3 Removal: Before/After",
          "Rule 7 Removal: Self Promo",
          "Simple Questions Removal",
          "AMA",
          "Mod Post",
          "Clutter Removal",
          "Question:snoo_thoughtful:",
          "Reviewed",
          "Unboxing ",
          "Shitpost Saturday Removal",
          "Makeup Look",
          "Question 👁",
          "Progress",
          "Text Tuesday Removal",
          "Good News",
          "Removal: Off-topic",
          "Question - Dupe"
         ],
         "y": [
          112,
          1048,
          258,
          112,
          29,
          198,
          4193,
          93,
          5128,
          66,
          119,
          201,
          155,
          48,
          50,
          7,
          7,
          44,
          10,
          5,
          10,
          10,
          3,
          5,
          1,
          1,
          1,
          1,
          6,
          7,
          1,
          1,
          1
         ]
        },
        {
         "name": "Predicted",
         "title": {
          "text": "Halloween"
         },
         "type": "bar",
         "visible": false,
         "x": [
          "Swatches",
          "Discussion",
          "Review",
          "Haul",
          "Meta",
          "Rule 2 Removal: Photo Editing",
          "FOTD",
          "PSA",
          "Question",
          "Organization",
          "Rule 5 Removal: Product List",
          "Tutorial",
          "Halloween",
          "News",
          "Rule 4 Removal: Showcase Makeup",
          "Under Review",
          "Rule 3 Removal: Before/After",
          "Rule 7 Removal: Self Promo",
          "Simple Questions Removal",
          "AMA",
          "Mod Post",
          "Clutter Removal",
          "Question:snoo_thoughtful:",
          "Reviewed",
          "Unboxing ",
          "Shitpost Saturday Removal",
          "Makeup Look",
          "Question 👁",
          "Progress",
          "Text Tuesday Removal",
          "Good News",
          "Removal: Off-topic",
          "Question - Dupe"
         ],
         "y": [
          129,
          1088,
          301,
          146,
          34,
          204,
          4129,
          111,
          4776,
          73,
          143,
          285,
          219,
          49,
          52,
          8,
          7,
          45,
          10,
          6,
          10,
          10,
          3,
          7,
          1,
          1,
          1,
          11,
          7,
          7,
          2,
          1,
          5
         ]
        },
        {
         "name": "Actual - Swatches",
         "title": {
          "text": "Halloween"
         },
         "type": "bar",
         "visible": false,
         "x": [
          "Swatches"
         ],
         "y": [
          112
         ]
        },
        {
         "name": "Predicted - Swatches",
         "title": {
          "text": "Halloween"
         },
         "type": "bar",
         "visible": false,
         "x": [
          "Swatches"
         ],
         "y": [
          129
         ]
        },
        {
         "name": "Actual - Discussion",
         "title": {
          "text": "Halloween"
         },
         "type": "bar",
         "visible": false,
         "x": [
          "Discussion"
         ],
         "y": [
          1048
         ]
        },
        {
         "name": "Predicted - Discussion",
         "title": {
          "text": "Halloween"
         },
         "type": "bar",
         "visible": false,
         "x": [
          "Discussion"
         ],
         "y": [
          1088
         ]
        },
        {
         "name": "Actual - Review",
         "title": {
          "text": "Halloween"
         },
         "type": "bar",
         "visible": false,
         "x": [
          "Review"
         ],
         "y": [
          258
         ]
        },
        {
         "name": "Predicted - Review",
         "title": {
          "text": "Halloween"
         },
         "type": "bar",
         "visible": false,
         "x": [
          "Review"
         ],
         "y": [
          301
         ]
        },
        {
         "name": "Actual - Haul",
         "title": {
          "text": "Halloween"
         },
         "type": "bar",
         "visible": false,
         "x": [
          "Haul"
         ],
         "y": [
          112
         ]
        },
        {
         "name": "Predicted - Haul",
         "title": {
          "text": "Halloween"
         },
         "type": "bar",
         "visible": false,
         "x": [
          "Haul"
         ],
         "y": [
          146
         ]
        },
        {
         "name": "Actual - Meta",
         "title": {
          "text": "Halloween"
         },
         "type": "bar",
         "visible": false,
         "x": [
          "Meta"
         ],
         "y": [
          29
         ]
        },
        {
         "name": "Predicted - Meta",
         "title": {
          "text": "Halloween"
         },
         "type": "bar",
         "visible": false,
         "x": [
          "Meta"
         ],
         "y": [
          34
         ]
        },
        {
         "name": "Actual - Rule 2 Removal: Photo Editing",
         "title": {
          "text": "Halloween"
         },
         "type": "bar",
         "visible": false,
         "x": [
          "Rule 2 Removal: Photo Editing"
         ],
         "y": [
          198
         ]
        },
        {
         "name": "Predicted - Rule 2 Removal: Photo Editing",
         "title": {
          "text": "Halloween"
         },
         "type": "bar",
         "visible": false,
         "x": [
          "Rule 2 Removal: Photo Editing"
         ],
         "y": [
          204
         ]
        },
        {
         "name": "Actual - FOTD",
         "title": {
          "text": "Halloween"
         },
         "type": "bar",
         "visible": false,
         "x": [
          "FOTD"
         ],
         "y": [
          4193
         ]
        },
        {
         "name": "Predicted - FOTD",
         "title": {
          "text": "Halloween"
         },
         "type": "bar",
         "visible": false,
         "x": [
          "FOTD"
         ],
         "y": [
          4129
         ]
        },
        {
         "name": "Actual - PSA",
         "title": {
          "text": "Halloween"
         },
         "type": "bar",
         "visible": false,
         "x": [
          "PSA"
         ],
         "y": [
          93
         ]
        },
        {
         "name": "Predicted - PSA",
         "title": {
          "text": "Halloween"
         },
         "type": "bar",
         "visible": false,
         "x": [
          "PSA"
         ],
         "y": [
          111
         ]
        },
        {
         "name": "Actual - Question",
         "title": {
          "text": "Halloween"
         },
         "type": "bar",
         "visible": false,
         "x": [
          "Question"
         ],
         "y": [
          5128
         ]
        },
        {
         "name": "Predicted - Question",
         "title": {
          "text": "Halloween"
         },
         "type": "bar",
         "visible": false,
         "x": [
          "Question"
         ],
         "y": [
          4776
         ]
        },
        {
         "name": "Actual - Organization",
         "title": {
          "text": "Halloween"
         },
         "type": "bar",
         "visible": false,
         "x": [
          "Organization"
         ],
         "y": [
          66
         ]
        },
        {
         "name": "Predicted - Organization",
         "title": {
          "text": "Halloween"
         },
         "type": "bar",
         "visible": false,
         "x": [
          "Organization"
         ],
         "y": [
          73
         ]
        },
        {
         "name": "Actual - Rule 5 Removal: Product List",
         "title": {
          "text": "Halloween"
         },
         "type": "bar",
         "visible": false,
         "x": [
          "Rule 5 Removal: Product List"
         ],
         "y": [
          119
         ]
        },
        {
         "name": "Predicted - Rule 5 Removal: Product List",
         "title": {
          "text": "Halloween"
         },
         "type": "bar",
         "visible": false,
         "x": [
          "Rule 5 Removal: Product List"
         ],
         "y": [
          143
         ]
        },
        {
         "name": "Actual - Tutorial",
         "title": {
          "text": "Halloween"
         },
         "type": "bar",
         "visible": false,
         "x": [
          "Tutorial"
         ],
         "y": [
          201
         ]
        },
        {
         "name": "Predicted - Tutorial",
         "title": {
          "text": "Halloween"
         },
         "type": "bar",
         "visible": false,
         "x": [
          "Tutorial"
         ],
         "y": [
          285
         ]
        },
        {
         "name": "Actual - Halloween",
         "title": {
          "text": "Halloween"
         },
         "type": "bar",
         "visible": true,
         "x": [
          "Halloween"
         ],
         "y": [
          155
         ]
        },
        {
         "name": "Predicted - Halloween",
         "title": {
          "text": "Halloween"
         },
         "type": "bar",
         "visible": true,
         "x": [
          "Halloween"
         ],
         "y": [
          219
         ]
        },
        {
         "name": "Actual - News",
         "title": {
          "text": "Halloween"
         },
         "type": "bar",
         "visible": false,
         "x": [
          "News"
         ],
         "y": [
          48
         ]
        },
        {
         "name": "Predicted - News",
         "title": {
          "text": "Halloween"
         },
         "type": "bar",
         "visible": false,
         "x": [
          "News"
         ],
         "y": [
          49
         ]
        },
        {
         "name": "Actual - Rule 4 Removal: Showcase Makeup",
         "title": {
          "text": "Halloween"
         },
         "type": "bar",
         "visible": false,
         "x": [
          "Rule 4 Removal: Showcase Makeup"
         ],
         "y": [
          50
         ]
        },
        {
         "name": "Predicted - Rule 4 Removal: Showcase Makeup",
         "title": {
          "text": "Halloween"
         },
         "type": "bar",
         "visible": false,
         "x": [
          "Rule 4 Removal: Showcase Makeup"
         ],
         "y": [
          52
         ]
        },
        {
         "name": "Actual - Under Review",
         "title": {
          "text": "Halloween"
         },
         "type": "bar",
         "visible": false,
         "x": [
          "Under Review"
         ],
         "y": [
          7
         ]
        },
        {
         "name": "Predicted - Under Review",
         "title": {
          "text": "Halloween"
         },
         "type": "bar",
         "visible": false,
         "x": [
          "Under Review"
         ],
         "y": [
          8
         ]
        },
        {
         "name": "Actual - Rule 3 Removal: Before/After",
         "title": {
          "text": "Halloween"
         },
         "type": "bar",
         "visible": false,
         "x": [
          "Rule 3 Removal: Before/After"
         ],
         "y": [
          7
         ]
        },
        {
         "name": "Predicted - Rule 3 Removal: Before/After",
         "title": {
          "text": "Halloween"
         },
         "type": "bar",
         "visible": false,
         "x": [
          "Rule 3 Removal: Before/After"
         ],
         "y": [
          7
         ]
        },
        {
         "name": "Actual - Rule 7 Removal: Self Promo",
         "title": {
          "text": "Halloween"
         },
         "type": "bar",
         "visible": false,
         "x": [
          "Rule 7 Removal: Self Promo"
         ],
         "y": [
          44
         ]
        },
        {
         "name": "Predicted - Rule 7 Removal: Self Promo",
         "title": {
          "text": "Halloween"
         },
         "type": "bar",
         "visible": false,
         "x": [
          "Rule 7 Removal: Self Promo"
         ],
         "y": [
          45
         ]
        },
        {
         "name": "Actual - Simple Questions Removal",
         "title": {
          "text": "Halloween"
         },
         "type": "bar",
         "visible": false,
         "x": [
          "Simple Questions Removal"
         ],
         "y": [
          10
         ]
        },
        {
         "name": "Predicted - Simple Questions Removal",
         "title": {
          "text": "Halloween"
         },
         "type": "bar",
         "visible": false,
         "x": [
          "Simple Questions Removal"
         ],
         "y": [
          10
         ]
        },
        {
         "name": "Actual - AMA",
         "title": {
          "text": "Halloween"
         },
         "type": "bar",
         "visible": false,
         "x": [
          "AMA"
         ],
         "y": [
          5
         ]
        },
        {
         "name": "Predicted - AMA",
         "title": {
          "text": "Halloween"
         },
         "type": "bar",
         "visible": false,
         "x": [
          "AMA"
         ],
         "y": [
          6
         ]
        },
        {
         "name": "Actual - Mod Post",
         "title": {
          "text": "Halloween"
         },
         "type": "bar",
         "visible": false,
         "x": [
          "Mod Post"
         ],
         "y": [
          10
         ]
        },
        {
         "name": "Predicted - Mod Post",
         "title": {
          "text": "Halloween"
         },
         "type": "bar",
         "visible": false,
         "x": [
          "Mod Post"
         ],
         "y": [
          10
         ]
        },
        {
         "name": "Actual - Clutter Removal",
         "title": {
          "text": "Halloween"
         },
         "type": "bar",
         "visible": false,
         "x": [
          "Clutter Removal"
         ],
         "y": [
          10
         ]
        },
        {
         "name": "Predicted - Clutter Removal",
         "title": {
          "text": "Halloween"
         },
         "type": "bar",
         "visible": false,
         "x": [
          "Clutter Removal"
         ],
         "y": [
          10
         ]
        },
        {
         "name": "Actual - Question:snoo_thoughtful:",
         "title": {
          "text": "Halloween"
         },
         "type": "bar",
         "visible": false,
         "x": [
          "Question:snoo_thoughtful:"
         ],
         "y": [
          3
         ]
        },
        {
         "name": "Predicted - Question:snoo_thoughtful:",
         "title": {
          "text": "Halloween"
         },
         "type": "bar",
         "visible": false,
         "x": [
          "Question:snoo_thoughtful:"
         ],
         "y": [
          3
         ]
        },
        {
         "name": "Actual - Reviewed",
         "title": {
          "text": "Halloween"
         },
         "type": "bar",
         "visible": false,
         "x": [
          "Reviewed"
         ],
         "y": [
          5
         ]
        },
        {
         "name": "Predicted - Reviewed",
         "title": {
          "text": "Halloween"
         },
         "type": "bar",
         "visible": false,
         "x": [
          "Reviewed"
         ],
         "y": [
          7
         ]
        },
        {
         "name": "Actual - Unboxing ",
         "title": {
          "text": "Halloween"
         },
         "type": "bar",
         "visible": false,
         "x": [
          "Unboxing "
         ],
         "y": [
          1
         ]
        },
        {
         "name": "Predicted - Unboxing ",
         "title": {
          "text": "Halloween"
         },
         "type": "bar",
         "visible": false,
         "x": [
          "Unboxing "
         ],
         "y": [
          1
         ]
        },
        {
         "name": "Actual - Shitpost Saturday Removal",
         "title": {
          "text": "Halloween"
         },
         "type": "bar",
         "visible": false,
         "x": [
          "Shitpost Saturday Removal"
         ],
         "y": [
          1
         ]
        },
        {
         "name": "Predicted - Shitpost Saturday Removal",
         "title": {
          "text": "Halloween"
         },
         "type": "bar",
         "visible": false,
         "x": [
          "Shitpost Saturday Removal"
         ],
         "y": [
          1
         ]
        },
        {
         "name": "Actual - Makeup Look",
         "title": {
          "text": "Halloween"
         },
         "type": "bar",
         "visible": false,
         "x": [
          "Makeup Look"
         ],
         "y": [
          1
         ]
        },
        {
         "name": "Predicted - Makeup Look",
         "title": {
          "text": "Halloween"
         },
         "type": "bar",
         "visible": false,
         "x": [
          "Makeup Look"
         ],
         "y": [
          1
         ]
        },
        {
         "name": "Actual - Question 👁",
         "title": {
          "text": "Halloween"
         },
         "type": "bar",
         "visible": false,
         "x": [
          "Question 👁"
         ],
         "y": [
          1
         ]
        },
        {
         "name": "Predicted - Question 👁",
         "title": {
          "text": "Halloween"
         },
         "type": "bar",
         "visible": false,
         "x": [
          "Question 👁"
         ],
         "y": [
          11
         ]
        },
        {
         "name": "Actual - Progress",
         "title": {
          "text": "Halloween"
         },
         "type": "bar",
         "visible": false,
         "x": [
          "Progress"
         ],
         "y": [
          6
         ]
        },
        {
         "name": "Predicted - Progress",
         "title": {
          "text": "Halloween"
         },
         "type": "bar",
         "visible": false,
         "x": [
          "Progress"
         ],
         "y": [
          7
         ]
        },
        {
         "name": "Actual - Text Tuesday Removal",
         "title": {
          "text": "Halloween"
         },
         "type": "bar",
         "visible": false,
         "x": [
          "Text Tuesday Removal"
         ],
         "y": [
          7
         ]
        },
        {
         "name": "Predicted - Text Tuesday Removal",
         "title": {
          "text": "Halloween"
         },
         "type": "bar",
         "visible": false,
         "x": [
          "Text Tuesday Removal"
         ],
         "y": [
          7
         ]
        },
        {
         "name": "Actual - Good News",
         "title": {
          "text": "Halloween"
         },
         "type": "bar",
         "visible": false,
         "x": [
          "Good News"
         ],
         "y": [
          1
         ]
        },
        {
         "name": "Predicted - Good News",
         "title": {
          "text": "Halloween"
         },
         "type": "bar",
         "visible": false,
         "x": [
          "Good News"
         ],
         "y": [
          2
         ]
        },
        {
         "name": "Actual - Removal: Off-topic",
         "title": {
          "text": "Halloween"
         },
         "type": "bar",
         "visible": false,
         "x": [
          "Removal: Off-topic"
         ],
         "y": [
          1
         ]
        },
        {
         "name": "Predicted - Removal: Off-topic",
         "title": {
          "text": "Halloween"
         },
         "type": "bar",
         "visible": false,
         "x": [
          "Removal: Off-topic"
         ],
         "y": [
          1
         ]
        },
        {
         "name": "Actual - Question - Dupe",
         "title": {
          "text": "Halloween"
         },
         "type": "bar",
         "visible": false,
         "x": [
          "Question - Dupe"
         ],
         "y": [
          1
         ]
        },
        {
         "name": "Predicted - Question - Dupe",
         "title": {
          "text": "Halloween"
         },
         "type": "bar",
         "visible": false,
         "x": [
          "Question - Dupe"
         ],
         "y": [
          5
         ]
        }
       ],
       "layout": {
        "autosize": true,
        "barmode": "group",
        "legend": {
         "itemsizing": "constant",
         "title": {
          "text": "<b>Legend</b>"
         },
         "traceorder": "normal"
        },
        "template": {
         "data": {
          "bar": [
           {
            "error_x": {
             "color": "#2a3f5f"
            },
            "error_y": {
             "color": "#2a3f5f"
            },
            "marker": {
             "line": {
              "color": "#E5ECF6",
              "width": 0.5
             },
             "pattern": {
              "fillmode": "overlay",
              "size": 10,
              "solidity": 0.2
             }
            },
            "type": "bar"
           }
          ],
          "barpolar": [
           {
            "marker": {
             "line": {
              "color": "#E5ECF6",
              "width": 0.5
             },
             "pattern": {
              "fillmode": "overlay",
              "size": 10,
              "solidity": 0.2
             }
            },
            "type": "barpolar"
           }
          ],
          "carpet": [
           {
            "aaxis": {
             "endlinecolor": "#2a3f5f",
             "gridcolor": "white",
             "linecolor": "white",
             "minorgridcolor": "white",
             "startlinecolor": "#2a3f5f"
            },
            "baxis": {
             "endlinecolor": "#2a3f5f",
             "gridcolor": "white",
             "linecolor": "white",
             "minorgridcolor": "white",
             "startlinecolor": "#2a3f5f"
            },
            "type": "carpet"
           }
          ],
          "choropleth": [
           {
            "colorbar": {
             "outlinewidth": 0,
             "ticks": ""
            },
            "type": "choropleth"
           }
          ],
          "contour": [
           {
            "colorbar": {
             "outlinewidth": 0,
             "ticks": ""
            },
            "colorscale": [
             [
              0,
              "#0d0887"
             ],
             [
              0.1111111111111111,
              "#46039f"
             ],
             [
              0.2222222222222222,
              "#7201a8"
             ],
             [
              0.3333333333333333,
              "#9c179e"
             ],
             [
              0.4444444444444444,
              "#bd3786"
             ],
             [
              0.5555555555555556,
              "#d8576b"
             ],
             [
              0.6666666666666666,
              "#ed7953"
             ],
             [
              0.7777777777777778,
              "#fb9f3a"
             ],
             [
              0.8888888888888888,
              "#fdca26"
             ],
             [
              1,
              "#f0f921"
             ]
            ],
            "type": "contour"
           }
          ],
          "contourcarpet": [
           {
            "colorbar": {
             "outlinewidth": 0,
             "ticks": ""
            },
            "type": "contourcarpet"
           }
          ],
          "heatmap": [
           {
            "colorbar": {
             "outlinewidth": 0,
             "ticks": ""
            },
            "colorscale": [
             [
              0,
              "#0d0887"
             ],
             [
              0.1111111111111111,
              "#46039f"
             ],
             [
              0.2222222222222222,
              "#7201a8"
             ],
             [
              0.3333333333333333,
              "#9c179e"
             ],
             [
              0.4444444444444444,
              "#bd3786"
             ],
             [
              0.5555555555555556,
              "#d8576b"
             ],
             [
              0.6666666666666666,
              "#ed7953"
             ],
             [
              0.7777777777777778,
              "#fb9f3a"
             ],
             [
              0.8888888888888888,
              "#fdca26"
             ],
             [
              1,
              "#f0f921"
             ]
            ],
            "type": "heatmap"
           }
          ],
          "heatmapgl": [
           {
            "colorbar": {
             "outlinewidth": 0,
             "ticks": ""
            },
            "colorscale": [
             [
              0,
              "#0d0887"
             ],
             [
              0.1111111111111111,
              "#46039f"
             ],
             [
              0.2222222222222222,
              "#7201a8"
             ],
             [
              0.3333333333333333,
              "#9c179e"
             ],
             [
              0.4444444444444444,
              "#bd3786"
             ],
             [
              0.5555555555555556,
              "#d8576b"
             ],
             [
              0.6666666666666666,
              "#ed7953"
             ],
             [
              0.7777777777777778,
              "#fb9f3a"
             ],
             [
              0.8888888888888888,
              "#fdca26"
             ],
             [
              1,
              "#f0f921"
             ]
            ],
            "type": "heatmapgl"
           }
          ],
          "histogram": [
           {
            "marker": {
             "pattern": {
              "fillmode": "overlay",
              "size": 10,
              "solidity": 0.2
             }
            },
            "type": "histogram"
           }
          ],
          "histogram2d": [
           {
            "colorbar": {
             "outlinewidth": 0,
             "ticks": ""
            },
            "colorscale": [
             [
              0,
              "#0d0887"
             ],
             [
              0.1111111111111111,
              "#46039f"
             ],
             [
              0.2222222222222222,
              "#7201a8"
             ],
             [
              0.3333333333333333,
              "#9c179e"
             ],
             [
              0.4444444444444444,
              "#bd3786"
             ],
             [
              0.5555555555555556,
              "#d8576b"
             ],
             [
              0.6666666666666666,
              "#ed7953"
             ],
             [
              0.7777777777777778,
              "#fb9f3a"
             ],
             [
              0.8888888888888888,
              "#fdca26"
             ],
             [
              1,
              "#f0f921"
             ]
            ],
            "type": "histogram2d"
           }
          ],
          "histogram2dcontour": [
           {
            "colorbar": {
             "outlinewidth": 0,
             "ticks": ""
            },
            "colorscale": [
             [
              0,
              "#0d0887"
             ],
             [
              0.1111111111111111,
              "#46039f"
             ],
             [
              0.2222222222222222,
              "#7201a8"
             ],
             [
              0.3333333333333333,
              "#9c179e"
             ],
             [
              0.4444444444444444,
              "#bd3786"
             ],
             [
              0.5555555555555556,
              "#d8576b"
             ],
             [
              0.6666666666666666,
              "#ed7953"
             ],
             [
              0.7777777777777778,
              "#fb9f3a"
             ],
             [
              0.8888888888888888,
              "#fdca26"
             ],
             [
              1,
              "#f0f921"
             ]
            ],
            "type": "histogram2dcontour"
           }
          ],
          "mesh3d": [
           {
            "colorbar": {
             "outlinewidth": 0,
             "ticks": ""
            },
            "type": "mesh3d"
           }
          ],
          "parcoords": [
           {
            "line": {
             "colorbar": {
              "outlinewidth": 0,
              "ticks": ""
             }
            },
            "type": "parcoords"
           }
          ],
          "pie": [
           {
            "automargin": true,
            "type": "pie"
           }
          ],
          "scatter": [
           {
            "fillpattern": {
             "fillmode": "overlay",
             "size": 10,
             "solidity": 0.2
            },
            "type": "scatter"
           }
          ],
          "scatter3d": [
           {
            "line": {
             "colorbar": {
              "outlinewidth": 0,
              "ticks": ""
             }
            },
            "marker": {
             "colorbar": {
              "outlinewidth": 0,
              "ticks": ""
             }
            },
            "type": "scatter3d"
           }
          ],
          "scattercarpet": [
           {
            "marker": {
             "colorbar": {
              "outlinewidth": 0,
              "ticks": ""
             }
            },
            "type": "scattercarpet"
           }
          ],
          "scattergeo": [
           {
            "marker": {
             "colorbar": {
              "outlinewidth": 0,
              "ticks": ""
             }
            },
            "type": "scattergeo"
           }
          ],
          "scattergl": [
           {
            "marker": {
             "colorbar": {
              "outlinewidth": 0,
              "ticks": ""
             }
            },
            "type": "scattergl"
           }
          ],
          "scattermapbox": [
           {
            "marker": {
             "colorbar": {
              "outlinewidth": 0,
              "ticks": ""
             }
            },
            "type": "scattermapbox"
           }
          ],
          "scatterpolar": [
           {
            "marker": {
             "colorbar": {
              "outlinewidth": 0,
              "ticks": ""
             }
            },
            "type": "scatterpolar"
           }
          ],
          "scatterpolargl": [
           {
            "marker": {
             "colorbar": {
              "outlinewidth": 0,
              "ticks": ""
             }
            },
            "type": "scatterpolargl"
           }
          ],
          "scatterternary": [
           {
            "marker": {
             "colorbar": {
              "outlinewidth": 0,
              "ticks": ""
             }
            },
            "type": "scatterternary"
           }
          ],
          "surface": [
           {
            "colorbar": {
             "outlinewidth": 0,
             "ticks": ""
            },
            "colorscale": [
             [
              0,
              "#0d0887"
             ],
             [
              0.1111111111111111,
              "#46039f"
             ],
             [
              0.2222222222222222,
              "#7201a8"
             ],
             [
              0.3333333333333333,
              "#9c179e"
             ],
             [
              0.4444444444444444,
              "#bd3786"
             ],
             [
              0.5555555555555556,
              "#d8576b"
             ],
             [
              0.6666666666666666,
              "#ed7953"
             ],
             [
              0.7777777777777778,
              "#fb9f3a"
             ],
             [
              0.8888888888888888,
              "#fdca26"
             ],
             [
              1,
              "#f0f921"
             ]
            ],
            "type": "surface"
           }
          ],
          "table": [
           {
            "cells": {
             "fill": {
              "color": "#EBF0F8"
             },
             "line": {
              "color": "white"
             }
            },
            "header": {
             "fill": {
              "color": "#C8D4E3"
             },
             "line": {
              "color": "white"
             }
            },
            "type": "table"
           }
          ]
         },
         "layout": {
          "annotationdefaults": {
           "arrowcolor": "#2a3f5f",
           "arrowhead": 0,
           "arrowwidth": 1
          },
          "autotypenumbers": "strict",
          "coloraxis": {
           "colorbar": {
            "outlinewidth": 0,
            "ticks": ""
           }
          },
          "colorscale": {
           "diverging": [
            [
             0,
             "#8e0152"
            ],
            [
             0.1,
             "#c51b7d"
            ],
            [
             0.2,
             "#de77ae"
            ],
            [
             0.3,
             "#f1b6da"
            ],
            [
             0.4,
             "#fde0ef"
            ],
            [
             0.5,
             "#f7f7f7"
            ],
            [
             0.6,
             "#e6f5d0"
            ],
            [
             0.7,
             "#b8e186"
            ],
            [
             0.8,
             "#7fbc41"
            ],
            [
             0.9,
             "#4d9221"
            ],
            [
             1,
             "#276419"
            ]
           ],
           "sequential": [
            [
             0,
             "#0d0887"
            ],
            [
             0.1111111111111111,
             "#46039f"
            ],
            [
             0.2222222222222222,
             "#7201a8"
            ],
            [
             0.3333333333333333,
             "#9c179e"
            ],
            [
             0.4444444444444444,
             "#bd3786"
            ],
            [
             0.5555555555555556,
             "#d8576b"
            ],
            [
             0.6666666666666666,
             "#ed7953"
            ],
            [
             0.7777777777777778,
             "#fb9f3a"
            ],
            [
             0.8888888888888888,
             "#fdca26"
            ],
            [
             1,
             "#f0f921"
            ]
           ],
           "sequentialminus": [
            [
             0,
             "#0d0887"
            ],
            [
             0.1111111111111111,
             "#46039f"
            ],
            [
             0.2222222222222222,
             "#7201a8"
            ],
            [
             0.3333333333333333,
             "#9c179e"
            ],
            [
             0.4444444444444444,
             "#bd3786"
            ],
            [
             0.5555555555555556,
             "#d8576b"
            ],
            [
             0.6666666666666666,
             "#ed7953"
            ],
            [
             0.7777777777777778,
             "#fb9f3a"
            ],
            [
             0.8888888888888888,
             "#fdca26"
            ],
            [
             1,
             "#f0f921"
            ]
           ]
          },
          "colorway": [
           "#636efa",
           "#EF553B",
           "#00cc96",
           "#ab63fa",
           "#FFA15A",
           "#19d3f3",
           "#FF6692",
           "#B6E880",
           "#FF97FF",
           "#FECB52"
          ],
          "font": {
           "color": "#2a3f5f"
          },
          "geo": {
           "bgcolor": "white",
           "lakecolor": "white",
           "landcolor": "#E5ECF6",
           "showlakes": true,
           "showland": true,
           "subunitcolor": "white"
          },
          "hoverlabel": {
           "align": "left"
          },
          "hovermode": "closest",
          "mapbox": {
           "style": "light"
          },
          "paper_bgcolor": "white",
          "plot_bgcolor": "#E5ECF6",
          "polar": {
           "angularaxis": {
            "gridcolor": "white",
            "linecolor": "white",
            "ticks": ""
           },
           "bgcolor": "#E5ECF6",
           "radialaxis": {
            "gridcolor": "white",
            "linecolor": "white",
            "ticks": ""
           }
          },
          "scene": {
           "xaxis": {
            "backgroundcolor": "#E5ECF6",
            "gridcolor": "white",
            "gridwidth": 2,
            "linecolor": "white",
            "showbackground": true,
            "ticks": "",
            "zerolinecolor": "white"
           },
           "yaxis": {
            "backgroundcolor": "#E5ECF6",
            "gridcolor": "white",
            "gridwidth": 2,
            "linecolor": "white",
            "showbackground": true,
            "ticks": "",
            "zerolinecolor": "white"
           },
           "zaxis": {
            "backgroundcolor": "#E5ECF6",
            "gridcolor": "white",
            "gridwidth": 2,
            "linecolor": "white",
            "showbackground": true,
            "ticks": "",
            "zerolinecolor": "white"
           }
          },
          "shapedefaults": {
           "line": {
            "color": "#2a3f5f"
           }
          },
          "ternary": {
           "aaxis": {
            "gridcolor": "white",
            "linecolor": "white",
            "ticks": ""
           },
           "baxis": {
            "gridcolor": "white",
            "linecolor": "white",
            "ticks": ""
           },
           "bgcolor": "#E5ECF6",
           "caxis": {
            "gridcolor": "white",
            "linecolor": "white",
            "ticks": ""
           }
          },
          "title": {
           "x": 0.05
          },
          "xaxis": {
           "automargin": true,
           "gridcolor": "white",
           "linecolor": "white",
           "ticks": "",
           "title": {
            "standoff": 15
           },
           "zerolinecolor": "white",
           "zerolinewidth": 2
          },
          "yaxis": {
           "automargin": true,
           "gridcolor": "white",
           "linecolor": "white",
           "ticks": "",
           "title": {
            "standoff": 15
           },
           "zerolinecolor": "white",
           "zerolinewidth": 2
          }
         }
        },
        "title": {
         "text": "Classification Comparison between Predicted and Actual Value"
        },
        "updatemenus": [
         {
          "active": 13,
          "buttons": [
           {
            "args": [
             {
              "title": "All",
              "visible": [
               true,
               true,
               false,
               false,
               false,
               false,
               false,
               false,
               false,
               false,
               false,
               false,
               false,
               false,
               false,
               false,
               false,
               false,
               false,
               false,
               false,
               false,
               false,
               false,
               false,
               false,
               false,
               false,
               false,
               false,
               false,
               false,
               false,
               false,
               false,
               false,
               false,
               false,
               false,
               false,
               false,
               false,
               false,
               false,
               false,
               false,
               false,
               false,
               false,
               false,
               false,
               false,
               false,
               false,
               false,
               false,
               false,
               false,
               false,
               false,
               false,
               false,
               false,
               false,
               false,
               false,
               false,
               false
              ]
             }
            ],
            "label": "All",
            "method": "update"
           },
           {
            "args": [
             {
              "title": "Swatches",
              "visible": [
               false,
               false,
               true,
               true,
               false,
               false,
               false,
               false,
               false,
               false,
               false,
               false,
               false,
               false,
               false,
               false,
               false,
               false,
               false,
               false,
               false,
               false,
               false,
               false,
               false,
               false,
               false,
               false,
               false,
               false,
               false,
               false,
               false,
               false,
               false,
               false,
               false,
               false,
               false,
               false,
               false,
               false,
               false,
               false,
               false,
               false,
               false,
               false,
               false,
               false,
               false,
               false,
               false,
               false,
               false,
               false,
               false,
               false,
               false,
               false,
               false,
               false,
               false,
               false,
               false,
               false,
               false,
               false
              ]
             }
            ],
            "label": "Swatches",
            "method": "update"
           },
           {
            "args": [
             {
              "title": "Discussion",
              "visible": [
               false,
               false,
               false,
               false,
               true,
               true,
               false,
               false,
               false,
               false,
               false,
               false,
               false,
               false,
               false,
               false,
               false,
               false,
               false,
               false,
               false,
               false,
               false,
               false,
               false,
               false,
               false,
               false,
               false,
               false,
               false,
               false,
               false,
               false,
               false,
               false,
               false,
               false,
               false,
               false,
               false,
               false,
               false,
               false,
               false,
               false,
               false,
               false,
               false,
               false,
               false,
               false,
               false,
               false,
               false,
               false,
               false,
               false,
               false,
               false,
               false,
               false,
               false,
               false,
               false,
               false,
               false,
               false
              ]
             }
            ],
            "label": "Discussion",
            "method": "update"
           },
           {
            "args": [
             {
              "title": "Review",
              "visible": [
               false,
               false,
               false,
               false,
               false,
               false,
               true,
               true,
               false,
               false,
               false,
               false,
               false,
               false,
               false,
               false,
               false,
               false,
               false,
               false,
               false,
               false,
               false,
               false,
               false,
               false,
               false,
               false,
               false,
               false,
               false,
               false,
               false,
               false,
               false,
               false,
               false,
               false,
               false,
               false,
               false,
               false,
               false,
               false,
               false,
               false,
               false,
               false,
               false,
               false,
               false,
               false,
               false,
               false,
               false,
               false,
               false,
               false,
               false,
               false,
               false,
               false,
               false,
               false,
               false,
               false,
               false,
               false
              ]
             }
            ],
            "label": "Review",
            "method": "update"
           },
           {
            "args": [
             {
              "title": "Haul",
              "visible": [
               false,
               false,
               false,
               false,
               false,
               false,
               false,
               false,
               true,
               true,
               false,
               false,
               false,
               false,
               false,
               false,
               false,
               false,
               false,
               false,
               false,
               false,
               false,
               false,
               false,
               false,
               false,
               false,
               false,
               false,
               false,
               false,
               false,
               false,
               false,
               false,
               false,
               false,
               false,
               false,
               false,
               false,
               false,
               false,
               false,
               false,
               false,
               false,
               false,
               false,
               false,
               false,
               false,
               false,
               false,
               false,
               false,
               false,
               false,
               false,
               false,
               false,
               false,
               false,
               false,
               false,
               false,
               false
              ]
             }
            ],
            "label": "Haul",
            "method": "update"
           },
           {
            "args": [
             {
              "title": "Meta",
              "visible": [
               false,
               false,
               false,
               false,
               false,
               false,
               false,
               false,
               false,
               false,
               true,
               true,
               false,
               false,
               false,
               false,
               false,
               false,
               false,
               false,
               false,
               false,
               false,
               false,
               false,
               false,
               false,
               false,
               false,
               false,
               false,
               false,
               false,
               false,
               false,
               false,
               false,
               false,
               false,
               false,
               false,
               false,
               false,
               false,
               false,
               false,
               false,
               false,
               false,
               false,
               false,
               false,
               false,
               false,
               false,
               false,
               false,
               false,
               false,
               false,
               false,
               false,
               false,
               false,
               false,
               false,
               false,
               false
              ]
             }
            ],
            "label": "Meta",
            "method": "update"
           },
           {
            "args": [
             {
              "title": "Rule 2 Removal: Photo Editing",
              "visible": [
               false,
               false,
               false,
               false,
               false,
               false,
               false,
               false,
               false,
               false,
               false,
               false,
               true,
               true,
               false,
               false,
               false,
               false,
               false,
               false,
               false,
               false,
               false,
               false,
               false,
               false,
               false,
               false,
               false,
               false,
               false,
               false,
               false,
               false,
               false,
               false,
               false,
               false,
               false,
               false,
               false,
               false,
               false,
               false,
               false,
               false,
               false,
               false,
               false,
               false,
               false,
               false,
               false,
               false,
               false,
               false,
               false,
               false,
               false,
               false,
               false,
               false,
               false,
               false,
               false,
               false,
               false,
               false
              ]
             }
            ],
            "label": "Rule 2 Removal: Photo Editing",
            "method": "update"
           },
           {
            "args": [
             {
              "title": "FOTD",
              "visible": [
               false,
               false,
               false,
               false,
               false,
               false,
               false,
               false,
               false,
               false,
               false,
               false,
               false,
               false,
               true,
               true,
               false,
               false,
               false,
               false,
               false,
               false,
               false,
               false,
               false,
               false,
               false,
               false,
               false,
               false,
               false,
               false,
               false,
               false,
               false,
               false,
               false,
               false,
               false,
               false,
               false,
               false,
               false,
               false,
               false,
               false,
               false,
               false,
               false,
               false,
               false,
               false,
               false,
               false,
               false,
               false,
               false,
               false,
               false,
               false,
               false,
               false,
               false,
               false,
               false,
               false,
               false,
               false
              ]
             }
            ],
            "label": "FOTD",
            "method": "update"
           },
           {
            "args": [
             {
              "title": "PSA",
              "visible": [
               false,
               false,
               false,
               false,
               false,
               false,
               false,
               false,
               false,
               false,
               false,
               false,
               false,
               false,
               false,
               false,
               true,
               true,
               false,
               false,
               false,
               false,
               false,
               false,
               false,
               false,
               false,
               false,
               false,
               false,
               false,
               false,
               false,
               false,
               false,
               false,
               false,
               false,
               false,
               false,
               false,
               false,
               false,
               false,
               false,
               false,
               false,
               false,
               false,
               false,
               false,
               false,
               false,
               false,
               false,
               false,
               false,
               false,
               false,
               false,
               false,
               false,
               false,
               false,
               false,
               false,
               false,
               false
              ]
             }
            ],
            "label": "PSA",
            "method": "update"
           },
           {
            "args": [
             {
              "title": "Question",
              "visible": [
               false,
               false,
               false,
               false,
               false,
               false,
               false,
               false,
               false,
               false,
               false,
               false,
               false,
               false,
               false,
               false,
               false,
               false,
               true,
               true,
               false,
               false,
               false,
               false,
               false,
               false,
               false,
               false,
               false,
               false,
               false,
               false,
               false,
               false,
               false,
               false,
               false,
               false,
               false,
               false,
               false,
               false,
               false,
               false,
               false,
               false,
               false,
               false,
               false,
               false,
               false,
               false,
               false,
               false,
               false,
               false,
               false,
               false,
               false,
               false,
               false,
               false,
               false,
               false,
               false,
               false,
               false,
               false
              ]
             }
            ],
            "label": "Question",
            "method": "update"
           },
           {
            "args": [
             {
              "title": "Organization",
              "visible": [
               false,
               false,
               false,
               false,
               false,
               false,
               false,
               false,
               false,
               false,
               false,
               false,
               false,
               false,
               false,
               false,
               false,
               false,
               false,
               false,
               true,
               true,
               false,
               false,
               false,
               false,
               false,
               false,
               false,
               false,
               false,
               false,
               false,
               false,
               false,
               false,
               false,
               false,
               false,
               false,
               false,
               false,
               false,
               false,
               false,
               false,
               false,
               false,
               false,
               false,
               false,
               false,
               false,
               false,
               false,
               false,
               false,
               false,
               false,
               false,
               false,
               false,
               false,
               false,
               false,
               false,
               false,
               false
              ]
             }
            ],
            "label": "Organization",
            "method": "update"
           },
           {
            "args": [
             {
              "title": "Rule 5 Removal: Product List",
              "visible": [
               false,
               false,
               false,
               false,
               false,
               false,
               false,
               false,
               false,
               false,
               false,
               false,
               false,
               false,
               false,
               false,
               false,
               false,
               false,
               false,
               false,
               false,
               true,
               true,
               false,
               false,
               false,
               false,
               false,
               false,
               false,
               false,
               false,
               false,
               false,
               false,
               false,
               false,
               false,
               false,
               false,
               false,
               false,
               false,
               false,
               false,
               false,
               false,
               false,
               false,
               false,
               false,
               false,
               false,
               false,
               false,
               false,
               false,
               false,
               false,
               false,
               false,
               false,
               false,
               false,
               false,
               false,
               false
              ]
             }
            ],
            "label": "Rule 5 Removal: Product List",
            "method": "update"
           },
           {
            "args": [
             {
              "title": "Tutorial",
              "visible": [
               false,
               false,
               false,
               false,
               false,
               false,
               false,
               false,
               false,
               false,
               false,
               false,
               false,
               false,
               false,
               false,
               false,
               false,
               false,
               false,
               false,
               false,
               false,
               false,
               true,
               true,
               false,
               false,
               false,
               false,
               false,
               false,
               false,
               false,
               false,
               false,
               false,
               false,
               false,
               false,
               false,
               false,
               false,
               false,
               false,
               false,
               false,
               false,
               false,
               false,
               false,
               false,
               false,
               false,
               false,
               false,
               false,
               false,
               false,
               false,
               false,
               false,
               false,
               false,
               false,
               false,
               false,
               false
              ]
             }
            ],
            "label": "Tutorial",
            "method": "update"
           },
           {
            "args": [
             {
              "title": "Halloween",
              "visible": [
               false,
               false,
               false,
               false,
               false,
               false,
               false,
               false,
               false,
               false,
               false,
               false,
               false,
               false,
               false,
               false,
               false,
               false,
               false,
               false,
               false,
               false,
               false,
               false,
               false,
               false,
               true,
               true,
               false,
               false,
               false,
               false,
               false,
               false,
               false,
               false,
               false,
               false,
               false,
               false,
               false,
               false,
               false,
               false,
               false,
               false,
               false,
               false,
               false,
               false,
               false,
               false,
               false,
               false,
               false,
               false,
               false,
               false,
               false,
               false,
               false,
               false,
               false,
               false,
               false,
               false,
               false,
               false
              ]
             }
            ],
            "label": "Halloween",
            "method": "update"
           },
           {
            "args": [
             {
              "title": "News",
              "visible": [
               false,
               false,
               false,
               false,
               false,
               false,
               false,
               false,
               false,
               false,
               false,
               false,
               false,
               false,
               false,
               false,
               false,
               false,
               false,
               false,
               false,
               false,
               false,
               false,
               false,
               false,
               false,
               false,
               true,
               true,
               false,
               false,
               false,
               false,
               false,
               false,
               false,
               false,
               false,
               false,
               false,
               false,
               false,
               false,
               false,
               false,
               false,
               false,
               false,
               false,
               false,
               false,
               false,
               false,
               false,
               false,
               false,
               false,
               false,
               false,
               false,
               false,
               false,
               false,
               false,
               false,
               false,
               false
              ]
             }
            ],
            "label": "News",
            "method": "update"
           },
           {
            "args": [
             {
              "title": "Rule 4 Removal: Showcase Makeup",
              "visible": [
               false,
               false,
               false,
               false,
               false,
               false,
               false,
               false,
               false,
               false,
               false,
               false,
               false,
               false,
               false,
               false,
               false,
               false,
               false,
               false,
               false,
               false,
               false,
               false,
               false,
               false,
               false,
               false,
               false,
               false,
               true,
               true,
               false,
               false,
               false,
               false,
               false,
               false,
               false,
               false,
               false,
               false,
               false,
               false,
               false,
               false,
               false,
               false,
               false,
               false,
               false,
               false,
               false,
               false,
               false,
               false,
               false,
               false,
               false,
               false,
               false,
               false,
               false,
               false,
               false,
               false,
               false,
               false
              ]
             }
            ],
            "label": "Rule 4 Removal: Showcase Makeup",
            "method": "update"
           },
           {
            "args": [
             {
              "title": "Under Review",
              "visible": [
               false,
               false,
               false,
               false,
               false,
               false,
               false,
               false,
               false,
               false,
               false,
               false,
               false,
               false,
               false,
               false,
               false,
               false,
               false,
               false,
               false,
               false,
               false,
               false,
               false,
               false,
               false,
               false,
               false,
               false,
               false,
               false,
               true,
               true,
               false,
               false,
               false,
               false,
               false,
               false,
               false,
               false,
               false,
               false,
               false,
               false,
               false,
               false,
               false,
               false,
               false,
               false,
               false,
               false,
               false,
               false,
               false,
               false,
               false,
               false,
               false,
               false,
               false,
               false,
               false,
               false,
               false,
               false
              ]
             }
            ],
            "label": "Under Review",
            "method": "update"
           },
           {
            "args": [
             {
              "title": "Rule 3 Removal: Before/After",
              "visible": [
               false,
               false,
               false,
               false,
               false,
               false,
               false,
               false,
               false,
               false,
               false,
               false,
               false,
               false,
               false,
               false,
               false,
               false,
               false,
               false,
               false,
               false,
               false,
               false,
               false,
               false,
               false,
               false,
               false,
               false,
               false,
               false,
               false,
               false,
               true,
               true,
               false,
               false,
               false,
               false,
               false,
               false,
               false,
               false,
               false,
               false,
               false,
               false,
               false,
               false,
               false,
               false,
               false,
               false,
               false,
               false,
               false,
               false,
               false,
               false,
               false,
               false,
               false,
               false,
               false,
               false,
               false,
               false
              ]
             }
            ],
            "label": "Rule 3 Removal: Before/After",
            "method": "update"
           },
           {
            "args": [
             {
              "title": "Rule 7 Removal: Self Promo",
              "visible": [
               false,
               false,
               false,
               false,
               false,
               false,
               false,
               false,
               false,
               false,
               false,
               false,
               false,
               false,
               false,
               false,
               false,
               false,
               false,
               false,
               false,
               false,
               false,
               false,
               false,
               false,
               false,
               false,
               false,
               false,
               false,
               false,
               false,
               false,
               false,
               false,
               true,
               true,
               false,
               false,
               false,
               false,
               false,
               false,
               false,
               false,
               false,
               false,
               false,
               false,
               false,
               false,
               false,
               false,
               false,
               false,
               false,
               false,
               false,
               false,
               false,
               false,
               false,
               false,
               false,
               false,
               false,
               false
              ]
             }
            ],
            "label": "Rule 7 Removal: Self Promo",
            "method": "update"
           },
           {
            "args": [
             {
              "title": "Simple Questions Removal",
              "visible": [
               false,
               false,
               false,
               false,
               false,
               false,
               false,
               false,
               false,
               false,
               false,
               false,
               false,
               false,
               false,
               false,
               false,
               false,
               false,
               false,
               false,
               false,
               false,
               false,
               false,
               false,
               false,
               false,
               false,
               false,
               false,
               false,
               false,
               false,
               false,
               false,
               false,
               false,
               true,
               true,
               false,
               false,
               false,
               false,
               false,
               false,
               false,
               false,
               false,
               false,
               false,
               false,
               false,
               false,
               false,
               false,
               false,
               false,
               false,
               false,
               false,
               false,
               false,
               false,
               false,
               false,
               false,
               false
              ]
             }
            ],
            "label": "Simple Questions Removal",
            "method": "update"
           },
           {
            "args": [
             {
              "title": "AMA",
              "visible": [
               false,
               false,
               false,
               false,
               false,
               false,
               false,
               false,
               false,
               false,
               false,
               false,
               false,
               false,
               false,
               false,
               false,
               false,
               false,
               false,
               false,
               false,
               false,
               false,
               false,
               false,
               false,
               false,
               false,
               false,
               false,
               false,
               false,
               false,
               false,
               false,
               false,
               false,
               false,
               false,
               true,
               true,
               false,
               false,
               false,
               false,
               false,
               false,
               false,
               false,
               false,
               false,
               false,
               false,
               false,
               false,
               false,
               false,
               false,
               false,
               false,
               false,
               false,
               false,
               false,
               false,
               false,
               false
              ]
             }
            ],
            "label": "AMA",
            "method": "update"
           },
           {
            "args": [
             {
              "title": "Mod Post",
              "visible": [
               false,
               false,
               false,
               false,
               false,
               false,
               false,
               false,
               false,
               false,
               false,
               false,
               false,
               false,
               false,
               false,
               false,
               false,
               false,
               false,
               false,
               false,
               false,
               false,
               false,
               false,
               false,
               false,
               false,
               false,
               false,
               false,
               false,
               false,
               false,
               false,
               false,
               false,
               false,
               false,
               false,
               false,
               true,
               true,
               false,
               false,
               false,
               false,
               false,
               false,
               false,
               false,
               false,
               false,
               false,
               false,
               false,
               false,
               false,
               false,
               false,
               false,
               false,
               false,
               false,
               false,
               false,
               false
              ]
             }
            ],
            "label": "Mod Post",
            "method": "update"
           },
           {
            "args": [
             {
              "title": "Clutter Removal",
              "visible": [
               false,
               false,
               false,
               false,
               false,
               false,
               false,
               false,
               false,
               false,
               false,
               false,
               false,
               false,
               false,
               false,
               false,
               false,
               false,
               false,
               false,
               false,
               false,
               false,
               false,
               false,
               false,
               false,
               false,
               false,
               false,
               false,
               false,
               false,
               false,
               false,
               false,
               false,
               false,
               false,
               false,
               false,
               false,
               false,
               true,
               true,
               false,
               false,
               false,
               false,
               false,
               false,
               false,
               false,
               false,
               false,
               false,
               false,
               false,
               false,
               false,
               false,
               false,
               false,
               false,
               false,
               false,
               false
              ]
             }
            ],
            "label": "Clutter Removal",
            "method": "update"
           },
           {
            "args": [
             {
              "title": "Question:snoo_thoughtful:",
              "visible": [
               false,
               false,
               false,
               false,
               false,
               false,
               false,
               false,
               false,
               false,
               false,
               false,
               false,
               false,
               false,
               false,
               false,
               false,
               false,
               false,
               false,
               false,
               false,
               false,
               false,
               false,
               false,
               false,
               false,
               false,
               false,
               false,
               false,
               false,
               false,
               false,
               false,
               false,
               false,
               false,
               false,
               false,
               false,
               false,
               false,
               false,
               true,
               true,
               false,
               false,
               false,
               false,
               false,
               false,
               false,
               false,
               false,
               false,
               false,
               false,
               false,
               false,
               false,
               false,
               false,
               false,
               false,
               false
              ]
             }
            ],
            "label": "Question:snoo_thoughtful:",
            "method": "update"
           },
           {
            "args": [
             {
              "title": "Reviewed",
              "visible": [
               false,
               false,
               false,
               false,
               false,
               false,
               false,
               false,
               false,
               false,
               false,
               false,
               false,
               false,
               false,
               false,
               false,
               false,
               false,
               false,
               false,
               false,
               false,
               false,
               false,
               false,
               false,
               false,
               false,
               false,
               false,
               false,
               false,
               false,
               false,
               false,
               false,
               false,
               false,
               false,
               false,
               false,
               false,
               false,
               false,
               false,
               false,
               false,
               true,
               true,
               false,
               false,
               false,
               false,
               false,
               false,
               false,
               false,
               false,
               false,
               false,
               false,
               false,
               false,
               false,
               false,
               false,
               false
              ]
             }
            ],
            "label": "Reviewed",
            "method": "update"
           },
           {
            "args": [
             {
              "title": "Unboxing ",
              "visible": [
               false,
               false,
               false,
               false,
               false,
               false,
               false,
               false,
               false,
               false,
               false,
               false,
               false,
               false,
               false,
               false,
               false,
               false,
               false,
               false,
               false,
               false,
               false,
               false,
               false,
               false,
               false,
               false,
               false,
               false,
               false,
               false,
               false,
               false,
               false,
               false,
               false,
               false,
               false,
               false,
               false,
               false,
               false,
               false,
               false,
               false,
               false,
               false,
               false,
               false,
               true,
               true,
               false,
               false,
               false,
               false,
               false,
               false,
               false,
               false,
               false,
               false,
               false,
               false,
               false,
               false,
               false,
               false
              ]
             }
            ],
            "label": "Unboxing ",
            "method": "update"
           },
           {
            "args": [
             {
              "title": "Shitpost Saturday Removal",
              "visible": [
               false,
               false,
               false,
               false,
               false,
               false,
               false,
               false,
               false,
               false,
               false,
               false,
               false,
               false,
               false,
               false,
               false,
               false,
               false,
               false,
               false,
               false,
               false,
               false,
               false,
               false,
               false,
               false,
               false,
               false,
               false,
               false,
               false,
               false,
               false,
               false,
               false,
               false,
               false,
               false,
               false,
               false,
               false,
               false,
               false,
               false,
               false,
               false,
               false,
               false,
               false,
               false,
               true,
               true,
               false,
               false,
               false,
               false,
               false,
               false,
               false,
               false,
               false,
               false,
               false,
               false,
               false,
               false
              ]
             }
            ],
            "label": "Shitpost Saturday Removal",
            "method": "update"
           },
           {
            "args": [
             {
              "title": "Makeup Look",
              "visible": [
               false,
               false,
               false,
               false,
               false,
               false,
               false,
               false,
               false,
               false,
               false,
               false,
               false,
               false,
               false,
               false,
               false,
               false,
               false,
               false,
               false,
               false,
               false,
               false,
               false,
               false,
               false,
               false,
               false,
               false,
               false,
               false,
               false,
               false,
               false,
               false,
               false,
               false,
               false,
               false,
               false,
               false,
               false,
               false,
               false,
               false,
               false,
               false,
               false,
               false,
               false,
               false,
               false,
               false,
               true,
               true,
               false,
               false,
               false,
               false,
               false,
               false,
               false,
               false,
               false,
               false,
               false,
               false
              ]
             }
            ],
            "label": "Makeup Look",
            "method": "update"
           },
           {
            "args": [
             {
              "title": "Question 👁",
              "visible": [
               false,
               false,
               false,
               false,
               false,
               false,
               false,
               false,
               false,
               false,
               false,
               false,
               false,
               false,
               false,
               false,
               false,
               false,
               false,
               false,
               false,
               false,
               false,
               false,
               false,
               false,
               false,
               false,
               false,
               false,
               false,
               false,
               false,
               false,
               false,
               false,
               false,
               false,
               false,
               false,
               false,
               false,
               false,
               false,
               false,
               false,
               false,
               false,
               false,
               false,
               false,
               false,
               false,
               false,
               false,
               false,
               true,
               true,
               false,
               false,
               false,
               false,
               false,
               false,
               false,
               false,
               false,
               false
              ]
             }
            ],
            "label": "Question 👁",
            "method": "update"
           },
           {
            "args": [
             {
              "title": "Progress",
              "visible": [
               false,
               false,
               false,
               false,
               false,
               false,
               false,
               false,
               false,
               false,
               false,
               false,
               false,
               false,
               false,
               false,
               false,
               false,
               false,
               false,
               false,
               false,
               false,
               false,
               false,
               false,
               false,
               false,
               false,
               false,
               false,
               false,
               false,
               false,
               false,
               false,
               false,
               false,
               false,
               false,
               false,
               false,
               false,
               false,
               false,
               false,
               false,
               false,
               false,
               false,
               false,
               false,
               false,
               false,
               false,
               false,
               false,
               false,
               true,
               true,
               false,
               false,
               false,
               false,
               false,
               false,
               false,
               false
              ]
             }
            ],
            "label": "Progress",
            "method": "update"
           },
           {
            "args": [
             {
              "title": "Text Tuesday Removal",
              "visible": [
               false,
               false,
               false,
               false,
               false,
               false,
               false,
               false,
               false,
               false,
               false,
               false,
               false,
               false,
               false,
               false,
               false,
               false,
               false,
               false,
               false,
               false,
               false,
               false,
               false,
               false,
               false,
               false,
               false,
               false,
               false,
               false,
               false,
               false,
               false,
               false,
               false,
               false,
               false,
               false,
               false,
               false,
               false,
               false,
               false,
               false,
               false,
               false,
               false,
               false,
               false,
               false,
               false,
               false,
               false,
               false,
               false,
               false,
               false,
               false,
               true,
               true,
               false,
               false,
               false,
               false,
               false,
               false
              ]
             }
            ],
            "label": "Text Tuesday Removal",
            "method": "update"
           },
           {
            "args": [
             {
              "title": "Good News",
              "visible": [
               false,
               false,
               false,
               false,
               false,
               false,
               false,
               false,
               false,
               false,
               false,
               false,
               false,
               false,
               false,
               false,
               false,
               false,
               false,
               false,
               false,
               false,
               false,
               false,
               false,
               false,
               false,
               false,
               false,
               false,
               false,
               false,
               false,
               false,
               false,
               false,
               false,
               false,
               false,
               false,
               false,
               false,
               false,
               false,
               false,
               false,
               false,
               false,
               false,
               false,
               false,
               false,
               false,
               false,
               false,
               false,
               false,
               false,
               false,
               false,
               false,
               false,
               true,
               true,
               false,
               false,
               false,
               false
              ]
             }
            ],
            "label": "Good News",
            "method": "update"
           },
           {
            "args": [
             {
              "title": "Removal: Off-topic",
              "visible": [
               false,
               false,
               false,
               false,
               false,
               false,
               false,
               false,
               false,
               false,
               false,
               false,
               false,
               false,
               false,
               false,
               false,
               false,
               false,
               false,
               false,
               false,
               false,
               false,
               false,
               false,
               false,
               false,
               false,
               false,
               false,
               false,
               false,
               false,
               false,
               false,
               false,
               false,
               false,
               false,
               false,
               false,
               false,
               false,
               false,
               false,
               false,
               false,
               false,
               false,
               false,
               false,
               false,
               false,
               false,
               false,
               false,
               false,
               false,
               false,
               false,
               false,
               false,
               false,
               true,
               true,
               false,
               false
              ]
             }
            ],
            "label": "Removal: Off-topic",
            "method": "update"
           },
           {
            "args": [
             {
              "title": "Question - Dupe",
              "visible": [
               false,
               false,
               false,
               false,
               false,
               false,
               false,
               false,
               false,
               false,
               false,
               false,
               false,
               false,
               false,
               false,
               false,
               false,
               false,
               false,
               false,
               false,
               false,
               false,
               false,
               false,
               false,
               false,
               false,
               false,
               false,
               false,
               false,
               false,
               false,
               false,
               false,
               false,
               false,
               false,
               false,
               false,
               false,
               false,
               false,
               false,
               false,
               false,
               false,
               false,
               false,
               false,
               false,
               false,
               false,
               false,
               false,
               false,
               false,
               false,
               false,
               false,
               false,
               false,
               false,
               false,
               true,
               true
              ]
             }
            ],
            "label": "Question - Dupe",
            "method": "update"
           }
          ],
          "direction": "down",
          "showactive": true,
          "x": 0.8,
          "xanchor": "left",
          "y": 1.6,
          "yanchor": "top"
         }
        ],
        "xaxis": {
         "autorange": true,
         "range": [
          -0.5,
          0.5
         ],
         "title": {
          "text": "Labels"
         },
         "type": "category"
        },
        "yaxis": {
         "autorange": true,
         "range": [
          0,
          230.52631578947367
         ],
         "title": {
          "text": "Count"
         },
         "type": "linear"
        }
       }
      },
      "image/png": "[encoded data removed]",
      "text/html": [
       "<div>                            <div id=\"40f1f067-6675-4a52-93c9-71648862f69d\" class=\"plotly-graph-div\" style=\"height:525px; width:100%;\"></div>            <script type=\"text/javascript\">                require([\"plotly\"], function(Plotly) {                    window.PLOTLYENV=window.PLOTLYENV || {};                                    if (document.getElementById(\"40f1f067-6675-4a52-93c9-71648862f69d\")) {                    Plotly.newPlot(                        \"40f1f067-6675-4a52-93c9-71648862f69d\",                        [{\"name\":\"Actual\",\"x\":[\"Swatches\",\"Discussion\",\"Review\",\"Haul\",\"Meta\",\"Rule 2 Removal: Photo Editing\",\"FOTD\",\"PSA\",\"Question\",\"Organization\",\"Rule 5 Removal: Product List\",\"Tutorial\",\"Halloween\",\"News\",\"Rule 4 Removal: Showcase Makeup\",\"Under Review\",\"Rule 3 Removal: Before/After\",\"Rule 7 Removal: Self Promo\",\"Simple Questions Removal\",\"AMA\",\"Mod Post\",\"Clutter Removal\",\"Question:snoo_thoughtful:\",\"Reviewed\",\"Unboxing \",\"Shitpost Saturday Removal\",\"Makeup Look\",\"Question \\ud83d\\udc41\",\"Progress\",\"Text Tuesday Removal\",\"Good News\",\"Removal: Off-topic\",\"Question - Dupe\"],\"y\":[112,1048,258,112,29,198,4193,93,5128,66,119,201,155,48,50,7,7,44,10,5,10,10,3,5,1,1,1,1,6,7,1,1,1],\"type\":\"bar\"},{\"name\":\"Predicted\",\"x\":[\"Swatches\",\"Discussion\",\"Review\",\"Haul\",\"Meta\",\"Rule 2 Removal: Photo Editing\",\"FOTD\",\"PSA\",\"Question\",\"Organization\",\"Rule 5 Removal: Product List\",\"Tutorial\",\"Halloween\",\"News\",\"Rule 4 Removal: Showcase Makeup\",\"Under Review\",\"Rule 3 Removal: Before/After\",\"Rule 7 Removal: Self Promo\",\"Simple Questions Removal\",\"AMA\",\"Mod Post\",\"Clutter Removal\",\"Question:snoo_thoughtful:\",\"Reviewed\",\"Unboxing \",\"Shitpost Saturday Removal\",\"Makeup Look\",\"Question \\ud83d\\udc41\",\"Progress\",\"Text Tuesday Removal\",\"Good News\",\"Removal: Off-topic\",\"Question - Dupe\"],\"y\":[129,1088,301,146,34,204,4129,111,4776,73,143,285,219,49,52,8,7,45,10,6,10,10,3,7,1,1,1,11,7,7,2,1,5],\"type\":\"bar\"},{\"name\":\"Actual - Swatches\",\"visible\":false,\"x\":[\"Swatches\"],\"y\":[112],\"type\":\"bar\"},{\"name\":\"Predicted - Swatches\",\"visible\":false,\"x\":[\"Swatches\"],\"y\":[129],\"type\":\"bar\"},{\"name\":\"Actual - Discussion\",\"visible\":false,\"x\":[\"Discussion\"],\"y\":[1048],\"type\":\"bar\"},{\"name\":\"Predicted - Discussion\",\"visible\":false,\"x\":[\"Discussion\"],\"y\":[1088],\"type\":\"bar\"},{\"name\":\"Actual - Review\",\"visible\":false,\"x\":[\"Review\"],\"y\":[258],\"type\":\"bar\"},{\"name\":\"Predicted - Review\",\"visible\":false,\"x\":[\"Review\"],\"y\":[301],\"type\":\"bar\"},{\"name\":\"Actual - Haul\",\"visible\":false,\"x\":[\"Haul\"],\"y\":[112],\"type\":\"bar\"},{\"name\":\"Predicted - Haul\",\"visible\":false,\"x\":[\"Haul\"],\"y\":[146],\"type\":\"bar\"},{\"name\":\"Actual - Meta\",\"visible\":false,\"x\":[\"Meta\"],\"y\":[29],\"type\":\"bar\"},{\"name\":\"Predicted - Meta\",\"visible\":false,\"x\":[\"Meta\"],\"y\":[34],\"type\":\"bar\"},{\"name\":\"Actual - Rule 2 Removal: Photo Editing\",\"visible\":false,\"x\":[\"Rule 2 Removal: Photo Editing\"],\"y\":[198],\"type\":\"bar\"},{\"name\":\"Predicted - Rule 2 Removal: Photo Editing\",\"visible\":false,\"x\":[\"Rule 2 Removal: Photo Editing\"],\"y\":[204],\"type\":\"bar\"},{\"name\":\"Actual - FOTD\",\"visible\":false,\"x\":[\"FOTD\"],\"y\":[4193],\"type\":\"bar\"},{\"name\":\"Predicted - FOTD\",\"visible\":false,\"x\":[\"FOTD\"],\"y\":[4129],\"type\":\"bar\"},{\"name\":\"Actual - PSA\",\"visible\":false,\"x\":[\"PSA\"],\"y\":[93],\"type\":\"bar\"},{\"name\":\"Predicted - PSA\",\"visible\":false,\"x\":[\"PSA\"],\"y\":[111],\"type\":\"bar\"},{\"name\":\"Actual - Question\",\"visible\":false,\"x\":[\"Question\"],\"y\":[5128],\"type\":\"bar\"},{\"name\":\"Predicted - Question\",\"visible\":false,\"x\":[\"Question\"],\"y\":[4776],\"type\":\"bar\"},{\"name\":\"Actual - Organization\",\"visible\":false,\"x\":[\"Organization\"],\"y\":[66],\"type\":\"bar\"},{\"name\":\"Predicted - Organization\",\"visible\":false,\"x\":[\"Organization\"],\"y\":[73],\"type\":\"bar\"},{\"name\":\"Actual - Rule 5 Removal: Product List\",\"visible\":false,\"x\":[\"Rule 5 Removal: Product List\"],\"y\":[119],\"type\":\"bar\"},{\"name\":\"Predicted - Rule 5 Removal: Product List\",\"visible\":false,\"x\":[\"Rule 5 Removal: Product List\"],\"y\":[143],\"type\":\"bar\"},{\"name\":\"Actual - Tutorial\",\"visible\":false,\"x\":[\"Tutorial\"],\"y\":[201],\"type\":\"bar\"},{\"name\":\"Predicted - Tutorial\",\"visible\":false,\"x\":[\"Tutorial\"],\"y\":[285],\"type\":\"bar\"},{\"name\":\"Actual - Halloween\",\"visible\":false,\"x\":[\"Halloween\"],\"y\":[155],\"type\":\"bar\"},{\"name\":\"Predicted - Halloween\",\"visible\":false,\"x\":[\"Halloween\"],\"y\":[219],\"type\":\"bar\"},{\"name\":\"Actual - News\",\"visible\":false,\"x\":[\"News\"],\"y\":[48],\"type\":\"bar\"},{\"name\":\"Predicted - News\",\"visible\":false,\"x\":[\"News\"],\"y\":[49],\"type\":\"bar\"},{\"name\":\"Actual - Rule 4 Removal: Showcase Makeup\",\"visible\":false,\"x\":[\"Rule 4 Removal: Showcase Makeup\"],\"y\":[50],\"type\":\"bar\"},{\"name\":\"Predicted - Rule 4 Removal: Showcase Makeup\",\"visible\":false,\"x\":[\"Rule 4 Removal: Showcase Makeup\"],\"y\":[52],\"type\":\"bar\"},{\"name\":\"Actual - Under Review\",\"visible\":false,\"x\":[\"Under Review\"],\"y\":[7],\"type\":\"bar\"},{\"name\":\"Predicted - Under Review\",\"visible\":false,\"x\":[\"Under Review\"],\"y\":[8],\"type\":\"bar\"},{\"name\":\"Actual - Rule 3 Removal: Before/After\",\"visible\":false,\"x\":[\"Rule 3 Removal: Before/After\"],\"y\":[7],\"type\":\"bar\"},{\"name\":\"Predicted - Rule 3 Removal: Before/After\",\"visible\":false,\"x\":[\"Rule 3 Removal: Before/After\"],\"y\":[7],\"type\":\"bar\"},{\"name\":\"Actual - Rule 7 Removal: Self Promo\",\"visible\":false,\"x\":[\"Rule 7 Removal: Self Promo\"],\"y\":[44],\"type\":\"bar\"},{\"name\":\"Predicted - Rule 7 Removal: Self Promo\",\"visible\":false,\"x\":[\"Rule 7 Removal: Self Promo\"],\"y\":[45],\"type\":\"bar\"},{\"name\":\"Actual - Simple Questions Removal\",\"visible\":false,\"x\":[\"Simple Questions Removal\"],\"y\":[10],\"type\":\"bar\"},{\"name\":\"Predicted - Simple Questions Removal\",\"visible\":false,\"x\":[\"Simple Questions Removal\"],\"y\":[10],\"type\":\"bar\"},{\"name\":\"Actual - AMA\",\"visible\":false,\"x\":[\"AMA\"],\"y\":[5],\"type\":\"bar\"},{\"name\":\"Predicted - AMA\",\"visible\":false,\"x\":[\"AMA\"],\"y\":[6],\"type\":\"bar\"},{\"name\":\"Actual - Mod Post\",\"visible\":false,\"x\":[\"Mod Post\"],\"y\":[10],\"type\":\"bar\"},{\"name\":\"Predicted - Mod Post\",\"visible\":false,\"x\":[\"Mod Post\"],\"y\":[10],\"type\":\"bar\"},{\"name\":\"Actual - Clutter Removal\",\"visible\":false,\"x\":[\"Clutter Removal\"],\"y\":[10],\"type\":\"bar\"},{\"name\":\"Predicted - Clutter Removal\",\"visible\":false,\"x\":[\"Clutter Removal\"],\"y\":[10],\"type\":\"bar\"},{\"name\":\"Actual - Question:snoo_thoughtful:\",\"visible\":false,\"x\":[\"Question:snoo_thoughtful:\"],\"y\":[3],\"type\":\"bar\"},{\"name\":\"Predicted - Question:snoo_thoughtful:\",\"visible\":false,\"x\":[\"Question:snoo_thoughtful:\"],\"y\":[3],\"type\":\"bar\"},{\"name\":\"Actual - Reviewed\",\"visible\":false,\"x\":[\"Reviewed\"],\"y\":[5],\"type\":\"bar\"},{\"name\":\"Predicted - Reviewed\",\"visible\":false,\"x\":[\"Reviewed\"],\"y\":[7],\"type\":\"bar\"},{\"name\":\"Actual - Unboxing \",\"visible\":false,\"x\":[\"Unboxing \"],\"y\":[1],\"type\":\"bar\"},{\"name\":\"Predicted - Unboxing \",\"visible\":false,\"x\":[\"Unboxing \"],\"y\":[1],\"type\":\"bar\"},{\"name\":\"Actual - Shitpost Saturday Removal\",\"visible\":false,\"x\":[\"Shitpost Saturday Removal\"],\"y\":[1],\"type\":\"bar\"},{\"name\":\"Predicted - Shitpost Saturday Removal\",\"visible\":false,\"x\":[\"Shitpost Saturday Removal\"],\"y\":[1],\"type\":\"bar\"},{\"name\":\"Actual - Makeup Look\",\"visible\":false,\"x\":[\"Makeup Look\"],\"y\":[1],\"type\":\"bar\"},{\"name\":\"Predicted - Makeup Look\",\"visible\":false,\"x\":[\"Makeup Look\"],\"y\":[1],\"type\":\"bar\"},{\"name\":\"Actual - Question \\ud83d\\udc41\",\"visible\":false,\"x\":[\"Question \\ud83d\\udc41\"],\"y\":[1],\"type\":\"bar\"},{\"name\":\"Predicted - Question \\ud83d\\udc41\",\"visible\":false,\"x\":[\"Question \\ud83d\\udc41\"],\"y\":[11],\"type\":\"bar\"},{\"name\":\"Actual - Progress\",\"visible\":false,\"x\":[\"Progress\"],\"y\":[6],\"type\":\"bar\"},{\"name\":\"Predicted - Progress\",\"visible\":false,\"x\":[\"Progress\"],\"y\":[7],\"type\":\"bar\"},{\"name\":\"Actual - Text Tuesday Removal\",\"visible\":false,\"x\":[\"Text Tuesday Removal\"],\"y\":[7],\"type\":\"bar\"},{\"name\":\"Predicted - Text Tuesday Removal\",\"visible\":false,\"x\":[\"Text Tuesday Removal\"],\"y\":[7],\"type\":\"bar\"},{\"name\":\"Actual - Good News\",\"visible\":false,\"x\":[\"Good News\"],\"y\":[1],\"type\":\"bar\"},{\"name\":\"Predicted - Good News\",\"visible\":false,\"x\":[\"Good News\"],\"y\":[2],\"type\":\"bar\"},{\"name\":\"Actual - Removal: Off-topic\",\"visible\":false,\"x\":[\"Removal: Off-topic\"],\"y\":[1],\"type\":\"bar\"},{\"name\":\"Predicted - Removal: Off-topic\",\"visible\":false,\"x\":[\"Removal: Off-topic\"],\"y\":[1],\"type\":\"bar\"},{\"name\":\"Actual - Question - Dupe\",\"visible\":false,\"x\":[\"Question - Dupe\"],\"y\":[1],\"type\":\"bar\"},{\"name\":\"Predicted - Question - Dupe\",\"visible\":false,\"x\":[\"Question - Dupe\"],\"y\":[5],\"type\":\"bar\"}],                        {\"template\":{\"data\":{\"histogram2dcontour\":[{\"type\":\"histogram2dcontour\",\"colorbar\":{\"outlinewidth\":0,\"ticks\":\"\"},\"colorscale\":[[0.0,\"#0d0887\"],[0.1111111111111111,\"#46039f\"],[0.2222222222222222,\"#7201a8\"],[0.3333333333333333,\"#9c179e\"],[0.4444444444444444,\"#bd3786\"],[0.5555555555555556,\"#d8576b\"],[0.6666666666666666,\"#ed7953\"],[0.7777777777777778,\"#fb9f3a\"],[0.8888888888888888,\"#fdca26\"],[1.0,\"#f0f921\"]]}],\"choropleth\":[{\"type\":\"choropleth\",\"colorbar\":{\"outlinewidth\":0,\"ticks\":\"\"}}],\"histogram2d\":[{\"type\":\"histogram2d\",\"colorbar\":{\"outlinewidth\":0,\"ticks\":\"\"},\"colorscale\":[[0.0,\"#0d0887\"],[0.1111111111111111,\"#46039f\"],[0.2222222222222222,\"#7201a8\"],[0.3333333333333333,\"#9c179e\"],[0.4444444444444444,\"#bd3786\"],[0.5555555555555556,\"#d8576b\"],[0.6666666666666666,\"#ed7953\"],[0.7777777777777778,\"#fb9f3a\"],[0.8888888888888888,\"#fdca26\"],[1.0,\"#f0f921\"]]}],\"heatmap\":[{\"type\":\"heatmap\",\"colorbar\":{\"outlinewidth\":0,\"ticks\":\"\"},\"colorscale\":[[0.0,\"#0d0887\"],[0.1111111111111111,\"#46039f\"],[0.2222222222222222,\"#7201a8\"],[0.3333333333333333,\"#9c179e\"],[0.4444444444444444,\"#bd3786\"],[0.5555555555555556,\"#d8576b\"],[0.6666666666666666,\"#ed7953\"],[0.7777777777777778,\"#fb9f3a\"],[0.8888888888888888,\"#fdca26\"],[1.0,\"#f0f921\"]]}],\"heatmapgl\":[{\"type\":\"heatmapgl\",\"colorbar\":{\"outlinewidth\":0,\"ticks\":\"\"},\"colorscale\":[[0.0,\"#0d0887\"],[0.1111111111111111,\"#46039f\"],[0.2222222222222222,\"#7201a8\"],[0.3333333333333333,\"#9c179e\"],[0.4444444444444444,\"#bd3786\"],[0.5555555555555556,\"#d8576b\"],[0.6666666666666666,\"#ed7953\"],[0.7777777777777778,\"#fb9f3a\"],[0.8888888888888888,\"#fdca26\"],[1.0,\"#f0f921\"]]}],\"contourcarpet\":[{\"type\":\"contourcarpet\",\"colorbar\":{\"outlinewidth\":0,\"ticks\":\"\"}}],\"contour\":[{\"type\":\"contour\",\"colorbar\":{\"outlinewidth\":0,\"ticks\":\"\"},\"colorscale\":[[0.0,\"#0d0887\"],[0.1111111111111111,\"#46039f\"],[0.2222222222222222,\"#7201a8\"],[0.3333333333333333,\"#9c179e\"],[0.4444444444444444,\"#bd3786\"],[0.5555555555555556,\"#d8576b\"],[0.6666666666666666,\"#ed7953\"],[0.7777777777777778,\"#fb9f3a\"],[0.8888888888888888,\"#fdca26\"],[1.0,\"#f0f921\"]]}],\"surface\":[{\"type\":\"surface\",\"colorbar\":{\"outlinewidth\":0,\"ticks\":\"\"},\"colorscale\":[[0.0,\"#0d0887\"],[0.1111111111111111,\"#46039f\"],[0.2222222222222222,\"#7201a8\"],[0.3333333333333333,\"#9c179e\"],[0.4444444444444444,\"#bd3786\"],[0.5555555555555556,\"#d8576b\"],[0.6666666666666666,\"#ed7953\"],[0.7777777777777778,\"#fb9f3a\"],[0.8888888888888888,\"#fdca26\"],[1.0,\"#f0f921\"]]}],\"mesh3d\":[{\"type\":\"mesh3d\",\"colorbar\":{\"outlinewidth\":0,\"ticks\":\"\"}}],\"scatter\":[{\"fillpattern\":{\"fillmode\":\"overlay\",\"size\":10,\"solidity\":0.2},\"type\":\"scatter\"}],\"parcoords\":[{\"type\":\"parcoords\",\"line\":{\"colorbar\":{\"outlinewidth\":0,\"ticks\":\"\"}}}],\"scatterpolargl\":[{\"type\":\"scatterpolargl\",\"marker\":{\"colorbar\":{\"outlinewidth\":0,\"ticks\":\"\"}}}],\"bar\":[{\"error_x\":{\"color\":\"#2a3f5f\"},\"error_y\":{\"color\":\"#2a3f5f\"},\"marker\":{\"line\":{\"color\":\"#E5ECF6\",\"width\":0.5},\"pattern\":{\"fillmode\":\"overlay\",\"size\":10,\"solidity\":0.2}},\"type\":\"bar\"}],\"scattergeo\":[{\"type\":\"scattergeo\",\"marker\":{\"colorbar\":{\"outlinewidth\":0,\"ticks\":\"\"}}}],\"scatterpolar\":[{\"type\":\"scatterpolar\",\"marker\":{\"colorbar\":{\"outlinewidth\":0,\"ticks\":\"\"}}}],\"histogram\":[{\"marker\":{\"pattern\":{\"fillmode\":\"overlay\",\"size\":10,\"solidity\":0.2}},\"type\":\"histogram\"}],\"scattergl\":[{\"type\":\"scattergl\",\"marker\":{\"colorbar\":{\"outlinewidth\":0,\"ticks\":\"\"}}}],\"scatter3d\":[{\"type\":\"scatter3d\",\"line\":{\"colorbar\":{\"outlinewidth\":0,\"ticks\":\"\"}},\"marker\":{\"colorbar\":{\"outlinewidth\":0,\"ticks\":\"\"}}}],\"scattermapbox\":[{\"type\":\"scattermapbox\",\"marker\":{\"colorbar\":{\"outlinewidth\":0,\"ticks\":\"\"}}}],\"scatterternary\":[{\"type\":\"scatterternary\",\"marker\":{\"colorbar\":{\"outlinewidth\":0,\"ticks\":\"\"}}}],\"scattercarpet\":[{\"type\":\"scattercarpet\",\"marker\":{\"colorbar\":{\"outlinewidth\":0,\"ticks\":\"\"}}}],\"carpet\":[{\"aaxis\":{\"endlinecolor\":\"#2a3f5f\",\"gridcolor\":\"white\",\"linecolor\":\"white\",\"minorgridcolor\":\"white\",\"startlinecolor\":\"#2a3f5f\"},\"baxis\":{\"endlinecolor\":\"#2a3f5f\",\"gridcolor\":\"white\",\"linecolor\":\"white\",\"minorgridcolor\":\"white\",\"startlinecolor\":\"#2a3f5f\"},\"type\":\"carpet\"}],\"table\":[{\"cells\":{\"fill\":{\"color\":\"#EBF0F8\"},\"line\":{\"color\":\"white\"}},\"header\":{\"fill\":{\"color\":\"#C8D4E3\"},\"line\":{\"color\":\"white\"}},\"type\":\"table\"}],\"barpolar\":[{\"marker\":{\"line\":{\"color\":\"#E5ECF6\",\"width\":0.5},\"pattern\":{\"fillmode\":\"overlay\",\"size\":10,\"solidity\":0.2}},\"type\":\"barpolar\"}],\"pie\":[{\"automargin\":true,\"type\":\"pie\"}]},\"layout\":{\"autotypenumbers\":\"strict\",\"colorway\":[\"#636efa\",\"#EF553B\",\"#00cc96\",\"#ab63fa\",\"#FFA15A\",\"#19d3f3\",\"#FF6692\",\"#B6E880\",\"#FF97FF\",\"#FECB52\"],\"font\":{\"color\":\"#2a3f5f\"},\"hovermode\":\"closest\",\"hoverlabel\":{\"align\":\"left\"},\"paper_bgcolor\":\"white\",\"plot_bgcolor\":\"#E5ECF6\",\"polar\":{\"bgcolor\":\"#E5ECF6\",\"angularaxis\":{\"gridcolor\":\"white\",\"linecolor\":\"white\",\"ticks\":\"\"},\"radialaxis\":{\"gridcolor\":\"white\",\"linecolor\":\"white\",\"ticks\":\"\"}},\"ternary\":{\"bgcolor\":\"#E5ECF6\",\"aaxis\":{\"gridcolor\":\"white\",\"linecolor\":\"white\",\"ticks\":\"\"},\"baxis\":{\"gridcolor\":\"white\",\"linecolor\":\"white\",\"ticks\":\"\"},\"caxis\":{\"gridcolor\":\"white\",\"linecolor\":\"white\",\"ticks\":\"\"}},\"coloraxis\":{\"colorbar\":{\"outlinewidth\":0,\"ticks\":\"\"}},\"colorscale\":{\"sequential\":[[0.0,\"#0d0887\"],[0.1111111111111111,\"#46039f\"],[0.2222222222222222,\"#7201a8\"],[0.3333333333333333,\"#9c179e\"],[0.4444444444444444,\"#bd3786\"],[0.5555555555555556,\"#d8576b\"],[0.6666666666666666,\"#ed7953\"],[0.7777777777777778,\"#fb9f3a\"],[0.8888888888888888,\"#fdca26\"],[1.0,\"#f0f921\"]],\"sequentialminus\":[[0.0,\"#0d0887\"],[0.1111111111111111,\"#46039f\"],[0.2222222222222222,\"#7201a8\"],[0.3333333333333333,\"#9c179e\"],[0.4444444444444444,\"#bd3786\"],[0.5555555555555556,\"#d8576b\"],[0.6666666666666666,\"#ed7953\"],[0.7777777777777778,\"#fb9f3a\"],[0.8888888888888888,\"#fdca26\"],[1.0,\"#f0f921\"]],\"diverging\":[[0,\"#8e0152\"],[0.1,\"#c51b7d\"],[0.2,\"#de77ae\"],[0.3,\"#f1b6da\"],[0.4,\"#fde0ef\"],[0.5,\"#f7f7f7\"],[0.6,\"#e6f5d0\"],[0.7,\"#b8e186\"],[0.8,\"#7fbc41\"],[0.9,\"#4d9221\"],[1,\"#276419\"]]},\"xaxis\":{\"gridcolor\":\"white\",\"linecolor\":\"white\",\"ticks\":\"\",\"title\":{\"standoff\":15},\"zerolinecolor\":\"white\",\"automargin\":true,\"zerolinewidth\":2},\"yaxis\":{\"gridcolor\":\"white\",\"linecolor\":\"white\",\"ticks\":\"\",\"title\":{\"standoff\":15},\"zerolinecolor\":\"white\",\"automargin\":true,\"zerolinewidth\":2},\"scene\":{\"xaxis\":{\"backgroundcolor\":\"#E5ECF6\",\"gridcolor\":\"white\",\"linecolor\":\"white\",\"showbackground\":true,\"ticks\":\"\",\"zerolinecolor\":\"white\",\"gridwidth\":2},\"yaxis\":{\"backgroundcolor\":\"#E5ECF6\",\"gridcolor\":\"white\",\"linecolor\":\"white\",\"showbackground\":true,\"ticks\":\"\",\"zerolinecolor\":\"white\",\"gridwidth\":2},\"zaxis\":{\"backgroundcolor\":\"#E5ECF6\",\"gridcolor\":\"white\",\"linecolor\":\"white\",\"showbackground\":true,\"ticks\":\"\",\"zerolinecolor\":\"white\",\"gridwidth\":2}},\"shapedefaults\":{\"line\":{\"color\":\"#2a3f5f\"}},\"annotationdefaults\":{\"arrowcolor\":\"#2a3f5f\",\"arrowhead\":0,\"arrowwidth\":1},\"geo\":{\"bgcolor\":\"white\",\"landcolor\":\"#E5ECF6\",\"subunitcolor\":\"white\",\"showland\":true,\"showlakes\":true,\"lakecolor\":\"white\"},\"title\":{\"x\":0.05},\"mapbox\":{\"style\":\"light\"}}},\"legend\":{\"title\":{\"text\":\"<b>Legend</b>\"},\"traceorder\":\"normal\",\"itemsizing\":\"constant\"},\"updatemenus\":[{\"active\":0,\"buttons\":[{\"args\":[{\"visible\":[true,true,false,false,false,false,false,false,false,false,false,false,false,false,false,false,false,false,false,false,false,false,false,false,false,false,false,false,false,false,false,false,false,false,false,false,false,false,false,false,false,false,false,false,false,false,false,false,false,false,false,false,false,false,false,false,false,false,false,false,false,false,false,false,false,false,false,false],\"title\":\"All\"}],\"label\":\"All\",\"method\":\"update\"},{\"args\":[{\"visible\":[false,false,true,true,false,false,false,false,false,false,false,false,false,false,false,false,false,false,false,false,false,false,false,false,false,false,false,false,false,false,false,false,false,false,false,false,false,false,false,false,false,false,false,false,false,false,false,false,false,false,false,false,false,false,false,false,false,false,false,false,false,false,false,false,false,false,false,false],\"title\":\"Swatches\"}],\"label\":\"Swatches\",\"method\":\"update\"},{\"args\":[{\"visible\":[false,false,false,false,true,true,false,false,false,false,false,false,false,false,false,false,false,false,false,false,false,false,false,false,false,false,false,false,false,false,false,false,false,false,false,false,false,false,false,false,false,false,false,false,false,false,false,false,false,false,false,false,false,false,false,false,false,false,false,false,false,false,false,false,false,false,false,false],\"title\":\"Discussion\"}],\"label\":\"Discussion\",\"method\":\"update\"},{\"args\":[{\"visible\":[false,false,false,false,false,false,true,true,false,false,false,false,false,false,false,false,false,false,false,false,false,false,false,false,false,false,false,false,false,false,false,false,false,false,false,false,false,false,false,false,false,false,false,false,false,false,false,false,false,false,false,false,false,false,false,false,false,false,false,false,false,false,false,false,false,false,false,false],\"title\":\"Review\"}],\"label\":\"Review\",\"method\":\"update\"},{\"args\":[{\"visible\":[false,false,false,false,false,false,false,false,true,true,false,false,false,false,false,false,false,false,false,false,false,false,false,false,false,false,false,false,false,false,false,false,false,false,false,false,false,false,false,false,false,false,false,false,false,false,false,false,false,false,false,false,false,false,false,false,false,false,false,false,false,false,false,false,false,false,false,false],\"title\":\"Haul\"}],\"label\":\"Haul\",\"method\":\"update\"},{\"args\":[{\"visible\":[false,false,false,false,false,false,false,false,false,false,true,true,false,false,false,false,false,false,false,false,false,false,false,false,false,false,false,false,false,false,false,false,false,false,false,false,false,false,false,false,false,false,false,false,false,false,false,false,false,false,false,false,false,false,false,false,false,false,false,false,false,false,false,false,false,false,false,false],\"title\":\"Meta\"}],\"label\":\"Meta\",\"method\":\"update\"},{\"args\":[{\"visible\":[false,false,false,false,false,false,false,false,false,false,false,false,true,true,false,false,false,false,false,false,false,false,false,false,false,false,false,false,false,false,false,false,false,false,false,false,false,false,false,false,false,false,false,false,false,false,false,false,false,false,false,false,false,false,false,false,false,false,false,false,false,false,false,false,false,false,false,false],\"title\":\"Rule 2 Removal: Photo Editing\"}],\"label\":\"Rule 2 Removal: Photo Editing\",\"method\":\"update\"},{\"args\":[{\"visible\":[false,false,false,false,false,false,false,false,false,false,false,false,false,false,true,true,false,false,false,false,false,false,false,false,false,false,false,false,false,false,false,false,false,false,false,false,false,false,false,false,false,false,false,false,false,false,false,false,false,false,false,false,false,false,false,false,false,false,false,false,false,false,false,false,false,false,false,false],\"title\":\"FOTD\"}],\"label\":\"FOTD\",\"method\":\"update\"},{\"args\":[{\"visible\":[false,false,false,false,false,false,false,false,false,false,false,false,false,false,false,false,true,true,false,false,false,false,false,false,false,false,false,false,false,false,false,false,false,false,false,false,false,false,false,false,false,false,false,false,false,false,false,false,false,false,false,false,false,false,false,false,false,false,false,false,false,false,false,false,false,false,false,false],\"title\":\"PSA\"}],\"label\":\"PSA\",\"method\":\"update\"},{\"args\":[{\"visible\":[false,false,false,false,false,false,false,false,false,false,false,false,false,false,false,false,false,false,true,true,false,false,false,false,false,false,false,false,false,false,false,false,false,false,false,false,false,false,false,false,false,false,false,false,false,false,false,false,false,false,false,false,false,false,false,false,false,false,false,false,false,false,false,false,false,false,false,false],\"title\":\"Question\"}],\"label\":\"Question\",\"method\":\"update\"},{\"args\":[{\"visible\":[false,false,false,false,false,false,false,false,false,false,false,false,false,false,false,false,false,false,false,false,true,true,false,false,false,false,false,false,false,false,false,false,false,false,false,false,false,false,false,false,false,false,false,false,false,false,false,false,false,false,false,false,false,false,false,false,false,false,false,false,false,false,false,false,false,false,false,false],\"title\":\"Organization\"}],\"label\":\"Organization\",\"method\":\"update\"},{\"args\":[{\"visible\":[false,false,false,false,false,false,false,false,false,false,false,false,false,false,false,false,false,false,false,false,false,false,true,true,false,false,false,false,false,false,false,false,false,false,false,false,false,false,false,false,false,false,false,false,false,false,false,false,false,false,false,false,false,false,false,false,false,false,false,false,false,false,false,false,false,false,false,false],\"title\":\"Rule 5 Removal: Product List\"}],\"label\":\"Rule 5 Removal: Product List\",\"method\":\"update\"},{\"args\":[{\"visible\":[false,false,false,false,false,false,false,false,false,false,false,false,false,false,false,false,false,false,false,false,false,false,false,false,true,true,false,false,false,false,false,false,false,false,false,false,false,false,false,false,false,false,false,false,false,false,false,false,false,false,false,false,false,false,false,false,false,false,false,false,false,false,false,false,false,false,false,false],\"title\":\"Tutorial\"}],\"label\":\"Tutorial\",\"method\":\"update\"},{\"args\":[{\"visible\":[false,false,false,false,false,false,false,false,false,false,false,false,false,false,false,false,false,false,false,false,false,false,false,false,false,false,true,true,false,false,false,false,false,false,false,false,false,false,false,false,false,false,false,false,false,false,false,false,false,false,false,false,false,false,false,false,false,false,false,false,false,false,false,false,false,false,false,false],\"title\":\"Halloween\"}],\"label\":\"Halloween\",\"method\":\"update\"},{\"args\":[{\"visible\":[false,false,false,false,false,false,false,false,false,false,false,false,false,false,false,false,false,false,false,false,false,false,false,false,false,false,false,false,true,true,false,false,false,false,false,false,false,false,false,false,false,false,false,false,false,false,false,false,false,false,false,false,false,false,false,false,false,false,false,false,false,false,false,false,false,false,false,false],\"title\":\"News\"}],\"label\":\"News\",\"method\":\"update\"},{\"args\":[{\"visible\":[false,false,false,false,false,false,false,false,false,false,false,false,false,false,false,false,false,false,false,false,false,false,false,false,false,false,false,false,false,false,true,true,false,false,false,false,false,false,false,false,false,false,false,false,false,false,false,false,false,false,false,false,false,false,false,false,false,false,false,false,false,false,false,false,false,false,false,false],\"title\":\"Rule 4 Removal: Showcase Makeup\"}],\"label\":\"Rule 4 Removal: Showcase Makeup\",\"method\":\"update\"},{\"args\":[{\"visible\":[false,false,false,false,false,false,false,false,false,false,false,false,false,false,false,false,false,false,false,false,false,false,false,false,false,false,false,false,false,false,false,false,true,true,false,false,false,false,false,false,false,false,false,false,false,false,false,false,false,false,false,false,false,false,false,false,false,false,false,false,false,false,false,false,false,false,false,false],\"title\":\"Under Review\"}],\"label\":\"Under Review\",\"method\":\"update\"},{\"args\":[{\"visible\":[false,false,false,false,false,false,false,false,false,false,false,false,false,false,false,false,false,false,false,false,false,false,false,false,false,false,false,false,false,false,false,false,false,false,true,true,false,false,false,false,false,false,false,false,false,false,false,false,false,false,false,false,false,false,false,false,false,false,false,false,false,false,false,false,false,false,false,false],\"title\":\"Rule 3 Removal: Before/After\"}],\"label\":\"Rule 3 Removal: Before/After\",\"method\":\"update\"},{\"args\":[{\"visible\":[false,false,false,false,false,false,false,false,false,false,false,false,false,false,false,false,false,false,false,false,false,false,false,false,false,false,false,false,false,false,false,false,false,false,false,false,true,true,false,false,false,false,false,false,false,false,false,false,false,false,false,false,false,false,false,false,false,false,false,false,false,false,false,false,false,false,false,false],\"title\":\"Rule 7 Removal: Self Promo\"}],\"label\":\"Rule 7 Removal: Self Promo\",\"method\":\"update\"},{\"args\":[{\"visible\":[false,false,false,false,false,false,false,false,false,false,false,false,false,false,false,false,false,false,false,false,false,false,false,false,false,false,false,false,false,false,false,false,false,false,false,false,false,false,true,true,false,false,false,false,false,false,false,false,false,false,false,false,false,false,false,false,false,false,false,false,false,false,false,false,false,false,false,false],\"title\":\"Simple Questions Removal\"}],\"label\":\"Simple Questions Removal\",\"method\":\"update\"},{\"args\":[{\"visible\":[false,false,false,false,false,false,false,false,false,false,false,false,false,false,false,false,false,false,false,false,false,false,false,false,false,false,false,false,false,false,false,false,false,false,false,false,false,false,false,false,true,true,false,false,false,false,false,false,false,false,false,false,false,false,false,false,false,false,false,false,false,false,false,false,false,false,false,false],\"title\":\"AMA\"}],\"label\":\"AMA\",\"method\":\"update\"},{\"args\":[{\"visible\":[false,false,false,false,false,false,false,false,false,false,false,false,false,false,false,false,false,false,false,false,false,false,false,false,false,false,false,false,false,false,false,false,false,false,false,false,false,false,false,false,false,false,true,true,false,false,false,false,false,false,false,false,false,false,false,false,false,false,false,false,false,false,false,false,false,false,false,false],\"title\":\"Mod Post\"}],\"label\":\"Mod Post\",\"method\":\"update\"},{\"args\":[{\"visible\":[false,false,false,false,false,false,false,false,false,false,false,false,false,false,false,false,false,false,false,false,false,false,false,false,false,false,false,false,false,false,false,false,false,false,false,false,false,false,false,false,false,false,false,false,true,true,false,false,false,false,false,false,false,false,false,false,false,false,false,false,false,false,false,false,false,false,false,false],\"title\":\"Clutter Removal\"}],\"label\":\"Clutter Removal\",\"method\":\"update\"},{\"args\":[{\"visible\":[false,false,false,false,false,false,false,false,false,false,false,false,false,false,false,false,false,false,false,false,false,false,false,false,false,false,false,false,false,false,false,false,false,false,false,false,false,false,false,false,false,false,false,false,false,false,true,true,false,false,false,false,false,false,false,false,false,false,false,false,false,false,false,false,false,false,false,false],\"title\":\"Question:snoo_thoughtful:\"}],\"label\":\"Question:snoo_thoughtful:\",\"method\":\"update\"},{\"args\":[{\"visible\":[false,false,false,false,false,false,false,false,false,false,false,false,false,false,false,false,false,false,false,false,false,false,false,false,false,false,false,false,false,false,false,false,false,false,false,false,false,false,false,false,false,false,false,false,false,false,false,false,true,true,false,false,false,false,false,false,false,false,false,false,false,false,false,false,false,false,false,false],\"title\":\"Reviewed\"}],\"label\":\"Reviewed\",\"method\":\"update\"},{\"args\":[{\"visible\":[false,false,false,false,false,false,false,false,false,false,false,false,false,false,false,false,false,false,false,false,false,false,false,false,false,false,false,false,false,false,false,false,false,false,false,false,false,false,false,false,false,false,false,false,false,false,false,false,false,false,true,true,false,false,false,false,false,false,false,false,false,false,false,false,false,false,false,false],\"title\":\"Unboxing \"}],\"label\":\"Unboxing \",\"method\":\"update\"},{\"args\":[{\"visible\":[false,false,false,false,false,false,false,false,false,false,false,false,false,false,false,false,false,false,false,false,false,false,false,false,false,false,false,false,false,false,false,false,false,false,false,false,false,false,false,false,false,false,false,false,false,false,false,false,false,false,false,false,true,true,false,false,false,false,false,false,false,false,false,false,false,false,false,false],\"title\":\"Shitpost Saturday Removal\"}],\"label\":\"Shitpost Saturday Removal\",\"method\":\"update\"},{\"args\":[{\"visible\":[false,false,false,false,false,false,false,false,false,false,false,false,false,false,false,false,false,false,false,false,false,false,false,false,false,false,false,false,false,false,false,false,false,false,false,false,false,false,false,false,false,false,false,false,false,false,false,false,false,false,false,false,false,false,true,true,false,false,false,false,false,false,false,false,false,false,false,false],\"title\":\"Makeup Look\"}],\"label\":\"Makeup Look\",\"method\":\"update\"},{\"args\":[{\"visible\":[false,false,false,false,false,false,false,false,false,false,false,false,false,false,false,false,false,false,false,false,false,false,false,false,false,false,false,false,false,false,false,false,false,false,false,false,false,false,false,false,false,false,false,false,false,false,false,false,false,false,false,false,false,false,false,false,true,true,false,false,false,false,false,false,false,false,false,false],\"title\":\"Question \\ud83d\\udc41\"}],\"label\":\"Question \\ud83d\\udc41\",\"method\":\"update\"},{\"args\":[{\"visible\":[false,false,false,false,false,false,false,false,false,false,false,false,false,false,false,false,false,false,false,false,false,false,false,false,false,false,false,false,false,false,false,false,false,false,false,false,false,false,false,false,false,false,false,false,false,false,false,false,false,false,false,false,false,false,false,false,false,false,true,true,false,false,false,false,false,false,false,false],\"title\":\"Progress\"}],\"label\":\"Progress\",\"method\":\"update\"},{\"args\":[{\"visible\":[false,false,false,false,false,false,false,false,false,false,false,false,false,false,false,false,false,false,false,false,false,false,false,false,false,false,false,false,false,false,false,false,false,false,false,false,false,false,false,false,false,false,false,false,false,false,false,false,false,false,false,false,false,false,false,false,false,false,false,false,true,true,false,false,false,false,false,false],\"title\":\"Text Tuesday Removal\"}],\"label\":\"Text Tuesday Removal\",\"method\":\"update\"},{\"args\":[{\"visible\":[false,false,false,false,false,false,false,false,false,false,false,false,false,false,false,false,false,false,false,false,false,false,false,false,false,false,false,false,false,false,false,false,false,false,false,false,false,false,false,false,false,false,false,false,false,false,false,false,false,false,false,false,false,false,false,false,false,false,false,false,false,false,true,true,false,false,false,false],\"title\":\"Good News\"}],\"label\":\"Good News\",\"method\":\"update\"},{\"args\":[{\"visible\":[false,false,false,false,false,false,false,false,false,false,false,false,false,false,false,false,false,false,false,false,false,false,false,false,false,false,false,false,false,false,false,false,false,false,false,false,false,false,false,false,false,false,false,false,false,false,false,false,false,false,false,false,false,false,false,false,false,false,false,false,false,false,false,false,true,true,false,false],\"title\":\"Removal: Off-topic\"}],\"label\":\"Removal: Off-topic\",\"method\":\"update\"},{\"args\":[{\"visible\":[false,false,false,false,false,false,false,false,false,false,false,false,false,false,false,false,false,false,false,false,false,false,false,false,false,false,false,false,false,false,false,false,false,false,false,false,false,false,false,false,false,false,false,false,false,false,false,false,false,false,false,false,false,false,false,false,false,false,false,false,false,false,false,false,false,false,true,true],\"title\":\"Question - Dupe\"}],\"label\":\"Question - Dupe\",\"method\":\"update\"}],\"direction\":\"down\",\"showactive\":true,\"x\":0.8,\"xanchor\":\"left\",\"y\":1.6,\"yanchor\":\"top\"}],\"title\":{\"text\":\"Classification Comparison between Predicted and Actual Value\"},\"xaxis\":{\"title\":{\"text\":\"Labels\"}},\"yaxis\":{\"title\":{\"text\":\"Count\"}},\"barmode\":\"group\"},                        {\"responsive\": true}                    ).then(function(){\n",
       "                            \n",
       "var gd = document.getElementById('40f1f067-6675-4a52-93c9-71648862f69d');\n",
       "var x = new MutationObserver(function (mutations, observer) {{\n",
       "        var display = window.getComputedStyle(gd).display;\n",
       "        if (!display || display === 'none') {{\n",
       "            console.log([gd, 'removed!']);\n",
       "            Plotly.purge(gd);\n",
       "            observer.disconnect();\n",
       "        }}\n",
       "}});\n",
       "\n",
       "// Listen for the removal of the full notebook cells\n",
       "var notebookContainer = gd.closest('#notebook-container');\n",
       "if (notebookContainer) {{\n",
       "    x.observe(notebookContainer, {childList: true});\n",
       "}}\n",
       "\n",
       "// Listen for the clearing of the current output cell\n",
       "var outputEl = gd.closest('.output');\n",
       "if (outputEl) {{\n",
       "    x.observe(outputEl, {childList: true});\n",
       "}}\n",
       "\n",
       "                        })                };                });            </script>        </div>"
      ]
     },
     "metadata": {},
     "output_type": "display_data"
    }
   ],
   "source": [
    "import pandas as pd\n",
    "import plotly.graph_objects as go\n",
    "merged_counts = pd.read_csv('../../data/csv/title_classification_merged_counts.csv')\n",
    "# Initialize the figure with grouped bar chart for the 'All' selection\n",
    "fig = go.Figure(data=[\n",
    "    go.Bar(name='Actual', x=merged_counts['ActualLabel'], y=merged_counts['ActualCount']),\n",
    "    go.Bar(name='Predicted', x=merged_counts['ActualLabel'], y=merged_counts['PredictedCount'])\n",
    "])\n",
    "\n",
    "# Add a set of bars for each label, these will be hidden initially\n",
    "for label in merged_counts['ActualLabel']:\n",
    "    actual = merged_counts[merged_counts['ActualLabel'] == label]['ActualCount'].values[0]\n",
    "    predicted = merged_counts[merged_counts['ActualLabel'] == label]['PredictedCount'].values[0]\n",
    "    fig.add_trace(go.Bar(name=f'Actual - {label}', x=[label], y=[actual], visible=False))\n",
    "    fig.add_trace(go.Bar(name=f'Predicted - {label}', x=[label], y=[predicted], visible=False))\n",
    "\n",
    "# The initial button that shows all labels\n",
    "buttons = [dict(label='All',\n",
    "                method='update',\n",
    "                args=[{'visible': [True, True] + [False] * (len(merged_counts) * 2),\n",
    "                       'title': 'All'}])]\n",
    "\n",
    "# Add buttons for each label in the dropdown\n",
    "for i, label in enumerate(merged_counts['ActualLabel']):\n",
    "    # Set visibility: only the two traces for the selected label are visible\n",
    "    visibility = [False] * 2 + [i*2 == j or i*2+1 == j for j in range(len(merged_counts) * 2)]\n",
    "    button = dict(label=label,\n",
    "                  method='update',\n",
    "                  args=[{'visible': visibility,\n",
    "                         'title': label}])\n",
    "    buttons.append(button)\n",
    "\n",
    "# Update the layout with the dropdown\n",
    "fig.update_layout(\n",
    "    updatemenus=[{\n",
    "        'buttons': buttons,\n",
    "        'direction': 'down',\n",
    "        'showactive': True,\n",
    "        'active': 0,\n",
    "        'x': 0.8,\n",
    "        'y': 1.6,\n",
    "        'xanchor': 'left',\n",
    "        'yanchor': 'top'\n",
    "    }],\n",
    "    title = \"Classification Comparison between Predicted and Actual Value\",\n",
    "    xaxis_title='Labels',\n",
    "    yaxis_title='Count',\n",
    "    barmode='group',\n",
    "    legend_title='<b>Legend</b>',\n",
    "    legend=dict(\n",
    "        traceorder='normal',\n",
    "        itemsizing='constant'\n",
    "    )\n",
    ")\n",
    "\n",
    "# Show the figure\n",
    "fig.show()"
   ]
  },
  {
   "cell_type": "code",
   "execution_count": 20,
   "id": "8bb25138-4651-41b5-9950-6b215224f2b5",
   "metadata": {
    "tags": []
   },
   "outputs": [],
   "source": [
    "# Save the figure to an HTML file\n",
    "html_file_path = '../../data/plots/title_classification_interactive_bar_chart.html'\n",
    "fig.write_html(html_file_path)"
   ]
  },
  {
   "cell_type": "markdown",
   "id": "b82a5eaf-72e6-4f65-9d16-af29b9ab5c18",
   "metadata": {},
   "source": [
    "The visualization of classification results, as presented in the bar charts, eloquently captures the predictive prowess of the model across a diverse range of categories. In particular, the alignment between the actual and predicted values in nuanced classifications, such as \"Face of the Day\" (FOTD) and thematic labels like \"Halloween,\" underscores the model's adeptness at discerning and leveraging intricate patterns within the data. This level of accuracy is indicative of a well-trained model that has effectively captured the underlying distributions and characteristics of each category. The uniformity in prediction across several labels points to a sophisticated understanding by the model of the domain-specific features, which is crucial in scenarios demanding high precision. Moreover, the clarity of these visual depictions serves not just as a reflection of the model's current state of performance but also as a compelling narrative of its potential to deliver actionable insights in real-world settings, making it a valuable asset for decision-making processes."
   ]
  },
  {
   "cell_type": "code",
   "execution_count": null,
   "id": "1e2f1ac2-efe9-4c4c-8bb7-d15803d88ef1",
   "metadata": {},
   "outputs": [],
   "source": []
  }
 ],
 "metadata": {
  "availableInstances": [
   {
    "_defaultOrder": 0,
    "_isFastLaunch": true,
    "category": "General purpose",
    "gpuNum": 0,
    "hideHardwareSpecs": false,
    "memoryGiB": 4,
    "name": "ml.t3.medium",
    "vcpuNum": 2
   },
   {
    "_defaultOrder": 1,
    "_isFastLaunch": false,
    "category": "General purpose",
    "gpuNum": 0,
    "hideHardwareSpecs": false,
    "memoryGiB": 8,
    "name": "ml.t3.large",
    "vcpuNum": 2
   },
   {
    "_defaultOrder": 2,
    "_isFastLaunch": false,
    "category": "General purpose",
    "gpuNum": 0,
    "hideHardwareSpecs": false,
    "memoryGiB": 16,
    "name": "ml.t3.xlarge",
    "vcpuNum": 4
   },
   {
    "_defaultOrder": 3,
    "_isFastLaunch": false,
    "category": "General purpose",
    "gpuNum": 0,
    "hideHardwareSpecs": false,
    "memoryGiB": 32,
    "name": "ml.t3.2xlarge",
    "vcpuNum": 8
   },
   {
    "_defaultOrder": 4,
    "_isFastLaunch": true,
    "category": "General purpose",
    "gpuNum": 0,
    "hideHardwareSpecs": false,
    "memoryGiB": 8,
    "name": "ml.m5.large",
    "vcpuNum": 2
   },
   {
    "_defaultOrder": 5,
    "_isFastLaunch": false,
    "category": "General purpose",
    "gpuNum": 0,
    "hideHardwareSpecs": false,
    "memoryGiB": 16,
    "name": "ml.m5.xlarge",
    "vcpuNum": 4
   },
   {
    "_defaultOrder": 6,
    "_isFastLaunch": false,
    "category": "General purpose",
    "gpuNum": 0,
    "hideHardwareSpecs": false,
    "memoryGiB": 32,
    "name": "ml.m5.2xlarge",
    "vcpuNum": 8
   },
   {
    "_defaultOrder": 7,
    "_isFastLaunch": false,
    "category": "General purpose",
    "gpuNum": 0,
    "hideHardwareSpecs": false,
    "memoryGiB": 64,
    "name": "ml.m5.4xlarge",
    "vcpuNum": 16
   },
   {
    "_defaultOrder": 8,
    "_isFastLaunch": false,
    "category": "General purpose",
    "gpuNum": 0,
    "hideHardwareSpecs": false,
    "memoryGiB": 128,
    "name": "ml.m5.8xlarge",
    "vcpuNum": 32
   },
   {
    "_defaultOrder": 9,
    "_isFastLaunch": false,
    "category": "General purpose",
    "gpuNum": 0,
    "hideHardwareSpecs": false,
    "memoryGiB": 192,
    "name": "ml.m5.12xlarge",
    "vcpuNum": 48
   },
   {
    "_defaultOrder": 10,
    "_isFastLaunch": false,
    "category": "General purpose",
    "gpuNum": 0,
    "hideHardwareSpecs": false,
    "memoryGiB": 256,
    "name": "ml.m5.16xlarge",
    "vcpuNum": 64
   },
   {
    "_defaultOrder": 11,
    "_isFastLaunch": false,
    "category": "General purpose",
    "gpuNum": 0,
    "hideHardwareSpecs": false,
    "memoryGiB": 384,
    "name": "ml.m5.24xlarge",
    "vcpuNum": 96
   },
   {
    "_defaultOrder": 12,
    "_isFastLaunch": false,
    "category": "General purpose",
    "gpuNum": 0,
    "hideHardwareSpecs": false,
    "memoryGiB": 8,
    "name": "ml.m5d.large",
    "vcpuNum": 2
   },
   {
    "_defaultOrder": 13,
    "_isFastLaunch": false,
    "category": "General purpose",
    "gpuNum": 0,
    "hideHardwareSpecs": false,
    "memoryGiB": 16,
    "name": "ml.m5d.xlarge",
    "vcpuNum": 4
   },
   {
    "_defaultOrder": 14,
    "_isFastLaunch": false,
    "category": "General purpose",
    "gpuNum": 0,
    "hideHardwareSpecs": false,
    "memoryGiB": 32,
    "name": "ml.m5d.2xlarge",
    "vcpuNum": 8
   },
   {
    "_defaultOrder": 15,
    "_isFastLaunch": false,
    "category": "General purpose",
    "gpuNum": 0,
    "hideHardwareSpecs": false,
    "memoryGiB": 64,
    "name": "ml.m5d.4xlarge",
    "vcpuNum": 16
   },
   {
    "_defaultOrder": 16,
    "_isFastLaunch": false,
    "category": "General purpose",
    "gpuNum": 0,
    "hideHardwareSpecs": false,
    "memoryGiB": 128,
    "name": "ml.m5d.8xlarge",
    "vcpuNum": 32
   },
   {
    "_defaultOrder": 17,
    "_isFastLaunch": false,
    "category": "General purpose",
    "gpuNum": 0,
    "hideHardwareSpecs": false,
    "memoryGiB": 192,
    "name": "ml.m5d.12xlarge",
    "vcpuNum": 48
   },
   {
    "_defaultOrder": 18,
    "_isFastLaunch": false,
    "category": "General purpose",
    "gpuNum": 0,
    "hideHardwareSpecs": false,
    "memoryGiB": 256,
    "name": "ml.m5d.16xlarge",
    "vcpuNum": 64
   },
   {
    "_defaultOrder": 19,
    "_isFastLaunch": false,
    "category": "General purpose",
    "gpuNum": 0,
    "hideHardwareSpecs": false,
    "memoryGiB": 384,
    "name": "ml.m5d.24xlarge",
    "vcpuNum": 96
   },
   {
    "_defaultOrder": 20,
    "_isFastLaunch": false,
    "category": "General purpose",
    "gpuNum": 0,
    "hideHardwareSpecs": true,
    "memoryGiB": 0,
    "name": "ml.geospatial.interactive",
    "supportedImageNames": [
     "sagemaker-geospatial-v1-0"
    ],
    "vcpuNum": 0
   },
   {
    "_defaultOrder": 21,
    "_isFastLaunch": true,
    "category": "Compute optimized",
    "gpuNum": 0,
    "hideHardwareSpecs": false,
    "memoryGiB": 4,
    "name": "ml.c5.large",
    "vcpuNum": 2
   },
   {
    "_defaultOrder": 22,
    "_isFastLaunch": false,
    "category": "Compute optimized",
    "gpuNum": 0,
    "hideHardwareSpecs": false,
    "memoryGiB": 8,
    "name": "ml.c5.xlarge",
    "vcpuNum": 4
   },
   {
    "_defaultOrder": 23,
    "_isFastLaunch": false,
    "category": "Compute optimized",
    "gpuNum": 0,
    "hideHardwareSpecs": false,
    "memoryGiB": 16,
    "name": "ml.c5.2xlarge",
    "vcpuNum": 8
   },
   {
    "_defaultOrder": 24,
    "_isFastLaunch": false,
    "category": "Compute optimized",
    "gpuNum": 0,
    "hideHardwareSpecs": false,
    "memoryGiB": 32,
    "name": "ml.c5.4xlarge",
    "vcpuNum": 16
   },
   {
    "_defaultOrder": 25,
    "_isFastLaunch": false,
    "category": "Compute optimized",
    "gpuNum": 0,
    "hideHardwareSpecs": false,
    "memoryGiB": 72,
    "name": "ml.c5.9xlarge",
    "vcpuNum": 36
   },
   {
    "_defaultOrder": 26,
    "_isFastLaunch": false,
    "category": "Compute optimized",
    "gpuNum": 0,
    "hideHardwareSpecs": false,
    "memoryGiB": 96,
    "name": "ml.c5.12xlarge",
    "vcpuNum": 48
   },
   {
    "_defaultOrder": 27,
    "_isFastLaunch": false,
    "category": "Compute optimized",
    "gpuNum": 0,
    "hideHardwareSpecs": false,
    "memoryGiB": 144,
    "name": "ml.c5.18xlarge",
    "vcpuNum": 72
   },
   {
    "_defaultOrder": 28,
    "_isFastLaunch": false,
    "category": "Compute optimized",
    "gpuNum": 0,
    "hideHardwareSpecs": false,
    "memoryGiB": 192,
    "name": "ml.c5.24xlarge",
    "vcpuNum": 96
   },
   {
    "_defaultOrder": 29,
    "_isFastLaunch": true,
    "category": "Accelerated computing",
    "gpuNum": 1,
    "hideHardwareSpecs": false,
    "memoryGiB": 16,
    "name": "ml.g4dn.xlarge",
    "vcpuNum": 4
   },
   {
    "_defaultOrder": 30,
    "_isFastLaunch": false,
    "category": "Accelerated computing",
    "gpuNum": 1,
    "hideHardwareSpecs": false,
    "memoryGiB": 32,
    "name": "ml.g4dn.2xlarge",
    "vcpuNum": 8
   },
   {
    "_defaultOrder": 31,
    "_isFastLaunch": false,
    "category": "Accelerated computing",
    "gpuNum": 1,
    "hideHardwareSpecs": false,
    "memoryGiB": 64,
    "name": "ml.g4dn.4xlarge",
    "vcpuNum": 16
   },
   {
    "_defaultOrder": 32,
    "_isFastLaunch": false,
    "category": "Accelerated computing",
    "gpuNum": 1,
    "hideHardwareSpecs": false,
    "memoryGiB": 128,
    "name": "ml.g4dn.8xlarge",
    "vcpuNum": 32
   },
   {
    "_defaultOrder": 33,
    "_isFastLaunch": false,
    "category": "Accelerated computing",
    "gpuNum": 4,
    "hideHardwareSpecs": false,
    "memoryGiB": 192,
    "name": "ml.g4dn.12xlarge",
    "vcpuNum": 48
   },
   {
    "_defaultOrder": 34,
    "_isFastLaunch": false,
    "category": "Accelerated computing",
    "gpuNum": 1,
    "hideHardwareSpecs": false,
    "memoryGiB": 256,
    "name": "ml.g4dn.16xlarge",
    "vcpuNum": 64
   },
   {
    "_defaultOrder": 35,
    "_isFastLaunch": false,
    "category": "Accelerated computing",
    "gpuNum": 1,
    "hideHardwareSpecs": false,
    "memoryGiB": 61,
    "name": "ml.p3.2xlarge",
    "vcpuNum": 8
   },
   {
    "_defaultOrder": 36,
    "_isFastLaunch": false,
    "category": "Accelerated computing",
    "gpuNum": 4,
    "hideHardwareSpecs": false,
    "memoryGiB": 244,
    "name": "ml.p3.8xlarge",
    "vcpuNum": 32
   },
   {
    "_defaultOrder": 37,
    "_isFastLaunch": false,
    "category": "Accelerated computing",
    "gpuNum": 8,
    "hideHardwareSpecs": false,
    "memoryGiB": 488,
    "name": "ml.p3.16xlarge",
    "vcpuNum": 64
   },
   {
    "_defaultOrder": 38,
    "_isFastLaunch": false,
    "category": "Accelerated computing",
    "gpuNum": 8,
    "hideHardwareSpecs": false,
    "memoryGiB": 768,
    "name": "ml.p3dn.24xlarge",
    "vcpuNum": 96
   },
   {
    "_defaultOrder": 39,
    "_isFastLaunch": false,
    "category": "Memory Optimized",
    "gpuNum": 0,
    "hideHardwareSpecs": false,
    "memoryGiB": 16,
    "name": "ml.r5.large",
    "vcpuNum": 2
   },
   {
    "_defaultOrder": 40,
    "_isFastLaunch": false,
    "category": "Memory Optimized",
    "gpuNum": 0,
    "hideHardwareSpecs": false,
    "memoryGiB": 32,
    "name": "ml.r5.xlarge",
    "vcpuNum": 4
   },
   {
    "_defaultOrder": 41,
    "_isFastLaunch": false,
    "category": "Memory Optimized",
    "gpuNum": 0,
    "hideHardwareSpecs": false,
    "memoryGiB": 64,
    "name": "ml.r5.2xlarge",
    "vcpuNum": 8
   },
   {
    "_defaultOrder": 42,
    "_isFastLaunch": false,
    "category": "Memory Optimized",
    "gpuNum": 0,
    "hideHardwareSpecs": false,
    "memoryGiB": 128,
    "name": "ml.r5.4xlarge",
    "vcpuNum": 16
   },
   {
    "_defaultOrder": 43,
    "_isFastLaunch": false,
    "category": "Memory Optimized",
    "gpuNum": 0,
    "hideHardwareSpecs": false,
    "memoryGiB": 256,
    "name": "ml.r5.8xlarge",
    "vcpuNum": 32
   },
   {
    "_defaultOrder": 44,
    "_isFastLaunch": false,
    "category": "Memory Optimized",
    "gpuNum": 0,
    "hideHardwareSpecs": false,
    "memoryGiB": 384,
    "name": "ml.r5.12xlarge",
    "vcpuNum": 48
   },
   {
    "_defaultOrder": 45,
    "_isFastLaunch": false,
    "category": "Memory Optimized",
    "gpuNum": 0,
    "hideHardwareSpecs": false,
    "memoryGiB": 512,
    "name": "ml.r5.16xlarge",
    "vcpuNum": 64
   },
   {
    "_defaultOrder": 46,
    "_isFastLaunch": false,
    "category": "Memory Optimized",
    "gpuNum": 0,
    "hideHardwareSpecs": false,
    "memoryGiB": 768,
    "name": "ml.r5.24xlarge",
    "vcpuNum": 96
   },
   {
    "_defaultOrder": 47,
    "_isFastLaunch": false,
    "category": "Accelerated computing",
    "gpuNum": 1,
    "hideHardwareSpecs": false,
    "memoryGiB": 16,
    "name": "ml.g5.xlarge",
    "vcpuNum": 4
   },
   {
    "_defaultOrder": 48,
    "_isFastLaunch": false,
    "category": "Accelerated computing",
    "gpuNum": 1,
    "hideHardwareSpecs": false,
    "memoryGiB": 32,
    "name": "ml.g5.2xlarge",
    "vcpuNum": 8
   },
   {
    "_defaultOrder": 49,
    "_isFastLaunch": false,
    "category": "Accelerated computing",
    "gpuNum": 1,
    "hideHardwareSpecs": false,
    "memoryGiB": 64,
    "name": "ml.g5.4xlarge",
    "vcpuNum": 16
   },
   {
    "_defaultOrder": 50,
    "_isFastLaunch": false,
    "category": "Accelerated computing",
    "gpuNum": 1,
    "hideHardwareSpecs": false,
    "memoryGiB": 128,
    "name": "ml.g5.8xlarge",
    "vcpuNum": 32
   },
   {
    "_defaultOrder": 51,
    "_isFastLaunch": false,
    "category": "Accelerated computing",
    "gpuNum": 1,
    "hideHardwareSpecs": false,
    "memoryGiB": 256,
    "name": "ml.g5.16xlarge",
    "vcpuNum": 64
   },
   {
    "_defaultOrder": 52,
    "_isFastLaunch": false,
    "category": "Accelerated computing",
    "gpuNum": 4,
    "hideHardwareSpecs": false,
    "memoryGiB": 192,
    "name": "ml.g5.12xlarge",
    "vcpuNum": 48
   },
   {
    "_defaultOrder": 53,
    "_isFastLaunch": false,
    "category": "Accelerated computing",
    "gpuNum": 4,
    "hideHardwareSpecs": false,
    "memoryGiB": 384,
    "name": "ml.g5.24xlarge",
    "vcpuNum": 96
   },
   {
    "_defaultOrder": 54,
    "_isFastLaunch": false,
    "category": "Accelerated computing",
    "gpuNum": 8,
    "hideHardwareSpecs": false,
    "memoryGiB": 768,
    "name": "ml.g5.48xlarge",
    "vcpuNum": 192
   },
   {
    "_defaultOrder": 55,
    "_isFastLaunch": false,
    "category": "Accelerated computing",
    "gpuNum": 8,
    "hideHardwareSpecs": false,
    "memoryGiB": 1152,
    "name": "ml.p4d.24xlarge",
    "vcpuNum": 96
   },
   {
    "_defaultOrder": 56,
    "_isFastLaunch": false,
    "category": "Accelerated computing",
    "gpuNum": 8,
    "hideHardwareSpecs": false,
    "memoryGiB": 1152,
    "name": "ml.p4de.24xlarge",
    "vcpuNum": 96
   },
   {
    "_defaultOrder": 57,
    "_isFastLaunch": false,
    "category": "Accelerated computing",
    "gpuNum": 0,
    "hideHardwareSpecs": false,
    "memoryGiB": 32,
    "name": "ml.trn1.2xlarge",
    "vcpuNum": 8
   },
   {
    "_defaultOrder": 58,
    "_isFastLaunch": false,
    "category": "Accelerated computing",
    "gpuNum": 0,
    "hideHardwareSpecs": false,
    "memoryGiB": 512,
    "name": "ml.trn1.32xlarge",
    "vcpuNum": 128
   },
   {
    "_defaultOrder": 59,
    "_isFastLaunch": false,
    "category": "Accelerated computing",
    "gpuNum": 0,
    "hideHardwareSpecs": false,
    "memoryGiB": 512,
    "name": "ml.trn1n.32xlarge",
    "vcpuNum": 128
   }
  ],
  "instance_type": "ml.g4dn.xlarge",
  "kernelspec": {
   "display_name": "Python 3 (Data Science 3.0)",
   "language": "python",
   "name": "python3__SAGEMAKER_INTERNAL__arn:aws:sagemaker:us-east-1:081325390199:image/sagemaker-data-science-310-v1"
  },
  "language_info": {
   "codemirror_mode": {
    "name": "ipython",
    "version": 3
   },
   "file_extension": ".py",
   "mimetype": "text/x-python",
   "name": "python",
   "nbconvert_exporter": "python",
   "pygments_lexer": "ipython3",
   "version": "3.10.6"
  }
 },
 "nbformat": 4,
 "nbformat_minor": 5
}

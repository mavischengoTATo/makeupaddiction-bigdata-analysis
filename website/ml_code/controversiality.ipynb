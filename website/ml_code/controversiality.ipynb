{
 "cells": [
  {
   "cell_type": "markdown",
   "metadata": {},
   "source": [
    "---\n",
    "format:\n",
    "  html:\n",
    "    toc: true\n",
    "    embed-resources: true\n",
    "    code-fold: false\n",
    "execute:\n",
    "  echo: true\n",
    "---"
   ]
  },
  {
   "cell_type": "markdown",
   "id": "1b30717e-7543-41a8-a2c9-06873d9a4811",
   "metadata": {
    "tags": []
   },
   "source": [
    "## Predicting Controversiality of Comment Content\n"
   ]
  },
  {
   "cell_type": "code",
   "execution_count": 2,
   "id": "f53c5551-adb7-466e-a5bf-3b0663401f89",
   "metadata": {
    "tags": []
   },
   "outputs": [
    {
     "name": "stdout",
     "output_type": "stream",
     "text": [
      "Collecting package metadata (current_repodata.json): done\n",
      "Solving environment: done\n",
      "\n",
      "\n",
      "==> WARNING: A newer version of conda exists. <==\n",
      "  current version: 23.3.1\n",
      "  latest version: 23.11.0\n",
      "\n",
      "Please update conda by running\n",
      "\n",
      "    $ conda update -n base -c defaults conda\n",
      "\n",
      "Or to minimize the number of packages updated during conda update use\n",
      "\n",
      "     conda install conda=23.11.0\n",
      "\n",
      "\n",
      "\n",
      "# All requested packages already installed.\n",
      "\n",
      "\n",
      "Note: you may need to restart the kernel to use updated packages.\n",
      "Requirement already satisfied: pyspark==3.4.0 in /opt/conda/lib/python3.10/site-packages (3.4.0)\n",
      "Requirement already satisfied: py4j==0.10.9.7 in /opt/conda/lib/python3.10/site-packages (from pyspark==3.4.0) (0.10.9.7)\n",
      "\u001b[33mWARNING: Running pip as the 'root' user can result in broken permissions and conflicting behaviour with the system package manager. It is recommended to use a virtual environment instead: https://pip.pypa.io/warnings/venv\u001b[0m\u001b[33m\n",
      "\u001b[0m\n",
      "\u001b[1m[\u001b[0m\u001b[34;49mnotice\u001b[0m\u001b[1;39;49m]\u001b[0m\u001b[39;49m A new release of pip is available: \u001b[0m\u001b[31;49m23.2.1\u001b[0m\u001b[39;49m -> \u001b[0m\u001b[32;49m23.3.1\u001b[0m\n",
      "\u001b[1m[\u001b[0m\u001b[34;49mnotice\u001b[0m\u001b[1;39;49m]\u001b[0m\u001b[39;49m To update, run: \u001b[0m\u001b[32;49mpip install --upgrade pip\u001b[0m\n",
      "Note: you may need to restart the kernel to use updated packages.\n",
      "Requirement already satisfied: spark-nlp==5.1.3 in /opt/conda/lib/python3.10/site-packages (5.1.3)\n",
      "\u001b[33mWARNING: Running pip as the 'root' user can result in broken permissions and conflicting behaviour with the system package manager. It is recommended to use a virtual environment instead: https://pip.pypa.io/warnings/venv\u001b[0m\u001b[33m\n",
      "\u001b[0m\n",
      "\u001b[1m[\u001b[0m\u001b[34;49mnotice\u001b[0m\u001b[1;39;49m]\u001b[0m\u001b[39;49m A new release of pip is available: \u001b[0m\u001b[31;49m23.2.1\u001b[0m\u001b[39;49m -> \u001b[0m\u001b[32;49m23.3.1\u001b[0m\n",
      "\u001b[1m[\u001b[0m\u001b[34;49mnotice\u001b[0m\u001b[1;39;49m]\u001b[0m\u001b[39;49m To update, run: \u001b[0m\u001b[32;49mpip install --upgrade pip\u001b[0m\n",
      "Note: you may need to restart the kernel to use updated packages.\n"
     ]
    },
    {
     "data": {
      "text/html": [
       "<script>Jupyter.notebook.kernel.restart()</script>"
      ],
      "text/plain": [
       "<IPython.core.display.HTML object>"
      ]
     },
     "execution_count": 2,
     "metadata": {},
     "output_type": "execute_result"
    }
   ],
   "source": [
    "# Setup - Run only once per Kernel App\n",
    "%conda install openjdk -y\n",
    "\n",
    "# install PySpark\n",
    "# install Python Reddit API Wrapper for getting external data Karma\n",
    "%pip install pyspark==3.4.0\n",
    "# install spark-nlp\n",
    "%pip install spark-nlp==5.1.3\n",
    "\n",
    "# restart kernel\n",
    "from IPython.core.display import HTML\n",
    "HTML(\"<script>Jupyter.notebook.kernel.restart()</script>\")\n"
   ]
  },
  {
   "cell_type": "code",
   "execution_count": 3,
   "id": "010e43e8-e381-4eeb-a328-301af55447a6",
   "metadata": {
    "tags": []
   },
   "outputs": [],
   "source": [
    "from pyspark.sql import SparkSession\n",
    "import pyspark.sql.functions as F\n",
    "import pandas as pd\n",
    "\n",
    "import sparknlp\n",
    "from sparknlp.base import *\n",
    "from pyspark.ml import Pipeline\n",
    "from sparknlp.annotator import *\n",
    "from sparknlp.pretrained import PretrainedPipeline\n",
    "from pyspark.ml.feature import CountVectorizer, StopWordsRemover,Tokenizer\n",
    "from pyspark.ml import Pipeline\n",
    "\n",
    "import plotly.graph_objects as go\n",
    "\n",
    "from pyspark.sql.types import ArrayType, StringType\n",
    "from pyspark.sql.functions import udf\n",
    "import numpy as np\n",
    "\n",
    "from nltk.stem import WordNetLemmatizer\n",
    "import nltk\n",
    "from pyspark.sql.functions import udf\n",
    "from pyspark.sql.types import ArrayType, StringType"
   ]
  },
  {
   "cell_type": "code",
   "execution_count": 4,
   "id": "b2b46771-7505-4d48-8715-7fe43fa86ed8",
   "metadata": {
    "tags": []
   },
   "outputs": [
    {
     "name": "stderr",
     "output_type": "stream",
     "text": [
      "Warning: Ignoring non-Spark config property: fs.s3a.aws.credentials.provider\n"
     ]
    },
    {
     "name": "stdout",
     "output_type": "stream",
     "text": [
      ":: loading settings :: url = jar:file:/opt/conda/lib/python3.10/site-packages/pyspark/jars/ivy-2.5.1.jar!/org/apache/ivy/core/settings/ivysettings.xml\n"
     ]
    },
    {
     "name": "stderr",
     "output_type": "stream",
     "text": [
      "Ivy Default Cache set to: /root/.ivy2/cache\n",
      "The jars for the packages stored in: /root/.ivy2/jars\n",
      "com.johnsnowlabs.nlp#spark-nlp_2.12 added as a dependency\n",
      "org.apache.hadoop#hadoop-aws added as a dependency\n",
      ":: resolving dependencies :: org.apache.spark#spark-submit-parent-d53ad4bf-4981-4abc-a4aa-ae8971bc9b2b;1.0\n",
      "\tconfs: [default]\n",
      "\tfound com.johnsnowlabs.nlp#spark-nlp_2.12;5.1.3 in central\n",
      "\tfound com.typesafe#config;1.4.2 in central\n",
      "\tfound org.rocksdb#rocksdbjni;6.29.5 in central\n",
      "\tfound com.amazonaws#aws-java-sdk-bundle;1.11.828 in central\n",
      "\tfound com.github.universal-automata#liblevenshtein;3.0.0 in central\n",
      "\tfound com.google.protobuf#protobuf-java-util;3.0.0-beta-3 in central\n",
      "\tfound com.google.protobuf#protobuf-java;3.0.0-beta-3 in central\n",
      "\tfound com.google.code.gson#gson;2.3 in central\n",
      "\tfound it.unimi.dsi#fastutil;7.0.12 in central\n",
      "\tfound org.projectlombok#lombok;1.16.8 in central\n",
      "\tfound com.google.cloud#google-cloud-storage;2.20.1 in central\n",
      "\tfound com.google.guava#guava;31.1-jre in central\n",
      "\tfound com.google.guava#failureaccess;1.0.1 in central\n",
      "\tfound com.google.guava#listenablefuture;9999.0-empty-to-avoid-conflict-with-guava in central\n",
      "\tfound com.google.errorprone#error_prone_annotations;2.18.0 in central\n",
      "\tfound com.google.j2objc#j2objc-annotations;1.3 in central\n",
      "\tfound com.google.http-client#google-http-client;1.43.0 in central\n",
      "\tfound io.opencensus#opencensus-contrib-http-util;0.31.1 in central\n",
      "\tfound com.google.http-client#google-http-client-jackson2;1.43.0 in central\n",
      "\tfound com.google.http-client#google-http-client-gson;1.43.0 in central\n",
      "\tfound com.google.api-client#google-api-client;2.2.0 in central\n",
      "\tfound commons-codec#commons-codec;1.15 in central\n",
      "\tfound com.google.oauth-client#google-oauth-client;1.34.1 in central\n",
      "\tfound com.google.http-client#google-http-client-apache-v2;1.43.0 in central\n",
      "\tfound com.google.apis#google-api-services-storage;v1-rev20220705-2.0.0 in central\n",
      "\tfound com.google.code.gson#gson;2.10.1 in central\n",
      "\tfound com.google.cloud#google-cloud-core;2.12.0 in central\n",
      "\tfound io.grpc#grpc-context;1.53.0 in central\n",
      "\tfound com.google.auto.value#auto-value-annotations;1.10.1 in central\n",
      "\tfound com.google.auto.value#auto-value;1.10.1 in central\n",
      "\tfound javax.annotation#javax.annotation-api;1.3.2 in central\n",
      "\tfound commons-logging#commons-logging;1.2 in central\n",
      "\tfound com.google.cloud#google-cloud-core-http;2.12.0 in central\n",
      "\tfound com.google.http-client#google-http-client-appengine;1.43.0 in central\n",
      "\tfound com.google.api#gax-httpjson;0.108.2 in central\n",
      "\tfound com.google.cloud#google-cloud-core-grpc;2.12.0 in central\n",
      "\tfound io.grpc#grpc-alts;1.53.0 in central\n",
      "\tfound io.grpc#grpc-grpclb;1.53.0 in central\n",
      "\tfound org.conscrypt#conscrypt-openjdk-uber;2.5.2 in central\n",
      "\tfound io.grpc#grpc-auth;1.53.0 in central\n",
      "\tfound io.grpc#grpc-protobuf;1.53.0 in central\n",
      "\tfound io.grpc#grpc-protobuf-lite;1.53.0 in central\n",
      "\tfound io.grpc#grpc-core;1.53.0 in central\n",
      "\tfound com.google.api#gax;2.23.2 in central\n",
      "\tfound com.google.api#gax-grpc;2.23.2 in central\n",
      "\tfound com.google.auth#google-auth-library-credentials;1.16.0 in central\n",
      "\tfound com.google.auth#google-auth-library-oauth2-http;1.16.0 in central\n",
      "\tfound com.google.api#api-common;2.6.2 in central\n",
      "\tfound io.opencensus#opencensus-api;0.31.1 in central\n",
      "\tfound com.google.api.grpc#proto-google-iam-v1;1.9.2 in central\n",
      "\tfound com.google.protobuf#protobuf-java;3.21.12 in central\n",
      "\tfound com.google.protobuf#protobuf-java-util;3.21.12 in central\n",
      "\tfound com.google.api.grpc#proto-google-common-protos;2.14.2 in central\n",
      "\tfound org.threeten#threetenbp;1.6.5 in central\n",
      "\tfound com.google.api.grpc#proto-google-cloud-storage-v2;2.20.1-alpha in central\n",
      "\tfound com.google.api.grpc#grpc-google-cloud-storage-v2;2.20.1-alpha in central\n",
      "\tfound com.google.api.grpc#gapic-google-cloud-storage-v2;2.20.1-alpha in central\n",
      "\tfound com.fasterxml.jackson.core#jackson-core;2.14.2 in central\n",
      "\tfound com.google.code.findbugs#jsr305;3.0.2 in central\n",
      "\tfound io.grpc#grpc-api;1.53.0 in central\n",
      "\tfound io.grpc#grpc-stub;1.53.0 in central\n",
      "\tfound org.checkerframework#checker-qual;3.31.0 in central\n",
      "\tfound io.perfmark#perfmark-api;0.26.0 in central\n",
      "\tfound com.google.android#annotations;4.1.1.4 in central\n",
      "\tfound org.codehaus.mojo#animal-sniffer-annotations;1.22 in central\n",
      "\tfound io.opencensus#opencensus-proto;0.2.0 in central\n",
      "\tfound io.grpc#grpc-services;1.53.0 in central\n",
      "\tfound com.google.re2j#re2j;1.6 in central\n",
      "\tfound io.grpc#grpc-netty-shaded;1.53.0 in central\n",
      "\tfound io.grpc#grpc-googleapis;1.53.0 in central\n",
      "\tfound io.grpc#grpc-xds;1.53.0 in central\n",
      "\tfound com.navigamez#greex;1.0 in central\n",
      "\tfound dk.brics.automaton#automaton;1.11-8 in central\n",
      "\tfound com.johnsnowlabs.nlp#tensorflow-cpu_2.12;0.4.4 in central\n",
      "\tfound com.microsoft.onnxruntime#onnxruntime;1.15.0 in central\n",
      "\tfound org.apache.hadoop#hadoop-aws;3.2.2 in central\n",
      ":: resolution report :: resolve 4039ms :: artifacts dl 476ms\n",
      "\t:: modules in use:\n",
      "\tcom.amazonaws#aws-java-sdk-bundle;1.11.828 from central in [default]\n",
      "\tcom.fasterxml.jackson.core#jackson-core;2.14.2 from central in [default]\n",
      "\tcom.github.universal-automata#liblevenshtein;3.0.0 from central in [default]\n",
      "\tcom.google.android#annotations;4.1.1.4 from central in [default]\n",
      "\tcom.google.api#api-common;2.6.2 from central in [default]\n",
      "\tcom.google.api#gax;2.23.2 from central in [default]\n",
      "\tcom.google.api#gax-grpc;2.23.2 from central in [default]\n",
      "\tcom.google.api#gax-httpjson;0.108.2 from central in [default]\n",
      "\tcom.google.api-client#google-api-client;2.2.0 from central in [default]\n",
      "\tcom.google.api.grpc#gapic-google-cloud-storage-v2;2.20.1-alpha from central in [default]\n",
      "\tcom.google.api.grpc#grpc-google-cloud-storage-v2;2.20.1-alpha from central in [default]\n",
      "\tcom.google.api.grpc#proto-google-cloud-storage-v2;2.20.1-alpha from central in [default]\n",
      "\tcom.google.api.grpc#proto-google-common-protos;2.14.2 from central in [default]\n",
      "\tcom.google.api.grpc#proto-google-iam-v1;1.9.2 from central in [default]\n",
      "\tcom.google.apis#google-api-services-storage;v1-rev20220705-2.0.0 from central in [default]\n",
      "\tcom.google.auth#google-auth-library-credentials;1.16.0 from central in [default]\n",
      "\tcom.google.auth#google-auth-library-oauth2-http;1.16.0 from central in [default]\n",
      "\tcom.google.auto.value#auto-value;1.10.1 from central in [default]\n",
      "\tcom.google.auto.value#auto-value-annotations;1.10.1 from central in [default]\n",
      "\tcom.google.cloud#google-cloud-core;2.12.0 from central in [default]\n",
      "\tcom.google.cloud#google-cloud-core-grpc;2.12.0 from central in [default]\n",
      "\tcom.google.cloud#google-cloud-core-http;2.12.0 from central in [default]\n",
      "\tcom.google.cloud#google-cloud-storage;2.20.1 from central in [default]\n",
      "\tcom.google.code.findbugs#jsr305;3.0.2 from central in [default]\n",
      "\tcom.google.code.gson#gson;2.10.1 from central in [default]\n",
      "\tcom.google.errorprone#error_prone_annotations;2.18.0 from central in [default]\n",
      "\tcom.google.guava#failureaccess;1.0.1 from central in [default]\n",
      "\tcom.google.guava#guava;31.1-jre from central in [default]\n",
      "\tcom.google.guava#listenablefuture;9999.0-empty-to-avoid-conflict-with-guava from central in [default]\n",
      "\tcom.google.http-client#google-http-client;1.43.0 from central in [default]\n",
      "\tcom.google.http-client#google-http-client-apache-v2;1.43.0 from central in [default]\n",
      "\tcom.google.http-client#google-http-client-appengine;1.43.0 from central in [default]\n",
      "\tcom.google.http-client#google-http-client-gson;1.43.0 from central in [default]\n",
      "\tcom.google.http-client#google-http-client-jackson2;1.43.0 from central in [default]\n",
      "\tcom.google.j2objc#j2objc-annotations;1.3 from central in [default]\n",
      "\tcom.google.oauth-client#google-oauth-client;1.34.1 from central in [default]\n",
      "\tcom.google.protobuf#protobuf-java;3.21.12 from central in [default]\n",
      "\tcom.google.protobuf#protobuf-java-util;3.21.12 from central in [default]\n",
      "\tcom.google.re2j#re2j;1.6 from central in [default]\n",
      "\tcom.johnsnowlabs.nlp#spark-nlp_2.12;5.1.3 from central in [default]\n",
      "\tcom.johnsnowlabs.nlp#tensorflow-cpu_2.12;0.4.4 from central in [default]\n",
      "\tcom.microsoft.onnxruntime#onnxruntime;1.15.0 from central in [default]\n",
      "\tcom.navigamez#greex;1.0 from central in [default]\n",
      "\tcom.typesafe#config;1.4.2 from central in [default]\n",
      "\tcommons-codec#commons-codec;1.15 from central in [default]\n",
      "\tcommons-logging#commons-logging;1.2 from central in [default]\n",
      "\tdk.brics.automaton#automaton;1.11-8 from central in [default]\n",
      "\tio.grpc#grpc-alts;1.53.0 from central in [default]\n",
      "\tio.grpc#grpc-api;1.53.0 from central in [default]\n",
      "\tio.grpc#grpc-auth;1.53.0 from central in [default]\n",
      "\tio.grpc#grpc-context;1.53.0 from central in [default]\n",
      "\tio.grpc#grpc-core;1.53.0 from central in [default]\n",
      "\tio.grpc#grpc-googleapis;1.53.0 from central in [default]\n",
      "\tio.grpc#grpc-grpclb;1.53.0 from central in [default]\n",
      "\tio.grpc#grpc-netty-shaded;1.53.0 from central in [default]\n",
      "\tio.grpc#grpc-protobuf;1.53.0 from central in [default]\n",
      "\tio.grpc#grpc-protobuf-lite;1.53.0 from central in [default]\n",
      "\tio.grpc#grpc-services;1.53.0 from central in [default]\n",
      "\tio.grpc#grpc-stub;1.53.0 from central in [default]\n",
      "\tio.grpc#grpc-xds;1.53.0 from central in [default]\n",
      "\tio.opencensus#opencensus-api;0.31.1 from central in [default]\n",
      "\tio.opencensus#opencensus-contrib-http-util;0.31.1 from central in [default]\n",
      "\tio.opencensus#opencensus-proto;0.2.0 from central in [default]\n",
      "\tio.perfmark#perfmark-api;0.26.0 from central in [default]\n",
      "\tit.unimi.dsi#fastutil;7.0.12 from central in [default]\n",
      "\tjavax.annotation#javax.annotation-api;1.3.2 from central in [default]\n",
      "\torg.apache.hadoop#hadoop-aws;3.2.2 from central in [default]\n",
      "\torg.checkerframework#checker-qual;3.31.0 from central in [default]\n",
      "\torg.codehaus.mojo#animal-sniffer-annotations;1.22 from central in [default]\n",
      "\torg.conscrypt#conscrypt-openjdk-uber;2.5.2 from central in [default]\n",
      "\torg.projectlombok#lombok;1.16.8 from central in [default]\n",
      "\torg.rocksdb#rocksdbjni;6.29.5 from central in [default]\n",
      "\torg.threeten#threetenbp;1.6.5 from central in [default]\n",
      "\t:: evicted modules:\n",
      "\tcom.google.protobuf#protobuf-java-util;3.0.0-beta-3 by [com.google.protobuf#protobuf-java-util;3.21.12] in [default]\n",
      "\tcom.google.protobuf#protobuf-java;3.0.0-beta-3 by [com.google.protobuf#protobuf-java;3.21.12] in [default]\n",
      "\tcom.google.code.gson#gson;2.3 by [com.google.code.gson#gson;2.10.1] in [default]\n",
      "\tcom.amazonaws#aws-java-sdk-bundle;1.11.563 by [com.amazonaws#aws-java-sdk-bundle;1.11.828] in [default]\n",
      "\t---------------------------------------------------------------------\n",
      "\t|                  |            modules            ||   artifacts   |\n",
      "\t|       conf       | number| search|dwnlded|evicted|| number|dwnlded|\n",
      "\t---------------------------------------------------------------------\n",
      "\t|      default     |   77  |   0   |   0   |   4   ||   73  |   0   |\n",
      "\t---------------------------------------------------------------------\n",
      ":: retrieving :: org.apache.spark#spark-submit-parent-d53ad4bf-4981-4abc-a4aa-ae8971bc9b2b\n",
      "\tconfs: [default]\n",
      "\t0 artifacts copied, 73 already retrieved (0kB/83ms)\n",
      "23/12/07 22:17:39 WARN NativeCodeLoader: Unable to load native-hadoop library for your platform... using builtin-java classes where applicable\n",
      "Setting default log level to \"WARN\".\n",
      "To adjust logging level use sc.setLogLevel(newLevel). For SparkR, use setLogLevel(newLevel).\n"
     ]
    }
   ],
   "source": [
    "spark = (\n",
    "    SparkSession.builder.appName(\"PySparkApp\")\n",
    "    .config(\"spark.driver.memory\",\"16G\")\n",
    "    .config(\"spark.driver.maxResultSize\", \"0\") \n",
    "    .config(\"spark.kryoserializer.buffer.max\", \"2000M\")\n",
    "    .config(\"spark.jars.packages\", \"com.johnsnowlabs.nlp:spark-nlp_2.12:5.1.3,org.apache.hadoop:hadoop-aws:3.2.2\")\n",
    "    .config(\"fs.s3a.aws.credentials.provider\", \"com.amazonaws.auth.ContainerCredentialsProvider\")\n",
    "    .getOrCreate()\n",
    ")\n"
   ]
  },
  {
   "cell_type": "code",
   "execution_count": 5,
   "id": "0d0fa39c-1139-4b84-a93c-16fbabbe5528",
   "metadata": {
    "tags": []
   },
   "outputs": [
    {
     "name": "stdout",
     "output_type": "stream",
     "text": [
      "sagemaker.config INFO - Not applying SDK defaults from location: /etc/xdg/sagemaker/config.yaml\n",
      "sagemaker.config INFO - Not applying SDK defaults from location: /root/.config/sagemaker/config.yaml\n",
      "sagemaker.config INFO - Not applying SDK defaults from location: /etc/xdg/sagemaker/config.yaml\n",
      "sagemaker.config INFO - Not applying SDK defaults from location: /root/.config/sagemaker/config.yaml\n",
      "reading comments from s3a://sagemaker-us-east-1-166335636271/project/comments/yyyy=*\n"
     ]
    },
    {
     "name": "stderr",
     "output_type": "stream",
     "text": [
      "23/12/07 17:22:36 WARN MetricsConfig: Cannot locate configuration: tried hadoop-metrics2-s3a-file-system.properties,hadoop-metrics2.properties\n",
      "[Stage 1:======================================================>(240 + 1) / 241]\r"
     ]
    },
    {
     "name": "stdout",
     "output_type": "stream",
     "text": [
      "shape of the comments dataframe is 1,053,280x21\n",
      "CPU times: user 3.41 s, sys: 195 ms, total: 3.61 s\n",
      "Wall time: 6min 11s\n"
     ]
    },
    {
     "name": "stderr",
     "output_type": "stream",
     "text": [
      "                                                                                \r"
     ]
    }
   ],
   "source": [
    "%%time\n",
    "import sagemaker\n",
    "session = sagemaker.Session()\n",
    "bucket = session.default_bucket()\n",
    "output_prefix_data_comments = \"project/comments/yyyy=*\"\n",
    "s3_path = f\"s3a://{bucket}/{output_prefix_data_comments}\"\n",
    "#s3_path = \"s3a://sagemaker-us-east-1-038932893404/project/comments/yyyy=2021/part-00000-90796409-5783-4705-92c0-27c27eda8c4c-c000.snappy.parquet\"\n",
    "print(f\"reading comments from {s3_path}\")\n",
    "comments = spark.read.parquet(s3_path, header=True)\n",
    "print(f\"shape of the comments dataframe is {comments.count():,}x{len(comments.columns)}\")\n"
   ]
  },
  {
   "cell_type": "code",
   "execution_count": 7,
   "id": "c50f90f5-a481-4459-800e-0c484e4780dc",
   "metadata": {
    "tags": []
   },
   "outputs": [],
   "source": [
    "from pyspark.sql.functions import col\n",
    "\n",
    "# Select specific columns for display\n",
    "selected_columns = [\"body\",  \"created_utc\", \"controversiality\", \"gilded\", \"score\", \"stickied\",\n",
    "                    'can_gild','edited','is_submitter']\n",
    "\n",
    "# Show the selected columns\n",
    "selected_comments=comments.select(*selected_columns)\n"
   ]
  },
  {
   "cell_type": "code",
   "execution_count": 8,
   "id": "2ed247d2-be88-4099-920d-63f5c6df7d0f",
   "metadata": {
    "tags": []
   },
   "outputs": [
    {
     "name": "stdout",
     "output_type": "stream",
     "text": [
      "+--------------------+-------------------+----------------+------+-----+--------+--------+-------------+------------+\n",
      "|                body|        created_utc|controversiality|gilded|score|stickied|can_gild|       edited|is_submitter|\n",
      "+--------------------+-------------------+----------------+------+-----+--------+--------+-------------+------------+\n",
      "|I get it man but ...|2022-11-11 02:05:02|               0|     0|    1|   false|    true|        false|       false|\n",
      "|Nose putty and co...|2022-11-11 02:05:03|               0|     0|    1|   false|    true|        false|       false|\n",
      "|I noticed the sca...|2022-11-11 02:05:09|               0|     0|    1|   false|    true|        false|       false|\n",
      "|i switch between ...|2022-11-11 02:05:14|               0|     0|    1|   false|    true|        false|       false|\n",
      "|https://men-elite...|2022-11-11 02:05:32|               0|     0|    1|   false|    true|        false|       false|\n",
      "|Dude the first th...|2022-11-11 02:05:49|               0|     0|    1|   false|    true|        false|       false|\n",
      "|That scar is fuck...|2022-11-11 02:05:55|               0|     0|    1|   false|    true|        false|       false|\n",
      "| I would try Reti...|2022-11-11 02:06:11|               0|     0|    1|   false|    true|        false|       false|\n",
      "| Damn, this looks...|2022-11-11 02:06:24|               0|     0|    1|   false|    true|        false|       false|\n",
      "|&gt; And then som...|2022-11-11 02:07:08|               0|     0|    1|   false|    true|        false|       false|\n",
      "|I didn't notice t...|2022-11-11 02:07:09|               0|     0|    1|   false|    true|        false|       false|\n",
      "|It’s pretty dope man|2022-11-11 02:07:27|               0|     0|    1|   false|    true|        false|       false|\n",
      "|https://preview.r...|2022-11-11 02:07:29|               0|     0|    1|   false|    true|        false|       false|\n",
      "|It gives your fac...|2022-11-11 02:08:10|               0|     0|    1|   false|    true|        false|       false|\n",
      "|Fuck that! Show t...|2022-11-11 02:08:12|               0|     0|    1|   false|    true|        false|       false|\n",
      "|&gt; And then som...|2022-11-11 02:08:25|               0|     0|    1|   false|    true|1.668132686E9|       false|\n",
      "|Man looks like re...|2022-11-11 02:08:48|               0|     0|    1|   false|    true|        false|       false|\n",
      "|You remind me of ...|2022-11-11 02:08:54|               0|     0|    1|   false|    true|        false|       false|\n",
      "|Dude the first th...|2022-11-11 02:08:59|               0|     0|    1|   false|    true|        false|       false|\n",
      "|   Awesome scar tho!|2022-11-11 02:09:12|               0|     0|    1|   false|    true|        false|       false|\n",
      "+--------------------+-------------------+----------------+------+-----+--------+--------+-------------+------------+\n",
      "only showing top 20 rows\n",
      "\n"
     ]
    }
   ],
   "source": [
    "selected_comments.show()"
   ]
  },
  {
   "cell_type": "markdown",
   "id": "97059ec5-aaac-4777-8aa8-8c32b086f244",
   "metadata": {
    "tags": []
   },
   "source": [
    "### Controversiality Prediction"
   ]
  },
  {
   "cell_type": "markdown",
   "id": "c3bcdf2c-0473-4133-a7c4-242e6cf2d9fd",
   "metadata": {},
   "source": [
    "### Clean Body Text"
   ]
  },
  {
   "cell_type": "code",
   "execution_count": 7,
   "id": "cf1fe028-0eef-45fa-ad93-e92867c39ab4",
   "metadata": {
    "tags": []
   },
   "outputs": [],
   "source": [
    "from pyspark.sql.functions import col, regexp_replace, lower\n",
    "from pyspark.sql import SparkSession\n",
    "from pyspark.sql.functions import lower, col, regexp_replace, udf, length, StringType\n",
    "from pyspark.ml.feature import Tokenizer, StopWordsRemover\n",
    "\n",
    "\n",
    "def clean_text(text):\n",
    "    import re\n",
    "    # Lowercase\n",
    "    text = text.lower()\n",
    "    # Remove URLs\n",
    "    text = re.sub(r'http\\S+', '', text)\n",
    "    # Remove numbers\n",
    "    text = re.sub(r'\\d+', '', text)\n",
    "    # Remove punctuation and special characters\n",
    "    text = re.sub(r'[^a-zA-Z\\s]', '', text)\n",
    "    # Remove short words (less than 3 characters)\n",
    "    text = ' '.join([word for word in text.split() if len(word) > 2])\n",
    "    return text\n",
    "\n",
    "# Create a user-defined function (UDF) for text cleaning\n",
    "clean_text_udf = udf(clean_text, StringType())\n"
   ]
  },
  {
   "cell_type": "code",
   "execution_count": 10,
   "id": "98be1c4a-a423-4948-8b5f-3a47cfb9e12a",
   "metadata": {
    "tags": []
   },
   "outputs": [],
   "source": [
    "cleaned_comments = selected_comments.withColumn('clean_body', clean_text_udf(col('body')))\n",
    "cleaned_comments = cleaned_comments.na.drop(subset=[\"clean_body\"])\n",
    "cleaned_comments = cleaned_comments.filter(length(col('clean_body')) > 0)"
   ]
  },
  {
   "cell_type": "code",
   "execution_count": 11,
   "id": "00f8d5a6-8bcb-4af3-94f8-46f225978a5b",
   "metadata": {
    "tags": []
   },
   "outputs": [
    {
     "name": "stderr",
     "output_type": "stream",
     "text": [
      "[Stage 8:>                                                          (0 + 1) / 1]\r"
     ]
    },
    {
     "name": "stdout",
     "output_type": "stream",
     "text": [
      "+--------------------+----------------+\n",
      "|          clean_body|controversiality|\n",
      "+--------------------+----------------+\n",
      "|get man but that ...|               0|\n",
      "|nose putty and co...|               0|\n",
      "|noticed the scar ...|               0|\n",
      "|switch between cl...|               0|\n",
      "|hope this helps t...|               0|\n",
      "|dude the first th...|               0|\n",
      "|that scar fuckin ...|               0|\n",
      "|would try retin w...|               0|\n",
      "|damn this looks l...|               0|\n",
      "|and then someone ...|               0|\n",
      "|didnt notice the ...|               0|\n",
      "| its pretty dope man|               0|\n",
      "|gives your face c...|               0|\n",
      "|fuck that show th...|               0|\n",
      "|and then someone ...|               0|\n",
      "|man looks like re...|               0|\n",
      "|you remind geralt...|               0|\n",
      "|dude the first th...|               0|\n",
      "|    awesome scar tho|               0|\n",
      "|mean think looks ...|               0|\n",
      "+--------------------+----------------+\n",
      "only showing top 20 rows\n",
      "\n"
     ]
    },
    {
     "name": "stderr",
     "output_type": "stream",
     "text": [
      "Traceback (most recent call last):\n",
      "  File \"/opt/conda/lib/python3.10/site-packages/pyspark/python/lib/pyspark.zip/pyspark/daemon.py\", line 193, in manager\n",
      "  File \"/opt/conda/lib/python3.10/site-packages/pyspark/python/lib/pyspark.zip/pyspark/daemon.py\", line 74, in worker\n",
      "  File \"/opt/conda/lib/python3.10/site-packages/pyspark/python/lib/pyspark.zip/pyspark/worker.py\", line 874, in main\n",
      "    if read_int(infile) == SpecialLengths.END_OF_STREAM:\n",
      "  File \"/opt/conda/lib/python3.10/site-packages/pyspark/python/lib/pyspark.zip/pyspark/serializers.py\", line 596, in read_int\n",
      "    raise EOFError\n",
      "EOFError\n",
      "                                                                                \r"
     ]
    }
   ],
   "source": [
    "Contro_dataset=cleaned_comments.select(\"clean_body\",\"controversiality\")\n",
    "Contro_dataset.show()"
   ]
  },
  {
   "cell_type": "markdown",
   "id": "67256b2f-8082-4c9b-a4ff-866eb64fd8a5",
   "metadata": {},
   "source": [
    "###  Split the Controverisality Dataset "
   ]
  },
  {
   "cell_type": "code",
   "execution_count": 13,
   "id": "463ef16e-909c-49cd-b2e1-cc920132bd4e",
   "metadata": {
    "tags": []
   },
   "outputs": [],
   "source": [
    "training_data, testing_data = Contro_dataset.randomSplit([0.7, 0.3], seed=123)\n"
   ]
  },
  {
   "cell_type": "code",
   "execution_count": 20,
   "id": "895f39b9-2e38-430e-9f58-5f449e51ad8c",
   "metadata": {
    "tags": []
   },
   "outputs": [
    {
     "data": {
      "text/plain": [
       "(DataFrame[clean_body: string, controversiality: bigint],\n",
       " DataFrame[clean_body: string, controversiality: bigint])"
      ]
     },
     "execution_count": 20,
     "metadata": {},
     "output_type": "execute_result"
    }
   ],
   "source": [
    "training_data, testing_data"
   ]
  },
  {
   "cell_type": "markdown",
   "id": "90e8110a-369a-413b-b570-0e526d46d7f8",
   "metadata": {},
   "source": [
    "### NaiVe Bayes"
   ]
  },
  {
   "cell_type": "code",
   "execution_count": 13,
   "id": "a25b5e0d-a73c-4658-8bc3-233183b936f5",
   "metadata": {
    "tags": []
   },
   "outputs": [
    {
     "name": "stderr",
     "output_type": "stream",
     "text": [
      "23/12/07 21:34:21 WARN DAGScheduler: Broadcasting large task binary with size 4.1 MiB\n",
      "23/12/07 21:41:22 WARN DAGScheduler: Broadcasting large task binary with size 4.1 MiB\n",
      "23/12/07 21:41:28 WARN DAGScheduler: Broadcasting large task binary with size 8.1 MiB\n",
      "23/12/07 21:41:34 WARN InstanceBuilder: Failed to load implementation from:dev.ludovic.netlib.blas.JNIBLAS\n",
      "[Stage 6:======================================================>(240 + 1) / 241]\r"
     ]
    },
    {
     "name": "stdout",
     "output_type": "stream",
     "text": [
      "Accuracy: 0.90\n"
     ]
    },
    {
     "name": "stderr",
     "output_type": "stream",
     "text": [
      "                                                                                \r"
     ]
    }
   ],
   "source": [
    "from pyspark.sql import SparkSession\n",
    "from pyspark.ml.feature import HashingTF, IDF, Tokenizer\n",
    "from pyspark.ml.classification import NaiveBayes\n",
    "from pyspark.ml import Pipeline\n",
    "from pyspark.ml.evaluation import MulticlassClassificationEvaluator\n",
    "\n",
    "# Define the pipeline stages\n",
    "tokenizer = Tokenizer(inputCol=\"clean_body\", outputCol=\"words\")\n",
    "hashingTF = HashingTF(inputCol=\"words\", outputCol=\"rawFeatures\")\n",
    "idf = IDF(inputCol=\"rawFeatures\", outputCol=\"features\")\n",
    "naive_bayes = NaiveBayes(featuresCol=\"features\", labelCol=\"controversiality\", predictionCol=\"prediction\")\n",
    "\n",
    "# Create a pipeline\n",
    "pipeline = Pipeline(stages=[tokenizer, hashingTF, idf, naive_bayes])\n",
    "\n",
    "# Train the model\n",
    "model = pipeline.fit(training_data)\n",
    "\n",
    "# Make predictions on the test data\n",
    "predictions = model.transform(testing_data)\n",
    "\n",
    "# Evaluate the model performance\n",
    "evaluator = MulticlassClassificationEvaluator(labelCol=\"controversiality\", predictionCol=\"prediction\", metricName=\"accuracy\")\n",
    "accuracy = evaluator.evaluate(predictions)\n",
    "print(f\"Accuracy: {accuracy:.2f}\")\n"
   ]
  },
  {
   "cell_type": "markdown",
   "id": "09b56ed4-9d68-4f85-9c45-c3fd4950acf5",
   "metadata": {},
   "source": [
    "### SVM"
   ]
  },
  {
   "cell_type": "code",
   "execution_count": 14,
   "id": "c58b7bd1-4688-4d60-8e36-54735de8bda6",
   "metadata": {
    "tags": []
   },
   "outputs": [
    {
     "name": "stderr",
     "output_type": "stream",
     "text": [
      "[Stage 200:====================================================>(240 + 1) / 241]\r"
     ]
    },
    {
     "name": "stdout",
     "output_type": "stream",
     "text": [
      "Accuracy: 0.99\n"
     ]
    },
    {
     "name": "stderr",
     "output_type": "stream",
     "text": [
      "                                                                                \r"
     ]
    }
   ],
   "source": [
    "from pyspark.sql import SparkSession\n",
    "from pyspark.ml import Pipeline\n",
    "from pyspark.ml.feature import HashingTF, IDF, Tokenizer\n",
    "from pyspark.ml.classification import LinearSVC\n",
    "from pyspark.ml.evaluation import MulticlassClassificationEvaluator\n",
    "\n",
    "\n",
    "tokenizer = Tokenizer(inputCol=\"clean_body\", outputCol=\"words\")\n",
    "hashingTF = HashingTF(inputCol=\"words\", outputCol=\"rawFeatures\", numFeatures=20)\n",
    "idf = IDF(inputCol=\"rawFeatures\", outputCol=\"features\")\n",
    "svm = LinearSVC(maxIter=10, regParam=0.01, labelCol=\"controversiality\", featuresCol=\"features\")\n",
    "\n",
    "# Create a pipeline\n",
    "pipeline = Pipeline(stages=[tokenizer, hashingTF, idf, svm])\n",
    "\n",
    "# Train the model\n",
    "model = pipeline.fit(training_data)\n",
    "\n",
    "# Make predictions on the test data\n",
    "predictions = model.transform(testing_data)\n",
    "\n",
    "# Evaluate the model\n",
    "evaluator = MulticlassClassificationEvaluator(\n",
    "    labelCol=\"controversiality\", predictionCol=\"prediction\", metricName=\"accuracy\"\n",
    ")\n",
    "accuracy = evaluator.evaluate(predictions)\n",
    "print(f\"Accuracy: {accuracy:.2f}\")\n",
    "\n",
    "\n",
    "\n"
   ]
  },
  {
   "cell_type": "markdown",
   "id": "29dd67d5-8e3c-423e-96c7-d9c9da029ec2",
   "metadata": {},
   "source": [
    "###  First Stage Controversiality Text Classification Summary\n",
    "The Controversiality model nailed it with 90% and 99% accuracy for Naive Bayes and SVM, respectively. However, our comments dataset isn't balanced. To level the playing field, we're thinking of pulling in more data from the original comments dataset. This move aims to make the model even sharper, fine-tuning it to handle various comments better and ensuring it works seamlessly across different scenarios. Alongside this, we're exploring advanced techniques and possibly teaming up with different models to give our accuracy an extra boost.\n",
    "\n"
   ]
  },
  {
   "cell_type": "markdown",
   "id": "3bcfe0d0-814f-49d6-83ec-770d39ecb36a",
   "metadata": {},
   "source": [
    "## Improvement"
   ]
  },
  {
   "cell_type": "markdown",
   "id": "5dd94747-d41e-4de3-8096-f42abd457e4c",
   "metadata": {
    "tags": []
   },
   "source": [
    "### Get Balanced Comments Datasets\n",
    "\n",
    "enhance the model's predictive capabilities for comments labeled with 'controversiality=True.' Given the significant class imbalance in the original dataset, with a disproportionately larger number of 'controversiality=False' instances, our aim was to create a more balanced training set for the model.\n",
    "\n",
    "To address this issue, we opted for a strategic sampling approach. Leveraging the original dataset, which consisted of a substantial 1,046,629 instances labeled as 'controversiality=False' and a relatively limited 10,652 instances labeled as 'controversiality=True,' we recognized the need for a more proportional representation of both classes in the training data.\n",
    "\n",
    "In our revised dataset, we deliberately retained all available instances labeled as 'controversiality=True' (10,652 records) to ensure comprehensive coverage of this minority class. For the 'controversiality=False' class, we conducted random sampling to select 10000 records from the original 1,046,629 instances. This approach allowed us to strike a balance between addressing the class imbalance and working with a manageable-sized dataset.\n",
    "\n",
    "Although the overall dataset size may be considered modest, the strategic sampling was chosen to maximize the utility of the available data and yield a more balanced representation of both classes. Our focus is on achieving a meaningful and reliable model that demonstrates improved performance on comments labeled as 'controversiality=True.' We believe that this balanced dataset will enhance the model's ability to generalize and make accurate predictions, ultimately contributing to more robust and reliable results in handling controversial comments.\n",
    "\n"
   ]
  },
  {
   "cell_type": "code",
   "execution_count": 5,
   "id": "c7bb3598-f68a-4ccc-80dd-f1681e75e134",
   "metadata": {
    "tags": []
   },
   "outputs": [
    {
     "name": "stdout",
     "output_type": "stream",
     "text": [
      "sagemaker.config INFO - Not applying SDK defaults from location: /etc/xdg/sagemaker/config.yaml\n",
      "sagemaker.config INFO - Not applying SDK defaults from location: /root/.config/sagemaker/config.yaml\n",
      "sagemaker.config INFO - Not applying SDK defaults from location: /etc/xdg/sagemaker/config.yaml\n",
      "sagemaker.config INFO - Not applying SDK defaults from location: /root/.config/sagemaker/config.yaml\n",
      "reading comments from s3a://sagemaker-us-east-1-166335636271/project/comments/yyyy=*\n"
     ]
    },
    {
     "name": "stderr",
     "output_type": "stream",
     "text": [
      "23/12/07 22:17:51 WARN MetricsConfig: Cannot locate configuration: tried hadoop-metrics2-s3a-file-system.properties,hadoop-metrics2.properties\n",
      "[Stage 1:======================================================>(240 + 1) / 241]\r"
     ]
    },
    {
     "name": "stdout",
     "output_type": "stream",
     "text": [
      "shape of the comments dataframe is 1,053,280x21\n",
      "CPU times: user 3.26 s, sys: 228 ms, total: 3.48 s\n",
      "Wall time: 5min 41s\n"
     ]
    },
    {
     "name": "stderr",
     "output_type": "stream",
     "text": [
      "                                                                                \r"
     ]
    }
   ],
   "source": [
    "%%time\n",
    "import sagemaker\n",
    "session = sagemaker.Session()\n",
    "bucket = session.default_bucket()\n",
    "output_prefix_data_comments = \"project/comments/yyyy=*\"\n",
    "s3_path = f\"s3a://{bucket}/{output_prefix_data_comments}\"\n",
    "#s3_path = \"s3a://sagemaker-us-east-1-038932893404/project/comments/yyyy=2021/part-00000-90796409-5783-4705-92c0-27c27eda8c4c-c000.snappy.parquet\"\n",
    "print(f\"reading comments from {s3_path}\")\n",
    "comments = spark.read.parquet(s3_path, header=True)\n",
    "print(f\"shape of the comments dataframe is {comments.count():,}x{len(comments.columns)}\")\n",
    "\n"
   ]
  },
  {
   "cell_type": "code",
   "execution_count": 6,
   "id": "259ab855-cad4-4790-aacd-8dad3a347472",
   "metadata": {
    "tags": []
   },
   "outputs": [],
   "source": [
    "#### improve_comments dataset\n",
    "improve_comments = comments"
   ]
  },
  {
   "cell_type": "code",
   "execution_count": 7,
   "id": "8c82cd9c-4e83-4fad-924b-549672ef0cdf",
   "metadata": {
    "tags": []
   },
   "outputs": [],
   "source": [
    "\n",
    "\n",
    "from pyspark.sql.types import IntegerType\n",
    "\n",
    "# Convert 'controversiality' to integer type (assuming it's not already)\n",
    "improve_comments = improve_comments.withColumn('controversiality', improve_comments['controversiality'].cast(IntegerType()))\n",
    "\n",
    "# Convert 'controversiality' to a categorical variable\n",
    "improve_comments = improve_comments.withColumn('controversiality', improve_comments['controversiality'].cast('string'))\n",
    "\n",
    "# Show the updated DataFrame\n",
    "\n",
    "improve_comments_selected = improve_comments.select('body', 'controversiality')\n",
    "\n"
   ]
  },
  {
   "cell_type": "code",
   "execution_count": 8,
   "id": "79660c35-af65-4395-8f88-244ba5de0c3a",
   "metadata": {
    "tags": []
   },
   "outputs": [
    {
     "name": "stderr",
     "output_type": "stream",
     "text": [
      "[Stage 4:======================================================>(239 + 2) / 241]\r"
     ]
    },
    {
     "name": "stdout",
     "output_type": "stream",
     "text": [
      "+----------------+-------+\n",
      "|controversiality|  count|\n",
      "+----------------+-------+\n",
      "|               0|1042629|\n",
      "|               1|  10651|\n",
      "+----------------+-------+\n",
      "\n"
     ]
    },
    {
     "name": "stderr",
     "output_type": "stream",
     "text": [
      "                                                                                \r"
     ]
    }
   ],
   "source": [
    "\n",
    "controversiality_counts = improve_comments_selected.groupBy('controversiality').count()\n",
    "\n",
    "# Show the count of different controversiality values\n",
    "controversiality_counts.show()\n"
   ]
  },
  {
   "cell_type": "code",
   "execution_count": 9,
   "id": "08033881-aeb1-465e-9572-3fe1f8e72900",
   "metadata": {
    "tags": []
   },
   "outputs": [
    {
     "name": "stderr",
     "output_type": "stream",
     "text": [
      "[Stage 9:======================================================>(240 + 1) / 241]\r"
     ]
    },
    {
     "name": "stdout",
     "output_type": "stream",
     "text": [
      "+-------------------+--------------+----------------------+-----------------+--------------------+--------+----------------+-------------------+-------------+------+------+-------+------------+----------+----------+--------------------+-------------------+-----+--------+---------------+------------+\n",
      "|             author|author_cakeday|author_flair_css_class|author_flair_text|                body|can_gild|controversiality|        created_utc|distinguished|edited|gilded|     id|is_submitter|   link_id| parent_id|           permalink|       retrieved_on|score|stickied|      subreddit|subreddit_id|\n",
      "+-------------------+--------------+----------------------+-----------------+--------------------+--------+----------------+-------------------+-------------+------+------+-------+------------+----------+----------+--------------------+-------------------+-----+--------+---------------+------------+\n",
      "|  DamnGoodMarmalade|          null|                  null|             null|Ah yes, the Tim B...|    true|               0|2023-03-31 18:11:44|         null| false|     0|jefrtyy|       false|t3_127q0au|t3_127q0au|/r/MakeupAddictio...|2023-04-10 21:51:35|    7|   false|MakeupAddiction|    t5_2rww2|\n",
      "|  IdkhowtousethisAH|          null|                  null|             null|This is one of th...|    true|               0|2022-09-10 07:49:12|         null| false|     0|intxp84|       false| t3_xa78ec| t3_xa78ec|/r/MakeupAddictio...|2022-10-06 17:19:54|    2|   false|MakeupAddiction|    t5_2rww2|\n",
      "|        imavirgo543|          null|                  null|             null|     Oh noooooo, rip|    true|               0|2022-10-20 13:34:35|         null| false|     0|it2gf40|       false| t3_y76lxk|t1_isvmrmm|/r/MakeupAddictio...|2022-11-08 14:17:14|    1|   false|MakeupAddiction|    t5_2rww2|\n",
      "|       chubbybabyxx|          null|                  null|             null|Thank you so much...|    true|               0|2021-01-06 10:51:16|         null| false|     0|giair95|        true| t3_kriavy|t1_giacuab|/r/MakeupAddictio...|2021-05-09 07:34:53|    0|   false|MakeupAddiction|    t5_2rww2|\n",
      "|         scronica27|          null|                  null|             null|          Stunning!!|    true|               0|2021-06-02 22:34:35|         null| false|     0|h0dcgq5|       false| t3_nqs490| t3_nqs490|/r/MakeupAddictio...|               null|    2|   false|MakeupAddiction|    t5_2rww2|\n",
      "|juiceboxestastegood|          null|                660066|      Casual user|           omg same!|    true|               0|2022-07-01 15:52:24|         null| false|     0|iegre25|       false| t3_voyol6|t1_iegerz0|/r/MakeupAddictio...|2022-07-03 10:52:01|   11|   false|MakeupAddiction|    t5_2rww2|\n",
      "|   EngMajrCantSpell|          null|                  null|             null|If it doesn't mat...|    true|               0|2022-12-23 18:53:01|         null| false|     0|j1ejww7|       false| t3_ztb2f4|t1_j1ejdj1|/r/MakeupAddictio...|2023-01-07 02:32:08|  -11|   false|MakeupAddiction|    t5_2rww2|\n",
      "|         Moushka262|          null|                  null|             null|The blush that la...|    true|               0|2022-04-04 23:22:16|         null| false|     0|i3f40vx|       false| t3_tvxgkw|t1_i3c9b7p|/r/MakeupAddictio...|2022-06-19 11:01:17|    2|   false|MakeupAddiction|    t5_2rww2|\n",
      "|     alysssssssssss|          null|                  null|             null|               Cider|    true|               0|2022-10-29 19:10:06|         null| false|     0|iua3zqh|       false| t3_ygp5y6| t3_ygp5y6|/r/MakeupAddictio...|2022-11-07 22:48:45|    2|   false|MakeupAddiction|    t5_2rww2|\n",
      "|          GizmoGaby|          null|                  null|             null|Flower beauty lig...|    true|               0|2021-01-08 04:56:45|         null| false|     0|giidvyw|       false| t3_kcv0ya|t1_ggazuqf|/r/MakeupAddictio...|2021-05-10 20:21:33|    2|   false|MakeupAddiction|    t5_2rww2|\n",
      "|            Eppengu|          null|                  null|             null|Primer: Tatcha Li...|    true|               0|2023-03-30 19:14:46|         null| false|     0|jeb7f34|       false|t3_126twv8|t3_126twv8|/r/MakeupAddictio...|2023-04-10 23:31:23|    2|   false|MakeupAddiction|    t5_2rww2|\n",
      "|        Ageispoliss|          null|                  null|             null|Hey, thank you :)...|    true|               0|2022-12-07 17:16:59|         null| false|     0|izaawfj|        true| t3_zeuffz|t1_iz9odzq|/r/MakeupAddictio...|2023-01-07 23:19:40|    1|   false|MakeupAddiction|    t5_2rww2|\n",
      "|  Jesusiscoming500N|          null|                  null|             null|I think they look...|    true|               0|2023-01-15 02:08:12|         null| false|     0|j4e74ft|       false|t3_10bzw2x|t3_10bzw2x|/r/MakeupAddictio...|2023-02-11 21:56:36|    1|   false|MakeupAddiction|    t5_2rww2|\n",
      "|              Tog30|          null|                  null|             null|Your so sweet. Th...|    true|               0|2022-12-10 03:58:52|         null| false|     0|izmciqa|        true| t3_zhbc8n|t1_izmc5xg|/r/MakeupAddictio...|2023-01-07 19:58:36|    1|   false|MakeupAddiction|    t5_2rww2|\n",
      "|      AutoModerator|          null|                  null|             null|***Thank you for ...|    true|               0|2021-05-20 07:16:51|    moderator| false|     0|gysoshl|       false| t3_ngtk0h| t3_ngtk0h|/r/MakeupAddictio...|               null|    1|   false|MakeupAddiction|    t5_2rww2|\n",
      "|      AutoModerator|          null|                  null|             null|***Thank you for ...|    true|               0|2022-12-22 00:12:34|    moderator| false|     0|j16dhvm|       false| t3_zs69kr| t3_zs69kr|/r/MakeupAddictio...|2023-01-07 04:46:50|    1|   false|MakeupAddiction|    t5_2rww2|\n",
      "|           Veeeeezy|          null|                  null|             null|Thank uuuuuuuuu ?...|    true|               0|2021-06-24 17:32:52|         null| false|     0|h2woraj|        true| t3_o6yygm|t1_h2wfmxo|/r/MakeupAddictio...|               null|    1|   false|MakeupAddiction|    t5_2rww2|\n",
      "|          Dahlinluv|          null|                  null|             null|I’m gonna say it:...|    true|               0|2022-05-28 06:29:53|         null| false|     0|iaabhfm|       false| t3_uyw5ec| t3_uyw5ec|/r/MakeupAddictio...|2022-06-16 05:52:50|    2|   false|MakeupAddiction|    t5_2rww2|\n",
      "|      AutoModerator|          null|                  null|             null|Hello! Thank you ...|    true|               0|2022-06-03 05:51:17|    moderator| false|     0|ib08w23|       false| t3_v3smbb| t3_v3smbb|/r/MakeupAddictio...|2022-07-04 16:17:20|    1|   false|MakeupAddiction|    t5_2rww2|\n",
      "|          [deleted]|          null|                  null|             null|           [deleted]|    true|               0|2022-04-12 13:47:58|         null| false|     0|i4fehpm|       false| t3_u1e4vc|t1_i4ez20z|/r/MakeupAddictio...|2022-06-19 01:51:51|    1|   false|MakeupAddiction|    t5_2rww2|\n",
      "+-------------------+--------------+----------------------+-----------------+--------------------+--------+----------------+-------------------+-------------+------+------+-------+------------+----------+----------+--------------------+-------------------+-----+--------+---------------+------------+\n",
      "only showing top 20 rows\n",
      "\n"
     ]
    },
    {
     "name": "stderr",
     "output_type": "stream",
     "text": [
      "                                                                                \r"
     ]
    }
   ],
   "source": [
    "from pyspark.sql import SparkSession\n",
    "from pyspark.sql.functions import rand\n",
    "\n",
    "# Randomly sample  records from samples with controversiality=0\n",
    "controversiality_0_samples = improve_comments.filter(improve_comments['controversiality'] == 0).orderBy(rand(seed=42)).limit(10000)\n",
    "\n",
    "# Select all 10651 records from samples with controversiality=1\n",
    "controversiality_1_samples = improve_comments.filter(improve_comments['controversiality'] == 1)\n",
    "\n",
    "# Merge the two subsets\n",
    "balanced_df = controversiality_0_samples.union(controversiality_1_samples)\n",
    "\n",
    "# Display the results\n",
    "balanced_df.show()\n"
   ]
  },
  {
   "cell_type": "code",
   "execution_count": 12,
   "id": "8eb23a9f-87fb-480b-84a4-2a026b0ef12b",
   "metadata": {
    "tags": []
   },
   "outputs": [],
   "source": [
    "from pyspark.sql.functions import col, regexp_replace, lower\n",
    "from pyspark.sql import SparkSession\n",
    "from pyspark.sql.functions import lower, col, regexp_replace, udf, length, StringType\n",
    "from pyspark.ml.feature import Tokenizer, StopWordsRemover\n",
    "balanced_df = balanced_df.withColumn('clean_body', clean_text_udf(col('body')))\n",
    "balanced_df = balanced_df.na.drop(subset=[\"clean_body\"])\n",
    "balanced_df = balanced_df.filter(length(col('clean_body')) > 0)\n"
   ]
  },
  {
   "cell_type": "code",
   "execution_count": 13,
   "id": "dcdaacfe-cb09-4aa3-b8a7-78cb811cb396",
   "metadata": {
    "tags": []
   },
   "outputs": [],
   "source": [
    "Contro_dataset=balanced_df.select(\"clean_body\",\"controversiality\")\n"
   ]
  },
  {
   "cell_type": "code",
   "execution_count": 14,
   "id": "4ee56a26-37aa-46ae-b7a8-113d81d65e3f",
   "metadata": {
    "tags": []
   },
   "outputs": [
    {
     "name": "stderr",
     "output_type": "stream",
     "text": [
      "                                                                                \r"
     ]
    }
   ],
   "source": [
    "Contro_dataset=Contro_dataset.toPandas()\n",
    "\n",
    "  "
   ]
  },
  {
   "cell_type": "code",
   "execution_count": 30,
   "id": "bfdc6c6a-5105-4744-9db9-6a98743cc833",
   "metadata": {
    "tags": []
   },
   "outputs": [],
   "source": [
    "from pyspark.sql import SparkSession\n",
    "from pyspark.sql.functions import rand\n",
    "from sklearn.model_selection import train_test_split\n",
    "\n",
    "# Split the data into features (X) and labels (y)\n",
    "X = Contro_dataset['clean_body'].tolist()  # Convert to a list\n",
    "y = Contro_dataset['controversiality'].tolist()  # Convert to a list\n",
    "\n",
    "# Split the data into training and testing sets\n",
    "# Adjust the test_size parameter to control the ratio of the split\n",
    "X_train, X_test, y_train, y_test = train_test_split(X, y, test_size=0.3, random_state=42)\n",
    "\n",
    "# Now  can use X_train and y_train for training your model\n",
    "# And X_test and y_test for evaluating the model\n",
    "\n",
    "\n",
    "train_data = pd.DataFrame({'clean_body': X_train, 'controversiality': y_train})\n",
    "test_data = pd.DataFrame({'clean_body': X_test, 'controversiality': y_test})\n",
    "\n"
   ]
  },
  {
   "cell_type": "code",
   "execution_count": 32,
   "id": "cc97edfd-b1c7-4b3a-897c-4cb9dd7e821a",
   "metadata": {
    "tags": []
   },
   "outputs": [
    {
     "name": "stdout",
     "output_type": "stream",
     "text": [
      "NB Accuracy: 0.67\n",
      "              precision    recall  f1-score   support\n",
      "\n",
      "           0       0.74      0.50      0.59      2955\n",
      "           1       0.64      0.84      0.73      3178\n",
      "\n",
      "    accuracy                           0.67      6133\n",
      "   macro avg       0.69      0.67      0.66      6133\n",
      "weighted avg       0.69      0.67      0.66      6133\n",
      "\n",
      "Confusion Matrix:\n",
      "          Predicted 0  Predicted 1\n",
      "Actual 0         1473         1482\n",
      "Actual 1          524         2654\n"
     ]
    }
   ],
   "source": [
    "\n",
    "# Import necessary libraries\n",
    "from sklearn.feature_extraction.text import TfidfVectorizer\n",
    "from sklearn.naive_bayes import MultinomialNB\n",
    "from sklearn.pipeline import Pipeline\n",
    "from sklearn.metrics import classification_report, accuracy_score, confusion_matrix\n",
    "\n",
    "# Step 1: Create a pipeline with a TF-IDF vectorizer and a classifier (e.g., Naive Bayes)\n",
    "text_clf = Pipeline([\n",
    "    ('tfidf', TfidfVectorizer()),\n",
    "    ('clf', MultinomialNB())\n",
    "])\n",
    "\n",
    "# Step 2: Train the model on the training data\n",
    "text_clf.fit(train_data['clean_body'], train_data['controversiality'])\n",
    "\n",
    "# Step 3: Make predictions on the test data\n",
    "predictions = text_clf.predict(test_data['clean_body'])\n",
    "\n",
    "# Step 4: Evaluate the model performance\n",
    "accuracy = accuracy_score(test_data['controversiality'], predictions)\n",
    "print(f\"NB Accuracy: {accuracy:.2f}\")\n",
    "\n",
    "#  print a classification report for more detailed metrics\n",
    "print(classification_report(test_data['controversiality'], predictions))\n",
    "\n",
    "# 'controversiality' is a binary column in the test_data DataFrame\n",
    "confusion_mat = confusion_matrix(test_data['controversiality'], predictions)\n",
    "\n",
    "# Convert the confusion matrix to a DataFrame\n",
    "cm_df = pd.DataFrame(confusion_mat, columns=['Predicted 0', 'Predicted 1'], index=['Actual 0', 'Actual 1'])\n",
    "\n",
    "# Print the confusion matrix DataFrame\n",
    "print(\"Confusion Matrix:\")\n",
    "print(cm_df)"
   ]
  },
  {
   "cell_type": "code",
   "execution_count": 17,
   "id": "b7a636b3-87c1-451a-8bb9-fd9928f710ce",
   "metadata": {
    "tags": []
   },
   "outputs": [
    {
     "name": "stdout",
     "output_type": "stream",
     "text": [
      "SVM Accuracy: 0.68\n",
      "              precision    recall  f1-score   support\n",
      "\n",
      "           0       0.71      0.55      0.62      2955\n",
      "           1       0.66      0.79      0.72      3178\n",
      "\n",
      "    accuracy                           0.68      6133\n",
      "   macro avg       0.68      0.67      0.67      6133\n",
      "weighted avg       0.68      0.68      0.67      6133\n",
      "\n",
      "Confusion Matrix:\n",
      "          Predicted 0  Predicted 1\n",
      "Actual 0         1638         1317\n",
      "Actual 1          675         2503\n"
     ]
    }
   ],
   "source": [
    "from sklearn.svm import SVC\n",
    "\n",
    "svm_clf = Pipeline([\n",
    "    ('tfidf', TfidfVectorizer()),\n",
    "    ('clf', SVC())\n",
    "])\n",
    "\n",
    "svm_clf.fit(train_data['clean_body'], train_data['controversiality'])\n",
    "predictions_svm = svm_clf.predict(test_data['clean_body'])\n",
    "\n",
    "accuracy_svm = accuracy_score(test_data['controversiality'], predictions_svm)\n",
    "print(f\"SVM Accuracy: {accuracy_svm:.2f}\")\n",
    "print(classification_report(test_data['controversiality'], predictions_svm))\n",
    "\n",
    "\n",
    "# 'controversiality' is a binary column in the test_data DataFrame\n",
    "confusion_mat_svm = confusion_matrix(test_data['controversiality'], predictions_svm)\n",
    "\n",
    "# Convert the confusion matrix to a DataFrame\n",
    "cm_df_svm = pd.DataFrame(confusion_mat_svm, columns=['Predicted 0', 'Predicted 1'], index=['Actual 0', 'Actual 1'])\n",
    "\n",
    "# Print the confusion matrix DataFrame\n",
    "print(\"Confusion Matrix:\")\n",
    "print(cm_df_svm)\n"
   ]
  },
  {
   "cell_type": "markdown",
   "id": "13f6cd90-a822-482c-9cbf-5512e89f6e15",
   "metadata": {},
   "source": [
    "### Save the Best Model"
   ]
  },
  {
   "cell_type": "code",
   "execution_count": 18,
   "id": "d79b603a-a5d8-4f08-97e0-3db2ebe5c384",
   "metadata": {
    "tags": []
   },
   "outputs": [
    {
     "name": "stdout",
     "output_type": "stream",
     "text": [
      "Best SVM model saved to /root/fall-2023-reddit-project-team-33/data/models/best_svm_model.joblib\n"
     ]
    }
   ],
   "source": [
    "# Save the trained SVM model\n",
    "\n",
    "\n",
    "import joblib\n",
    "\n",
    "# Save the best SVM model to a file\n",
    "model_save_path = '/root/fall-2023-reddit-project-team-33/data/models/best_svm_model.joblib'\n",
    "joblib.dump(svm_clf, model_save_path)\n",
    "\n",
    "print(f\"Best SVM model saved to {model_save_path}\")"
   ]
  },
  {
   "cell_type": "markdown",
   "id": "ed7b36da-9805-436c-900a-022e0c27be78",
   "metadata": {},
   "source": [
    "### Load the best model"
   ]
  },
  {
   "cell_type": "code",
   "execution_count": 19,
   "id": "e5c16c6f-826a-40ef-8516-b900422884b4",
   "metadata": {
    "tags": []
   },
   "outputs": [],
   "source": [
    "import joblib\n",
    "\n",
    "# Load the saved SVM model from the file\n",
    "best_svm_model = joblib.load('/root/fall-2023-reddit-project-team-33/data/models/best_svm_model.joblib')\n",
    "\n"
   ]
  },
  {
   "cell_type": "code",
   "execution_count": 70,
   "id": "3241e602-4efd-486d-85df-b4d8d305f4ad",
   "metadata": {
    "tags": []
   },
   "outputs": [
    {
     "name": "stdout",
     "output_type": "stream",
     "text": [
      "SVM Accuracy: 0.68\n",
      "              precision    recall  f1-score   support\n",
      "\n",
      "           0       0.71      0.55      0.62      2955\n",
      "           1       0.66      0.79      0.72      3178\n",
      "\n",
      "    accuracy                           0.68      6133\n",
      "   macro avg       0.68      0.67      0.67      6133\n",
      "weighted avg       0.68      0.68      0.67      6133\n",
      "\n",
      "Confusion Matrix:\n",
      "          Predicted 0  Predicted 1\n",
      "Actual 0         1638         1317\n",
      "Actual 1          675         2503\n"
     ]
    }
   ],
   "source": [
    "\n",
    "# Import necessary libraries\n",
    "from sklearn.feature_extraction.text import TfidfVectorizer\n",
    "from sklearn.naive_bayes import MultinomialNB\n",
    "from sklearn.pipeline import Pipeline\n",
    "from sklearn.metrics import classification_report, accuracy_score, confusion_matrix\n",
    "predictions_svm = best_svm_model.predict(test_data['clean_body'])\n",
    "\n",
    "accuracy_svm = accuracy_score(test_data['controversiality'], predictions_svm)\n",
    "print(f\"SVM Accuracy: {accuracy_svm:.2f}\")\n",
    "print(classification_report(test_data['controversiality'], predictions_svm))\n",
    "\n",
    "\n",
    "#  'controversiality' is a binary column in the test_data DataFrame\n",
    "confusion_mat_svm = confusion_matrix(test_data['controversiality'], predictions_svm)\n",
    "\n",
    "# Convert the confusion matrix to a DataFrame\n",
    "cm_df_svm = pd.DataFrame(confusion_mat_svm, columns=['Predicted 0', 'Predicted 1'], index=['Actual 0', 'Actual 1'])\n",
    "\n",
    "# Print the confusion matrix DataFrame\n",
    "print(\"Confusion Matrix:\")\n",
    "print(cm_df_svm)\n"
   ]
  },
  {
   "cell_type": "code",
   "execution_count": 71,
   "id": "b047549f-9a95-4611-9145-3372e5367332",
   "metadata": {
    "tags": []
   },
   "outputs": [
    {
     "data": {
      "application/vnd.plotly.v1+json": {
       "config": {
        "plotlyServerURL": "https://plot.ly"
       },
       "data": [
        {
         "mode": "lines",
         "name": "ROC curve (area = 0.72)",
         "type": "scatter",
         "x": [
          0,
          0.00033840947546531303,
          0.0006768189509306261,
          0.0006768189509306261,
          0.0010152284263959391,
          0.0010152284263959391,
          0.0013536379018612521,
          0.0013536379018612521,
          0.001692047377326565,
          0.001692047377326565,
          0.0027072758037225042,
          0.0027072758037225042,
          0.00338409475465313,
          0.00338409475465313,
          0.003722504230118443,
          0.003722504230118443,
          0.0040609137055837565,
          0.0040609137055837565,
          0.0047377326565143825,
          0.0047377326565143825,
          0.005076142131979695,
          0.005076142131979695,
          0.005752961082910322,
          0.005752961082910322,
          0.006429780033840948,
          0.006429780033840948,
          0.00676818950930626,
          0.00676818950930626,
          0.007106598984771574,
          0.007106598984771574,
          0.007445008460236886,
          0.007445008460236886,
          0.007445008460236886,
          0.0077834179357022,
          0.0077834179357022,
          0.0077834179357022,
          0.0077834179357022,
          0.008121827411167513,
          0.008121827411167513,
          0.008460236886632826,
          0.008460236886632826,
          0.008798646362098138,
          0.008798646362098138,
          0.009137055837563452,
          0.009137055837563452,
          0.009475465313028765,
          0.009475465313028765,
          0.009813874788494078,
          0.009813874788494078,
          0.01015228426395939,
          0.01015228426395939,
          0.010490693739424704,
          0.010490693739424704,
          0.010829103214890017,
          0.010829103214890017,
          0.01116751269035533,
          0.01116751269035533,
          0.011505922165820644,
          0.011505922165820644,
          0.011844331641285956,
          0.011844331641285956,
          0.012182741116751269,
          0.012182741116751269,
          0.012859560067681896,
          0.012859560067681896,
          0.013197969543147208,
          0.013197969543147208,
          0.01353637901861252,
          0.01353637901861252,
          0.01455160744500846,
          0.01455160744500846,
          0.015228426395939087,
          0.015228426395939087,
          0.0155668358714044,
          0.0155668358714044,
          0.016243654822335026,
          0.016243654822335026,
          0.017258883248730966,
          0.017258883248730966,
          0.01793570219966159,
          0.01793570219966159,
          0.018274111675126905,
          0.018274111675126905,
          0.01895093062605753,
          0.01895093062605753,
          0.019289340101522844,
          0.019289340101522844,
          0.019627749576988155,
          0.019627749576988155,
          0.020642978003384094,
          0.020642978003384094,
          0.02098138747884941,
          0.02098138747884941,
          0.02131979695431472,
          0.02131979695431472,
          0.021658206429780034,
          0.021658206429780034,
          0.021996615905245348,
          0.021996615905245348,
          0.023011844331641287,
          0.023011844331641287,
          0.023350253807106598,
          0.023350253807106598,
          0.024027072758037227,
          0.024027072758037227,
          0.024703891708967852,
          0.02571912013536379,
          0.026057529610829102,
          0.026057529610829102,
          0.026057529610829102,
          0.026395939086294416,
          0.026395939086294416,
          0.027411167512690356,
          0.027411167512690356,
          0.027411167512690356,
          0.02808798646362098,
          0.028764805414551606,
          0.029441624365482234,
          0.03011844331641286,
          0.03011844331641286,
          0.032148900169204735,
          0.032148900169204735,
          0.03248730964467005,
          0.033164128595600674,
          0.03417935702199661,
          0.03417935702199661,
          0.03485617597292724,
          0.03485617597292724,
          0.03519458544839255,
          0.03519458544839255,
          0.0622673434856176,
          0.0622673434856176,
          0.06260575296108291,
          0.06260575296108291,
          0.06328257191201353,
          0.06328257191201353,
          0.06395939086294417,
          0.06463620981387479,
          0.0649746192893401,
          0.0649746192893401,
          0.06835871404399323,
          0.07174280879864636,
          0.07343485617597292,
          0.07411167512690356,
          0.07411167512690356,
          0.07411167512690356,
          0.07817258883248732,
          0.07851099830795262,
          0.07851099830795262,
          0.07918781725888324,
          0.07918781725888324,
          0.07952622673434856,
          0.07986463620981388,
          0.10355329949238579,
          0.10456852791878173,
          0.10490693739424704,
          0.10490693739424704,
          0.10524534686971235,
          0.10524534686971235,
          0.10558375634517767,
          0.10558375634517767,
          0.10592216582064298,
          0.10592216582064298,
          0.10693739424703892,
          0.10693739424703892,
          0.10727580372250423,
          0.10727580372250423,
          0.10761421319796954,
          0.10761421319796954,
          0.10795262267343486,
          0.10795262267343486,
          0.10862944162436548,
          0.10862944162436548,
          0.1093062605752961,
          0.1093062605752961,
          0.10964467005076142,
          0.10964467005076142,
          0.11065989847715736,
          0.11065989847715736,
          0.11133671742808798,
          0.11133671742808798,
          0.11201353637901862,
          0.11201353637901862,
          0.11235194585448392,
          0.11235194585448392,
          0.11336717428087986,
          0.11336717428087986,
          0.11370558375634518,
          0.11370558375634518,
          0.11404399323181048,
          0.11404399323181048,
          0.11505922165820642,
          0.11505922165820642,
          0.11539763113367174,
          0.11539763113367174,
          0.11607445008460236,
          0.11607445008460236,
          0.11641285956006768,
          0.11641285956006768,
          0.1170896785109983,
          0.1170896785109983,
          0.11742808798646362,
          0.11742808798646362,
          0.11810490693739424,
          0.11810490693739424,
          0.11844331641285956,
          0.11844331641285956,
          0.11878172588832488,
          0.11878172588832488,
          0.1194585448392555,
          0.1194585448392555,
          0.11979695431472082,
          0.11979695431472082,
          0.12013536379018612,
          0.12013536379018612,
          0.12115059221658206,
          0.12115059221658206,
          0.12148900169204738,
          0.12148900169204738,
          0.12250423011844332,
          0.12250423011844332,
          0.12284263959390863,
          0.12284263959390863,
          0.12318104906937394,
          0.12318104906937394,
          0.12351945854483926,
          0.12351945854483926,
          0.12419627749576988,
          0.12419627749576988,
          0.1245346869712352,
          0.1245346869712352,
          0.12487309644670051,
          0.12487309644670051,
          0.12521150592216582,
          0.12521150592216582,
          0.12554991539763113,
          0.12554991539763113,
          0.12622673434856177,
          0.12622673434856177,
          0.12690355329949238,
          0.12690355329949238,
          0.1272419627749577,
          0.1272419627749577,
          0.127580372250423,
          0.127580372250423,
          0.12825719120135365,
          0.12825719120135365,
          0.12859560067681894,
          0.12893401015228426,
          0.12893401015228426,
          0.12927241962774957,
          0.12927241962774957,
          0.1299492385786802,
          0.1299492385786802,
          0.13028764805414553,
          0.13028764805414553,
          0.13062605752961082,
          0.13062605752961082,
          0.13096446700507614,
          0.13096446700507614,
          0.13130287648054145,
          0.13130287648054145,
          0.1319796954314721,
          0.1319796954314721,
          0.1323181049069374,
          0.1323181049069374,
          0.1326565143824027,
          0.132994923857868,
          0.132994923857868,
          0.13333333333333333,
          0.13333333333333333,
          0.13367174280879865,
          0.13367174280879865,
          0.13401015228426397,
          0.13401015228426397,
          0.13434856175972928,
          0.13434856175972928,
          0.13570219966159053,
          0.13570219966159053,
          0.13604060913705585,
          0.13604060913705585,
          0.13637901861252116,
          0.13637901861252116,
          0.13671742808798645,
          0.13671742808798645,
          0.1373942470389171,
          0.1373942470389171,
          0.1377326565143824,
          0.1377326565143824,
          0.13840947546531304,
          0.13840947546531304,
          0.13908629441624365,
          0.13908629441624365,
          0.13942470389170897,
          0.13942470389170897,
          0.1407783417935702,
          0.1407783417935702,
          0.14111675126903553,
          0.14111675126903553,
          0.14213197969543148,
          0.14213197969543148,
          0.14247038917089677,
          0.14247038917089677,
          0.1428087986463621,
          0.1428087986463621,
          0.14348561759729273,
          0.14348561759729273,
          0.14450084602368865,
          0.14450084602368865,
          0.14619289340101524,
          0.14619289340101524,
          0.14619289340101524,
          0.14653130287648053,
          0.14653130287648053,
          0.14754653130287648,
          0.14754653130287648,
          0.1478849407783418,
          0.1478849407783418,
          0.14822335025380712,
          0.14822335025380712,
          0.1485617597292724,
          0.1485617597292724,
          0.14890016920473773,
          0.14890016920473773,
          0.14957698815566836,
          0.14957698815566836,
          0.14991539763113368,
          0.14991539763113368,
          0.150253807106599,
          0.150253807106599,
          0.1505922165820643,
          0.1505922165820643,
          0.15228426395939088,
          0.15228426395939088,
          0.15262267343485617,
          0.15262267343485617,
          0.15296108291032148,
          0.15296108291032148,
          0.1532994923857868,
          0.1532994923857868,
          0.15397631133671744,
          0.15397631133671744,
          0.15465313028764804,
          0.15465313028764804,
          0.15499153976311336,
          0.15499153976311336,
          0.15532994923857868,
          0.15532994923857868,
          0.155668358714044,
          0.155668358714044,
          0.15600676818950932,
          0.15600676818950932,
          0.15634517766497463,
          0.15634517766497463,
          0.15668358714043992,
          0.15668358714043992,
          0.15736040609137056,
          0.15736040609137056,
          0.15769881556683588,
          0.15769881556683588,
          0.1580372250423012,
          0.1580372250423012,
          0.15837563451776648,
          0.15837563451776648,
          0.1587140439932318,
          0.1587140439932318,
          0.15905245346869712,
          0.15905245346869712,
          0.15939086294416244,
          0.15939086294416244,
          0.15972927241962775,
          0.15972927241962775,
          0.16006768189509307,
          0.16006768189509307,
          0.16074450084602368,
          0.16074450084602368,
          0.161082910321489,
          0.161082910321489,
          0.16209813874788495,
          0.16209813874788495,
          0.16243654822335024,
          0.16243654822335024,
          0.16277495769881556,
          0.16277495769881556,
          0.16311336717428088,
          0.16311336717428088,
          0.1634517766497462,
          0.1634517766497462,
          0.1637901861252115,
          0.1637901861252115,
          0.16446700507614212,
          0.16446700507614212,
          0.16514382402707276,
          0.16514382402707276,
          0.16514382402707276,
          0.16514382402707276,
          0.16548223350253807,
          0.16548223350253807,
          0.1658206429780034,
          0.1658206429780034,
          0.1661590524534687,
          0.1661590524534687,
          0.166497461928934,
          0.166497461928934,
          0.16683587140439932,
          0.16683587140439932,
          0.16717428087986463,
          0.16717428087986463,
          0.16751269035532995,
          0.16751269035532995,
          0.16785109983079527,
          0.16785109983079527,
          0.1681895093062606,
          0.1681895093062606,
          0.16852791878172588,
          0.16852791878172588,
          0.1688663282571912,
          0.1688663282571912,
          0.1692047377326565,
          0.1692047377326565,
          0.16954314720812183,
          0.16954314720812183,
          0.16988155668358715,
          0.16988155668358715,
          0.17055837563451776,
          0.17055837563451776,
          0.17089678510998307,
          0.17089678510998307,
          0.1712351945854484,
          0.1712351945854484,
          0.1715736040609137,
          0.1715736040609137,
          0.17191201353637903,
          0.17191201353637903,
          0.17225042301184434,
          0.17225042301184434,
          0.17258883248730963,
          0.17258883248730963,
          0.17292724196277495,
          0.17292724196277495,
          0.17326565143824027,
          0.17326565143824027,
          0.1736040609137056,
          0.1736040609137056,
          0.1739424703891709,
          0.1739424703891709,
          0.17428087986463622,
          0.17428087986463622,
          0.1746192893401015,
          0.1746192893401015,
          0.17495769881556683,
          0.17495769881556683,
          0.17529610829103215,
          0.17529610829103215,
          0.17597292724196278,
          0.17597292724196278,
          0.17631133671742807,
          0.17631133671742807,
          0.1766497461928934,
          0.1766497461928934,
          0.1769881556683587,
          0.1769881556683587,
          0.17766497461928935,
          0.17766497461928935,
          0.17800338409475466,
          0.17800338409475466,
          0.17834179357021995,
          0.17834179357021995,
          0.17868020304568527,
          0.17868020304568527,
          0.1790186125211506,
          0.1790186125211506,
          0.17969543147208122,
          0.17969543147208122,
          0.18071065989847715,
          0.18071065989847715,
          0.18104906937394247,
          0.18104906937394247,
          0.1824027072758037,
          0.1824027072758037,
          0.18274111675126903,
          0.18274111675126903,
          0.18341793570219966,
          0.18341793570219966,
          0.18375634517766498,
          0.18375634517766498,
          0.1844331641285956,
          0.1844331641285956,
          0.1847715736040609,
          0.1847715736040609,
          0.18544839255499154,
          0.18544839255499154,
          0.18578680203045686,
          0.18578680203045686,
          0.18612521150592218,
          0.18612521150592218,
          0.18680203045685279,
          0.18680203045685279,
          0.18747884940778342,
          0.18747884940778342,
          0.18815566835871406,
          0.18815566835871406,
          0.18849407783417935,
          0.18849407783417935,
          0.18883248730964466,
          0.18883248730964466,
          0.18984771573604062,
          0.18984771573604062,
          0.19018612521150594,
          0.19018612521150594,
          0.19052453468697123,
          0.19052453468697123,
          0.19120135363790186,
          0.19120135363790186,
          0.19153976311336718,
          0.19153976311336718,
          0.19289340101522842,
          0.19289340101522842,
          0.19424703891708966,
          0.19424703891708966,
          0.1949238578680203,
          0.1949238578680203,
          0.19526226734348562,
          0.19526226734348562,
          0.19593908629441625,
          0.19593908629441625,
          0.19627749576988154,
          0.19627749576988154,
          0.19661590524534686,
          0.19661590524534686,
          0.19695431472081218,
          0.19695431472081218,
          0.1972927241962775,
          0.1972927241962775,
          0.19932318104906938,
          0.19932318104906938,
          0.2,
          0.2,
          0.20135363790186125,
          0.20135363790186125,
          0.20169204737732657,
          0.20169204737732657,
          0.2020304568527919,
          0.2020304568527919,
          0.20304568527918782,
          0.20304568527918782,
          0.20372250423011845,
          0.20372250423011845,
          0.20406091370558377,
          0.20406091370558377,
          0.2050761421319797,
          0.2050761421319797,
          0.20609137055837565,
          0.20609137055837565,
          0.2074450084602369,
          0.2074450084602369,
          0.2077834179357022,
          0.2077834179357022,
          0.20879864636209813,
          0.20879864636209813,
          0.20913705583756345,
          0.20913705583756345,
          0.20947546531302877,
          0.20947546531302877,
          0.2101522842639594,
          0.2101522842639594,
          0.2104906937394247,
          0.2104906937394247,
          0.21082910321489,
          0.21082910321489,
          0.21116751269035533,
          0.21116751269035533,
          0.21150592216582065,
          0.21150592216582065,
          0.21218274111675126,
          0.21218274111675126,
          0.21252115059221657,
          0.21252115059221657,
          0.2131979695431472,
          0.2131979695431472,
          0.21353637901861253,
          0.21353637901861253,
          0.21455160744500845,
          0.21455160744500845,
          0.21489001692047377,
          0.21489001692047377,
          0.2152284263959391,
          0.2152284263959391,
          0.2155668358714044,
          0.2155668358714044,
          0.21590524534686972,
          0.21590524534686972,
          0.216243654822335,
          0.216243654822335,
          0.21658206429780033,
          0.21658206429780033,
          0.21692047377326565,
          0.21692047377326565,
          0.21759729272419628,
          0.21759729272419628,
          0.2179357021996616,
          0.2179357021996616,
          0.2182741116751269,
          0.2182741116751269,
          0.2186125211505922,
          0.2186125211505922,
          0.21895093062605753,
          0.21895093062605753,
          0.21962774957698816,
          0.21962774957698816,
          0.21996615905245348,
          0.21996615905245348,
          0.22030456852791877,
          0.22030456852791877,
          0.2206429780033841,
          0.2206429780033841,
          0.2209813874788494,
          0.2209813874788494,
          0.22131979695431472,
          0.22131979695431472,
          0.22165820642978004,
          0.22165820642978004,
          0.22233502538071065,
          0.22233502538071065,
          0.22267343485617597,
          0.22267343485617597,
          0.22301184433164128,
          0.22301184433164128,
          0.22368866328257192,
          0.22368866328257192,
          0.22402707275803724,
          0.22402707275803724,
          0.22436548223350253,
          0.22436548223350253,
          0.22470389170896785,
          0.22470389170896785,
          0.22504230118443316,
          0.22504230118443316,
          0.22538071065989848,
          0.22538071065989848,
          0.22605752961082912,
          0.22605752961082912,
          0.2263959390862944,
          0.2263959390862944,
          0.22673434856175972,
          0.22673434856175972,
          0.22707275803722504,
          0.22707275803722504,
          0.22774957698815568,
          0.22774957698815568,
          0.22808798646362097,
          0.22808798646362097,
          0.22842639593908629,
          0.22842639593908629,
          0.22944162436548224,
          0.22944162436548224,
          0.22978003384094756,
          0.22978003384094756,
          0.23045685279187816,
          0.23045685279187816,
          0.23214890016920472,
          0.23214890016920472,
          0.23248730964467004,
          0.23248730964467004,
          0.23282571912013536,
          0.23282571912013536,
          0.23316412859560068,
          0.23316412859560068,
          0.2338409475465313,
          0.2338409475465313,
          0.23451776649746192,
          0.23451776649746192,
          0.23519458544839256,
          0.23519458544839256,
          0.23553299492385787,
          0.23553299492385787,
          0.23722504230118444,
          0.23722504230118444,
          0.23790186125211507,
          0.23790186125211507,
          0.23824027072758036,
          0.23824027072758036,
          0.23857868020304568,
          0.23857868020304568,
          0.238917089678511,
          0.238917089678511,
          0.23925549915397631,
          0.23925549915397631,
          0.23959390862944163,
          0.23959390862944163,
          0.23993231810490695,
          0.23993231810490695,
          0.24027072758037224,
          0.24027072758037224,
          0.24094754653130288,
          0.24094754653130288,
          0.2412859560067682,
          0.2412859560067682,
          0.24196277495769883,
          0.24196277495769883,
          0.24230118443316412,
          0.24230118443316412,
          0.24297800338409475,
          0.24297800338409475,
          0.24331641285956007,
          0.24331641285956007,
          0.2439932318104907,
          0.2439932318104907,
          0.244331641285956,
          0.244331641285956,
          0.24467005076142131,
          0.24467005076142131,
          0.24568527918781727,
          0.24568527918781727,
          0.24602368866328256,
          0.24602368866328256,
          0.24636209813874788,
          0.24636209813874788,
          0.2467005076142132,
          0.2467005076142132,
          0.2470389170896785,
          0.2470389170896785,
          0.24805414551607444,
          0.24805414551607444,
          0.24873096446700507,
          0.24873096446700507,
          0.24974619289340103,
          0.24974619289340103,
          0.25042301184433163,
          0.25042301184433163,
          0.25076142131979695,
          0.25076142131979695,
          0.25109983079526227,
          0.25109983079526227,
          0.2517766497461929,
          0.2517766497461929,
          0.25279187817258886,
          0.25279187817258886,
          0.2531302876480541,
          0.2531302876480541,
          0.25346869712351944,
          0.25346869712351944,
          0.2544839255499154,
          0.2544839255499154,
          0.2548223350253807,
          0.2548223350253807,
          0.255160744500846,
          0.255160744500846,
          0.25549915397631134,
          0.25549915397631134,
          0.2571912013536379,
          0.2571912013536379,
          0.25854483925549915,
          0.25854483925549915,
          0.2595600676818951,
          0.2595600676818951,
          0.26023688663282574,
          0.26023688663282574,
          0.26057529610829105,
          0.26057529610829105,
          0.2609137055837564,
          0.2609137055837564,
          0.26125211505922163,
          0.26125211505922163,
          0.2626057529610829,
          0.2626057529610829,
          0.2629441624365482,
          0.2629441624365482,
          0.2639593908629442,
          0.2639593908629442,
          0.2642978003384095,
          0.2642978003384095,
          0.2646362098138748,
          0.2646362098138748,
          0.2649746192893401,
          0.2649746192893401,
          0.2656514382402707,
          0.2656514382402707,
          0.265989847715736,
          0.265989847715736,
          0.26666666666666666,
          0.26666666666666666,
          0.2676818950930626,
          0.2676818950930626,
          0.26802030456852793,
          0.26802030456852793,
          0.26835871404399325,
          0.26835871404399325,
          0.26869712351945857,
          0.26869712351945857,
          0.26937394247038915,
          0.26937394247038915,
          0.26971235194585447,
          0.2700507614213198,
          0.2700507614213198,
          0.2703891708967851,
          0.2703891708967851,
          0.2707275803722504,
          0.2707275803722504,
          0.27106598984771574,
          0.27106598984771574,
          0.27140439932318106,
          0.27140439932318106,
          0.2717428087986464,
          0.2717428087986464,
          0.272419627749577,
          0.272419627749577,
          0.2730964467005076,
          0.2730964467005076,
          0.2734348561759729,
          0.2734348561759729,
          0.2737732656514382,
          0.2737732656514382,
          0.27445008460236886,
          0.27445008460236886,
          0.2751269035532995,
          0.2751269035532995,
          0.2754653130287648,
          0.2754653130287648,
          0.27614213197969545,
          0.27614213197969545,
          0.27648054145516077,
          0.27648054145516077,
          0.2768189509306261,
          0.2768189509306261,
          0.27715736040609135,
          0.27715736040609135,
          0.27749576988155666,
          0.27749576988155666,
          0.277834179357022,
          0.277834179357022,
          0.2785109983079526,
          0.2785109983079526,
          0.27884940778341794,
          0.27884940778341794,
          0.27918781725888325,
          0.27918781725888325,
          0.2802030456852792,
          0.2802030456852792,
          0.2812182741116751,
          0.2812182741116751,
          0.2815566835871404,
          0.2815566835871404,
          0.28189509306260574,
          0.28189509306260574,
          0.28223350253807106,
          0.28223350253807106,
          0.2829103214890017,
          0.2829103214890017,
          0.283248730964467,
          0.283248730964467,
          0.28358714043993233,
          0.28358714043993233,
          0.28392554991539765,
          0.28392554991539765,
          0.28426395939086296,
          0.28426395939086296,
          0.28494077834179354,
          0.28494077834179354,
          0.2856175972927242,
          0.2856175972927242,
          0.28663282571912013,
          0.28663282571912013,
          0.28697123519458545,
          0.28697123519458545,
          0.28730964467005077,
          0.28730964467005077,
          0.2883248730964467,
          0.2883248730964467,
          0.28967851099830794,
          0.28967851099830794,
          0.29001692047377325,
          0.29001692047377325,
          0.29035532994923857,
          0.29035532994923857,
          0.2913705583756345,
          0.2913705583756345,
          0.29170896785109984,
          0.29170896785109984,
          0.29204737732656516,
          0.29204737732656516,
          0.2923857868020305,
          0.2923857868020305,
          0.29306260575296106,
          0.29306260575296106,
          0.2934010152284264,
          0.2934010152284264,
          0.294077834179357,
          0.294077834179357,
          0.29441624365482233,
          0.29441624365482233,
          0.29475465313028765,
          0.29475465313028765,
          0.29509306260575296,
          0.29509306260575296,
          0.2954314720812183,
          0.2954314720812183,
          0.2961082910321489,
          0.2961082910321489,
          0.29644670050761424,
          0.29644670050761424,
          0.2971235194585448,
          0.2971235194585448,
          0.29780033840947545,
          0.29780033840947545,
          0.2984771573604061,
          0.2984771573604061,
          0.2988155668358714,
          0.2988155668358714,
          0.2991539763113367,
          0.2991539763113367,
          0.29983079526226736,
          0.29983079526226736,
          0.30084602368866326,
          0.30084602368866326,
          0.3021996615905245,
          0.3021996615905245,
          0.3032148900169205,
          0.3032148900169205,
          0.3038917089678511,
          0.3038917089678511,
          0.30423011844331643,
          0.30423011844331643,
          0.30456852791878175,
          0.30456852791878175,
          0.304906937394247,
          0.304906937394247,
          0.30524534686971233,
          0.30524534686971233,
          0.30558375634517765,
          0.30558375634517765,
          0.3062605752961083,
          0.3062605752961083,
          0.3069373942470389,
          0.3069373942470389,
          0.30727580372250424,
          0.30727580372250424,
          0.30761421319796955,
          0.30761421319796955,
          0.3082910321489002,
          0.3082910321489002,
          0.3086294416243655,
          0.3086294416243655,
          0.3096446700507614,
          0.3096446700507614,
          0.3099830795262267,
          0.3099830795262267,
          0.31065989847715736,
          0.31065989847715736,
          0.3109983079526227,
          0.3109983079526227,
          0.311336717428088,
          0.311336717428088,
          0.31201353637901863,
          0.31269035532994927,
          0.31336717428087985,
          0.31336717428087985,
          0.31370558375634516,
          0.31370558375634516,
          0.3143824027072758,
          0.3143824027072758,
          0.3147208121827411,
          0.31505922165820643,
          0.31539763113367175,
          0.31539763113367175,
          0.31573604060913707,
          0.31573604060913707,
          0.3164128595600677,
          0.3164128595600677,
          0.3174280879864636,
          0.3174280879864636,
          0.3177664974619289,
          0.3177664974619289,
          0.31810490693739424,
          0.31810490693739424,
          0.3194585448392555,
          0.3194585448392555,
          0.3197969543147208,
          0.3197969543147208,
          0.32013536379018614,
          0.32013536379018614,
          0.32115059221658204,
          0.32115059221658204,
          0.3218274111675127,
          0.3218274111675127,
          0.322165820642978,
          0.322165820642978,
          0.3225042301184433,
          0.3225042301184433,
          0.32284263959390863,
          0.32284263959390863,
          0.3238578680203046,
          0.3238578680203046,
          0.3245346869712352,
          0.3245346869712352,
          0.3248730964467005,
          0.3248730964467005,
          0.32622673434856175,
          0.32622673434856175,
          0.32656514382402707,
          0.32656514382402707,
          0.3269035532994924,
          0.3269035532994924,
          0.327580372250423,
          0.327580372250423,
          0.32791878172588834,
          0.32791878172588834,
          0.328595600676819,
          0.328595600676819,
          0.32893401015228424,
          0.32893401015228424,
          0.32927241962774956,
          0.32927241962774956,
          0.3296108291032149,
          0.3296108291032149,
          0.3299492385786802,
          0.3299492385786802,
          0.3302876480541455,
          0.3302876480541455,
          0.33062605752961083,
          0.33062605752961083,
          0.33130287648054146,
          0.33130287648054146,
          0.3316412859560068,
          0.3316412859560068,
          0.3323181049069374,
          0.3323181049069374,
          0.3333333333333333,
          0.3333333333333333,
          0.33367174280879863,
          0.33367174280879863,
          0.33434856175972927,
          0.33434856175972927,
          0.3350253807106599,
          0.3350253807106599,
          0.3363790186125212,
          0.3363790186125212,
          0.33671742808798644,
          0.33671742808798644,
          0.3373942470389171,
          0.3373942470389171,
          0.3377326565143824,
          0.3377326565143824,
          0.338409475465313,
          0.338409475465313,
          0.3397631133671743,
          0.3397631133671743,
          0.34043993231810493,
          0.34043993231810493,
          0.34145516074450083,
          0.34145516074450083,
          0.3424703891708968,
          0.3424703891708968,
          0.3428087986463621,
          0.3428087986463621,
          0.34382402707275805,
          0.34382402707275805,
          0.34483925549915395,
          0.34483925549915395,
          0.34517766497461927,
          0.34517766497461927,
          0.3461928934010152,
          0.3461928934010152,
          0.34653130287648054,
          0.34653130287648054,
          0.34686971235194586,
          0.34686971235194586,
          0.3472081218274112,
          0.3472081218274112,
          0.34822335025380713,
          0.34822335025380713,
          0.34856175972927245,
          0.34856175972927245,
          0.3489001692047377,
          0.3489001692047377,
          0.34957698815566834,
          0.34957698815566834,
          0.34991539763113366,
          0.34991539763113366,
          0.3505922165820643,
          0.3505922165820643,
          0.3509306260575296,
          0.3509306260575296,
          0.35126903553299493,
          0.35126903553299493,
          0.35160744500846025,
          0.35160744500846025,
          0.35194585448392557,
          0.35194585448392557,
          0.3522842639593909,
          0.3522842639593909,
          0.35262267343485615,
          0.35262267343485615,
          0.35296108291032147,
          0.35296108291032147,
          0.3532994923857868,
          0.3532994923857868,
          0.3536379018612521,
          0.3536379018612521,
          0.3539763113367174,
          0.3539763113367174,
          0.3549915397631134,
          0.3549915397631134,
          0.355668358714044,
          0.355668358714044,
          0.3560067681895093,
          0.3560067681895093,
          0.3570219966159052,
          0.3570219966159052,
          0.35736040609137054,
          0.35736040609137054,
          0.35736040609137054,
          0.35769881556683586,
          0.35769881556683586,
          0.35769881556683586,
          0.3583756345177665,
          0.3583756345177665,
          0.35905245346869713,
          0.35905245346869713,
          0.35939086294416245,
          0.35939086294416245,
          0.3604060913705584,
          0.3604060913705584,
          0.361082910321489,
          0.361082910321489,
          0.36209813874788493,
          0.36209813874788493,
          0.36243654822335025,
          0.36243654822335025,
          0.36717428087986465,
          0.3678510998307953,
          0.3678510998307953,
          0.3681895093062606,
          0.3681895093062606,
          0.36852791878172586,
          0.36852791878172586,
          0.3688663282571912,
          0.3688663282571912,
          0.3692047377326565,
          0.3692047377326565,
          0.36988155668358713,
          0.36988155668358713,
          0.37021996615905245,
          0.37021996615905245,
          0.37055837563451777,
          0.37055837563451777,
          0.3708967851099831,
          0.3708967851099831,
          0.3712351945854484,
          0.3712351945854484,
          0.3715736040609137,
          0.3715736040609137,
          0.37191201353637904,
          0.37191201353637904,
          0.37225042301184436,
          0.37225042301184436,
          0.3725888324873096,
          0.3725888324873096,
          0.37292724196277494,
          0.37292724196277494,
          0.37326565143824025,
          0.37326565143824025,
          0.37360406091370557,
          0.37360406091370557,
          0.3739424703891709,
          0.3739424703891709,
          0.37529610829103216,
          0.37529610829103216,
          0.3763113367174281,
          0.3763113367174281,
          0.377326565143824,
          0.377326565143824,
          0.37800338409475465,
          0.37800338409475465,
          0.3793570219966159,
          0.3793570219966159,
          0.37969543147208124,
          0.37969543147208124,
          0.38003384094754655,
          0.38003384094754655,
          0.38037225042301187,
          0.38037225042301187,
          0.38071065989847713,
          0.38071065989847713,
          0.38138747884940777,
          0.38138747884940777,
          0.3817258883248731,
          0.3817258883248731,
          0.3824027072758037,
          0.3824027072758037,
          0.38274111675126904,
          0.38307952622673436,
          0.383756345177665,
          0.383756345177665,
          0.3851099830795262,
          0.3851099830795262,
          0.38578680203045684,
          0.38578680203045684,
          0.3864636209813875,
          0.3864636209813875,
          0.38747884940778343,
          0.38747884940778343,
          0.38849407783417933,
          0.38849407783417933,
          0.38883248730964465,
          0.38883248730964465,
          0.38917089678510997,
          0.38917089678510997,
          0.3898477157360406,
          0.3898477157360406,
          0.3901861252115059,
          0.3901861252115059,
          0.39086294416243655,
          0.39086294416243655,
          0.39120135363790187,
          0.39120135363790187,
          0.3915397631133672,
          0.3915397631133672,
          0.3922165820642978,
          0.3922165820642978,
          0.3932318104906937,
          0.3932318104906937,
          0.39357021996615904,
          0.39357021996615904,
          0.39390862944162436,
          0.39390862944162436,
          0.394585448392555,
          0.394585448392555,
          0.3949238578680203,
          0.3949238578680203,
          0.39560067681895095,
          0.39560067681895095,
          0.39695431472081216,
          0.39695431472081216,
          0.3972927241962775,
          0.3972927241962775,
          0.3979695431472081,
          0.3979695431472081,
          0.39830795262267343,
          0.39830795262267343,
          0.39864636209813875,
          0.39864636209813875,
          0.39898477157360407,
          0.39898477157360407,
          0.3993231810490694,
          0.3993231810490694,
          0.3996615905245347,
          0.3996615905245347,
          0.4,
          0.4,
          0.40033840947546534,
          0.40033840947546534,
          0.4006768189509306,
          0.4006768189509306,
          0.4006768189509306,
          0.4010152284263959,
          0.4010152284263959,
          0.4020304568527919,
          0.4020304568527919,
          0.4030456852791878,
          0.4030456852791878,
          0.4050761421319797,
          0.4050761421319797,
          0.405414551607445,
          0.405414551607445,
          0.4057529610829103,
          0.4057529610829103,
          0.40642978003384095,
          0.40642978003384095,
          0.40676818950930627,
          0.40676818950930627,
          0.4071065989847716,
          0.4071065989847716,
          0.4077834179357022,
          0.4077834179357022,
          0.40812182741116754,
          0.40812182741116754,
          0.40913705583756343,
          0.40913705583756343,
          0.4101522842639594,
          0.4101522842639594,
          0.4104906937394247,
          0.4104906937394247,
          0.41150592216582066,
          0.41150592216582066,
          0.411844331641286,
          0.411844331641286,
          0.4121827411167513,
          0.4121827411167513,
          0.41252115059221656,
          0.41252115059221656,
          0.4128595600676819,
          0.4128595600676819,
          0.4131979695431472,
          0.4131979695431472,
          0.4135363790186125,
          0.4135363790186125,
          0.41421319796954315,
          0.41421319796954315,
          0.41455160744500846,
          0.41455160744500846,
          0.4148900169204738,
          0.4148900169204738,
          0.4152284263959391,
          0.4152284263959391,
          0.41590524534686973,
          0.41590524534686973,
          0.41692047377326563,
          0.41692047377326563,
          0.41692047377326563,
          0.41759729272419627,
          0.41759729272419627,
          0.4182741116751269,
          0.4182741116751269,
          0.4199661590524535,
          0.4199661590524535,
          0.4203045685279188,
          0.4203045685279188,
          0.4209813874788494,
          0.4209813874788494,
          0.4213197969543147,
          0.4213197969543147,
          0.42165820642978,
          0.42165820642978,
          0.42233502538071066,
          0.42233502538071066,
          0.4230118443316413,
          0.4230118443316413,
          0.42402707275803725,
          0.42402707275803725,
          0.4243654822335025,
          0.4243654822335025,
          0.42504230118443315,
          0.42504230118443315,
          0.42538071065989846,
          0.42538071065989846,
          0.4257191201353638,
          0.4257191201353638,
          0.42673434856175974,
          0.42673434856175974,
          0.42707275803722505,
          0.42707275803722505,
          0.4277495769881557,
          0.4277495769881557,
          0.42842639593908627,
          0.42842639593908627,
          0.43011844331641286,
          0.43011844331641286,
          0.4304568527918782,
          0.4304568527918782,
          0.43147208121827413,
          0.43147208121827413,
          0.43214890016920476,
          0.43214890016920476,
          0.43248730964467,
          0.43248730964467,
          0.43282571912013534,
          0.43282571912013534,
          0.43485617597292725,
          0.43485617597292725,
          0.43519458544839257,
          0.43519458544839257,
          0.4355329949238579,
          0.4355329949238579,
          0.4365482233502538,
          0.4365482233502538,
          0.43790186125211505,
          0.43790186125211505,
          0.43824027072758037,
          0.43824027072758037,
          0.438917089678511,
          0.438917089678511,
          0.4392554991539763,
          0.4392554991539763,
          0.44060913705583754,
          0.44060913705583754,
          0.44094754653130286,
          0.44094754653130286,
          0.4416243654822335,
          0.4416243654822335,
          0.4419627749576988,
          0.4419627749576988,
          0.44230118443316413,
          0.44230118443316413,
          0.4433164128595601,
          0.4433164128595601,
          0.4439932318104907,
          0.4439932318104907,
          0.444331641285956,
          0.444331641285956,
          0.44568527918781725,
          0.44568527918781725,
          0.4463620981387479,
          0.4463620981387479,
          0.4467005076142132,
          0.4467005076142132,
          0.4470389170896785,
          0.4470389170896785,
          0.4480541455160745,
          0.4480541455160745,
          0.44873096446700506,
          0.44873096446700506,
          0.4514382402707276,
          0.4514382402707276,
          0.4524534686971235,
          0.4524534686971235,
          0.4527918781725888,
          0.4527918781725888,
          0.45346869712351945,
          0.45346869712351945,
          0.45380710659898477,
          0.45380710659898477,
          0.4541455160744501,
          0.4541455160744501,
          0.4548223350253807,
          0.4548223350253807,
          0.45516074450084604,
          0.45516074450084604,
          0.45549915397631136,
          0.45549915397631136,
          0.45651438240270725,
          0.45651438240270725,
          0.4578680203045685,
          0.4578680203045685,
          0.45989847715736043,
          0.45989847715736043,
          0.460575296108291,
          0.460575296108291,
          0.46125211505922165,
          0.46125211505922165,
          0.4619289340101523,
          0.4619289340101523,
          0.4626057529610829,
          0.4626057529610829,
          0.4626057529610829,
          0.46294416243654823,
          0.46294416243654823,
          0.46328257191201355,
          0.46328257191201355,
          0.46362098138747887,
          0.46362098138747887,
          0.4639593908629442,
          0.4639593908629442,
          0.46429780033840945,
          0.46429780033840945,
          0.46463620981387477,
          0.46463620981387477,
          0.46598984771573604,
          0.46598984771573604,
          0.46632825719120136,
          0.46632825719120136,
          0.4666666666666667,
          0.4666666666666667,
          0.467005076142132,
          0.467005076142132,
          0.4673434856175973,
          0.4673434856175973,
          0.46802030456852795,
          0.46802030456852795,
          0.4683587140439932,
          0.4683587140439932,
          0.4686971235194585,
          0.4686971235194585,
          0.46937394247038916,
          0.46937394247038916,
          0.4697123519458545,
          0.4700507614213198,
          0.4703891708967851,
          0.4703891708967851,
          0.47140439932318107,
          0.47140439932318107,
          0.4717428087986464,
          0.4717428087986464,
          0.4720812182741117,
          0.4720812182741117,
          0.4727580372250423,
          0.4730964467005076,
          0.47411167512690355,
          0.47411167512690355,
          0.4747884940778342,
          0.4747884940778342,
          0.47715736040609136,
          0.47715736040609136,
          0.4774957698815567,
          0.4774957698815567,
          0.477834179357022,
          0.477834179357022,
          0.4781725888324873,
          0.4781725888324873,
          0.47884940778341795,
          0.47884940778341795,
          0.47918781725888326,
          0.47918781725888326,
          0.4795262267343486,
          0.4795262267343486,
          0.4798646362098139,
          0.4798646362098139,
          0.48020304568527916,
          0.48020304568527916,
          0.4805414551607445,
          0.4805414551607445,
          0.48155668358714043,
          0.48189509306260575,
          0.48223350253807107,
          0.48223350253807107,
          0.48358714043993234,
          0.48358714043993234,
          0.4842639593908629,
          0.4842639593908629,
          0.4852791878172589,
          0.4852791878172589,
          0.4862944162436548,
          0.4862944162436548,
          0.48697123519458546,
          0.48697123519458546,
          0.4873096446700508,
          0.4873096446700508,
          0.4879864636209814,
          0.4879864636209814,
          0.4883248730964467,
          0.4883248730964467,
          0.488663282571912,
          0.488663282571912,
          0.49001692047377327,
          0.49001692047377327,
          0.4906937394247039,
          0.4906937394247039,
          0.49137055837563454,
          0.49137055837563454,
          0.49238578680203043,
          0.49238578680203043,
          0.49306260575296107,
          0.49306260575296107,
          0.494077834179357,
          0.494077834179357,
          0.4957698815566836,
          0.4957698815566836,
          0.4961082910321489,
          0.4961082910321489,
          0.4981387478849408,
          0.4981387478849408,
          0.4984771573604061,
          0.4984771573604061,
          0.4988155668358714,
          0.4988155668358714,
          0.49983079526226737,
          0.49983079526226737,
          0.5001692047377326,
          0.5001692047377326,
          0.5008460236886633,
          0.5008460236886633,
          0.5015228426395939,
          0.5015228426395939,
          0.5021996615905245,
          0.5021996615905245,
          0.5025380710659898,
          0.5025380710659898,
          0.5032148900169204,
          0.5032148900169204,
          0.5035532994923858,
          0.5035532994923858,
          0.5045685279187817,
          0.5045685279187817,
          0.5049069373942471,
          0.5049069373942471,
          0.5062605752961082,
          0.5069373942470389,
          0.5072758037225042,
          0.5072758037225042,
          0.5079526226734349,
          0.5079526226734349,
          0.5082910321489001,
          0.5082910321489001,
          0.5099830795262267,
          0.5099830795262267,
          0.5106598984771573,
          0.5106598984771573,
          0.511336717428088,
          0.511336717428088,
          0.5116751269035533,
          0.5116751269035533,
          0.512351945854484,
          0.512351945854484,
          0.5126903553299492,
          0.5126903553299492,
          0.5133671742808799,
          0.5133671742808799,
          0.5147208121827411,
          0.5147208121827411,
          0.5150592216582064,
          0.5150592216582064,
          0.5174280879864637,
          0.5174280879864637,
          0.5177664974619289,
          0.5177664974619289,
          0.5181049069373942,
          0.5181049069373942,
          0.5187817258883248,
          0.5187817258883248,
          0.5197969543147208,
          0.5197969543147208,
          0.5204737732656515,
          0.5204737732656515,
          0.5208121827411167,
          0.5208121827411167,
          0.5211505922165821,
          0.5211505922165821,
          0.5252115059221658,
          0.5252115059221658,
          0.5255499153976312,
          0.5255499153976312,
          0.5265651438240271,
          0.5265651438240271,
          0.5272419627749577,
          0.5272419627749577,
          0.527580372250423,
          0.527580372250423,
          0.5279187817258884,
          0.5279187817258884,
          0.5296108291032149,
          0.5296108291032149,
          0.5309644670050762,
          0.5309644670050762,
          0.5316412859560068,
          0.5316412859560068,
          0.531979695431472,
          0.531979695431472,
          0.5323181049069374,
          0.5323181049069374,
          0.5326565143824027,
          0.5326565143824027,
          0.5329949238578681,
          0.5329949238578681,
          0.5346869712351946,
          0.5346869712351946,
          0.5350253807106599,
          0.5350253807106599,
          0.5353637901861252,
          0.5353637901861252,
          0.5367174280879865,
          0.5367174280879865,
          0.5370558375634518,
          0.5370558375634518,
          0.5377326565143824,
          0.5377326565143824,
          0.5380710659898477,
          0.5380710659898477,
          0.5390862944162437,
          0.5390862944162437,
          0.5397631133671743,
          0.5397631133671743,
          0.5401015228426396,
          0.5401015228426396,
          0.5411167512690356,
          0.5411167512690356,
          0.5421319796954315,
          0.5421319796954315,
          0.5424703891708967,
          0.5424703891708967,
          0.543824027072758,
          0.543824027072758,
          0.544839255499154,
          0.544839255499154,
          0.5455160744500847,
          0.5455160744500847,
          0.5458544839255499,
          0.5458544839255499,
          0.5461928934010152,
          0.5461928934010152,
          0.5468697123519458,
          0.5468697123519458,
          0.5472081218274112,
          0.5472081218274112,
          0.5478849407783418,
          0.5478849407783418,
          0.5482233502538071,
          0.5482233502538071,
          0.5485617597292725,
          0.5485617597292725,
          0.5492385786802031,
          0.5492385786802031,
          0.550253807106599,
          0.550253807106599,
          0.5509306260575296,
          0.5509306260575296,
          0.5519458544839255,
          0.5519458544839255,
          0.5522842639593909,
          0.5522842639593909,
          0.5526226734348562,
          0.5526226734348562,
          0.5529610829103215,
          0.5529610829103215,
          0.5536379018612522,
          0.5536379018612522,
          0.5539763113367174,
          0.5539763113367174,
          0.5543147208121827,
          0.5543147208121827,
          0.5546531302876481,
          0.5546531302876481,
          0.5560067681895093,
          0.5560067681895093,
          0.5583756345177665,
          0.5583756345177665,
          0.5587140439932318,
          0.5587140439932318,
          0.5593908629441624,
          0.5593908629441624,
          0.5597292724196278,
          0.5597292724196278,
          0.560067681895093,
          0.560067681895093,
          0.5604060913705584,
          0.5604060913705584,
          0.561082910321489,
          0.561082910321489,
          0.5614213197969543,
          0.5614213197969543,
          0.5617597292724196,
          0.5617597292724196,
          0.5631133671742808,
          0.5631133671742808,
          0.5634517766497462,
          0.5634517766497462,
          0.5648054145516075,
          0.5648054145516075,
          0.5654822335025381,
          0.5654822335025381,
          0.5658206429780034,
          0.5658206429780034,
          0.5668358714043993,
          0.5668358714043993,
          0.5671742808798647,
          0.5671742808798647,
          0.5675126903553299,
          0.5675126903553299,
          0.5681895093062606,
          0.5681895093062606,
          0.5685279187817259,
          0.5685279187817259,
          0.5705583756345177,
          0.5705583756345177,
          0.5712351945854484,
          0.5712351945854484,
          0.5722504230118444,
          0.572927241962775,
          0.572927241962775,
          0.5732656514382403,
          0.5732656514382403,
          0.5766497461928934,
          0.5766497461928934,
          0.5769881556683587,
          0.5769881556683587,
          0.5780033840947546,
          0.5780033840947546,
          0.57834179357022,
          0.57834179357022,
          0.5793570219966159,
          0.5793570219966159,
          0.5796954314720812,
          0.5796954314720812,
          0.5807106598984771,
          0.5807106598984771,
          0.5813874788494078,
          0.5813874788494078,
          0.5820642978003384,
          0.5820642978003384,
          0.582741116751269,
          0.582741116751269,
          0.5830795262267343,
          0.5830795262267343,
          0.583756345177665,
          0.583756345177665,
          0.5844331641285956,
          0.5844331641285956,
          0.5861252115059221,
          0.5861252115059221,
          0.5868020304568528,
          0.5868020304568528,
          0.5871404399323181,
          0.5871404399323181,
          0.5874788494077834,
          0.5874788494077834,
          0.5878172588832488,
          0.5878172588832488,
          0.588155668358714,
          0.588155668358714,
          0.5895093062605753,
          0.5895093062605753,
          0.5898477157360406,
          0.5898477157360406,
          0.5901861252115059,
          0.5901861252115059,
          0.5912013536379018,
          0.5912013536379018,
          0.5915397631133672,
          0.5915397631133672,
          0.5918781725888325,
          0.5918781725888325,
          0.5928934010152285,
          0.5928934010152285,
          0.5942470389170896,
          0.5942470389170896,
          0.5949238578680203,
          0.5949238578680203,
          0.5956006768189509,
          0.5956006768189509,
          0.5966159052453469,
          0.5966159052453469,
          0.5972927241962775,
          0.5972927241962775,
          0.5976311336717428,
          0.5976311336717428,
          0.5979695431472081,
          0.5979695431472081,
          0.5986463620981387,
          0.5986463620981387,
          0.5993231810490693,
          0.5993231810490693,
          0.601015228426396,
          0.601015228426396,
          0.6020304568527919,
          0.6020304568527919,
          0.6030456852791878,
          0.6030456852791878,
          0.6033840947546532,
          0.6033840947546532,
          0.6037225042301184,
          0.6037225042301184,
          0.6040609137055838,
          0.6040609137055838,
          0.604399323181049,
          0.604399323181049,
          0.6050761421319797,
          0.6050761421319797,
          0.6054145516074451,
          0.6054145516074451,
          0.6057529610829103,
          0.6057529610829103,
          0.6060913705583756,
          0.6060913705583756,
          0.606429780033841,
          0.606429780033841,
          0.6071065989847716,
          0.6071065989847716,
          0.6091370558375635,
          0.6091370558375635,
          0.609813874788494,
          0.609813874788494,
          0.61082910321489,
          0.61082910321489,
          0.6111675126903553,
          0.6111675126903553,
          0.6115059221658207,
          0.6115059221658207,
          0.6128595600676819,
          0.6128595600676819,
          0.6142131979695431,
          0.6142131979695431,
          0.6152284263959391,
          0.6152284263959391,
          0.6159052453468697,
          0.6159052453468697,
          0.6165820642978004,
          0.6165820642978004,
          0.6169204737732656,
          0.6169204737732656,
          0.617258883248731,
          0.617258883248731,
          0.6175972927241963,
          0.6175972927241963,
          0.6182741116751269,
          0.6182741116751269,
          0.6189509306260575,
          0.6189509306260575,
          0.6219966159052454,
          0.6219966159052454,
          0.622673434856176,
          0.622673434856176,
          0.6230118443316413,
          0.6230118443316413,
          0.6240270727580373,
          0.6240270727580373,
          0.6247038917089679,
          0.6247038917089679,
          0.6257191201353638,
          0.6257191201353638,
          0.6270727580372251,
          0.6270727580372251,
          0.6297800338409475,
          0.6307952622673435,
          0.6318104906937394,
          0.6318104906937394,
          0.63248730964467,
          0.63248730964467,
          0.6351945854483926,
          0.6351945854483926,
          0.6365482233502539,
          0.6365482233502539,
          0.6375634517766497,
          0.6375634517766497,
          0.6382402707275804,
          0.6382402707275804,
          0.6385786802030456,
          0.6385786802030456,
          0.638917089678511,
          0.638917089678511,
          0.6392554991539763,
          0.6392554991539763,
          0.6399323181049069,
          0.6399323181049069,
          0.6406091370558376,
          0.6406091370558376,
          0.6419627749576988,
          0.6419627749576988,
          0.6423011844331641,
          0.6423011844331641,
          0.6456852791878173,
          0.6456852791878173,
          0.6460236886632825,
          0.6460236886632825,
          0.6470389170896785,
          0.6470389170896785,
          0.6487309644670051,
          0.6487309644670051,
          0.6490693739424704,
          0.6490693739424704,
          0.649746192893401,
          0.649746192893401,
          0.6510998307952622,
          0.6510998307952622,
          0.6517766497461929,
          0.6517766497461929,
          0.6524534686971235,
          0.6524534686971235,
          0.6548223350253807,
          0.6548223350253807,
          0.655160744500846,
          0.655160744500846,
          0.656175972927242,
          0.656175972927242,
          0.6565143824027073,
          0.6565143824027073,
          0.6568527918781726,
          0.6568527918781726,
          0.657191201353638,
          0.657191201353638,
          0.6578680203045685,
          0.6578680203045685,
          0.6585448392554991,
          0.6639593908629442,
          0.6639593908629442,
          0.6663282571912014,
          0.6663282571912014,
          0.6676818950930626,
          0.6676818950930626,
          0.6693739424703892,
          0.6693739424703892,
          0.6703891708967851,
          0.6703891708967851,
          0.6710659898477157,
          0.6710659898477157,
          0.6720812182741117,
          0.6720812182741117,
          0.6734348561759729,
          0.6734348561759729,
          0.6737732656514382,
          0.6737732656514382,
          0.6741116751269035,
          0.6741116751269035,
          0.6744500846023689,
          0.6744500846023689,
          0.6754653130287648,
          0.6754653130287648,
          0.6758037225042302,
          0.6758037225042302,
          0.6764805414551608,
          0.6764805414551608,
          0.6771573604060914,
          0.6771573604060914,
          0.6774957698815567,
          0.6774957698815567,
          0.6785109983079526,
          0.6785109983079526,
          0.678849407783418,
          0.678849407783418,
          0.6808798646362099,
          0.6808798646362099,
          0.683248730964467,
          0.683248730964467,
          0.6839255499153977,
          0.6839255499153977,
          0.6849407783417936,
          0.6849407783417936,
          0.6852791878172588,
          0.6852791878172588,
          0.6856175972927242,
          0.6856175972927242,
          0.6859560067681895,
          0.6859560067681895,
          0.6862944162436548,
          0.6862944162436548,
          0.6869712351945855,
          0.6869712351945855,
          0.6873096446700507,
          0.6873096446700507,
          0.6900169204737733,
          0.6900169204737733,
          0.6917089678510998,
          0.6917089678510998,
          0.6930626057529611,
          0.6930626057529611,
          0.6934010152284263,
          0.6934010152284263,
          0.6957698815566836,
          0.6957698815566836,
          0.6967851099830795,
          0.6967851099830795,
          0.6974619289340102,
          0.6974619289340102,
          0.7001692047377327,
          0.7001692047377327,
          0.7011844331641286,
          0.7011844331641286,
          0.7015228426395939,
          0.7015228426395939,
          0.7028764805414551,
          0.7028764805414551,
          0.7042301184433164,
          0.7042301184433164,
          0.7059221658206429,
          0.7059221658206429,
          0.7065989847715736,
          0.7065989847715736,
          0.7069373942470389,
          0.7069373942470389,
          0.7079526226734348,
          0.7079526226734348,
          0.7086294416243655,
          0.7086294416243655,
          0.7096446700507614,
          0.7096446700507614,
          0.7116751269035533,
          0.7116751269035533,
          0.7120135363790187,
          0.7120135363790187,
          0.7123519458544839,
          0.7123519458544839,
          0.7147208121827411,
          0.7147208121827411,
          0.7150592216582065,
          0.7150592216582065,
          0.7170896785109984,
          0.7170896785109984,
          0.7201353637901862,
          0.7201353637901862,
          0.722165820642978,
          0.722165820642978,
          0.7238578680203046,
          0.7238578680203046,
          0.7241962774957699,
          0.7241962774957699,
          0.7279187817258883,
          0.7279187817258883,
          0.7285956006768189,
          0.7285956006768189,
          0.7289340101522843,
          0.7289340101522843,
          0.7296108291032148,
          0.7296108291032148,
          0.7302876480541455,
          0.7302876480541455,
          0.7357021996615906,
          0.7357021996615906,
          0.7360406091370558,
          0.7360406091370558,
          0.7363790186125212,
          0.7363790186125212,
          0.7377326565143824,
          0.7377326565143824,
          0.738409475465313,
          0.738409475465313,
          0.739424703891709,
          0.739424703891709,
          0.7397631133671743,
          0.7397631133671743,
          0.7407783417935703,
          0.7407783417935703,
          0.7424703891708968,
          0.7424703891708968,
          0.7431472081218274,
          0.7431472081218274,
          0.7458544839255499,
          0.7458544839255499,
          0.7472081218274111,
          0.7472081218274111,
          0.7478849407783418,
          0.7478849407783418,
          0.7485617597292724,
          0.7485617597292724,
          0.7536379018612521,
          0.7536379018612521,
          0.7563451776649747,
          0.7563451776649747,
          0.7576988155668358,
          0.7576988155668358,
          0.7597292724196277,
          0.7597292724196277,
          0.7617597292724196,
          0.7617597292724196,
          0.7624365482233503,
          0.7624365482233503,
          0.7631133671742809,
          0.7631133671742809,
          0.7658206429780033,
          0.7658206429780033,
          0.7681895093062606,
          0.7681895093062606,
          0.7685279187817259,
          0.7685279187817259,
          0.7692047377326565,
          0.7692047377326565,
          0.7695431472081218,
          0.7695431472081218,
          0.7698815566835872,
          0.7698815566835872,
          0.7702199661590524,
          0.7702199661590524,
          0.7719120135363791,
          0.7719120135363791,
          0.7725888324873097,
          0.7725888324873097,
          0.7742808798646362,
          0.7742808798646362,
          0.7776649746192893,
          0.7776649746192893,
          0.7783417935702199,
          0.7783417935702199,
          0.783756345177665,
          0.783756345177665,
          0.7857868020304568,
          0.7857868020304568,
          0.7861252115059222,
          0.7861252115059222,
          0.7874788494077835,
          0.7874788494077835,
          0.7881556683587141,
          0.7881556683587141,
          0.7901861252115059,
          0.7901861252115059,
          0.7908629441624365,
          0.7915397631133672,
          0.7932318104906937,
          0.7932318104906937,
          0.8003384094754653,
          0.8003384094754653,
          0.8013536379018612,
          0.8020304568527918,
          0.8023688663282572,
          0.8027072758037225,
          0.8030456852791878,
          0.8067681895093063,
          0.8071065989847716,
          0.8094754653130287,
          0.8098138747884941,
          0.8101522842639594,
          0.8142131979695432,
          0.8152284263959391,
          0.8159052453468697,
          0.8162436548223351,
          0.8165820642978003,
          0.8169204737732656,
          0.8179357021996616,
          0.8186125211505922,
          0.8223350253807107,
          0.822673434856176,
          0.822673434856176,
          0.8443316412859561,
          0.8443316412859561,
          0.8446700507614213,
          0.8477157360406091,
          0.8602368866328257,
          0.860575296108291,
          0.8683587140439932,
          0.8686971235194585,
          0.8690355329949239,
          0.8697123519458545,
          0.9225042301184433,
          0.9228426395939087,
          0.9228426395939087,
          0.9231810490693739,
          0.9245346869712352,
          0.9248730964467005,
          0.9262267343485617,
          0.9262267343485617,
          0.9265651438240271,
          0.9265651438240271,
          0.927580372250423,
          0.927580372250423,
          0.9285956006768189,
          0.9302876480541455,
          0.9309644670050762,
          0.932994923857868,
          0.932994923857868,
          0.934010152284264,
          0.934010152284264,
          0.9346869712351946,
          0.9346869712351946,
          0.9357021996615905,
          0.9377326565143824,
          0.9387478849407783,
          0.9387478849407783,
          0.9390862944162437,
          0.9390862944162437,
          0.9407783417935702,
          0.9407783417935702,
          0.9414551607445009,
          0.9414551607445009,
          0.9417935702199661,
          0.9417935702199661,
          0.9428087986463621,
          0.9526226734348562,
          0.9536379018612521,
          0.9536379018612521,
          0.9546531302876481,
          0.9546531302876481,
          0.9549915397631134,
          0.9549915397631134,
          0.9553299492385787,
          0.9553299492385787,
          0.9570219966159053,
          0.9576988155668359,
          0.9576988155668359,
          0.9583756345177665,
          0.9583756345177665,
          0.9597292724196278,
          0.9597292724196278,
          0.9756345177664975,
          0.9756345177664975,
          0.9769881556683587,
          0.9769881556683587,
          0.9824027072758037,
          0.9824027072758037,
          0.9854483925549915,
          0.9854483925549915,
          0.9874788494077834,
          0.9874788494077834,
          0.9878172588832488,
          0.9878172588832488,
          0.9912013536379018,
          0.9912013536379018,
          0.993570219966159,
          0.993570219966159,
          0.994585448392555,
          0.994585448392555,
          0.9966159052453468,
          0.9986463620981387,
          1
         ],
         "y": [
          0,
          0,
          0,
          0.0022026431718061676,
          0.0031466331025802393,
          0.0040906230333543105,
          0.0040906230333543105,
          0.006607929515418502,
          0.006607929515418502,
          0.00723725613593455,
          0.00723725613593455,
          0.007551919446192574,
          0.007551919446192574,
          0.01195720578980491,
          0.01195720578980491,
          0.013215859030837005,
          0.013215859030837005,
          0.015418502202643172,
          0.015418502202643172,
          0.016362492133417242,
          0.016362492133417242,
          0.016991818753933293,
          0.016991818753933293,
          0.019823788546255508,
          0.019823788546255508,
          0.02171176840780365,
          0.02171176840780365,
          0.024543738200125866,
          0.024543738200125866,
          0.02485840151038389,
          0.02485840151038389,
          0.025802391441157962,
          0.02643171806167401,
          0.02643171806167401,
          0.027061044682190057,
          0.027690371302706105,
          0.028634361233480177,
          0.028634361233480177,
          0.029893014474512272,
          0.029893014474512272,
          0.030837004405286344,
          0.030837004405286344,
          0.03146633102580239,
          0.03146633102580239,
          0.03241032095657646,
          0.03241032095657646,
          0.034927627438640654,
          0.034927627438640654,
          0.0355569540591567,
          0.0355569540591567,
          0.042794210195091255,
          0.042794210195091255,
          0.0434235368156073,
          0.0434235368156073,
          0.04436752674638137,
          0.04436752674638137,
          0.045626179987413466,
          0.045626179987413466,
          0.046255506607929514,
          0.046255506607929514,
          0.04908747640025173,
          0.04908747640025173,
          0.04940213971050975,
          0.04940213971050975,
          0.05034612964128383,
          0.05034612964128383,
          0.051290119572057896,
          0.051290119572057896,
          0.05254877281308999,
          0.05254877281308999,
          0.05349276274386407,
          0.05349276274386407,
          0.05475141598489616,
          0.05506607929515418,
          0.057583385777218374,
          0.057583385777218374,
          0.0578980490874764,
          0.0578980490874764,
          0.05821271239773442,
          0.05852737570799245,
          0.059786028949024544,
          0.059786028949024544,
          0.06073001887979861,
          0.06073001887979861,
          0.06167400881057269,
          0.06167400881057269,
          0.06198867212083071,
          0.06198867212083071,
          0.06356198867212083,
          0.06356198867212083,
          0.06419131529263687,
          0.06419131529263687,
          0.06513530522341095,
          0.06513530522341095,
          0.06639395846444304,
          0.06639395846444304,
          0.06796727501573317,
          0.06796727501573317,
          0.06891126494650723,
          0.06891126494650723,
          0.07394587791063562,
          0.07457520453115167,
          0.07488986784140969,
          0.07520453115166771,
          0.07551919446192575,
          0.07709251101321586,
          0.07992448080553807,
          0.08086847073631215,
          0.08118313404657017,
          0.08181246066708622,
          0.08181246066708622,
          0.08212712397734424,
          0.08401510383889238,
          0.08495909376966645,
          0.08527375707992448,
          0.08590308370044053,
          0.08590308370044053,
          0.08590308370044053,
          0.08621774701069855,
          0.08653241032095657,
          0.08967904342353682,
          0.08999370673379484,
          0.09156702328508495,
          0.0934550031466331,
          0.09439899307740718,
          0.0947136563876652,
          0.0947136563876652,
          0.09502831969792322,
          0.09502831969792322,
          0.09534298300818124,
          0.14285714285714285,
          0.14317180616740088,
          0.14411579609817496,
          0.144745122718691,
          0.14568911264946507,
          0.14757709251101322,
          0.14757709251101322,
          0.1488357457520453,
          0.14946507237256135,
          0.15009439899307742,
          0.15701699181875392,
          0.16016362492133418,
          0.16519823788546256,
          0.16614222781623664,
          0.16645689112649464,
          0.1670862177470107,
          0.17558212712397733,
          0.17589679043423537,
          0.1762114537444934,
          0.17684078036500944,
          0.17747010698552548,
          0.17935808684707363,
          0.17935808684707363,
          0.2419760855884204,
          0.2422907488986784,
          0.2422907488986784,
          0.24292007551919445,
          0.24292007551919445,
          0.24386406544996853,
          0.24386406544996853,
          0.2448080553807426,
          0.2448080553807426,
          0.2460667086217747,
          0.2473253618628068,
          0.24921334172435494,
          0.24921334172435494,
          0.2526746381371932,
          0.2526746381371932,
          0.25456261799874136,
          0.25456261799874136,
          0.25582127123977344,
          0.25582127123977344,
          0.2561359345500315,
          0.2561359345500315,
          0.25739458779106356,
          0.25739458779106356,
          0.25896790434235367,
          0.25896790434235367,
          0.2614852108244179,
          0.2614852108244179,
          0.26179987413467587,
          0.26179987413467587,
          0.26242920075519194,
          0.26242920075519194,
          0.263687853996224,
          0.263687853996224,
          0.2643171806167401,
          0.2643171806167401,
          0.26620516047828824,
          0.26620516047828824,
          0.26777847702957835,
          0.2684078036500944,
          0.2687224669603524,
          0.2687224669603524,
          0.26935179358086847,
          0.26935179358086847,
          0.2696664568911265,
          0.2696664568911265,
          0.2724984266834487,
          0.2724984266834487,
          0.27312775330396477,
          0.27312775330396477,
          0.2753303964757709,
          0.2753303964757709,
          0.27564505978602893,
          0.27564505978602893,
          0.276274386406545,
          0.276274386406545,
          0.2778477029578351,
          0.2778477029578351,
          0.2784770295783512,
          0.2784770295783512,
          0.27879169288860917,
          0.27879169288860917,
          0.27942101950912523,
          0.2800503461296413,
          0.28382630585273755,
          0.28382630585273755,
          0.2879169288860919,
          0.2879169288860919,
          0.2882315921963499,
          0.2882315921963499,
          0.29011957205789807,
          0.29011957205789807,
          0.2910635619886721,
          0.2910635619886721,
          0.29137822529893015,
          0.29137822529893015,
          0.2916928886091882,
          0.2916928886091882,
          0.2923222152297042,
          0.2923222152297042,
          0.29263687853996223,
          0.29263687853996223,
          0.2938955317809943,
          0.2938955317809943,
          0.29421019509125235,
          0.29421019509125235,
          0.29515418502202645,
          0.29515418502202645,
          0.29578351164254246,
          0.29578351164254246,
          0.2970421648835746,
          0.2970421648835746,
          0.29798615481434865,
          0.29798615481434865,
          0.2998741346758968,
          0.2998741346758968,
          0.30018879798615483,
          0.30050346129641287,
          0.30050346129641287,
          0.30081812460667084,
          0.30081812460667084,
          0.302076777847703,
          0.302076777847703,
          0.30302076777847703,
          0.30302076777847703,
          0.3036500943989931,
          0.3036500943989931,
          0.30459408432976715,
          0.30459408432976715,
          0.3052234109502832,
          0.3052234109502832,
          0.3058527375707992,
          0.3058527375707992,
          0.3064820641913153,
          0.3064820641913153,
          0.30679672750157333,
          0.3077407174323474,
          0.3077407174323474,
          0.3086847073631215,
          0.3086847073631215,
          0.30899937067337946,
          0.30899937067337946,
          0.3096286972938955,
          0.3096286972938955,
          0.30994336060415356,
          0.30994336060415356,
          0.31057268722466963,
          0.31057268722466963,
          0.3115166771554437,
          0.3115166771554437,
          0.3124606670862177,
          0.3124606670862177,
          0.31403398363750784,
          0.31403398363750784,
          0.31497797356828194,
          0.31497797356828194,
          0.31529263687854,
          0.31529263687854,
          0.315607300188798,
          0.315607300188798,
          0.31780994336060414,
          0.31780994336060414,
          0.31875393329137824,
          0.31875393329137824,
          0.3190685966016362,
          0.3190685966016362,
          0.32032724984266836,
          0.32032724984266836,
          0.3212712397734424,
          0.3212712397734424,
          0.32158590308370044,
          0.32158590308370044,
          0.3219005663939585,
          0.3222152297042165,
          0.32315921963499056,
          0.32315921963499056,
          0.32536186280679674,
          0.32536186280679674,
          0.32599118942731276,
          0.32693517935808686,
          0.32693517935808686,
          0.3272498426683449,
          0.3272498426683449,
          0.3278791692888609,
          0.3278791692888609,
          0.32819383259911894,
          0.32819383259911894,
          0.328508495909377,
          0.328508495909377,
          0.328823159219635,
          0.328823159219635,
          0.329137822529893,
          0.329137822529893,
          0.32976714915040906,
          0.32976714915040906,
          0.3303964757709251,
          0.3303964757709251,
          0.33134046570169917,
          0.33134046570169917,
          0.3322844556324733,
          0.3322844556324733,
          0.33354310887350536,
          0.33354310887350536,
          0.33574575204531154,
          0.33574575204531154,
          0.3360604153555695,
          0.3360604153555695,
          0.3370044052863436,
          0.3370044052863436,
          0.33731906859660166,
          0.33731906859660166,
          0.3388923851478918,
          0.3388923851478918,
          0.3404657016991819,
          0.3404657016991819,
          0.3407803650094399,
          0.3407803650094399,
          0.3442416614222782,
          0.3442416614222782,
          0.3464443045940843,
          0.3464443045940843,
          0.34675896790434235,
          0.34675896790434235,
          0.3473882945248584,
          0.3473882945248584,
          0.3477029578351164,
          0.3477029578351164,
          0.34833228445563247,
          0.34833228445563247,
          0.3499056010069226,
          0.3499056010069226,
          0.3502202643171806,
          0.3502202643171806,
          0.3514789175582127,
          0.3514789175582127,
          0.3524229074889868,
          0.3524229074889868,
          0.3530522341095028,
          0.3530522341095028,
          0.3536815607300189,
          0.3536815607300189,
          0.3539962240402769,
          0.3539962240402769,
          0.3565135305223411,
          0.3565135305223411,
          0.35840151038388923,
          0.35840151038388923,
          0.3590308370044053,
          0.3590308370044053,
          0.3606041535556954,
          0.3606041535556954,
          0.36091881686595345,
          0.36091881686595345,
          0.36217747010698553,
          0.36217747010698553,
          0.36249213341724357,
          0.36249213341724357,
          0.36375078665827565,
          0.36375078665827565,
          0.3662680931403398,
          0.3662680931403398,
          0.36658275645059785,
          0.3672120830711139,
          0.36752674638137195,
          0.36752674638137195,
          0.37035871617369415,
          0.37035871617369415,
          0.3709880427942102,
          0.3709880427942102,
          0.3713027061044682,
          0.3713027061044682,
          0.37287602265575837,
          0.37287602265575837,
          0.3735053492762744,
          0.3735053492762744,
          0.37413467589679045,
          0.37413467589679045,
          0.3750786658275645,
          0.3750786658275645,
          0.3760226557583386,
          0.3760226557583386,
          0.3788546255506608,
          0.3788546255506608,
          0.37916928886091883,
          0.37916928886091883,
          0.37948395217117686,
          0.37948395217117686,
          0.37979861548143484,
          0.37979861548143484,
          0.3801132787916929,
          0.3801132787916929,
          0.38451856513530525,
          0.38451856513530525,
          0.38514789175582126,
          0.38514789175582126,
          0.3854625550660793,
          0.3854625550660793,
          0.3886091881686595,
          0.3886091881686595,
          0.38955317809943363,
          0.38955317809943363,
          0.39018250471994964,
          0.39018250471994964,
          0.3920704845814978,
          0.3920704845814978,
          0.3930144745122719,
          0.3930144745122719,
          0.39395846444304594,
          0.39395846444304594,
          0.39490245437382,
          0.39490245437382,
          0.395217117684078,
          0.395217117684078,
          0.39679043423536814,
          0.39679043423536814,
          0.3989930774071743,
          0.3989930774071743,
          0.3996224040276904,
          0.3996224040276904,
          0.4002517306482064,
          0.4002517306482064,
          0.40213971050975456,
          0.40213971050975456,
          0.4024543738200126,
          0.4024543738200126,
          0.4027690371302706,
          0.4027690371302706,
          0.4052863436123348,
          0.4052863436123348,
          0.40748898678414097,
          0.40748898678414097,
          0.40874764002517305,
          0.40874764002517305,
          0.4122089364380113,
          0.4122089364380113,
          0.41252359974826935,
          0.41252359974826935,
          0.4134675896790434,
          0.4134675896790434,
          0.41378225298930144,
          0.41378225298930144,
          0.4144115796098175,
          0.4144115796098175,
          0.41472624292007554,
          0.41472624292007554,
          0.41692888609188167,
          0.41692888609188167,
          0.42039018250471993,
          0.42039018250471993,
          0.42133417243549404,
          0.42133417243549404,
          0.4247954688483323,
          0.4247954688483323,
          0.42573945877910635,
          0.42573945877910635,
          0.4260541220893644,
          0.4260541220893644,
          0.42731277533039647,
          0.42731277533039647,
          0.42857142857142855,
          0.42857142857142855,
          0.4298300818124607,
          0.4298300818124607,
          0.43077407174323473,
          0.43077407174323473,
          0.4314033983637508,
          0.4314033983637508,
          0.43234738829452485,
          0.43234738829452485,
          0.43486469477658907,
          0.43486469477658907,
          0.4395846444304594,
          0.4395846444304594,
          0.44052863436123346,
          0.44052863436123346,
          0.4408432976714915,
          0.4408432976714915,
          0.4417872876022656,
          0.4417872876022656,
          0.44273127753303965,
          0.44273127753303965,
          0.4430459408432977,
          0.4430459408432977,
          0.44430459408432976,
          0.44430459408432976,
          0.44524858401510387,
          0.44524858401510387,
          0.44745122718691,
          0.44745122718691,
          0.44808055380742606,
          0.44808055380742606,
          0.4483952171176841,
          0.4483952171176841,
          0.45028319697923225,
          0.45028319697923225,
          0.4505978602894902,
          0.4505978602894902,
          0.4524858401510384,
          0.4524858401510384,
          0.45311516677155445,
          0.45311516677155445,
          0.4540591567023285,
          0.4540591567023285,
          0.45594713656387664,
          0.45594713656387664,
          0.45877910635619884,
          0.45877910635619884,
          0.460037759597231,
          0.460037759597231,
          0.46129641283826306,
          0.46129641283826306,
          0.4619257394587791,
          0.4619257394587791,
          0.46255506607929514,
          0.46255506607929514,
          0.4644430459408433,
          0.4644430459408433,
          0.4647577092511013,
          0.4647577092511013,
          0.4660163624921334,
          0.4660163624921334,
          0.46633102580239144,
          0.46633102580239144,
          0.4666456891126495,
          0.4666456891126495,
          0.46790434235368156,
          0.46790434235368156,
          0.46884833228445566,
          0.46884833228445566,
          0.4694776589049717,
          0.4694776589049717,
          0.4704216488357458,
          0.4704216488357458,
          0.4710509754562618,
          0.4710509754562618,
          0.47293895531780994,
          0.47293895531780994,
          0.473253618628068,
          0.473253618628068,
          0.47388294524858404,
          0.47388294524858404,
          0.474197608558842,
          0.474197608558842,
          0.4748269351793581,
          0.4748269351793581,
          0.47545626179987416,
          0.47545626179987416,
          0.4770295783511643,
          0.4770295783511643,
          0.47734424166142225,
          0.47734424166142225,
          0.47828823159219636,
          0.47828823159219636,
          0.4789175582127124,
          0.4789175582127124,
          0.4792322215229704,
          0.4792322215229704,
          0.47954688483322844,
          0.47954688483322844,
          0.47986154814348647,
          0.47986154814348647,
          0.48049087476400254,
          0.48049087476400254,
          0.48112020138451855,
          0.48112020138451855,
          0.4817495280050346,
          0.4817495280050346,
          0.48206419131529266,
          0.48206419131529266,
          0.4839521711768408,
          0.4839521711768408,
          0.4845814977973568,
          0.4845814977973568,
          0.48489616110761485,
          0.48489616110761485,
          0.4855254877281309,
          0.4855254877281309,
          0.48646947765890497,
          0.48646947765890497,
          0.48709880427942104,
          0.48709880427942104,
          0.487413467589679,
          0.487413467589679,
          0.4880427942101951,
          0.4883574575204531,
          0.48993077407174324,
          0.48993077407174324,
          0.49024543738200127,
          0.49024543738200127,
          0.4905601006922593,
          0.4905601006922593,
          0.4908747640025173,
          0.4908747640025173,
          0.4911894273127753,
          0.4911894273127753,
          0.49150409062303335,
          0.49150409062303335,
          0.4918187539332914,
          0.4918187539332914,
          0.4921334172435494,
          0.4921334172435494,
          0.49307740717432347,
          0.49307740717432347,
          0.4933920704845815,
          0.4933920704845815,
          0.4949653870358716,
          0.4949653870358716,
          0.49528005034612965,
          0.49528005034612965,
          0.4955947136563877,
          0.4955947136563877,
          0.4977973568281938,
          0.4977973568281938,
          0.500314663310258,
          0.500314663310258,
          0.5006293266205161,
          0.5006293266205161,
          0.500943989930774,
          0.500943989930774,
          0.5012586532410321,
          0.5012586532410321,
          0.5015733165512901,
          0.5015733165512901,
          0.5022026431718062,
          0.5022026431718062,
          0.5047199496538703,
          0.5047199496538703,
          0.5059786028949025,
          0.5059786028949025,
          0.5066079295154186,
          0.5066079295154186,
          0.5069225928256765,
          0.5069225928256765,
          0.5078665827564506,
          0.5078665827564506,
          0.5084959093769666,
          0.5084959093769666,
          0.5088105726872246,
          0.5088105726872246,
          0.5091252359974827,
          0.5091252359974827,
          0.5100692259282568,
          0.5100692259282568,
          0.5103838892385147,
          0.5103838892385147,
          0.5116425424795469,
          0.5116425424795469,
          0.5147891755821271,
          0.5147891755821271,
          0.5163624921334172,
          0.5163624921334172,
          0.5166771554436753,
          0.5166771554436753,
          0.5169918187539333,
          0.5169918187539333,
          0.5173064820641913,
          0.5173064820641913,
          0.5195091252359975,
          0.5195091252359975,
          0.5213971050975457,
          0.5213971050975457,
          0.5223410950283197,
          0.5223410950283197,
          0.5239144115796098,
          0.5239144115796098,
          0.5242290748898678,
          0.5242290748898678,
          0.526431718061674,
          0.526431718061674,
          0.5270610446821901,
          0.5270610446821901,
          0.5276903713027061,
          0.5276903713027061,
          0.5286343612334802,
          0.5286343612334802,
          0.5289490245437382,
          0.5289490245437382,
          0.5302076777847703,
          0.5302076777847703,
          0.5308370044052864,
          0.5308370044052864,
          0.5311516677155443,
          0.5311516677155443,
          0.5336689741976086,
          0.5336689741976086,
          0.5339836375078666,
          0.5339836375078666,
          0.5352422907488987,
          0.5352422907488987,
          0.5358716173694147,
          0.5358716173694147,
          0.5365009439899308,
          0.5365009439899308,
          0.5368156073001888,
          0.5368156073001888,
          0.538388923851479,
          0.538388923851479,
          0.5387035871617369,
          0.5387035871617369,
          0.539332913782253,
          0.539332913782253,
          0.5399622404027691,
          0.540591567023285,
          0.5412208936438011,
          0.5412208936438011,
          0.5431088735053493,
          0.5431088735053493,
          0.5437382001258654,
          0.5437382001258654,
          0.5449968533668974,
          0.5449968533668974,
          0.5471994965387036,
          0.5471994965387036,
          0.5475141598489616,
          0.5475141598489616,
          0.5490874764002517,
          0.5490874764002517,
          0.5494021397105098,
          0.5494021397105098,
          0.5497168030207678,
          0.5497168030207678,
          0.5509754562617999,
          0.5509754562617999,
          0.5512901195720579,
          0.5512901195720579,
          0.5531780994336061,
          0.5531780994336061,
          0.5541220893643801,
          0.5541220893643801,
          0.5544367526746381,
          0.5544367526746381,
          0.5553807426054123,
          0.5553807426054123,
          0.5566393958464443,
          0.5566393958464443,
          0.5575833857772183,
          0.5575833857772183,
          0.5578980490874764,
          0.5578980490874764,
          0.5588420390182505,
          0.5588420390182505,
          0.5594713656387665,
          0.5594713656387665,
          0.5613593455003146,
          0.5613593455003146,
          0.5619886721208307,
          0.5619886721208307,
          0.5623033354310887,
          0.5623033354310887,
          0.5626179987413468,
          0.5626179987413468,
          0.5632473253618628,
          0.5632473253618628,
          0.5635619886721208,
          0.5635619886721208,
          0.5638766519823789,
          0.5638766519823789,
          0.5645059786028949,
          0.5645059786028949,
          0.565449968533669,
          0.566079295154185,
          0.566079295154185,
          0.5663939584644431,
          0.5663939584644431,
          0.566708621774701,
          0.566708621774701,
          0.5670232850849591,
          0.5670232850849591,
          0.5673379483952171,
          0.5673379483952171,
          0.5679672750157332,
          0.5679672750157332,
          0.5682819383259912,
          0.5682819383259912,
          0.5695405915670233,
          0.5695405915670233,
          0.5707992448080553,
          0.5707992448080553,
          0.5711139081183134,
          0.5711139081183134,
          0.5717432347388295,
          0.5717432347388295,
          0.5720578980490875,
          0.5720578980490875,
          0.5726872246696035,
          0.5726872246696035,
          0.5730018879798615,
          0.5730018879798615,
          0.5736312146003776,
          0.5736312146003776,
          0.5758338577721838,
          0.5758338577721838,
          0.5767778477029578,
          0.5767778477029578,
          0.5783511642542479,
          0.5783511642542479,
          0.5802391441157961,
          0.5802391441157961,
          0.5808684707363121,
          0.5808684707363121,
          0.5818124606670863,
          0.5818124606670863,
          0.5821271239773442,
          0.5821271239773442,
          0.5830711139081183,
          0.5830711139081183,
          0.5833857772183764,
          0.5833857772183764,
          0.5874764002517306,
          0.5874764002517306,
          0.5877910635619886,
          0.5877910635619886,
          0.5887350534927628,
          0.5887350534927628,
          0.5896790434235368,
          0.5896790434235368,
          0.5906230333543109,
          0.5906230333543109,
          0.5909376966645689,
          0.5909376966645689,
          0.5915670232850849,
          0.5915670232850849,
          0.5928256765261171,
          0.5928256765261171,
          0.5937696664568911,
          0.5937696664568911,
          0.5940843297671492,
          0.5940843297671492,
          0.5956576463184393,
          0.5956576463184393,
          0.5962869729389553,
          0.5962869729389553,
          0.5966016362492134,
          0.5966016362492134,
          0.5969162995594713,
          0.5969162995594713,
          0.5975456261799874,
          0.5975456261799874,
          0.5981749528005035,
          0.5981749528005035,
          0.5991189427312775,
          0.5991189427312775,
          0.6010069225928257,
          0.6010069225928257,
          0.6016362492133417,
          0.6016362492133417,
          0.6022655758338578,
          0.6022655758338578,
          0.6028949024543738,
          0.6028949024543738,
          0.6032095657646318,
          0.6032095657646318,
          0.6035242290748899,
          0.6035242290748899,
          0.60509754562618,
          0.60509754562618,
          0.6057268722466961,
          0.6060415355569541,
          0.606356198867212,
          0.606356198867212,
          0.6069855254877281,
          0.6069855254877281,
          0.6073001887979862,
          0.6073001887979862,
          0.6076148521082442,
          0.6076148521082442,
          0.6079295154185022,
          0.6079295154185022,
          0.6088735053492763,
          0.6088735053492763,
          0.6095028319697923,
          0.6095028319697923,
          0.6101321585903083,
          0.6101321585903083,
          0.6107614852108244,
          0.6107614852108244,
          0.6110761485210825,
          0.6110761485210825,
          0.6117054751415985,
          0.6117054751415985,
          0.6126494650723726,
          0.6126494650723726,
          0.6129641283826306,
          0.6129641283826306,
          0.6132787916928886,
          0.6132787916928886,
          0.6139081183134046,
          0.6139081183134046,
          0.6151667715544368,
          0.6151667715544368,
          0.6154814348646948,
          0.6154814348646948,
          0.6157960981749528,
          0.6157960981749528,
          0.6164254247954688,
          0.6164254247954688,
          0.6167400881057269,
          0.6167400881057269,
          0.6176840780365009,
          0.6176840780365009,
          0.6179987413467589,
          0.6179987413467589,
          0.6189427312775331,
          0.6189427312775331,
          0.619572057898049,
          0.619572057898049,
          0.6198867212083071,
          0.6198867212083071,
          0.6205160478288232,
          0.6205160478288232,
          0.6208307111390812,
          0.6208307111390812,
          0.6211453744493393,
          0.6211453744493393,
          0.6220893643801133,
          0.6220893643801133,
          0.6224040276903713,
          0.6224040276903713,
          0.6233480176211453,
          0.6233480176211453,
          0.6236626809314034,
          0.6236626809314034,
          0.6236626809314034,
          0.6236626809314034,
          0.6249213341724354,
          0.6249213341724354,
          0.6252359974826935,
          0.6252359974826935,
          0.6255506607929515,
          0.6255506607929515,
          0.6261799874134676,
          0.6261799874134676,
          0.6264946507237256,
          0.6264946507237256,
          0.6277533039647577,
          0.6277533039647577,
          0.6283826305852738,
          0.6283826305852738,
          0.6290119572057898,
          0.6290119572057898,
          0.6293266205160478,
          0.6293266205160478,
          0.6299559471365639,
          0.6299559471365639,
          0.63058527375708,
          0.63058527375708,
          0.6308999370673379,
          0.6308999370673379,
          0.631843926998112,
          0.631843926998112,
          0.6321585903083701,
          0.632473253618628,
          0.6331025802391441,
          0.6331025802391441,
          0.6337319068596602,
          0.6337319068596602,
          0.6343612334801763,
          0.6343612334801763,
          0.6353052234109503,
          0.6353052234109503,
          0.6362492133417244,
          0.6362492133417244,
          0.6368785399622404,
          0.6368785399622404,
          0.6378225298930145,
          0.6378225298930145,
          0.6381371932032724,
          0.6381371932032724,
          0.6384518565135305,
          0.6384518565135305,
          0.6387665198237885,
          0.6387665198237885,
          0.6393958464443046,
          0.6393958464443046,
          0.6397105097545627,
          0.6397105097545627,
          0.6419131529263687,
          0.6419131529263687,
          0.6422278162366268,
          0.6422278162366268,
          0.644430459408433,
          0.644430459408433,
          0.644745122718691,
          0.644745122718691,
          0.6460037759597231,
          0.6460037759597231,
          0.6472624292007552,
          0.6472624292007552,
          0.6475770925110133,
          0.6475770925110133,
          0.6478917558212712,
          0.6478917558212712,
          0.6482064191315292,
          0.6482064191315292,
          0.6488357457520453,
          0.6488357457520453,
          0.6516677155443675,
          0.6516677155443675,
          0.6532410320956576,
          0.6532410320956576,
          0.6538703587161737,
          0.6538703587161737,
          0.6563876651982379,
          0.6563876651982379,
          0.6567023285084959,
          0.6567023285084959,
          0.657016991818754,
          0.657016991818754,
          0.6573316551290119,
          0.6573316551290119,
          0.6595342983008181,
          0.6595342983008181,
          0.6601636249213342,
          0.6601636249213342,
          0.6604782882315922,
          0.6604782882315922,
          0.6607929515418502,
          0.6607929515418502,
          0.6611076148521082,
          0.6611076148521082,
          0.6614222781623663,
          0.6614222781623663,
          0.6617369414726243,
          0.6617369414726243,
          0.6623662680931404,
          0.6623662680931404,
          0.6645689112649465,
          0.6645689112649465,
          0.6651982378854625,
          0.6651982378854625,
          0.6655129011957206,
          0.6655129011957206,
          0.6658275645059786,
          0.6658275645059786,
          0.6661422278162367,
          0.6661422278162367,
          0.6664568911264946,
          0.6664568911264946,
          0.6677155443675268,
          0.6677155443675268,
          0.6686595342983008,
          0.6686595342983008,
          0.6689741976085588,
          0.6689741976085588,
          0.6692888609188169,
          0.6692888609188169,
          0.671176840780365,
          0.671176840780365,
          0.6714915040906231,
          0.6714915040906231,
          0.672120830711139,
          0.672120830711139,
          0.6730648206419132,
          0.6730648206419132,
          0.6736941472624292,
          0.6736941472624292,
          0.6762114537444934,
          0.6762114537444934,
          0.6771554436752675,
          0.6771554436752675,
          0.6784140969162996,
          0.6784140969162996,
          0.6787287602265576,
          0.6787287602265576,
          0.6799874134675897,
          0.6799874134675897,
          0.6809314033983638,
          0.6809314033983638,
          0.6828193832599119,
          0.6828193832599119,
          0.68313404657017,
          0.68313404657017,
          0.684078036500944,
          0.684078036500944,
          0.6850220264317181,
          0.6850220264317181,
          0.685336689741976,
          0.685336689741976,
          0.6859660163624921,
          0.6878539962240403,
          0.6878539962240403,
          0.6884833228445564,
          0.6891126494650723,
          0.6891126494650723,
          0.6897419760855884,
          0.6897419760855884,
          0.6910006293266205,
          0.6910006293266205,
          0.6928886091881686,
          0.6928886091881686,
          0.6932032724984267,
          0.6932032724984267,
          0.6935179358086847,
          0.6935179358086847,
          0.6938325991189427,
          0.6938325991189427,
          0.6947765890497168,
          0.7001258653241033,
          0.7001258653241033,
          0.7010698552548773,
          0.7010698552548773,
          0.7023285084959093,
          0.7023285084959093,
          0.7029578351164254,
          0.7029578351164254,
          0.7032724984266835,
          0.7032724984266835,
          0.7039018250471994,
          0.7039018250471994,
          0.7045311516677155,
          0.7045311516677155,
          0.7048458149779736,
          0.7048458149779736,
          0.7051604782882316,
          0.7051604782882316,
          0.7057898049087477,
          0.7057898049087477,
          0.7064191315292637,
          0.7064191315292637,
          0.7067337948395217,
          0.7067337948395217,
          0.7070484581497798,
          0.7070484581497798,
          0.7073631214600378,
          0.7073631214600378,
          0.7079924480805538,
          0.7079924480805538,
          0.7089364380113279,
          0.7089364380113279,
          0.71019509125236,
          0.71019509125236,
          0.710509754562618,
          0.710509754562618,
          0.7111390811831341,
          0.7111390811831341,
          0.7117684078036501,
          0.7117684078036501,
          0.7120830711139081,
          0.7120830711139081,
          0.7127123977344242,
          0.7127123977344242,
          0.7136563876651982,
          0.7136563876651982,
          0.7139710509754562,
          0.7139710509754562,
          0.7152297042164883,
          0.7152297042164883,
          0.7155443675267463,
          0.7155443675267463,
          0.7161736941472624,
          0.7161736941472624,
          0.7168030207677785,
          0.7168030207677785,
          0.7171176840780366,
          0.7171176840780366,
          0.7180616740088106,
          0.7180616740088106,
          0.7193203272498426,
          0.7193203272498426,
          0.7196349905601007,
          0.7196349905601007,
          0.7202643171806168,
          0.7202643171806168,
          0.7205789804908748,
          0.7205789804908748,
          0.7212083071113908,
          0.7212083071113908,
          0.7218376337319069,
          0.7218376337319069,
          0.7224669603524229,
          0.7224669603524229,
          0.722781623662681,
          0.722781623662681,
          0.723725613593455,
          0.723725613593455,
          0.7243549402139711,
          0.7243549402139711,
          0.724669603524229,
          0.724669603524229,
          0.7259282567652612,
          0.7259282567652612,
          0.7268722466960352,
          0.7268722466960352,
          0.7271869100062933,
          0.7271869100062933,
          0.7278162366268093,
          0.7278162366268093,
          0.7284455632473253,
          0.7284455632473253,
          0.7290748898678414,
          0.7290748898678414,
          0.7293895531780994,
          0.7293895531780994,
          0.7297042164883575,
          0.7297042164883575,
          0.7306482064191315,
          0.7306482064191315,
          0.7319068596601637,
          0.7319068596601637,
          0.7325361862806796,
          0.7325361862806796,
          0.7331655129011957,
          0.7331655129011957,
          0.7341095028319697,
          0.7341095028319697,
          0.7344241661422278,
          0.7344241661422278,
          0.7347388294524858,
          0.7347388294524858,
          0.7350534927627439,
          0.7350534927627439,
          0.73568281938326,
          0.73568281938326,
          0.736626809314034,
          0.736626809314034,
          0.736941472624292,
          0.736941472624292,
          0.7375707992448081,
          0.7375707992448081,
          0.7382001258653241,
          0.7382001258653241,
          0.7388294524858402,
          0.7391441157960982,
          0.7391441157960982,
          0.7394587791063562,
          0.7394587791063562,
          0.7397734424166142,
          0.7397734424166142,
          0.7400881057268722,
          0.7400881057268722,
          0.7410320956576463,
          0.7410320956576463,
          0.7416614222781623,
          0.7416614222781623,
          0.7419760855884204,
          0.7419760855884204,
          0.7432347388294525,
          0.7432347388294525,
          0.7444933920704846,
          0.7444933920704846,
          0.7451227186910007,
          0.7451227186910007,
          0.7463813719320327,
          0.7463813719320327,
          0.7466960352422908,
          0.7466960352422908,
          0.7479546884833228,
          0.7479546884833228,
          0.7482693517935809,
          0.7482693517935809,
          0.7492133417243549,
          0.7492133417243549,
          0.749842668344871,
          0.749842668344871,
          0.750157331655129,
          0.750157331655129,
          0.7504719949653871,
          0.7504719949653871,
          0.7507866582756451,
          0.7507866582756451,
          0.7517306482064191,
          0.7517306482064191,
          0.7533039647577092,
          0.7533039647577092,
          0.7536186280679673,
          0.7536186280679673,
          0.7539332913782253,
          0.7539332913782253,
          0.7567652611705475,
          0.7567652611705475,
          0.7573945877910636,
          0.7573945877910636,
          0.7577092511013216,
          0.7577092511013216,
          0.7583385777218377,
          0.7583385777218377,
          0.7595972309628697,
          0.7602265575833858,
          0.7602265575833858,
          0.7614852108244179,
          0.7614852108244179,
          0.763058527375708,
          0.763058527375708,
          0.763373190685966,
          0.763373190685966,
          0.7646318439269981,
          0.7646318439269981,
          0.7649465072372561,
          0.7649465072372561,
          0.7652611705475142,
          0.7652611705475142,
          0.7655758338577722,
          0.7655758338577722,
          0.7665198237885462,
          0.7665198237885462,
          0.7668344870988043,
          0.7668344870988043,
          0.7674638137193204,
          0.7674638137193204,
          0.7680931403398363,
          0.7680931403398363,
          0.7684078036500944,
          0.7684078036500944,
          0.7690371302706105,
          0.7690371302706105,
          0.7696664568911264,
          0.7696664568911264,
          0.7699811202013845,
          0.7699811202013845,
          0.7731277533039648,
          0.7731277533039648,
          0.7737570799244808,
          0.7737570799244808,
          0.7743864065449969,
          0.7743864065449969,
          0.7747010698552549,
          0.7747010698552549,
          0.7756450597860289,
          0.7756450597860289,
          0.775959723096287,
          0.775959723096287,
          0.776274386406545,
          0.776274386406545,
          0.776589049716803,
          0.776589049716803,
          0.7775330396475771,
          0.7775330396475771,
          0.7778477029578351,
          0.7778477029578351,
          0.7787916928886092,
          0.7787916928886092,
          0.7800503461296413,
          0.7800503461296413,
          0.7803650094398993,
          0.7803650094398993,
          0.7806796727501574,
          0.7806796727501574,
          0.7816236626809314,
          0.7816236626809314,
          0.7825676526117055,
          0.7825676526117055,
          0.7828823159219634,
          0.7828823159219634,
          0.7831969792322215,
          0.7831969792322215,
          0.7835116425424795,
          0.7835116425424795,
          0.7841409691629956,
          0.7841409691629956,
          0.7847702957835117,
          0.7847702957835117,
          0.7857142857142857,
          0.7857142857142857,
          0.7866582756450597,
          0.7866582756450597,
          0.7872876022655758,
          0.7872876022655758,
          0.7876022655758339,
          0.7876022655758339,
          0.7879169288860919,
          0.7879169288860919,
          0.789490245437382,
          0.789490245437382,
          0.7907488986784141,
          0.7907488986784141,
          0.7910635619886721,
          0.7910635619886721,
          0.7916928886091882,
          0.7916928886091882,
          0.7926368785399622,
          0.7926368785399622,
          0.7954688483322845,
          0.7954688483322845,
          0.7960981749528006,
          0.7960981749528006,
          0.7967275015733165,
          0.7967275015733165,
          0.7970421648835746,
          0.7970421648835746,
          0.7983008181246066,
          0.7983008181246066,
          0.7986154814348647,
          0.7986154814348647,
          0.7992448080553808,
          0.7992448080553808,
          0.7998741346758967,
          0.7998741346758967,
          0.8001887979861548,
          0.8001887979861548,
          0.8005034612964128,
          0.8005034612964128,
          0.8008181246066709,
          0.8008181246066709,
          0.8011327879169289,
          0.8011327879169289,
          0.8014474512271869,
          0.8014474512271869,
          0.8020767778477029,
          0.8020767778477029,
          0.802706104468219,
          0.802706104468219,
          0.8030207677784771,
          0.803650094398993,
          0.803650094398993,
          0.8042794210195091,
          0.8042794210195091,
          0.8045940843297672,
          0.8045940843297672,
          0.8049087476400252,
          0.8049087476400252,
          0.8055380742605412,
          0.8055380742605412,
          0.8058527375707992,
          0.8058527375707992,
          0.8067967275015733,
          0.8067967275015733,
          0.8071113908118314,
          0.8071113908118314,
          0.8083700440528634,
          0.8083700440528634,
          0.8093140339836375,
          0.8093140339836375,
          0.8096286972938955,
          0.8096286972938955,
          0.8102580239144116,
          0.8102580239144116,
          0.8115166771554436,
          0.8115166771554436,
          0.8121460037759597,
          0.8121460037759597,
          0.8124606670862178,
          0.8124606670862178,
          0.8127753303964758,
          0.8127753303964758,
          0.8130899937067338,
          0.8130899937067338,
          0.8137193203272498,
          0.8137193203272498,
          0.814663310258024,
          0.814663310258024,
          0.815607300188798,
          0.815607300188798,
          0.8174952800503461,
          0.8174952800503461,
          0.8178099433606042,
          0.8178099433606042,
          0.8184392699811202,
          0.8184392699811202,
          0.8187539332913782,
          0.8187539332913782,
          0.8190685966016362,
          0.8190685966016362,
          0.8196979232221523,
          0.8196979232221523,
          0.8200125865324103,
          0.8200125865324103,
          0.8203272498426684,
          0.8203272498426684,
          0.8206419131529263,
          0.8206419131529263,
          0.8212712397734424,
          0.8212712397734424,
          0.8215859030837004,
          0.8215859030837004,
          0.8219005663939585,
          0.8219005663939585,
          0.8228445563247325,
          0.8228445563247325,
          0.8231592196349906,
          0.8231592196349906,
          0.8234738829452486,
          0.8234738829452486,
          0.8247325361862807,
          0.8247325361862807,
          0.8250471994965387,
          0.8250471994965387,
          0.8253618628067967,
          0.8253618628067967,
          0.8263058527375708,
          0.8263058527375708,
          0.8269351793580868,
          0.8269351793580868,
          0.8272498426683449,
          0.8272498426683449,
          0.827879169288861,
          0.827879169288861,
          0.8281938325991189,
          0.8281938325991189,
          0.8285084959093769,
          0.8285084959093769,
          0.829137822529893,
          0.829137822529893,
          0.8297671491504091,
          0.8297671491504091,
          0.830081812460667,
          0.830081812460667,
          0.8303964757709251,
          0.8303964757709251,
          0.8313404657016992,
          0.8313404657016992,
          0.8316551290119572,
          0.8316551290119572,
          0.8319697923222152,
          0.8319697923222152,
          0.8325991189427313,
          0.8325991189427313,
          0.8329137822529893,
          0.8329137822529893,
          0.8338577721837633,
          0.8338577721837633,
          0.8351164254247955,
          0.8351164254247955,
          0.8370044052863436,
          0.8370044052863436,
          0.8376337319068596,
          0.8376337319068596,
          0.8379483952171177,
          0.8379483952171177,
          0.8382630585273757,
          0.8382630585273757,
          0.8385777218376337,
          0.8385777218376337,
          0.8392070484581498,
          0.8392070484581498,
          0.8395217117684078,
          0.8395217117684078,
          0.8401510383889238,
          0.8401510383889238,
          0.8404657016991819,
          0.8404657016991819,
          0.841095028319698,
          0.841095028319698,
          0.841724354940214,
          0.841724354940214,
          0.8426683448709881,
          0.8426683448709881,
          0.842983008181246,
          0.842983008181246,
          0.8439269981120201,
          0.8439269981120201,
          0.8451856513530522,
          0.8451856513530522,
          0.8455003146633102,
          0.8455003146633102,
          0.8458149779735683,
          0.8458149779735683,
          0.8461296412838263,
          0.8461296412838263,
          0.8464443045940844,
          0.8464443045940844,
          0.8467589679043424,
          0.8467589679043424,
          0.8470736312146003,
          0.8470736312146003,
          0.8473882945248584,
          0.8473882945248584,
          0.8480176211453745,
          0.8480176211453745,
          0.8483322844556325,
          0.8483322844556325,
          0.8486469477658904,
          0.8486469477658904,
          0.8489616110761485,
          0.8489616110761485,
          0.8492762743864065,
          0.8492762743864065,
          0.8499056010069226,
          0.8499056010069226,
          0.8502202643171806,
          0.8502202643171806,
          0.8511642542479547,
          0.8511642542479547,
          0.8514789175582127,
          0.8514789175582127,
          0.8521082441787288,
          0.8521082441787288,
          0.8527375707992448,
          0.8527375707992448,
          0.8530522341095028,
          0.8530522341095028,
          0.8533668974197609,
          0.8533668974197609,
          0.8539962240402769,
          0.8539962240402769,
          0.854940213971051,
          0.854940213971051,
          0.855254877281309,
          0.855254877281309,
          0.855569540591567,
          0.855569540591567,
          0.8558842039018251,
          0.8558842039018251,
          0.856198867212083,
          0.856198867212083,
          0.8565135305223411,
          0.8565135305223411,
          0.8568281938325991,
          0.8568281938325991,
          0.8571428571428571,
          0.8571428571428571,
          0.8577721837633732,
          0.8577721837633732,
          0.8580868470736313,
          0.8580868470736313,
          0.8584015103838892,
          0.8584015103838892,
          0.8587161736941472,
          0.8587161736941472,
          0.8590308370044053,
          0.8590308370044053,
          0.8593455003146633,
          0.8593455003146633,
          0.8596601636249214,
          0.8596601636249214,
          0.8599748269351793,
          0.8599748269351793,
          0.8609188168659534,
          0.8609188168659534,
          0.8612334801762115,
          0.8612334801762115,
          0.8615481434864695,
          0.8615481434864695,
          0.8618628067967276,
          0.8618628067967276,
          0.8628067967275016,
          0.8628067967275016,
          0.8637507866582756,
          0.8637507866582756,
          0.8643801132787917,
          0.8643801132787917,
          0.8646947765890497,
          0.8646947765890497,
          0.8650094398993078,
          0.8650094398993078,
          0.8659534298300818,
          0.8659534298300818,
          0.8662680931403398,
          0.8662680931403398,
          0.8665827564505979,
          0.8665827564505979,
          0.8668974197608559,
          0.8668974197608559,
          0.867526746381372,
          0.867526746381372,
          0.8678414096916299,
          0.8678414096916299,
          0.868156073001888,
          0.868156073001888,
          0.868470736312146,
          0.868470736312146,
          0.868785399622404,
          0.868785399622404,
          0.8691000629326621,
          0.8691000629326621,
          0.8703587161736942,
          0.8703587161736942,
          0.8706733794839522,
          0.8706733794839522,
          0.8709880427942102,
          0.8709880427942102,
          0.8713027061044682,
          0.8713027061044682,
          0.8716173694147262,
          0.8716173694147262,
          0.8722466960352423,
          0.8722466960352423,
          0.8725613593455003,
          0.8725613593455003,
          0.8731906859660163,
          0.8731906859660163,
          0.8735053492762744,
          0.8735053492762744,
          0.8738200125865324,
          0.8738200125865324,
          0.8741346758967904,
          0.8741346758967904,
          0.8753933291378225,
          0.8753933291378225,
          0.8757079924480805,
          0.8757079924480805,
          0.8769666456891126,
          0.8769666456891126,
          0.8772813089993706,
          0.8772813089993706,
          0.8775959723096287,
          0.8775959723096287,
          0.8779106356198867,
          0.8779106356198867,
          0.8788546255506607,
          0.8788546255506607,
          0.8794839521711768,
          0.8794839521711768,
          0.8801132787916929,
          0.8801132787916929,
          0.880427942101951,
          0.880427942101951,
          0.880742605412209,
          0.880742605412209,
          0.8810572687224669,
          0.8810572687224669,
          0.881371932032725,
          0.881371932032725,
          0.881686595342983,
          0.881686595342983,
          0.8820012586532411,
          0.8820012586532411,
          0.8823159219634991,
          0.8823159219634991,
          0.882630585273757,
          0.882630585273757,
          0.8829452485840151,
          0.8829452485840151,
          0.8835745752045312,
          0.8845185651353052,
          0.8845185651353052,
          0.8851478917558213,
          0.8851478917558213,
          0.8854625550660793,
          0.8854625550660793,
          0.8857772183763373,
          0.8857772183763373,
          0.8860918816865954,
          0.8860918816865954,
          0.8873505349276274,
          0.8873505349276274,
          0.8876651982378855,
          0.8876651982378855,
          0.8879798615481435,
          0.8879798615481435,
          0.8882945248584015,
          0.8882945248584015,
          0.8886091881686595,
          0.8886091881686595,
          0.8889238514789175,
          0.8889238514789175,
          0.8895531780994336,
          0.8895531780994336,
          0.8904971680302077,
          0.8904971680302077,
          0.8911264946507237,
          0.8911264946507237,
          0.8930144745122719,
          0.8930144745122719,
          0.8933291378225299,
          0.8933291378225299,
          0.893643801132788,
          0.893643801132788,
          0.8939584644430459,
          0.8939584644430459,
          0.8942731277533039,
          0.8942731277533039,
          0.894587791063562,
          0.894587791063562,
          0.89490245437382,
          0.89490245437382,
          0.895846444304594,
          0.895846444304594,
          0.8961611076148521,
          0.8961611076148521,
          0.8964757709251101,
          0.8964757709251101,
          0.8967904342353682,
          0.8967904342353682,
          0.8971050975456262,
          0.8971050975456262,
          0.8977344241661422,
          0.8977344241661422,
          0.8980490874764002,
          0.8980490874764002,
          0.8983637507866583,
          0.8983637507866583,
          0.8989930774071743,
          0.8989930774071743,
          0.8993077407174324,
          0.8993077407174324,
          0.8996224040276903,
          0.8996224040276903,
          0.8999370673379484,
          0.8999370673379484,
          0.9002517306482064,
          0.9002517306482064,
          0.9005663939584645,
          0.9005663939584645,
          0.9008810572687225,
          0.9008810572687225,
          0.9011957205789805,
          0.9011957205789805,
          0.9015103838892385,
          0.9015103838892385,
          0.9018250471994965,
          0.9018250471994965,
          0.9030837004405287,
          0.9030837004405287,
          0.9043423536815607,
          0.9043423536815607,
          0.9059156702328508,
          0.9059156702328508,
          0.9062303335431089,
          0.9062303335431089,
          0.9065449968533669,
          0.9065449968533669,
          0.9074889867841409,
          0.9074889867841409,
          0.908118313404657,
          0.908118313404657,
          0.9084329767149151,
          0.9084329767149151,
          0.908747640025173,
          0.908747640025173,
          0.9096916299559471,
          0.9096916299559471,
          0.9100062932662052,
          0.9100062932662052,
          0.9115796098174953,
          0.9115796098174953,
          0.9122089364380114,
          0.9122089364380114,
          0.9125235997482694,
          0.9125235997482694,
          0.9128382630585273,
          0.9128382630585273,
          0.9131529263687854,
          0.9131529263687854,
          0.9134675896790434,
          0.9134675896790434,
          0.9137822529893015,
          0.9137822529893015,
          0.9144115796098174,
          0.9144115796098174,
          0.9150409062303335,
          0.9150409062303335,
          0.9153555695405916,
          0.9153555695405916,
          0.9156702328508496,
          0.9156702328508496,
          0.9162995594713657,
          0.9162995594713657,
          0.9166142227816236,
          0.9166142227816236,
          0.9181875393329137,
          0.9181875393329137,
          0.9185022026431718,
          0.9185022026431718,
          0.9188168659534298,
          0.9188168659534298,
          0.9191315292636879,
          0.9191315292636879,
          0.9197608558842039,
          0.9197608558842039,
          0.920075519194462,
          0.920075519194462,
          0.920704845814978,
          0.920704845814978,
          0.921019509125236,
          0.921019509125236,
          0.9216488357457521,
          0.9216488357457521,
          0.92196349905601,
          0.92196349905601,
          0.92196349905601,
          0.92196349905601,
          0.9222781623662681,
          0.9222781623662681,
          0.9225928256765261,
          0.9225928256765261,
          0.9229074889867841,
          0.9229074889867841,
          0.9235368156073002,
          0.9235368156073002,
          0.9238514789175583,
          0.9238514789175583,
          0.9241661422278162,
          0.9241661422278162,
          0.9254247954688484,
          0.9254247954688484,
          0.9257394587791064,
          0.9257394587791064,
          0.9260541220893643,
          0.9260541220893643,
          0.9263687853996224,
          0.9263687853996224,
          0.9269981120201385,
          0.9269981120201385,
          0.9273127753303965,
          0.9273127753303965,
          0.9282567652611705,
          0.9282567652611705,
          0.9285714285714286,
          0.9285714285714286,
          0.9292007551919447,
          0.9292007551919447,
          0.9295154185022027,
          0.9295154185022027,
          0.9301447451227187,
          0.9301447451227187,
          0.9304594084329767,
          0.9304594084329767,
          0.9310887350534928,
          0.9310887350534928,
          0.9314033983637507,
          0.9314033983637507,
          0.9317180616740088,
          0.9317180616740088,
          0.9329767149150409,
          0.9329767149150409,
          0.933920704845815,
          0.933920704845815,
          0.934235368156073,
          0.934235368156073,
          0.9348646947765891,
          0.9348646947765891,
          0.935179358086847,
          0.935179358086847,
          0.9354940213971051,
          0.9354940213971051,
          0.9361233480176211,
          0.9361233480176211,
          0.9364380113278792,
          0.9364380113278792,
          0.9364380113278792,
          0.9367526746381372,
          0.9367526746381372,
          0.9370673379483953,
          0.9370673379483953,
          0.9383259911894273,
          0.9383259911894273,
          0.9386406544996854,
          0.9386406544996854,
          0.9389553178099433,
          0.9389553178099433,
          0.9392699811202014,
          0.9392699811202014,
          0.9398993077407174,
          0.9398993077407174,
          0.9402139710509755,
          0.9402139710509755,
          0.9405286343612335,
          0.9405286343612335,
          0.9408432976714916,
          0.9408432976714916,
          0.9414726242920075,
          0.9414726242920075,
          0.9424166142227817,
          0.9424166142227817,
          0.9427312775330396,
          0.9427312775330396,
          0.9430459408432976,
          0.9430459408432976,
          0.9433606041535557,
          0.9433606041535557,
          0.9443045940843298,
          0.9443045940843298,
          0.9446192573945877,
          0.9446192573945877,
          0.9449339207048458,
          0.9449339207048458,
          0.9452485840151038,
          0.9452485840151038,
          0.9455632473253619,
          0.9455632473253619,
          0.9461925739458779,
          0.9461925739458779,
          0.9468219005663939,
          0.9468219005663939,
          0.947136563876652,
          0.947136563876652,
          0.9477658904971681,
          0.9477658904971681,
          0.948395217117684,
          0.948395217117684,
          0.9490245437382001,
          0.9490245437382001,
          0.9496538703587162,
          0.9496538703587162,
          0.9499685336689742,
          0.9499685336689742,
          0.9505978602894902,
          0.9505978602894902,
          0.9515418502202643,
          0.9515418502202643,
          0.9521711768407803,
          0.9521711768407803,
          0.9528005034612964,
          0.9528005034612964,
          0.9531151667715544,
          0.9531151667715544,
          0.9534298300818125,
          0.9534298300818125,
          0.9537444933920705,
          0.9537444933920705,
          0.9540591567023285,
          0.9540591567023285,
          0.9543738200125865,
          0.9543738200125865,
          0.9546884833228445,
          0.9546884833228445,
          0.9553178099433606,
          0.9553178099433606,
          0.9562617998741346,
          0.9562617998741346,
          0.9565764631843927,
          0.9565764631843927,
          0.9575204531151668,
          0.9575204531151668,
          0.9578351164254248,
          0.9578351164254248,
          0.9581497797356828,
          0.9581497797356828,
          0.9584644430459408,
          0.9584644430459408,
          0.9587791063561989,
          0.9587791063561989,
          0.959408432976715,
          0.959408432976715,
          0.960352422907489,
          0.960352422907489,
          0.9609817495280051,
          0.9609817495280051,
          0.9612964128382631,
          0.9612964128382631,
          0.961611076148521,
          0.961611076148521,
          0.9619257394587791,
          0.9619257394587791,
          0.9622404027690371,
          0.9622404027690371,
          0.9628697293895532,
          0.9628697293895532,
          0.9631843926998112,
          0.9631843926998112,
          0.9634990560100692,
          0.9634990560100692,
          0.9638137193203272,
          0.9638137193203272,
          0.9644430459408433,
          0.9644430459408433,
          0.9647577092511013,
          0.9647577092511013,
          0.9650723725613594,
          0.9650723725613594,
          0.9653870358716173,
          0.9653870358716173,
          0.9657016991818754,
          0.9657016991818754,
          0.9666456891126495,
          0.9666456891126495,
          0.9669603524229075,
          0.9669603524229075,
          0.9682190056639396,
          0.9682190056639396,
          0.9685336689741976,
          0.9685336689741976,
          0.9688483322844557,
          0.9688483322844557,
          0.9694776589049717,
          0.9694776589049717,
          0.9697923222152297,
          0.9697923222152297,
          0.9701069855254877,
          0.9701069855254877,
          0.9704216488357458,
          0.9704216488357458,
          0.9707363121460038,
          0.9707363121460038,
          0.9710509754562618,
          0.9710509754562618,
          0.9719949653870359,
          0.9719949653870359,
          0.9723096286972939,
          0.9723096286972939,
          0.972624292007552,
          0.972624292007552,
          0.9729389553178099,
          0.9729389553178099,
          0.9732536186280679,
          0.9732536186280679,
          0.973568281938326,
          0.973568281938326,
          0.973882945248584,
          0.973882945248584,
          0.9745122718691,
          0.9745122718691,
          0.9751415984896161,
          0.9751415984896161,
          0.9754562617998741,
          0.9754562617998741,
          0.9757709251101322,
          0.9757709251101322,
          0.9760855884203902,
          0.9760855884203902,
          0.9770295783511642,
          0.9770295783511642,
          0.9773442416614223,
          0.9773442416614223,
          0.9776589049716803,
          0.9776589049716803,
          0.9779735682819384,
          0.9779735682819384,
          0.9782882315921964,
          0.9782882315921964,
          0.9786028949024543,
          0.9786028949024543,
          0.9789175582127124,
          0.9789175582127124,
          0.9795468848332285,
          0.9795468848332285,
          0.9798615481434865,
          0.9798615481434865,
          0.9801762114537445,
          0.9801762114537445,
          0.9804908747640025,
          0.9804908747640025,
          0.9808055380742605,
          0.9808055380742605,
          0.9811202013845186,
          0.9811202013845186,
          0.9814348646947766,
          0.9814348646947766,
          0.9820641913152927,
          0.9820641913152927,
          0.9820641913152927,
          0.9820641913152927,
          0.9823788546255506,
          0.9823788546255506,
          0.9826935179358087,
          0.9826935179358087,
          0.9826935179358087,
          0.9826935179358087,
          0.9830081812460667,
          0.9839521711768408,
          0.9839521711768408,
          0.9839521711768408,
          0.9839521711768408,
          0.9839521711768408,
          0.9842668344870988,
          0.9855254877281309,
          0.9855254877281309,
          0.9855254877281309,
          0.9855254877281309,
          0.986469477658905,
          0.986469477658905,
          0.986469477658905,
          0.986469477658905,
          0.986469477658905,
          0.986469477658905,
          0.986784140969163,
          0.9883574575204531,
          0.9886721208307111,
          0.9886721208307111,
          0.9886721208307111,
          0.9886721208307111,
          0.9886721208307111,
          0.9893014474512272,
          0.9893014474512272,
          0.9896161107614853,
          0.9896161107614853,
          0.9899307740717432,
          0.9899307740717432,
          0.9902454373820012,
          0.9902454373820012,
          0.9905601006922593,
          0.9905601006922593,
          0.9905601006922593,
          0.9908747640025173,
          0.9908747640025173,
          0.9911894273127754,
          0.9911894273127754,
          0.9915040906230334,
          0.9915040906230334,
          0.9915040906230334,
          0.9915040906230334,
          0.9915040906230334,
          0.9918187539332913,
          0.9918187539332913,
          0.9921334172435494,
          0.9921334172435494,
          0.9924480805538074,
          0.9924480805538074,
          0.9924480805538074,
          0.9924480805538074,
          0.9927627438640655,
          0.9927627438640655,
          0.9930774071743235,
          0.9930774071743235,
          0.9937067337948395,
          0.9937067337948395,
          0.9940213971050975,
          0.9940213971050975,
          0.9943360604153556,
          0.9943360604153556,
          0.9943360604153556,
          0.9943360604153556,
          0.9946507237256136,
          0.9946507237256136,
          0.9949653870358716,
          0.9949653870358716,
          0.9952800503461297,
          0.9952800503461297,
          0.9955947136563876,
          0.9955947136563876,
          0.9955947136563876,
          0.9959093769666457,
          0.9959093769666457,
          0.9962240402769037,
          0.9962240402769037,
          0.9965387035871618,
          0.9965387035871618,
          0.9968533668974198,
          0.9968533668974198,
          0.9971680302076777,
          0.9971680302076777,
          0.9974826935179358,
          0.9974826935179358,
          0.9977973568281938,
          0.9977973568281938,
          0.9981120201384519,
          0.9981120201384519,
          0.9984266834487099,
          0.9984266834487099,
          0.9987413467589679,
          0.9987413467589679,
          0.9993706733794839,
          0.9993706733794839,
          0.999685336689742,
          0.999685336689742,
          1,
          1
         ]
        },
        {
         "line": {
          "dash": "dot"
         },
         "mode": "lines",
         "name": "Contrast Line",
         "type": "scatter",
         "x": [
          0,
          1
         ],
         "y": [
          0,
          1
         ]
        },
        {
         "line": {
          "dash": "dash"
         },
         "mode": "lines",
         "name": "Random",
         "type": "scatter",
         "x": [
          0,
          1
         ],
         "y": [
          0,
          1
         ]
        }
       ],
       "layout": {
        "autosize": true,
        "legend": {
         "x": 1,
         "y": 1
        },
        "showlegend": true,
        "template": {
         "data": {
          "bar": [
           {
            "error_x": {
             "color": "#2a3f5f"
            },
            "error_y": {
             "color": "#2a3f5f"
            },
            "marker": {
             "line": {
              "color": "#E5ECF6",
              "width": 0.5
             },
             "pattern": {
              "fillmode": "overlay",
              "size": 10,
              "solidity": 0.2
             }
            },
            "type": "bar"
           }
          ],
          "barpolar": [
           {
            "marker": {
             "line": {
              "color": "#E5ECF6",
              "width": 0.5
             },
             "pattern": {
              "fillmode": "overlay",
              "size": 10,
              "solidity": 0.2
             }
            },
            "type": "barpolar"
           }
          ],
          "carpet": [
           {
            "aaxis": {
             "endlinecolor": "#2a3f5f",
             "gridcolor": "white",
             "linecolor": "white",
             "minorgridcolor": "white",
             "startlinecolor": "#2a3f5f"
            },
            "baxis": {
             "endlinecolor": "#2a3f5f",
             "gridcolor": "white",
             "linecolor": "white",
             "minorgridcolor": "white",
             "startlinecolor": "#2a3f5f"
            },
            "type": "carpet"
           }
          ],
          "choropleth": [
           {
            "colorbar": {
             "outlinewidth": 0,
             "ticks": ""
            },
            "type": "choropleth"
           }
          ],
          "contour": [
           {
            "colorbar": {
             "outlinewidth": 0,
             "ticks": ""
            },
            "colorscale": [
             [
              0,
              "#0d0887"
             ],
             [
              0.1111111111111111,
              "#46039f"
             ],
             [
              0.2222222222222222,
              "#7201a8"
             ],
             [
              0.3333333333333333,
              "#9c179e"
             ],
             [
              0.4444444444444444,
              "#bd3786"
             ],
             [
              0.5555555555555556,
              "#d8576b"
             ],
             [
              0.6666666666666666,
              "#ed7953"
             ],
             [
              0.7777777777777778,
              "#fb9f3a"
             ],
             [
              0.8888888888888888,
              "#fdca26"
             ],
             [
              1,
              "#f0f921"
             ]
            ],
            "type": "contour"
           }
          ],
          "contourcarpet": [
           {
            "colorbar": {
             "outlinewidth": 0,
             "ticks": ""
            },
            "type": "contourcarpet"
           }
          ],
          "heatmap": [
           {
            "colorbar": {
             "outlinewidth": 0,
             "ticks": ""
            },
            "colorscale": [
             [
              0,
              "#0d0887"
             ],
             [
              0.1111111111111111,
              "#46039f"
             ],
             [
              0.2222222222222222,
              "#7201a8"
             ],
             [
              0.3333333333333333,
              "#9c179e"
             ],
             [
              0.4444444444444444,
              "#bd3786"
             ],
             [
              0.5555555555555556,
              "#d8576b"
             ],
             [
              0.6666666666666666,
              "#ed7953"
             ],
             [
              0.7777777777777778,
              "#fb9f3a"
             ],
             [
              0.8888888888888888,
              "#fdca26"
             ],
             [
              1,
              "#f0f921"
             ]
            ],
            "type": "heatmap"
           }
          ],
          "heatmapgl": [
           {
            "colorbar": {
             "outlinewidth": 0,
             "ticks": ""
            },
            "colorscale": [
             [
              0,
              "#0d0887"
             ],
             [
              0.1111111111111111,
              "#46039f"
             ],
             [
              0.2222222222222222,
              "#7201a8"
             ],
             [
              0.3333333333333333,
              "#9c179e"
             ],
             [
              0.4444444444444444,
              "#bd3786"
             ],
             [
              0.5555555555555556,
              "#d8576b"
             ],
             [
              0.6666666666666666,
              "#ed7953"
             ],
             [
              0.7777777777777778,
              "#fb9f3a"
             ],
             [
              0.8888888888888888,
              "#fdca26"
             ],
             [
              1,
              "#f0f921"
             ]
            ],
            "type": "heatmapgl"
           }
          ],
          "histogram": [
           {
            "marker": {
             "pattern": {
              "fillmode": "overlay",
              "size": 10,
              "solidity": 0.2
             }
            },
            "type": "histogram"
           }
          ],
          "histogram2d": [
           {
            "colorbar": {
             "outlinewidth": 0,
             "ticks": ""
            },
            "colorscale": [
             [
              0,
              "#0d0887"
             ],
             [
              0.1111111111111111,
              "#46039f"
             ],
             [
              0.2222222222222222,
              "#7201a8"
             ],
             [
              0.3333333333333333,
              "#9c179e"
             ],
             [
              0.4444444444444444,
              "#bd3786"
             ],
             [
              0.5555555555555556,
              "#d8576b"
             ],
             [
              0.6666666666666666,
              "#ed7953"
             ],
             [
              0.7777777777777778,
              "#fb9f3a"
             ],
             [
              0.8888888888888888,
              "#fdca26"
             ],
             [
              1,
              "#f0f921"
             ]
            ],
            "type": "histogram2d"
           }
          ],
          "histogram2dcontour": [
           {
            "colorbar": {
             "outlinewidth": 0,
             "ticks": ""
            },
            "colorscale": [
             [
              0,
              "#0d0887"
             ],
             [
              0.1111111111111111,
              "#46039f"
             ],
             [
              0.2222222222222222,
              "#7201a8"
             ],
             [
              0.3333333333333333,
              "#9c179e"
             ],
             [
              0.4444444444444444,
              "#bd3786"
             ],
             [
              0.5555555555555556,
              "#d8576b"
             ],
             [
              0.6666666666666666,
              "#ed7953"
             ],
             [
              0.7777777777777778,
              "#fb9f3a"
             ],
             [
              0.8888888888888888,
              "#fdca26"
             ],
             [
              1,
              "#f0f921"
             ]
            ],
            "type": "histogram2dcontour"
           }
          ],
          "mesh3d": [
           {
            "colorbar": {
             "outlinewidth": 0,
             "ticks": ""
            },
            "type": "mesh3d"
           }
          ],
          "parcoords": [
           {
            "line": {
             "colorbar": {
              "outlinewidth": 0,
              "ticks": ""
             }
            },
            "type": "parcoords"
           }
          ],
          "pie": [
           {
            "automargin": true,
            "type": "pie"
           }
          ],
          "scatter": [
           {
            "fillpattern": {
             "fillmode": "overlay",
             "size": 10,
             "solidity": 0.2
            },
            "type": "scatter"
           }
          ],
          "scatter3d": [
           {
            "line": {
             "colorbar": {
              "outlinewidth": 0,
              "ticks": ""
             }
            },
            "marker": {
             "colorbar": {
              "outlinewidth": 0,
              "ticks": ""
             }
            },
            "type": "scatter3d"
           }
          ],
          "scattercarpet": [
           {
            "marker": {
             "colorbar": {
              "outlinewidth": 0,
              "ticks": ""
             }
            },
            "type": "scattercarpet"
           }
          ],
          "scattergeo": [
           {
            "marker": {
             "colorbar": {
              "outlinewidth": 0,
              "ticks": ""
             }
            },
            "type": "scattergeo"
           }
          ],
          "scattergl": [
           {
            "marker": {
             "colorbar": {
              "outlinewidth": 0,
              "ticks": ""
             }
            },
            "type": "scattergl"
           }
          ],
          "scattermapbox": [
           {
            "marker": {
             "colorbar": {
              "outlinewidth": 0,
              "ticks": ""
             }
            },
            "type": "scattermapbox"
           }
          ],
          "scatterpolar": [
           {
            "marker": {
             "colorbar": {
              "outlinewidth": 0,
              "ticks": ""
             }
            },
            "type": "scatterpolar"
           }
          ],
          "scatterpolargl": [
           {
            "marker": {
             "colorbar": {
              "outlinewidth": 0,
              "ticks": ""
             }
            },
            "type": "scatterpolargl"
           }
          ],
          "scatterternary": [
           {
            "marker": {
             "colorbar": {
              "outlinewidth": 0,
              "ticks": ""
             }
            },
            "type": "scatterternary"
           }
          ],
          "surface": [
           {
            "colorbar": {
             "outlinewidth": 0,
             "ticks": ""
            },
            "colorscale": [
             [
              0,
              "#0d0887"
             ],
             [
              0.1111111111111111,
              "#46039f"
             ],
             [
              0.2222222222222222,
              "#7201a8"
             ],
             [
              0.3333333333333333,
              "#9c179e"
             ],
             [
              0.4444444444444444,
              "#bd3786"
             ],
             [
              0.5555555555555556,
              "#d8576b"
             ],
             [
              0.6666666666666666,
              "#ed7953"
             ],
             [
              0.7777777777777778,
              "#fb9f3a"
             ],
             [
              0.8888888888888888,
              "#fdca26"
             ],
             [
              1,
              "#f0f921"
             ]
            ],
            "type": "surface"
           }
          ],
          "table": [
           {
            "cells": {
             "fill": {
              "color": "#EBF0F8"
             },
             "line": {
              "color": "white"
             }
            },
            "header": {
             "fill": {
              "color": "#C8D4E3"
             },
             "line": {
              "color": "white"
             }
            },
            "type": "table"
           }
          ]
         },
         "layout": {
          "annotationdefaults": {
           "arrowcolor": "#2a3f5f",
           "arrowhead": 0,
           "arrowwidth": 1
          },
          "autotypenumbers": "strict",
          "coloraxis": {
           "colorbar": {
            "outlinewidth": 0,
            "ticks": ""
           }
          },
          "colorscale": {
           "diverging": [
            [
             0,
             "#8e0152"
            ],
            [
             0.1,
             "#c51b7d"
            ],
            [
             0.2,
             "#de77ae"
            ],
            [
             0.3,
             "#f1b6da"
            ],
            [
             0.4,
             "#fde0ef"
            ],
            [
             0.5,
             "#f7f7f7"
            ],
            [
             0.6,
             "#e6f5d0"
            ],
            [
             0.7,
             "#b8e186"
            ],
            [
             0.8,
             "#7fbc41"
            ],
            [
             0.9,
             "#4d9221"
            ],
            [
             1,
             "#276419"
            ]
           ],
           "sequential": [
            [
             0,
             "#0d0887"
            ],
            [
             0.1111111111111111,
             "#46039f"
            ],
            [
             0.2222222222222222,
             "#7201a8"
            ],
            [
             0.3333333333333333,
             "#9c179e"
            ],
            [
             0.4444444444444444,
             "#bd3786"
            ],
            [
             0.5555555555555556,
             "#d8576b"
            ],
            [
             0.6666666666666666,
             "#ed7953"
            ],
            [
             0.7777777777777778,
             "#fb9f3a"
            ],
            [
             0.8888888888888888,
             "#fdca26"
            ],
            [
             1,
             "#f0f921"
            ]
           ],
           "sequentialminus": [
            [
             0,
             "#0d0887"
            ],
            [
             0.1111111111111111,
             "#46039f"
            ],
            [
             0.2222222222222222,
             "#7201a8"
            ],
            [
             0.3333333333333333,
             "#9c179e"
            ],
            [
             0.4444444444444444,
             "#bd3786"
            ],
            [
             0.5555555555555556,
             "#d8576b"
            ],
            [
             0.6666666666666666,
             "#ed7953"
            ],
            [
             0.7777777777777778,
             "#fb9f3a"
            ],
            [
             0.8888888888888888,
             "#fdca26"
            ],
            [
             1,
             "#f0f921"
            ]
           ]
          },
          "colorway": [
           "#636efa",
           "#EF553B",
           "#00cc96",
           "#ab63fa",
           "#FFA15A",
           "#19d3f3",
           "#FF6692",
           "#B6E880",
           "#FF97FF",
           "#FECB52"
          ],
          "font": {
           "color": "#2a3f5f"
          },
          "geo": {
           "bgcolor": "white",
           "lakecolor": "white",
           "landcolor": "#E5ECF6",
           "showlakes": true,
           "showland": true,
           "subunitcolor": "white"
          },
          "hoverlabel": {
           "align": "left"
          },
          "hovermode": "closest",
          "mapbox": {
           "style": "light"
          },
          "paper_bgcolor": "white",
          "plot_bgcolor": "#E5ECF6",
          "polar": {
           "angularaxis": {
            "gridcolor": "white",
            "linecolor": "white",
            "ticks": ""
           },
           "bgcolor": "#E5ECF6",
           "radialaxis": {
            "gridcolor": "white",
            "linecolor": "white",
            "ticks": ""
           }
          },
          "scene": {
           "xaxis": {
            "backgroundcolor": "#E5ECF6",
            "gridcolor": "white",
            "gridwidth": 2,
            "linecolor": "white",
            "showbackground": true,
            "ticks": "",
            "zerolinecolor": "white"
           },
           "yaxis": {
            "backgroundcolor": "#E5ECF6",
            "gridcolor": "white",
            "gridwidth": 2,
            "linecolor": "white",
            "showbackground": true,
            "ticks": "",
            "zerolinecolor": "white"
           },
           "zaxis": {
            "backgroundcolor": "#E5ECF6",
            "gridcolor": "white",
            "gridwidth": 2,
            "linecolor": "white",
            "showbackground": true,
            "ticks": "",
            "zerolinecolor": "white"
           }
          },
          "shapedefaults": {
           "line": {
            "color": "#2a3f5f"
           }
          },
          "ternary": {
           "aaxis": {
            "gridcolor": "white",
            "linecolor": "white",
            "ticks": ""
           },
           "baxis": {
            "gridcolor": "white",
            "linecolor": "white",
            "ticks": ""
           },
           "bgcolor": "#E5ECF6",
           "caxis": {
            "gridcolor": "white",
            "linecolor": "white",
            "ticks": ""
           }
          },
          "title": {
           "x": 0.05
          },
          "xaxis": {
           "automargin": true,
           "gridcolor": "white",
           "linecolor": "white",
           "ticks": "",
           "title": {
            "standoff": 15
           },
           "zerolinecolor": "white",
           "zerolinewidth": 2
          },
          "yaxis": {
           "automargin": true,
           "gridcolor": "white",
           "linecolor": "white",
           "ticks": "",
           "title": {
            "standoff": 15
           },
           "zerolinecolor": "white",
           "zerolinewidth": 2
          }
         }
        },
        "title": {
         "text": "ROC Curve of Best SVM Model",
         "x": 0.5
        },
        "xaxis": {
         "autorange": true,
         "range": [
          0,
          1
         ],
         "title": {
          "text": "False Positive Rate"
         },
         "type": "linear"
        },
        "yaxis": {
         "autorange": true,
         "range": [
          -0.05555555555555555,
          1.0555555555555556
         ],
         "title": {
          "text": "True Positive Rate"
         },
         "type": "linear"
        }
       }
      },
      "image/png": "[encoded data removed]",
      "text/html": [
       "<div>                            <div id=\"f71f1319-d409-436e-b0ae-e1e29a0d8346\" class=\"plotly-graph-div\" style=\"height:525px; width:100%;\"></div>            <script type=\"text/javascript\">                require([\"plotly\"], function(Plotly) {                    window.PLOTLYENV=window.PLOTLYENV || {};                                    if (document.getElementById(\"f71f1319-d409-436e-b0ae-e1e29a0d8346\")) {                    Plotly.newPlot(                        \"f71f1319-d409-436e-b0ae-e1e29a0d8346\",                        [{\"mode\":\"lines\",\"name\":\"ROC curve (area = 0.72)\",\"x\":[0.0,0.00033840947546531303,0.0006768189509306261,0.0006768189509306261,0.0010152284263959391,0.0010152284263959391,0.0013536379018612521,0.0013536379018612521,0.001692047377326565,0.001692047377326565,0.0027072758037225042,0.0027072758037225042,0.00338409475465313,0.00338409475465313,0.003722504230118443,0.003722504230118443,0.0040609137055837565,0.0040609137055837565,0.0047377326565143825,0.0047377326565143825,0.005076142131979695,0.005076142131979695,0.005752961082910322,0.005752961082910322,0.006429780033840948,0.006429780033840948,0.00676818950930626,0.00676818950930626,0.007106598984771574,0.007106598984771574,0.007445008460236886,0.007445008460236886,0.007445008460236886,0.0077834179357022,0.0077834179357022,0.0077834179357022,0.0077834179357022,0.008121827411167513,0.008121827411167513,0.008460236886632826,0.008460236886632826,0.008798646362098138,0.008798646362098138,0.009137055837563452,0.009137055837563452,0.009475465313028765,0.009475465313028765,0.009813874788494078,0.009813874788494078,0.01015228426395939,0.01015228426395939,0.010490693739424704,0.010490693739424704,0.010829103214890017,0.010829103214890017,0.01116751269035533,0.01116751269035533,0.011505922165820644,0.011505922165820644,0.011844331641285956,0.011844331641285956,0.012182741116751269,0.012182741116751269,0.012859560067681896,0.012859560067681896,0.013197969543147208,0.013197969543147208,0.01353637901861252,0.01353637901861252,0.01455160744500846,0.01455160744500846,0.015228426395939087,0.015228426395939087,0.0155668358714044,0.0155668358714044,0.016243654822335026,0.016243654822335026,0.017258883248730966,0.017258883248730966,0.01793570219966159,0.01793570219966159,0.018274111675126905,0.018274111675126905,0.01895093062605753,0.01895093062605753,0.019289340101522844,0.019289340101522844,0.019627749576988155,0.019627749576988155,0.020642978003384094,0.020642978003384094,0.02098138747884941,0.02098138747884941,0.02131979695431472,0.02131979695431472,0.021658206429780034,0.021658206429780034,0.021996615905245348,0.021996615905245348,0.023011844331641287,0.023011844331641287,0.023350253807106598,0.023350253807106598,0.024027072758037227,0.024027072758037227,0.024703891708967852,0.02571912013536379,0.026057529610829102,0.026057529610829102,0.026057529610829102,0.026395939086294416,0.026395939086294416,0.027411167512690356,0.027411167512690356,0.027411167512690356,0.02808798646362098,0.028764805414551606,0.029441624365482234,0.03011844331641286,0.03011844331641286,0.032148900169204735,0.032148900169204735,0.03248730964467005,0.033164128595600674,0.03417935702199661,0.03417935702199661,0.03485617597292724,0.03485617597292724,0.03519458544839255,0.03519458544839255,0.0622673434856176,0.0622673434856176,0.06260575296108291,0.06260575296108291,0.06328257191201353,0.06328257191201353,0.06395939086294417,0.06463620981387479,0.0649746192893401,0.0649746192893401,0.06835871404399323,0.07174280879864636,0.07343485617597292,0.07411167512690356,0.07411167512690356,0.07411167512690356,0.07817258883248732,0.07851099830795262,0.07851099830795262,0.07918781725888324,0.07918781725888324,0.07952622673434856,0.07986463620981388,0.10355329949238579,0.10456852791878173,0.10490693739424704,0.10490693739424704,0.10524534686971235,0.10524534686971235,0.10558375634517767,0.10558375634517767,0.10592216582064298,0.10592216582064298,0.10693739424703892,0.10693739424703892,0.10727580372250423,0.10727580372250423,0.10761421319796954,0.10761421319796954,0.10795262267343486,0.10795262267343486,0.10862944162436548,0.10862944162436548,0.1093062605752961,0.1093062605752961,0.10964467005076142,0.10964467005076142,0.11065989847715736,0.11065989847715736,0.11133671742808798,0.11133671742808798,0.11201353637901862,0.11201353637901862,0.11235194585448392,0.11235194585448392,0.11336717428087986,0.11336717428087986,0.11370558375634518,0.11370558375634518,0.11404399323181048,0.11404399323181048,0.11505922165820642,0.11505922165820642,0.11539763113367174,0.11539763113367174,0.11607445008460236,0.11607445008460236,0.11641285956006768,0.11641285956006768,0.1170896785109983,0.1170896785109983,0.11742808798646362,0.11742808798646362,0.11810490693739424,0.11810490693739424,0.11844331641285956,0.11844331641285956,0.11878172588832488,0.11878172588832488,0.1194585448392555,0.1194585448392555,0.11979695431472082,0.11979695431472082,0.12013536379018612,0.12013536379018612,0.12115059221658206,0.12115059221658206,0.12148900169204738,0.12148900169204738,0.12250423011844332,0.12250423011844332,0.12284263959390863,0.12284263959390863,0.12318104906937394,0.12318104906937394,0.12351945854483926,0.12351945854483926,0.12419627749576988,0.12419627749576988,0.1245346869712352,0.1245346869712352,0.12487309644670051,0.12487309644670051,0.12521150592216582,0.12521150592216582,0.12554991539763113,0.12554991539763113,0.12622673434856177,0.12622673434856177,0.12690355329949238,0.12690355329949238,0.1272419627749577,0.1272419627749577,0.127580372250423,0.127580372250423,0.12825719120135365,0.12825719120135365,0.12859560067681894,0.12893401015228426,0.12893401015228426,0.12927241962774957,0.12927241962774957,0.1299492385786802,0.1299492385786802,0.13028764805414553,0.13028764805414553,0.13062605752961082,0.13062605752961082,0.13096446700507614,0.13096446700507614,0.13130287648054145,0.13130287648054145,0.1319796954314721,0.1319796954314721,0.1323181049069374,0.1323181049069374,0.1326565143824027,0.132994923857868,0.132994923857868,0.13333333333333333,0.13333333333333333,0.13367174280879865,0.13367174280879865,0.13401015228426397,0.13401015228426397,0.13434856175972928,0.13434856175972928,0.13570219966159053,0.13570219966159053,0.13604060913705585,0.13604060913705585,0.13637901861252116,0.13637901861252116,0.13671742808798645,0.13671742808798645,0.1373942470389171,0.1373942470389171,0.1377326565143824,0.1377326565143824,0.13840947546531304,0.13840947546531304,0.13908629441624365,0.13908629441624365,0.13942470389170897,0.13942470389170897,0.1407783417935702,0.1407783417935702,0.14111675126903553,0.14111675126903553,0.14213197969543148,0.14213197969543148,0.14247038917089677,0.14247038917089677,0.1428087986463621,0.1428087986463621,0.14348561759729273,0.14348561759729273,0.14450084602368865,0.14450084602368865,0.14619289340101524,0.14619289340101524,0.14619289340101524,0.14653130287648053,0.14653130287648053,0.14754653130287648,0.14754653130287648,0.1478849407783418,0.1478849407783418,0.14822335025380712,0.14822335025380712,0.1485617597292724,0.1485617597292724,0.14890016920473773,0.14890016920473773,0.14957698815566836,0.14957698815566836,0.14991539763113368,0.14991539763113368,0.150253807106599,0.150253807106599,0.1505922165820643,0.1505922165820643,0.15228426395939088,0.15228426395939088,0.15262267343485617,0.15262267343485617,0.15296108291032148,0.15296108291032148,0.1532994923857868,0.1532994923857868,0.15397631133671744,0.15397631133671744,0.15465313028764804,0.15465313028764804,0.15499153976311336,0.15499153976311336,0.15532994923857868,0.15532994923857868,0.155668358714044,0.155668358714044,0.15600676818950932,0.15600676818950932,0.15634517766497463,0.15634517766497463,0.15668358714043992,0.15668358714043992,0.15736040609137056,0.15736040609137056,0.15769881556683588,0.15769881556683588,0.1580372250423012,0.1580372250423012,0.15837563451776648,0.15837563451776648,0.1587140439932318,0.1587140439932318,0.15905245346869712,0.15905245346869712,0.15939086294416244,0.15939086294416244,0.15972927241962775,0.15972927241962775,0.16006768189509307,0.16006768189509307,0.16074450084602368,0.16074450084602368,0.161082910321489,0.161082910321489,0.16209813874788495,0.16209813874788495,0.16243654822335024,0.16243654822335024,0.16277495769881556,0.16277495769881556,0.16311336717428088,0.16311336717428088,0.1634517766497462,0.1634517766497462,0.1637901861252115,0.1637901861252115,0.16446700507614212,0.16446700507614212,0.16514382402707276,0.16514382402707276,0.16514382402707276,0.16514382402707276,0.16548223350253807,0.16548223350253807,0.1658206429780034,0.1658206429780034,0.1661590524534687,0.1661590524534687,0.166497461928934,0.166497461928934,0.16683587140439932,0.16683587140439932,0.16717428087986463,0.16717428087986463,0.16751269035532995,0.16751269035532995,0.16785109983079527,0.16785109983079527,0.1681895093062606,0.1681895093062606,0.16852791878172588,0.16852791878172588,0.1688663282571912,0.1688663282571912,0.1692047377326565,0.1692047377326565,0.16954314720812183,0.16954314720812183,0.16988155668358715,0.16988155668358715,0.17055837563451776,0.17055837563451776,0.17089678510998307,0.17089678510998307,0.1712351945854484,0.1712351945854484,0.1715736040609137,0.1715736040609137,0.17191201353637903,0.17191201353637903,0.17225042301184434,0.17225042301184434,0.17258883248730963,0.17258883248730963,0.17292724196277495,0.17292724196277495,0.17326565143824027,0.17326565143824027,0.1736040609137056,0.1736040609137056,0.1739424703891709,0.1739424703891709,0.17428087986463622,0.17428087986463622,0.1746192893401015,0.1746192893401015,0.17495769881556683,0.17495769881556683,0.17529610829103215,0.17529610829103215,0.17597292724196278,0.17597292724196278,0.17631133671742807,0.17631133671742807,0.1766497461928934,0.1766497461928934,0.1769881556683587,0.1769881556683587,0.17766497461928935,0.17766497461928935,0.17800338409475466,0.17800338409475466,0.17834179357021995,0.17834179357021995,0.17868020304568527,0.17868020304568527,0.1790186125211506,0.1790186125211506,0.17969543147208122,0.17969543147208122,0.18071065989847715,0.18071065989847715,0.18104906937394247,0.18104906937394247,0.1824027072758037,0.1824027072758037,0.18274111675126903,0.18274111675126903,0.18341793570219966,0.18341793570219966,0.18375634517766498,0.18375634517766498,0.1844331641285956,0.1844331641285956,0.1847715736040609,0.1847715736040609,0.18544839255499154,0.18544839255499154,0.18578680203045686,0.18578680203045686,0.18612521150592218,0.18612521150592218,0.18680203045685279,0.18680203045685279,0.18747884940778342,0.18747884940778342,0.18815566835871406,0.18815566835871406,0.18849407783417935,0.18849407783417935,0.18883248730964466,0.18883248730964466,0.18984771573604062,0.18984771573604062,0.19018612521150594,0.19018612521150594,0.19052453468697123,0.19052453468697123,0.19120135363790186,0.19120135363790186,0.19153976311336718,0.19153976311336718,0.19289340101522842,0.19289340101522842,0.19424703891708966,0.19424703891708966,0.1949238578680203,0.1949238578680203,0.19526226734348562,0.19526226734348562,0.19593908629441625,0.19593908629441625,0.19627749576988154,0.19627749576988154,0.19661590524534686,0.19661590524534686,0.19695431472081218,0.19695431472081218,0.1972927241962775,0.1972927241962775,0.19932318104906938,0.19932318104906938,0.2,0.2,0.20135363790186125,0.20135363790186125,0.20169204737732657,0.20169204737732657,0.2020304568527919,0.2020304568527919,0.20304568527918782,0.20304568527918782,0.20372250423011845,0.20372250423011845,0.20406091370558377,0.20406091370558377,0.2050761421319797,0.2050761421319797,0.20609137055837565,0.20609137055837565,0.2074450084602369,0.2074450084602369,0.2077834179357022,0.2077834179357022,0.20879864636209813,0.20879864636209813,0.20913705583756345,0.20913705583756345,0.20947546531302877,0.20947546531302877,0.2101522842639594,0.2101522842639594,0.2104906937394247,0.2104906937394247,0.21082910321489,0.21082910321489,0.21116751269035533,0.21116751269035533,0.21150592216582065,0.21150592216582065,0.21218274111675126,0.21218274111675126,0.21252115059221657,0.21252115059221657,0.2131979695431472,0.2131979695431472,0.21353637901861253,0.21353637901861253,0.21455160744500845,0.21455160744500845,0.21489001692047377,0.21489001692047377,0.2152284263959391,0.2152284263959391,0.2155668358714044,0.2155668358714044,0.21590524534686972,0.21590524534686972,0.216243654822335,0.216243654822335,0.21658206429780033,0.21658206429780033,0.21692047377326565,0.21692047377326565,0.21759729272419628,0.21759729272419628,0.2179357021996616,0.2179357021996616,0.2182741116751269,0.2182741116751269,0.2186125211505922,0.2186125211505922,0.21895093062605753,0.21895093062605753,0.21962774957698816,0.21962774957698816,0.21996615905245348,0.21996615905245348,0.22030456852791877,0.22030456852791877,0.2206429780033841,0.2206429780033841,0.2209813874788494,0.2209813874788494,0.22131979695431472,0.22131979695431472,0.22165820642978004,0.22165820642978004,0.22233502538071065,0.22233502538071065,0.22267343485617597,0.22267343485617597,0.22301184433164128,0.22301184433164128,0.22368866328257192,0.22368866328257192,0.22402707275803724,0.22402707275803724,0.22436548223350253,0.22436548223350253,0.22470389170896785,0.22470389170896785,0.22504230118443316,0.22504230118443316,0.22538071065989848,0.22538071065989848,0.22605752961082912,0.22605752961082912,0.2263959390862944,0.2263959390862944,0.22673434856175972,0.22673434856175972,0.22707275803722504,0.22707275803722504,0.22774957698815568,0.22774957698815568,0.22808798646362097,0.22808798646362097,0.22842639593908629,0.22842639593908629,0.22944162436548224,0.22944162436548224,0.22978003384094756,0.22978003384094756,0.23045685279187816,0.23045685279187816,0.23214890016920472,0.23214890016920472,0.23248730964467004,0.23248730964467004,0.23282571912013536,0.23282571912013536,0.23316412859560068,0.23316412859560068,0.2338409475465313,0.2338409475465313,0.23451776649746192,0.23451776649746192,0.23519458544839256,0.23519458544839256,0.23553299492385787,0.23553299492385787,0.23722504230118444,0.23722504230118444,0.23790186125211507,0.23790186125211507,0.23824027072758036,0.23824027072758036,0.23857868020304568,0.23857868020304568,0.238917089678511,0.238917089678511,0.23925549915397631,0.23925549915397631,0.23959390862944163,0.23959390862944163,0.23993231810490695,0.23993231810490695,0.24027072758037224,0.24027072758037224,0.24094754653130288,0.24094754653130288,0.2412859560067682,0.2412859560067682,0.24196277495769883,0.24196277495769883,0.24230118443316412,0.24230118443316412,0.24297800338409475,0.24297800338409475,0.24331641285956007,0.24331641285956007,0.2439932318104907,0.2439932318104907,0.244331641285956,0.244331641285956,0.24467005076142131,0.24467005076142131,0.24568527918781727,0.24568527918781727,0.24602368866328256,0.24602368866328256,0.24636209813874788,0.24636209813874788,0.2467005076142132,0.2467005076142132,0.2470389170896785,0.2470389170896785,0.24805414551607444,0.24805414551607444,0.24873096446700507,0.24873096446700507,0.24974619289340103,0.24974619289340103,0.25042301184433163,0.25042301184433163,0.25076142131979695,0.25076142131979695,0.25109983079526227,0.25109983079526227,0.2517766497461929,0.2517766497461929,0.25279187817258886,0.25279187817258886,0.2531302876480541,0.2531302876480541,0.25346869712351944,0.25346869712351944,0.2544839255499154,0.2544839255499154,0.2548223350253807,0.2548223350253807,0.255160744500846,0.255160744500846,0.25549915397631134,0.25549915397631134,0.2571912013536379,0.2571912013536379,0.25854483925549915,0.25854483925549915,0.2595600676818951,0.2595600676818951,0.26023688663282574,0.26023688663282574,0.26057529610829105,0.26057529610829105,0.2609137055837564,0.2609137055837564,0.26125211505922163,0.26125211505922163,0.2626057529610829,0.2626057529610829,0.2629441624365482,0.2629441624365482,0.2639593908629442,0.2639593908629442,0.2642978003384095,0.2642978003384095,0.2646362098138748,0.2646362098138748,0.2649746192893401,0.2649746192893401,0.2656514382402707,0.2656514382402707,0.265989847715736,0.265989847715736,0.26666666666666666,0.26666666666666666,0.2676818950930626,0.2676818950930626,0.26802030456852793,0.26802030456852793,0.26835871404399325,0.26835871404399325,0.26869712351945857,0.26869712351945857,0.26937394247038915,0.26937394247038915,0.26971235194585447,0.2700507614213198,0.2700507614213198,0.2703891708967851,0.2703891708967851,0.2707275803722504,0.2707275803722504,0.27106598984771574,0.27106598984771574,0.27140439932318106,0.27140439932318106,0.2717428087986464,0.2717428087986464,0.272419627749577,0.272419627749577,0.2730964467005076,0.2730964467005076,0.2734348561759729,0.2734348561759729,0.2737732656514382,0.2737732656514382,0.27445008460236886,0.27445008460236886,0.2751269035532995,0.2751269035532995,0.2754653130287648,0.2754653130287648,0.27614213197969545,0.27614213197969545,0.27648054145516077,0.27648054145516077,0.2768189509306261,0.2768189509306261,0.27715736040609135,0.27715736040609135,0.27749576988155666,0.27749576988155666,0.277834179357022,0.277834179357022,0.2785109983079526,0.2785109983079526,0.27884940778341794,0.27884940778341794,0.27918781725888325,0.27918781725888325,0.2802030456852792,0.2802030456852792,0.2812182741116751,0.2812182741116751,0.2815566835871404,0.2815566835871404,0.28189509306260574,0.28189509306260574,0.28223350253807106,0.28223350253807106,0.2829103214890017,0.2829103214890017,0.283248730964467,0.283248730964467,0.28358714043993233,0.28358714043993233,0.28392554991539765,0.28392554991539765,0.28426395939086296,0.28426395939086296,0.28494077834179354,0.28494077834179354,0.2856175972927242,0.2856175972927242,0.28663282571912013,0.28663282571912013,0.28697123519458545,0.28697123519458545,0.28730964467005077,0.28730964467005077,0.2883248730964467,0.2883248730964467,0.28967851099830794,0.28967851099830794,0.29001692047377325,0.29001692047377325,0.29035532994923857,0.29035532994923857,0.2913705583756345,0.2913705583756345,0.29170896785109984,0.29170896785109984,0.29204737732656516,0.29204737732656516,0.2923857868020305,0.2923857868020305,0.29306260575296106,0.29306260575296106,0.2934010152284264,0.2934010152284264,0.294077834179357,0.294077834179357,0.29441624365482233,0.29441624365482233,0.29475465313028765,0.29475465313028765,0.29509306260575296,0.29509306260575296,0.2954314720812183,0.2954314720812183,0.2961082910321489,0.2961082910321489,0.29644670050761424,0.29644670050761424,0.2971235194585448,0.2971235194585448,0.29780033840947545,0.29780033840947545,0.2984771573604061,0.2984771573604061,0.2988155668358714,0.2988155668358714,0.2991539763113367,0.2991539763113367,0.29983079526226736,0.29983079526226736,0.30084602368866326,0.30084602368866326,0.3021996615905245,0.3021996615905245,0.3032148900169205,0.3032148900169205,0.3038917089678511,0.3038917089678511,0.30423011844331643,0.30423011844331643,0.30456852791878175,0.30456852791878175,0.304906937394247,0.304906937394247,0.30524534686971233,0.30524534686971233,0.30558375634517765,0.30558375634517765,0.3062605752961083,0.3062605752961083,0.3069373942470389,0.3069373942470389,0.30727580372250424,0.30727580372250424,0.30761421319796955,0.30761421319796955,0.3082910321489002,0.3082910321489002,0.3086294416243655,0.3086294416243655,0.3096446700507614,0.3096446700507614,0.3099830795262267,0.3099830795262267,0.31065989847715736,0.31065989847715736,0.3109983079526227,0.3109983079526227,0.311336717428088,0.311336717428088,0.31201353637901863,0.31269035532994927,0.31336717428087985,0.31336717428087985,0.31370558375634516,0.31370558375634516,0.3143824027072758,0.3143824027072758,0.3147208121827411,0.31505922165820643,0.31539763113367175,0.31539763113367175,0.31573604060913707,0.31573604060913707,0.3164128595600677,0.3164128595600677,0.3174280879864636,0.3174280879864636,0.3177664974619289,0.3177664974619289,0.31810490693739424,0.31810490693739424,0.3194585448392555,0.3194585448392555,0.3197969543147208,0.3197969543147208,0.32013536379018614,0.32013536379018614,0.32115059221658204,0.32115059221658204,0.3218274111675127,0.3218274111675127,0.322165820642978,0.322165820642978,0.3225042301184433,0.3225042301184433,0.32284263959390863,0.32284263959390863,0.3238578680203046,0.3238578680203046,0.3245346869712352,0.3245346869712352,0.3248730964467005,0.3248730964467005,0.32622673434856175,0.32622673434856175,0.32656514382402707,0.32656514382402707,0.3269035532994924,0.3269035532994924,0.327580372250423,0.327580372250423,0.32791878172588834,0.32791878172588834,0.328595600676819,0.328595600676819,0.32893401015228424,0.32893401015228424,0.32927241962774956,0.32927241962774956,0.3296108291032149,0.3296108291032149,0.3299492385786802,0.3299492385786802,0.3302876480541455,0.3302876480541455,0.33062605752961083,0.33062605752961083,0.33130287648054146,0.33130287648054146,0.3316412859560068,0.3316412859560068,0.3323181049069374,0.3323181049069374,0.3333333333333333,0.3333333333333333,0.33367174280879863,0.33367174280879863,0.33434856175972927,0.33434856175972927,0.3350253807106599,0.3350253807106599,0.3363790186125212,0.3363790186125212,0.33671742808798644,0.33671742808798644,0.3373942470389171,0.3373942470389171,0.3377326565143824,0.3377326565143824,0.338409475465313,0.338409475465313,0.3397631133671743,0.3397631133671743,0.34043993231810493,0.34043993231810493,0.34145516074450083,0.34145516074450083,0.3424703891708968,0.3424703891708968,0.3428087986463621,0.3428087986463621,0.34382402707275805,0.34382402707275805,0.34483925549915395,0.34483925549915395,0.34517766497461927,0.34517766497461927,0.3461928934010152,0.3461928934010152,0.34653130287648054,0.34653130287648054,0.34686971235194586,0.34686971235194586,0.3472081218274112,0.3472081218274112,0.34822335025380713,0.34822335025380713,0.34856175972927245,0.34856175972927245,0.3489001692047377,0.3489001692047377,0.34957698815566834,0.34957698815566834,0.34991539763113366,0.34991539763113366,0.3505922165820643,0.3505922165820643,0.3509306260575296,0.3509306260575296,0.35126903553299493,0.35126903553299493,0.35160744500846025,0.35160744500846025,0.35194585448392557,0.35194585448392557,0.3522842639593909,0.3522842639593909,0.35262267343485615,0.35262267343485615,0.35296108291032147,0.35296108291032147,0.3532994923857868,0.3532994923857868,0.3536379018612521,0.3536379018612521,0.3539763113367174,0.3539763113367174,0.3549915397631134,0.3549915397631134,0.355668358714044,0.355668358714044,0.3560067681895093,0.3560067681895093,0.3570219966159052,0.3570219966159052,0.35736040609137054,0.35736040609137054,0.35736040609137054,0.35769881556683586,0.35769881556683586,0.35769881556683586,0.3583756345177665,0.3583756345177665,0.35905245346869713,0.35905245346869713,0.35939086294416245,0.35939086294416245,0.3604060913705584,0.3604060913705584,0.361082910321489,0.361082910321489,0.36209813874788493,0.36209813874788493,0.36243654822335025,0.36243654822335025,0.36717428087986465,0.3678510998307953,0.3678510998307953,0.3681895093062606,0.3681895093062606,0.36852791878172586,0.36852791878172586,0.3688663282571912,0.3688663282571912,0.3692047377326565,0.3692047377326565,0.36988155668358713,0.36988155668358713,0.37021996615905245,0.37021996615905245,0.37055837563451777,0.37055837563451777,0.3708967851099831,0.3708967851099831,0.3712351945854484,0.3712351945854484,0.3715736040609137,0.3715736040609137,0.37191201353637904,0.37191201353637904,0.37225042301184436,0.37225042301184436,0.3725888324873096,0.3725888324873096,0.37292724196277494,0.37292724196277494,0.37326565143824025,0.37326565143824025,0.37360406091370557,0.37360406091370557,0.3739424703891709,0.3739424703891709,0.37529610829103216,0.37529610829103216,0.3763113367174281,0.3763113367174281,0.377326565143824,0.377326565143824,0.37800338409475465,0.37800338409475465,0.3793570219966159,0.3793570219966159,0.37969543147208124,0.37969543147208124,0.38003384094754655,0.38003384094754655,0.38037225042301187,0.38037225042301187,0.38071065989847713,0.38071065989847713,0.38138747884940777,0.38138747884940777,0.3817258883248731,0.3817258883248731,0.3824027072758037,0.3824027072758037,0.38274111675126904,0.38307952622673436,0.383756345177665,0.383756345177665,0.3851099830795262,0.3851099830795262,0.38578680203045684,0.38578680203045684,0.3864636209813875,0.3864636209813875,0.38747884940778343,0.38747884940778343,0.38849407783417933,0.38849407783417933,0.38883248730964465,0.38883248730964465,0.38917089678510997,0.38917089678510997,0.3898477157360406,0.3898477157360406,0.3901861252115059,0.3901861252115059,0.39086294416243655,0.39086294416243655,0.39120135363790187,0.39120135363790187,0.3915397631133672,0.3915397631133672,0.3922165820642978,0.3922165820642978,0.3932318104906937,0.3932318104906937,0.39357021996615904,0.39357021996615904,0.39390862944162436,0.39390862944162436,0.394585448392555,0.394585448392555,0.3949238578680203,0.3949238578680203,0.39560067681895095,0.39560067681895095,0.39695431472081216,0.39695431472081216,0.3972927241962775,0.3972927241962775,0.3979695431472081,0.3979695431472081,0.39830795262267343,0.39830795262267343,0.39864636209813875,0.39864636209813875,0.39898477157360407,0.39898477157360407,0.3993231810490694,0.3993231810490694,0.3996615905245347,0.3996615905245347,0.4,0.4,0.40033840947546534,0.40033840947546534,0.4006768189509306,0.4006768189509306,0.4006768189509306,0.4010152284263959,0.4010152284263959,0.4020304568527919,0.4020304568527919,0.4030456852791878,0.4030456852791878,0.4050761421319797,0.4050761421319797,0.405414551607445,0.405414551607445,0.4057529610829103,0.4057529610829103,0.40642978003384095,0.40642978003384095,0.40676818950930627,0.40676818950930627,0.4071065989847716,0.4071065989847716,0.4077834179357022,0.4077834179357022,0.40812182741116754,0.40812182741116754,0.40913705583756343,0.40913705583756343,0.4101522842639594,0.4101522842639594,0.4104906937394247,0.4104906937394247,0.41150592216582066,0.41150592216582066,0.411844331641286,0.411844331641286,0.4121827411167513,0.4121827411167513,0.41252115059221656,0.41252115059221656,0.4128595600676819,0.4128595600676819,0.4131979695431472,0.4131979695431472,0.4135363790186125,0.4135363790186125,0.41421319796954315,0.41421319796954315,0.41455160744500846,0.41455160744500846,0.4148900169204738,0.4148900169204738,0.4152284263959391,0.4152284263959391,0.41590524534686973,0.41590524534686973,0.41692047377326563,0.41692047377326563,0.41692047377326563,0.41759729272419627,0.41759729272419627,0.4182741116751269,0.4182741116751269,0.4199661590524535,0.4199661590524535,0.4203045685279188,0.4203045685279188,0.4209813874788494,0.4209813874788494,0.4213197969543147,0.4213197969543147,0.42165820642978,0.42165820642978,0.42233502538071066,0.42233502538071066,0.4230118443316413,0.4230118443316413,0.42402707275803725,0.42402707275803725,0.4243654822335025,0.4243654822335025,0.42504230118443315,0.42504230118443315,0.42538071065989846,0.42538071065989846,0.4257191201353638,0.4257191201353638,0.42673434856175974,0.42673434856175974,0.42707275803722505,0.42707275803722505,0.4277495769881557,0.4277495769881557,0.42842639593908627,0.42842639593908627,0.43011844331641286,0.43011844331641286,0.4304568527918782,0.4304568527918782,0.43147208121827413,0.43147208121827413,0.43214890016920476,0.43214890016920476,0.43248730964467,0.43248730964467,0.43282571912013534,0.43282571912013534,0.43485617597292725,0.43485617597292725,0.43519458544839257,0.43519458544839257,0.4355329949238579,0.4355329949238579,0.4365482233502538,0.4365482233502538,0.43790186125211505,0.43790186125211505,0.43824027072758037,0.43824027072758037,0.438917089678511,0.438917089678511,0.4392554991539763,0.4392554991539763,0.44060913705583754,0.44060913705583754,0.44094754653130286,0.44094754653130286,0.4416243654822335,0.4416243654822335,0.4419627749576988,0.4419627749576988,0.44230118443316413,0.44230118443316413,0.4433164128595601,0.4433164128595601,0.4439932318104907,0.4439932318104907,0.444331641285956,0.444331641285956,0.44568527918781725,0.44568527918781725,0.4463620981387479,0.4463620981387479,0.4467005076142132,0.4467005076142132,0.4470389170896785,0.4470389170896785,0.4480541455160745,0.4480541455160745,0.44873096446700506,0.44873096446700506,0.4514382402707276,0.4514382402707276,0.4524534686971235,0.4524534686971235,0.4527918781725888,0.4527918781725888,0.45346869712351945,0.45346869712351945,0.45380710659898477,0.45380710659898477,0.4541455160744501,0.4541455160744501,0.4548223350253807,0.4548223350253807,0.45516074450084604,0.45516074450084604,0.45549915397631136,0.45549915397631136,0.45651438240270725,0.45651438240270725,0.4578680203045685,0.4578680203045685,0.45989847715736043,0.45989847715736043,0.460575296108291,0.460575296108291,0.46125211505922165,0.46125211505922165,0.4619289340101523,0.4619289340101523,0.4626057529610829,0.4626057529610829,0.4626057529610829,0.46294416243654823,0.46294416243654823,0.46328257191201355,0.46328257191201355,0.46362098138747887,0.46362098138747887,0.4639593908629442,0.4639593908629442,0.46429780033840945,0.46429780033840945,0.46463620981387477,0.46463620981387477,0.46598984771573604,0.46598984771573604,0.46632825719120136,0.46632825719120136,0.4666666666666667,0.4666666666666667,0.467005076142132,0.467005076142132,0.4673434856175973,0.4673434856175973,0.46802030456852795,0.46802030456852795,0.4683587140439932,0.4683587140439932,0.4686971235194585,0.4686971235194585,0.46937394247038916,0.46937394247038916,0.4697123519458545,0.4700507614213198,0.4703891708967851,0.4703891708967851,0.47140439932318107,0.47140439932318107,0.4717428087986464,0.4717428087986464,0.4720812182741117,0.4720812182741117,0.4727580372250423,0.4730964467005076,0.47411167512690355,0.47411167512690355,0.4747884940778342,0.4747884940778342,0.47715736040609136,0.47715736040609136,0.4774957698815567,0.4774957698815567,0.477834179357022,0.477834179357022,0.4781725888324873,0.4781725888324873,0.47884940778341795,0.47884940778341795,0.47918781725888326,0.47918781725888326,0.4795262267343486,0.4795262267343486,0.4798646362098139,0.4798646362098139,0.48020304568527916,0.48020304568527916,0.4805414551607445,0.4805414551607445,0.48155668358714043,0.48189509306260575,0.48223350253807107,0.48223350253807107,0.48358714043993234,0.48358714043993234,0.4842639593908629,0.4842639593908629,0.4852791878172589,0.4852791878172589,0.4862944162436548,0.4862944162436548,0.48697123519458546,0.48697123519458546,0.4873096446700508,0.4873096446700508,0.4879864636209814,0.4879864636209814,0.4883248730964467,0.4883248730964467,0.488663282571912,0.488663282571912,0.49001692047377327,0.49001692047377327,0.4906937394247039,0.4906937394247039,0.49137055837563454,0.49137055837563454,0.49238578680203043,0.49238578680203043,0.49306260575296107,0.49306260575296107,0.494077834179357,0.494077834179357,0.4957698815566836,0.4957698815566836,0.4961082910321489,0.4961082910321489,0.4981387478849408,0.4981387478849408,0.4984771573604061,0.4984771573604061,0.4988155668358714,0.4988155668358714,0.49983079526226737,0.49983079526226737,0.5001692047377326,0.5001692047377326,0.5008460236886633,0.5008460236886633,0.5015228426395939,0.5015228426395939,0.5021996615905245,0.5021996615905245,0.5025380710659898,0.5025380710659898,0.5032148900169204,0.5032148900169204,0.5035532994923858,0.5035532994923858,0.5045685279187817,0.5045685279187817,0.5049069373942471,0.5049069373942471,0.5062605752961082,0.5069373942470389,0.5072758037225042,0.5072758037225042,0.5079526226734349,0.5079526226734349,0.5082910321489001,0.5082910321489001,0.5099830795262267,0.5099830795262267,0.5106598984771573,0.5106598984771573,0.511336717428088,0.511336717428088,0.5116751269035533,0.5116751269035533,0.512351945854484,0.512351945854484,0.5126903553299492,0.5126903553299492,0.5133671742808799,0.5133671742808799,0.5147208121827411,0.5147208121827411,0.5150592216582064,0.5150592216582064,0.5174280879864637,0.5174280879864637,0.5177664974619289,0.5177664974619289,0.5181049069373942,0.5181049069373942,0.5187817258883248,0.5187817258883248,0.5197969543147208,0.5197969543147208,0.5204737732656515,0.5204737732656515,0.5208121827411167,0.5208121827411167,0.5211505922165821,0.5211505922165821,0.5252115059221658,0.5252115059221658,0.5255499153976312,0.5255499153976312,0.5265651438240271,0.5265651438240271,0.5272419627749577,0.5272419627749577,0.527580372250423,0.527580372250423,0.5279187817258884,0.5279187817258884,0.5296108291032149,0.5296108291032149,0.5309644670050762,0.5309644670050762,0.5316412859560068,0.5316412859560068,0.531979695431472,0.531979695431472,0.5323181049069374,0.5323181049069374,0.5326565143824027,0.5326565143824027,0.5329949238578681,0.5329949238578681,0.5346869712351946,0.5346869712351946,0.5350253807106599,0.5350253807106599,0.5353637901861252,0.5353637901861252,0.5367174280879865,0.5367174280879865,0.5370558375634518,0.5370558375634518,0.5377326565143824,0.5377326565143824,0.5380710659898477,0.5380710659898477,0.5390862944162437,0.5390862944162437,0.5397631133671743,0.5397631133671743,0.5401015228426396,0.5401015228426396,0.5411167512690356,0.5411167512690356,0.5421319796954315,0.5421319796954315,0.5424703891708967,0.5424703891708967,0.543824027072758,0.543824027072758,0.544839255499154,0.544839255499154,0.5455160744500847,0.5455160744500847,0.5458544839255499,0.5458544839255499,0.5461928934010152,0.5461928934010152,0.5468697123519458,0.5468697123519458,0.5472081218274112,0.5472081218274112,0.5478849407783418,0.5478849407783418,0.5482233502538071,0.5482233502538071,0.5485617597292725,0.5485617597292725,0.5492385786802031,0.5492385786802031,0.550253807106599,0.550253807106599,0.5509306260575296,0.5509306260575296,0.5519458544839255,0.5519458544839255,0.5522842639593909,0.5522842639593909,0.5526226734348562,0.5526226734348562,0.5529610829103215,0.5529610829103215,0.5536379018612522,0.5536379018612522,0.5539763113367174,0.5539763113367174,0.5543147208121827,0.5543147208121827,0.5546531302876481,0.5546531302876481,0.5560067681895093,0.5560067681895093,0.5583756345177665,0.5583756345177665,0.5587140439932318,0.5587140439932318,0.5593908629441624,0.5593908629441624,0.5597292724196278,0.5597292724196278,0.560067681895093,0.560067681895093,0.5604060913705584,0.5604060913705584,0.561082910321489,0.561082910321489,0.5614213197969543,0.5614213197969543,0.5617597292724196,0.5617597292724196,0.5631133671742808,0.5631133671742808,0.5634517766497462,0.5634517766497462,0.5648054145516075,0.5648054145516075,0.5654822335025381,0.5654822335025381,0.5658206429780034,0.5658206429780034,0.5668358714043993,0.5668358714043993,0.5671742808798647,0.5671742808798647,0.5675126903553299,0.5675126903553299,0.5681895093062606,0.5681895093062606,0.5685279187817259,0.5685279187817259,0.5705583756345177,0.5705583756345177,0.5712351945854484,0.5712351945854484,0.5722504230118444,0.572927241962775,0.572927241962775,0.5732656514382403,0.5732656514382403,0.5766497461928934,0.5766497461928934,0.5769881556683587,0.5769881556683587,0.5780033840947546,0.5780033840947546,0.57834179357022,0.57834179357022,0.5793570219966159,0.5793570219966159,0.5796954314720812,0.5796954314720812,0.5807106598984771,0.5807106598984771,0.5813874788494078,0.5813874788494078,0.5820642978003384,0.5820642978003384,0.582741116751269,0.582741116751269,0.5830795262267343,0.5830795262267343,0.583756345177665,0.583756345177665,0.5844331641285956,0.5844331641285956,0.5861252115059221,0.5861252115059221,0.5868020304568528,0.5868020304568528,0.5871404399323181,0.5871404399323181,0.5874788494077834,0.5874788494077834,0.5878172588832488,0.5878172588832488,0.588155668358714,0.588155668358714,0.5895093062605753,0.5895093062605753,0.5898477157360406,0.5898477157360406,0.5901861252115059,0.5901861252115059,0.5912013536379018,0.5912013536379018,0.5915397631133672,0.5915397631133672,0.5918781725888325,0.5918781725888325,0.5928934010152285,0.5928934010152285,0.5942470389170896,0.5942470389170896,0.5949238578680203,0.5949238578680203,0.5956006768189509,0.5956006768189509,0.5966159052453469,0.5966159052453469,0.5972927241962775,0.5972927241962775,0.5976311336717428,0.5976311336717428,0.5979695431472081,0.5979695431472081,0.5986463620981387,0.5986463620981387,0.5993231810490693,0.5993231810490693,0.601015228426396,0.601015228426396,0.6020304568527919,0.6020304568527919,0.6030456852791878,0.6030456852791878,0.6033840947546532,0.6033840947546532,0.6037225042301184,0.6037225042301184,0.6040609137055838,0.6040609137055838,0.604399323181049,0.604399323181049,0.6050761421319797,0.6050761421319797,0.6054145516074451,0.6054145516074451,0.6057529610829103,0.6057529610829103,0.6060913705583756,0.6060913705583756,0.606429780033841,0.606429780033841,0.6071065989847716,0.6071065989847716,0.6091370558375635,0.6091370558375635,0.609813874788494,0.609813874788494,0.61082910321489,0.61082910321489,0.6111675126903553,0.6111675126903553,0.6115059221658207,0.6115059221658207,0.6128595600676819,0.6128595600676819,0.6142131979695431,0.6142131979695431,0.6152284263959391,0.6152284263959391,0.6159052453468697,0.6159052453468697,0.6165820642978004,0.6165820642978004,0.6169204737732656,0.6169204737732656,0.617258883248731,0.617258883248731,0.6175972927241963,0.6175972927241963,0.6182741116751269,0.6182741116751269,0.6189509306260575,0.6189509306260575,0.6219966159052454,0.6219966159052454,0.622673434856176,0.622673434856176,0.6230118443316413,0.6230118443316413,0.6240270727580373,0.6240270727580373,0.6247038917089679,0.6247038917089679,0.6257191201353638,0.6257191201353638,0.6270727580372251,0.6270727580372251,0.6297800338409475,0.6307952622673435,0.6318104906937394,0.6318104906937394,0.63248730964467,0.63248730964467,0.6351945854483926,0.6351945854483926,0.6365482233502539,0.6365482233502539,0.6375634517766497,0.6375634517766497,0.6382402707275804,0.6382402707275804,0.6385786802030456,0.6385786802030456,0.638917089678511,0.638917089678511,0.6392554991539763,0.6392554991539763,0.6399323181049069,0.6399323181049069,0.6406091370558376,0.6406091370558376,0.6419627749576988,0.6419627749576988,0.6423011844331641,0.6423011844331641,0.6456852791878173,0.6456852791878173,0.6460236886632825,0.6460236886632825,0.6470389170896785,0.6470389170896785,0.6487309644670051,0.6487309644670051,0.6490693739424704,0.6490693739424704,0.649746192893401,0.649746192893401,0.6510998307952622,0.6510998307952622,0.6517766497461929,0.6517766497461929,0.6524534686971235,0.6524534686971235,0.6548223350253807,0.6548223350253807,0.655160744500846,0.655160744500846,0.656175972927242,0.656175972927242,0.6565143824027073,0.6565143824027073,0.6568527918781726,0.6568527918781726,0.657191201353638,0.657191201353638,0.6578680203045685,0.6578680203045685,0.6585448392554991,0.6639593908629442,0.6639593908629442,0.6663282571912014,0.6663282571912014,0.6676818950930626,0.6676818950930626,0.6693739424703892,0.6693739424703892,0.6703891708967851,0.6703891708967851,0.6710659898477157,0.6710659898477157,0.6720812182741117,0.6720812182741117,0.6734348561759729,0.6734348561759729,0.6737732656514382,0.6737732656514382,0.6741116751269035,0.6741116751269035,0.6744500846023689,0.6744500846023689,0.6754653130287648,0.6754653130287648,0.6758037225042302,0.6758037225042302,0.6764805414551608,0.6764805414551608,0.6771573604060914,0.6771573604060914,0.6774957698815567,0.6774957698815567,0.6785109983079526,0.6785109983079526,0.678849407783418,0.678849407783418,0.6808798646362099,0.6808798646362099,0.683248730964467,0.683248730964467,0.6839255499153977,0.6839255499153977,0.6849407783417936,0.6849407783417936,0.6852791878172588,0.6852791878172588,0.6856175972927242,0.6856175972927242,0.6859560067681895,0.6859560067681895,0.6862944162436548,0.6862944162436548,0.6869712351945855,0.6869712351945855,0.6873096446700507,0.6873096446700507,0.6900169204737733,0.6900169204737733,0.6917089678510998,0.6917089678510998,0.6930626057529611,0.6930626057529611,0.6934010152284263,0.6934010152284263,0.6957698815566836,0.6957698815566836,0.6967851099830795,0.6967851099830795,0.6974619289340102,0.6974619289340102,0.7001692047377327,0.7001692047377327,0.7011844331641286,0.7011844331641286,0.7015228426395939,0.7015228426395939,0.7028764805414551,0.7028764805414551,0.7042301184433164,0.7042301184433164,0.7059221658206429,0.7059221658206429,0.7065989847715736,0.7065989847715736,0.7069373942470389,0.7069373942470389,0.7079526226734348,0.7079526226734348,0.7086294416243655,0.7086294416243655,0.7096446700507614,0.7096446700507614,0.7116751269035533,0.7116751269035533,0.7120135363790187,0.7120135363790187,0.7123519458544839,0.7123519458544839,0.7147208121827411,0.7147208121827411,0.7150592216582065,0.7150592216582065,0.7170896785109984,0.7170896785109984,0.7201353637901862,0.7201353637901862,0.722165820642978,0.722165820642978,0.7238578680203046,0.7238578680203046,0.7241962774957699,0.7241962774957699,0.7279187817258883,0.7279187817258883,0.7285956006768189,0.7285956006768189,0.7289340101522843,0.7289340101522843,0.7296108291032148,0.7296108291032148,0.7302876480541455,0.7302876480541455,0.7357021996615906,0.7357021996615906,0.7360406091370558,0.7360406091370558,0.7363790186125212,0.7363790186125212,0.7377326565143824,0.7377326565143824,0.738409475465313,0.738409475465313,0.739424703891709,0.739424703891709,0.7397631133671743,0.7397631133671743,0.7407783417935703,0.7407783417935703,0.7424703891708968,0.7424703891708968,0.7431472081218274,0.7431472081218274,0.7458544839255499,0.7458544839255499,0.7472081218274111,0.7472081218274111,0.7478849407783418,0.7478849407783418,0.7485617597292724,0.7485617597292724,0.7536379018612521,0.7536379018612521,0.7563451776649747,0.7563451776649747,0.7576988155668358,0.7576988155668358,0.7597292724196277,0.7597292724196277,0.7617597292724196,0.7617597292724196,0.7624365482233503,0.7624365482233503,0.7631133671742809,0.7631133671742809,0.7658206429780033,0.7658206429780033,0.7681895093062606,0.7681895093062606,0.7685279187817259,0.7685279187817259,0.7692047377326565,0.7692047377326565,0.7695431472081218,0.7695431472081218,0.7698815566835872,0.7698815566835872,0.7702199661590524,0.7702199661590524,0.7719120135363791,0.7719120135363791,0.7725888324873097,0.7725888324873097,0.7742808798646362,0.7742808798646362,0.7776649746192893,0.7776649746192893,0.7783417935702199,0.7783417935702199,0.783756345177665,0.783756345177665,0.7857868020304568,0.7857868020304568,0.7861252115059222,0.7861252115059222,0.7874788494077835,0.7874788494077835,0.7881556683587141,0.7881556683587141,0.7901861252115059,0.7901861252115059,0.7908629441624365,0.7915397631133672,0.7932318104906937,0.7932318104906937,0.8003384094754653,0.8003384094754653,0.8013536379018612,0.8020304568527918,0.8023688663282572,0.8027072758037225,0.8030456852791878,0.8067681895093063,0.8071065989847716,0.8094754653130287,0.8098138747884941,0.8101522842639594,0.8142131979695432,0.8152284263959391,0.8159052453468697,0.8162436548223351,0.8165820642978003,0.8169204737732656,0.8179357021996616,0.8186125211505922,0.8223350253807107,0.822673434856176,0.822673434856176,0.8443316412859561,0.8443316412859561,0.8446700507614213,0.8477157360406091,0.8602368866328257,0.860575296108291,0.8683587140439932,0.8686971235194585,0.8690355329949239,0.8697123519458545,0.9225042301184433,0.9228426395939087,0.9228426395939087,0.9231810490693739,0.9245346869712352,0.9248730964467005,0.9262267343485617,0.9262267343485617,0.9265651438240271,0.9265651438240271,0.927580372250423,0.927580372250423,0.9285956006768189,0.9302876480541455,0.9309644670050762,0.932994923857868,0.932994923857868,0.934010152284264,0.934010152284264,0.9346869712351946,0.9346869712351946,0.9357021996615905,0.9377326565143824,0.9387478849407783,0.9387478849407783,0.9390862944162437,0.9390862944162437,0.9407783417935702,0.9407783417935702,0.9414551607445009,0.9414551607445009,0.9417935702199661,0.9417935702199661,0.9428087986463621,0.9526226734348562,0.9536379018612521,0.9536379018612521,0.9546531302876481,0.9546531302876481,0.9549915397631134,0.9549915397631134,0.9553299492385787,0.9553299492385787,0.9570219966159053,0.9576988155668359,0.9576988155668359,0.9583756345177665,0.9583756345177665,0.9597292724196278,0.9597292724196278,0.9756345177664975,0.9756345177664975,0.9769881556683587,0.9769881556683587,0.9824027072758037,0.9824027072758037,0.9854483925549915,0.9854483925549915,0.9874788494077834,0.9874788494077834,0.9878172588832488,0.9878172588832488,0.9912013536379018,0.9912013536379018,0.993570219966159,0.993570219966159,0.994585448392555,0.994585448392555,0.9966159052453468,0.9986463620981387,1.0],\"y\":[0.0,0.0,0.0,0.0022026431718061676,0.0031466331025802393,0.0040906230333543105,0.0040906230333543105,0.006607929515418502,0.006607929515418502,0.00723725613593455,0.00723725613593455,0.007551919446192574,0.007551919446192574,0.01195720578980491,0.01195720578980491,0.013215859030837005,0.013215859030837005,0.015418502202643172,0.015418502202643172,0.016362492133417242,0.016362492133417242,0.016991818753933293,0.016991818753933293,0.019823788546255508,0.019823788546255508,0.02171176840780365,0.02171176840780365,0.024543738200125866,0.024543738200125866,0.02485840151038389,0.02485840151038389,0.025802391441157962,0.02643171806167401,0.02643171806167401,0.027061044682190057,0.027690371302706105,0.028634361233480177,0.028634361233480177,0.029893014474512272,0.029893014474512272,0.030837004405286344,0.030837004405286344,0.03146633102580239,0.03146633102580239,0.03241032095657646,0.03241032095657646,0.034927627438640654,0.034927627438640654,0.0355569540591567,0.0355569540591567,0.042794210195091255,0.042794210195091255,0.0434235368156073,0.0434235368156073,0.04436752674638137,0.04436752674638137,0.045626179987413466,0.045626179987413466,0.046255506607929514,0.046255506607929514,0.04908747640025173,0.04908747640025173,0.04940213971050975,0.04940213971050975,0.05034612964128383,0.05034612964128383,0.051290119572057896,0.051290119572057896,0.05254877281308999,0.05254877281308999,0.05349276274386407,0.05349276274386407,0.05475141598489616,0.05506607929515418,0.057583385777218374,0.057583385777218374,0.0578980490874764,0.0578980490874764,0.05821271239773442,0.05852737570799245,0.059786028949024544,0.059786028949024544,0.06073001887979861,0.06073001887979861,0.06167400881057269,0.06167400881057269,0.06198867212083071,0.06198867212083071,0.06356198867212083,0.06356198867212083,0.06419131529263687,0.06419131529263687,0.06513530522341095,0.06513530522341095,0.06639395846444304,0.06639395846444304,0.06796727501573317,0.06796727501573317,0.06891126494650723,0.06891126494650723,0.07394587791063562,0.07457520453115167,0.07488986784140969,0.07520453115166771,0.07551919446192575,0.07709251101321586,0.07992448080553807,0.08086847073631215,0.08118313404657017,0.08181246066708622,0.08181246066708622,0.08212712397734424,0.08401510383889238,0.08495909376966645,0.08527375707992448,0.08590308370044053,0.08590308370044053,0.08590308370044053,0.08621774701069855,0.08653241032095657,0.08967904342353682,0.08999370673379484,0.09156702328508495,0.0934550031466331,0.09439899307740718,0.0947136563876652,0.0947136563876652,0.09502831969792322,0.09502831969792322,0.09534298300818124,0.14285714285714285,0.14317180616740088,0.14411579609817496,0.144745122718691,0.14568911264946507,0.14757709251101322,0.14757709251101322,0.1488357457520453,0.14946507237256135,0.15009439899307742,0.15701699181875392,0.16016362492133418,0.16519823788546256,0.16614222781623664,0.16645689112649464,0.1670862177470107,0.17558212712397733,0.17589679043423537,0.1762114537444934,0.17684078036500944,0.17747010698552548,0.17935808684707363,0.17935808684707363,0.2419760855884204,0.2422907488986784,0.2422907488986784,0.24292007551919445,0.24292007551919445,0.24386406544996853,0.24386406544996853,0.2448080553807426,0.2448080553807426,0.2460667086217747,0.2473253618628068,0.24921334172435494,0.24921334172435494,0.2526746381371932,0.2526746381371932,0.25456261799874136,0.25456261799874136,0.25582127123977344,0.25582127123977344,0.2561359345500315,0.2561359345500315,0.25739458779106356,0.25739458779106356,0.25896790434235367,0.25896790434235367,0.2614852108244179,0.2614852108244179,0.26179987413467587,0.26179987413467587,0.26242920075519194,0.26242920075519194,0.263687853996224,0.263687853996224,0.2643171806167401,0.2643171806167401,0.26620516047828824,0.26620516047828824,0.26777847702957835,0.2684078036500944,0.2687224669603524,0.2687224669603524,0.26935179358086847,0.26935179358086847,0.2696664568911265,0.2696664568911265,0.2724984266834487,0.2724984266834487,0.27312775330396477,0.27312775330396477,0.2753303964757709,0.2753303964757709,0.27564505978602893,0.27564505978602893,0.276274386406545,0.276274386406545,0.2778477029578351,0.2778477029578351,0.2784770295783512,0.2784770295783512,0.27879169288860917,0.27879169288860917,0.27942101950912523,0.2800503461296413,0.28382630585273755,0.28382630585273755,0.2879169288860919,0.2879169288860919,0.2882315921963499,0.2882315921963499,0.29011957205789807,0.29011957205789807,0.2910635619886721,0.2910635619886721,0.29137822529893015,0.29137822529893015,0.2916928886091882,0.2916928886091882,0.2923222152297042,0.2923222152297042,0.29263687853996223,0.29263687853996223,0.2938955317809943,0.2938955317809943,0.29421019509125235,0.29421019509125235,0.29515418502202645,0.29515418502202645,0.29578351164254246,0.29578351164254246,0.2970421648835746,0.2970421648835746,0.29798615481434865,0.29798615481434865,0.2998741346758968,0.2998741346758968,0.30018879798615483,0.30050346129641287,0.30050346129641287,0.30081812460667084,0.30081812460667084,0.302076777847703,0.302076777847703,0.30302076777847703,0.30302076777847703,0.3036500943989931,0.3036500943989931,0.30459408432976715,0.30459408432976715,0.3052234109502832,0.3052234109502832,0.3058527375707992,0.3058527375707992,0.3064820641913153,0.3064820641913153,0.30679672750157333,0.3077407174323474,0.3077407174323474,0.3086847073631215,0.3086847073631215,0.30899937067337946,0.30899937067337946,0.3096286972938955,0.3096286972938955,0.30994336060415356,0.30994336060415356,0.31057268722466963,0.31057268722466963,0.3115166771554437,0.3115166771554437,0.3124606670862177,0.3124606670862177,0.31403398363750784,0.31403398363750784,0.31497797356828194,0.31497797356828194,0.31529263687854,0.31529263687854,0.315607300188798,0.315607300188798,0.31780994336060414,0.31780994336060414,0.31875393329137824,0.31875393329137824,0.3190685966016362,0.3190685966016362,0.32032724984266836,0.32032724984266836,0.3212712397734424,0.3212712397734424,0.32158590308370044,0.32158590308370044,0.3219005663939585,0.3222152297042165,0.32315921963499056,0.32315921963499056,0.32536186280679674,0.32536186280679674,0.32599118942731276,0.32693517935808686,0.32693517935808686,0.3272498426683449,0.3272498426683449,0.3278791692888609,0.3278791692888609,0.32819383259911894,0.32819383259911894,0.328508495909377,0.328508495909377,0.328823159219635,0.328823159219635,0.329137822529893,0.329137822529893,0.32976714915040906,0.32976714915040906,0.3303964757709251,0.3303964757709251,0.33134046570169917,0.33134046570169917,0.3322844556324733,0.3322844556324733,0.33354310887350536,0.33354310887350536,0.33574575204531154,0.33574575204531154,0.3360604153555695,0.3360604153555695,0.3370044052863436,0.3370044052863436,0.33731906859660166,0.33731906859660166,0.3388923851478918,0.3388923851478918,0.3404657016991819,0.3404657016991819,0.3407803650094399,0.3407803650094399,0.3442416614222782,0.3442416614222782,0.3464443045940843,0.3464443045940843,0.34675896790434235,0.34675896790434235,0.3473882945248584,0.3473882945248584,0.3477029578351164,0.3477029578351164,0.34833228445563247,0.34833228445563247,0.3499056010069226,0.3499056010069226,0.3502202643171806,0.3502202643171806,0.3514789175582127,0.3514789175582127,0.3524229074889868,0.3524229074889868,0.3530522341095028,0.3530522341095028,0.3536815607300189,0.3536815607300189,0.3539962240402769,0.3539962240402769,0.3565135305223411,0.3565135305223411,0.35840151038388923,0.35840151038388923,0.3590308370044053,0.3590308370044053,0.3606041535556954,0.3606041535556954,0.36091881686595345,0.36091881686595345,0.36217747010698553,0.36217747010698553,0.36249213341724357,0.36249213341724357,0.36375078665827565,0.36375078665827565,0.3662680931403398,0.3662680931403398,0.36658275645059785,0.3672120830711139,0.36752674638137195,0.36752674638137195,0.37035871617369415,0.37035871617369415,0.3709880427942102,0.3709880427942102,0.3713027061044682,0.3713027061044682,0.37287602265575837,0.37287602265575837,0.3735053492762744,0.3735053492762744,0.37413467589679045,0.37413467589679045,0.3750786658275645,0.3750786658275645,0.3760226557583386,0.3760226557583386,0.3788546255506608,0.3788546255506608,0.37916928886091883,0.37916928886091883,0.37948395217117686,0.37948395217117686,0.37979861548143484,0.37979861548143484,0.3801132787916929,0.3801132787916929,0.38451856513530525,0.38451856513530525,0.38514789175582126,0.38514789175582126,0.3854625550660793,0.3854625550660793,0.3886091881686595,0.3886091881686595,0.38955317809943363,0.38955317809943363,0.39018250471994964,0.39018250471994964,0.3920704845814978,0.3920704845814978,0.3930144745122719,0.3930144745122719,0.39395846444304594,0.39395846444304594,0.39490245437382,0.39490245437382,0.395217117684078,0.395217117684078,0.39679043423536814,0.39679043423536814,0.3989930774071743,0.3989930774071743,0.3996224040276904,0.3996224040276904,0.4002517306482064,0.4002517306482064,0.40213971050975456,0.40213971050975456,0.4024543738200126,0.4024543738200126,0.4027690371302706,0.4027690371302706,0.4052863436123348,0.4052863436123348,0.40748898678414097,0.40748898678414097,0.40874764002517305,0.40874764002517305,0.4122089364380113,0.4122089364380113,0.41252359974826935,0.41252359974826935,0.4134675896790434,0.4134675896790434,0.41378225298930144,0.41378225298930144,0.4144115796098175,0.4144115796098175,0.41472624292007554,0.41472624292007554,0.41692888609188167,0.41692888609188167,0.42039018250471993,0.42039018250471993,0.42133417243549404,0.42133417243549404,0.4247954688483323,0.4247954688483323,0.42573945877910635,0.42573945877910635,0.4260541220893644,0.4260541220893644,0.42731277533039647,0.42731277533039647,0.42857142857142855,0.42857142857142855,0.4298300818124607,0.4298300818124607,0.43077407174323473,0.43077407174323473,0.4314033983637508,0.4314033983637508,0.43234738829452485,0.43234738829452485,0.43486469477658907,0.43486469477658907,0.4395846444304594,0.4395846444304594,0.44052863436123346,0.44052863436123346,0.4408432976714915,0.4408432976714915,0.4417872876022656,0.4417872876022656,0.44273127753303965,0.44273127753303965,0.4430459408432977,0.4430459408432977,0.44430459408432976,0.44430459408432976,0.44524858401510387,0.44524858401510387,0.44745122718691,0.44745122718691,0.44808055380742606,0.44808055380742606,0.4483952171176841,0.4483952171176841,0.45028319697923225,0.45028319697923225,0.4505978602894902,0.4505978602894902,0.4524858401510384,0.4524858401510384,0.45311516677155445,0.45311516677155445,0.4540591567023285,0.4540591567023285,0.45594713656387664,0.45594713656387664,0.45877910635619884,0.45877910635619884,0.460037759597231,0.460037759597231,0.46129641283826306,0.46129641283826306,0.4619257394587791,0.4619257394587791,0.46255506607929514,0.46255506607929514,0.4644430459408433,0.4644430459408433,0.4647577092511013,0.4647577092511013,0.4660163624921334,0.4660163624921334,0.46633102580239144,0.46633102580239144,0.4666456891126495,0.4666456891126495,0.46790434235368156,0.46790434235368156,0.46884833228445566,0.46884833228445566,0.4694776589049717,0.4694776589049717,0.4704216488357458,0.4704216488357458,0.4710509754562618,0.4710509754562618,0.47293895531780994,0.47293895531780994,0.473253618628068,0.473253618628068,0.47388294524858404,0.47388294524858404,0.474197608558842,0.474197608558842,0.4748269351793581,0.4748269351793581,0.47545626179987416,0.47545626179987416,0.4770295783511643,0.4770295783511643,0.47734424166142225,0.47734424166142225,0.47828823159219636,0.47828823159219636,0.4789175582127124,0.4789175582127124,0.4792322215229704,0.4792322215229704,0.47954688483322844,0.47954688483322844,0.47986154814348647,0.47986154814348647,0.48049087476400254,0.48049087476400254,0.48112020138451855,0.48112020138451855,0.4817495280050346,0.4817495280050346,0.48206419131529266,0.48206419131529266,0.4839521711768408,0.4839521711768408,0.4845814977973568,0.4845814977973568,0.48489616110761485,0.48489616110761485,0.4855254877281309,0.4855254877281309,0.48646947765890497,0.48646947765890497,0.48709880427942104,0.48709880427942104,0.487413467589679,0.487413467589679,0.4880427942101951,0.4883574575204531,0.48993077407174324,0.48993077407174324,0.49024543738200127,0.49024543738200127,0.4905601006922593,0.4905601006922593,0.4908747640025173,0.4908747640025173,0.4911894273127753,0.4911894273127753,0.49150409062303335,0.49150409062303335,0.4918187539332914,0.4918187539332914,0.4921334172435494,0.4921334172435494,0.49307740717432347,0.49307740717432347,0.4933920704845815,0.4933920704845815,0.4949653870358716,0.4949653870358716,0.49528005034612965,0.49528005034612965,0.4955947136563877,0.4955947136563877,0.4977973568281938,0.4977973568281938,0.500314663310258,0.500314663310258,0.5006293266205161,0.5006293266205161,0.500943989930774,0.500943989930774,0.5012586532410321,0.5012586532410321,0.5015733165512901,0.5015733165512901,0.5022026431718062,0.5022026431718062,0.5047199496538703,0.5047199496538703,0.5059786028949025,0.5059786028949025,0.5066079295154186,0.5066079295154186,0.5069225928256765,0.5069225928256765,0.5078665827564506,0.5078665827564506,0.5084959093769666,0.5084959093769666,0.5088105726872246,0.5088105726872246,0.5091252359974827,0.5091252359974827,0.5100692259282568,0.5100692259282568,0.5103838892385147,0.5103838892385147,0.5116425424795469,0.5116425424795469,0.5147891755821271,0.5147891755821271,0.5163624921334172,0.5163624921334172,0.5166771554436753,0.5166771554436753,0.5169918187539333,0.5169918187539333,0.5173064820641913,0.5173064820641913,0.5195091252359975,0.5195091252359975,0.5213971050975457,0.5213971050975457,0.5223410950283197,0.5223410950283197,0.5239144115796098,0.5239144115796098,0.5242290748898678,0.5242290748898678,0.526431718061674,0.526431718061674,0.5270610446821901,0.5270610446821901,0.5276903713027061,0.5276903713027061,0.5286343612334802,0.5286343612334802,0.5289490245437382,0.5289490245437382,0.5302076777847703,0.5302076777847703,0.5308370044052864,0.5308370044052864,0.5311516677155443,0.5311516677155443,0.5336689741976086,0.5336689741976086,0.5339836375078666,0.5339836375078666,0.5352422907488987,0.5352422907488987,0.5358716173694147,0.5358716173694147,0.5365009439899308,0.5365009439899308,0.5368156073001888,0.5368156073001888,0.538388923851479,0.538388923851479,0.5387035871617369,0.5387035871617369,0.539332913782253,0.539332913782253,0.5399622404027691,0.540591567023285,0.5412208936438011,0.5412208936438011,0.5431088735053493,0.5431088735053493,0.5437382001258654,0.5437382001258654,0.5449968533668974,0.5449968533668974,0.5471994965387036,0.5471994965387036,0.5475141598489616,0.5475141598489616,0.5490874764002517,0.5490874764002517,0.5494021397105098,0.5494021397105098,0.5497168030207678,0.5497168030207678,0.5509754562617999,0.5509754562617999,0.5512901195720579,0.5512901195720579,0.5531780994336061,0.5531780994336061,0.5541220893643801,0.5541220893643801,0.5544367526746381,0.5544367526746381,0.5553807426054123,0.5553807426054123,0.5566393958464443,0.5566393958464443,0.5575833857772183,0.5575833857772183,0.5578980490874764,0.5578980490874764,0.5588420390182505,0.5588420390182505,0.5594713656387665,0.5594713656387665,0.5613593455003146,0.5613593455003146,0.5619886721208307,0.5619886721208307,0.5623033354310887,0.5623033354310887,0.5626179987413468,0.5626179987413468,0.5632473253618628,0.5632473253618628,0.5635619886721208,0.5635619886721208,0.5638766519823789,0.5638766519823789,0.5645059786028949,0.5645059786028949,0.565449968533669,0.566079295154185,0.566079295154185,0.5663939584644431,0.5663939584644431,0.566708621774701,0.566708621774701,0.5670232850849591,0.5670232850849591,0.5673379483952171,0.5673379483952171,0.5679672750157332,0.5679672750157332,0.5682819383259912,0.5682819383259912,0.5695405915670233,0.5695405915670233,0.5707992448080553,0.5707992448080553,0.5711139081183134,0.5711139081183134,0.5717432347388295,0.5717432347388295,0.5720578980490875,0.5720578980490875,0.5726872246696035,0.5726872246696035,0.5730018879798615,0.5730018879798615,0.5736312146003776,0.5736312146003776,0.5758338577721838,0.5758338577721838,0.5767778477029578,0.5767778477029578,0.5783511642542479,0.5783511642542479,0.5802391441157961,0.5802391441157961,0.5808684707363121,0.5808684707363121,0.5818124606670863,0.5818124606670863,0.5821271239773442,0.5821271239773442,0.5830711139081183,0.5830711139081183,0.5833857772183764,0.5833857772183764,0.5874764002517306,0.5874764002517306,0.5877910635619886,0.5877910635619886,0.5887350534927628,0.5887350534927628,0.5896790434235368,0.5896790434235368,0.5906230333543109,0.5906230333543109,0.5909376966645689,0.5909376966645689,0.5915670232850849,0.5915670232850849,0.5928256765261171,0.5928256765261171,0.5937696664568911,0.5937696664568911,0.5940843297671492,0.5940843297671492,0.5956576463184393,0.5956576463184393,0.5962869729389553,0.5962869729389553,0.5966016362492134,0.5966016362492134,0.5969162995594713,0.5969162995594713,0.5975456261799874,0.5975456261799874,0.5981749528005035,0.5981749528005035,0.5991189427312775,0.5991189427312775,0.6010069225928257,0.6010069225928257,0.6016362492133417,0.6016362492133417,0.6022655758338578,0.6022655758338578,0.6028949024543738,0.6028949024543738,0.6032095657646318,0.6032095657646318,0.6035242290748899,0.6035242290748899,0.60509754562618,0.60509754562618,0.6057268722466961,0.6060415355569541,0.606356198867212,0.606356198867212,0.6069855254877281,0.6069855254877281,0.6073001887979862,0.6073001887979862,0.6076148521082442,0.6076148521082442,0.6079295154185022,0.6079295154185022,0.6088735053492763,0.6088735053492763,0.6095028319697923,0.6095028319697923,0.6101321585903083,0.6101321585903083,0.6107614852108244,0.6107614852108244,0.6110761485210825,0.6110761485210825,0.6117054751415985,0.6117054751415985,0.6126494650723726,0.6126494650723726,0.6129641283826306,0.6129641283826306,0.6132787916928886,0.6132787916928886,0.6139081183134046,0.6139081183134046,0.6151667715544368,0.6151667715544368,0.6154814348646948,0.6154814348646948,0.6157960981749528,0.6157960981749528,0.6164254247954688,0.6164254247954688,0.6167400881057269,0.6167400881057269,0.6176840780365009,0.6176840780365009,0.6179987413467589,0.6179987413467589,0.6189427312775331,0.6189427312775331,0.619572057898049,0.619572057898049,0.6198867212083071,0.6198867212083071,0.6205160478288232,0.6205160478288232,0.6208307111390812,0.6208307111390812,0.6211453744493393,0.6211453744493393,0.6220893643801133,0.6220893643801133,0.6224040276903713,0.6224040276903713,0.6233480176211453,0.6233480176211453,0.6236626809314034,0.6236626809314034,0.6236626809314034,0.6236626809314034,0.6249213341724354,0.6249213341724354,0.6252359974826935,0.6252359974826935,0.6255506607929515,0.6255506607929515,0.6261799874134676,0.6261799874134676,0.6264946507237256,0.6264946507237256,0.6277533039647577,0.6277533039647577,0.6283826305852738,0.6283826305852738,0.6290119572057898,0.6290119572057898,0.6293266205160478,0.6293266205160478,0.6299559471365639,0.6299559471365639,0.63058527375708,0.63058527375708,0.6308999370673379,0.6308999370673379,0.631843926998112,0.631843926998112,0.6321585903083701,0.632473253618628,0.6331025802391441,0.6331025802391441,0.6337319068596602,0.6337319068596602,0.6343612334801763,0.6343612334801763,0.6353052234109503,0.6353052234109503,0.6362492133417244,0.6362492133417244,0.6368785399622404,0.6368785399622404,0.6378225298930145,0.6378225298930145,0.6381371932032724,0.6381371932032724,0.6384518565135305,0.6384518565135305,0.6387665198237885,0.6387665198237885,0.6393958464443046,0.6393958464443046,0.6397105097545627,0.6397105097545627,0.6419131529263687,0.6419131529263687,0.6422278162366268,0.6422278162366268,0.644430459408433,0.644430459408433,0.644745122718691,0.644745122718691,0.6460037759597231,0.6460037759597231,0.6472624292007552,0.6472624292007552,0.6475770925110133,0.6475770925110133,0.6478917558212712,0.6478917558212712,0.6482064191315292,0.6482064191315292,0.6488357457520453,0.6488357457520453,0.6516677155443675,0.6516677155443675,0.6532410320956576,0.6532410320956576,0.6538703587161737,0.6538703587161737,0.6563876651982379,0.6563876651982379,0.6567023285084959,0.6567023285084959,0.657016991818754,0.657016991818754,0.6573316551290119,0.6573316551290119,0.6595342983008181,0.6595342983008181,0.6601636249213342,0.6601636249213342,0.6604782882315922,0.6604782882315922,0.6607929515418502,0.6607929515418502,0.6611076148521082,0.6611076148521082,0.6614222781623663,0.6614222781623663,0.6617369414726243,0.6617369414726243,0.6623662680931404,0.6623662680931404,0.6645689112649465,0.6645689112649465,0.6651982378854625,0.6651982378854625,0.6655129011957206,0.6655129011957206,0.6658275645059786,0.6658275645059786,0.6661422278162367,0.6661422278162367,0.6664568911264946,0.6664568911264946,0.6677155443675268,0.6677155443675268,0.6686595342983008,0.6686595342983008,0.6689741976085588,0.6689741976085588,0.6692888609188169,0.6692888609188169,0.671176840780365,0.671176840780365,0.6714915040906231,0.6714915040906231,0.672120830711139,0.672120830711139,0.6730648206419132,0.6730648206419132,0.6736941472624292,0.6736941472624292,0.6762114537444934,0.6762114537444934,0.6771554436752675,0.6771554436752675,0.6784140969162996,0.6784140969162996,0.6787287602265576,0.6787287602265576,0.6799874134675897,0.6799874134675897,0.6809314033983638,0.6809314033983638,0.6828193832599119,0.6828193832599119,0.68313404657017,0.68313404657017,0.684078036500944,0.684078036500944,0.6850220264317181,0.6850220264317181,0.685336689741976,0.685336689741976,0.6859660163624921,0.6878539962240403,0.6878539962240403,0.6884833228445564,0.6891126494650723,0.6891126494650723,0.6897419760855884,0.6897419760855884,0.6910006293266205,0.6910006293266205,0.6928886091881686,0.6928886091881686,0.6932032724984267,0.6932032724984267,0.6935179358086847,0.6935179358086847,0.6938325991189427,0.6938325991189427,0.6947765890497168,0.7001258653241033,0.7001258653241033,0.7010698552548773,0.7010698552548773,0.7023285084959093,0.7023285084959093,0.7029578351164254,0.7029578351164254,0.7032724984266835,0.7032724984266835,0.7039018250471994,0.7039018250471994,0.7045311516677155,0.7045311516677155,0.7048458149779736,0.7048458149779736,0.7051604782882316,0.7051604782882316,0.7057898049087477,0.7057898049087477,0.7064191315292637,0.7064191315292637,0.7067337948395217,0.7067337948395217,0.7070484581497798,0.7070484581497798,0.7073631214600378,0.7073631214600378,0.7079924480805538,0.7079924480805538,0.7089364380113279,0.7089364380113279,0.71019509125236,0.71019509125236,0.710509754562618,0.710509754562618,0.7111390811831341,0.7111390811831341,0.7117684078036501,0.7117684078036501,0.7120830711139081,0.7120830711139081,0.7127123977344242,0.7127123977344242,0.7136563876651982,0.7136563876651982,0.7139710509754562,0.7139710509754562,0.7152297042164883,0.7152297042164883,0.7155443675267463,0.7155443675267463,0.7161736941472624,0.7161736941472624,0.7168030207677785,0.7168030207677785,0.7171176840780366,0.7171176840780366,0.7180616740088106,0.7180616740088106,0.7193203272498426,0.7193203272498426,0.7196349905601007,0.7196349905601007,0.7202643171806168,0.7202643171806168,0.7205789804908748,0.7205789804908748,0.7212083071113908,0.7212083071113908,0.7218376337319069,0.7218376337319069,0.7224669603524229,0.7224669603524229,0.722781623662681,0.722781623662681,0.723725613593455,0.723725613593455,0.7243549402139711,0.7243549402139711,0.724669603524229,0.724669603524229,0.7259282567652612,0.7259282567652612,0.7268722466960352,0.7268722466960352,0.7271869100062933,0.7271869100062933,0.7278162366268093,0.7278162366268093,0.7284455632473253,0.7284455632473253,0.7290748898678414,0.7290748898678414,0.7293895531780994,0.7293895531780994,0.7297042164883575,0.7297042164883575,0.7306482064191315,0.7306482064191315,0.7319068596601637,0.7319068596601637,0.7325361862806796,0.7325361862806796,0.7331655129011957,0.7331655129011957,0.7341095028319697,0.7341095028319697,0.7344241661422278,0.7344241661422278,0.7347388294524858,0.7347388294524858,0.7350534927627439,0.7350534927627439,0.73568281938326,0.73568281938326,0.736626809314034,0.736626809314034,0.736941472624292,0.736941472624292,0.7375707992448081,0.7375707992448081,0.7382001258653241,0.7382001258653241,0.7388294524858402,0.7391441157960982,0.7391441157960982,0.7394587791063562,0.7394587791063562,0.7397734424166142,0.7397734424166142,0.7400881057268722,0.7400881057268722,0.7410320956576463,0.7410320956576463,0.7416614222781623,0.7416614222781623,0.7419760855884204,0.7419760855884204,0.7432347388294525,0.7432347388294525,0.7444933920704846,0.7444933920704846,0.7451227186910007,0.7451227186910007,0.7463813719320327,0.7463813719320327,0.7466960352422908,0.7466960352422908,0.7479546884833228,0.7479546884833228,0.7482693517935809,0.7482693517935809,0.7492133417243549,0.7492133417243549,0.749842668344871,0.749842668344871,0.750157331655129,0.750157331655129,0.7504719949653871,0.7504719949653871,0.7507866582756451,0.7507866582756451,0.7517306482064191,0.7517306482064191,0.7533039647577092,0.7533039647577092,0.7536186280679673,0.7536186280679673,0.7539332913782253,0.7539332913782253,0.7567652611705475,0.7567652611705475,0.7573945877910636,0.7573945877910636,0.7577092511013216,0.7577092511013216,0.7583385777218377,0.7583385777218377,0.7595972309628697,0.7602265575833858,0.7602265575833858,0.7614852108244179,0.7614852108244179,0.763058527375708,0.763058527375708,0.763373190685966,0.763373190685966,0.7646318439269981,0.7646318439269981,0.7649465072372561,0.7649465072372561,0.7652611705475142,0.7652611705475142,0.7655758338577722,0.7655758338577722,0.7665198237885462,0.7665198237885462,0.7668344870988043,0.7668344870988043,0.7674638137193204,0.7674638137193204,0.7680931403398363,0.7680931403398363,0.7684078036500944,0.7684078036500944,0.7690371302706105,0.7690371302706105,0.7696664568911264,0.7696664568911264,0.7699811202013845,0.7699811202013845,0.7731277533039648,0.7731277533039648,0.7737570799244808,0.7737570799244808,0.7743864065449969,0.7743864065449969,0.7747010698552549,0.7747010698552549,0.7756450597860289,0.7756450597860289,0.775959723096287,0.775959723096287,0.776274386406545,0.776274386406545,0.776589049716803,0.776589049716803,0.7775330396475771,0.7775330396475771,0.7778477029578351,0.7778477029578351,0.7787916928886092,0.7787916928886092,0.7800503461296413,0.7800503461296413,0.7803650094398993,0.7803650094398993,0.7806796727501574,0.7806796727501574,0.7816236626809314,0.7816236626809314,0.7825676526117055,0.7825676526117055,0.7828823159219634,0.7828823159219634,0.7831969792322215,0.7831969792322215,0.7835116425424795,0.7835116425424795,0.7841409691629956,0.7841409691629956,0.7847702957835117,0.7847702957835117,0.7857142857142857,0.7857142857142857,0.7866582756450597,0.7866582756450597,0.7872876022655758,0.7872876022655758,0.7876022655758339,0.7876022655758339,0.7879169288860919,0.7879169288860919,0.789490245437382,0.789490245437382,0.7907488986784141,0.7907488986784141,0.7910635619886721,0.7910635619886721,0.7916928886091882,0.7916928886091882,0.7926368785399622,0.7926368785399622,0.7954688483322845,0.7954688483322845,0.7960981749528006,0.7960981749528006,0.7967275015733165,0.7967275015733165,0.7970421648835746,0.7970421648835746,0.7983008181246066,0.7983008181246066,0.7986154814348647,0.7986154814348647,0.7992448080553808,0.7992448080553808,0.7998741346758967,0.7998741346758967,0.8001887979861548,0.8001887979861548,0.8005034612964128,0.8005034612964128,0.8008181246066709,0.8008181246066709,0.8011327879169289,0.8011327879169289,0.8014474512271869,0.8014474512271869,0.8020767778477029,0.8020767778477029,0.802706104468219,0.802706104468219,0.8030207677784771,0.803650094398993,0.803650094398993,0.8042794210195091,0.8042794210195091,0.8045940843297672,0.8045940843297672,0.8049087476400252,0.8049087476400252,0.8055380742605412,0.8055380742605412,0.8058527375707992,0.8058527375707992,0.8067967275015733,0.8067967275015733,0.8071113908118314,0.8071113908118314,0.8083700440528634,0.8083700440528634,0.8093140339836375,0.8093140339836375,0.8096286972938955,0.8096286972938955,0.8102580239144116,0.8102580239144116,0.8115166771554436,0.8115166771554436,0.8121460037759597,0.8121460037759597,0.8124606670862178,0.8124606670862178,0.8127753303964758,0.8127753303964758,0.8130899937067338,0.8130899937067338,0.8137193203272498,0.8137193203272498,0.814663310258024,0.814663310258024,0.815607300188798,0.815607300188798,0.8174952800503461,0.8174952800503461,0.8178099433606042,0.8178099433606042,0.8184392699811202,0.8184392699811202,0.8187539332913782,0.8187539332913782,0.8190685966016362,0.8190685966016362,0.8196979232221523,0.8196979232221523,0.8200125865324103,0.8200125865324103,0.8203272498426684,0.8203272498426684,0.8206419131529263,0.8206419131529263,0.8212712397734424,0.8212712397734424,0.8215859030837004,0.8215859030837004,0.8219005663939585,0.8219005663939585,0.8228445563247325,0.8228445563247325,0.8231592196349906,0.8231592196349906,0.8234738829452486,0.8234738829452486,0.8247325361862807,0.8247325361862807,0.8250471994965387,0.8250471994965387,0.8253618628067967,0.8253618628067967,0.8263058527375708,0.8263058527375708,0.8269351793580868,0.8269351793580868,0.8272498426683449,0.8272498426683449,0.827879169288861,0.827879169288861,0.8281938325991189,0.8281938325991189,0.8285084959093769,0.8285084959093769,0.829137822529893,0.829137822529893,0.8297671491504091,0.8297671491504091,0.830081812460667,0.830081812460667,0.8303964757709251,0.8303964757709251,0.8313404657016992,0.8313404657016992,0.8316551290119572,0.8316551290119572,0.8319697923222152,0.8319697923222152,0.8325991189427313,0.8325991189427313,0.8329137822529893,0.8329137822529893,0.8338577721837633,0.8338577721837633,0.8351164254247955,0.8351164254247955,0.8370044052863436,0.8370044052863436,0.8376337319068596,0.8376337319068596,0.8379483952171177,0.8379483952171177,0.8382630585273757,0.8382630585273757,0.8385777218376337,0.8385777218376337,0.8392070484581498,0.8392070484581498,0.8395217117684078,0.8395217117684078,0.8401510383889238,0.8401510383889238,0.8404657016991819,0.8404657016991819,0.841095028319698,0.841095028319698,0.841724354940214,0.841724354940214,0.8426683448709881,0.8426683448709881,0.842983008181246,0.842983008181246,0.8439269981120201,0.8439269981120201,0.8451856513530522,0.8451856513530522,0.8455003146633102,0.8455003146633102,0.8458149779735683,0.8458149779735683,0.8461296412838263,0.8461296412838263,0.8464443045940844,0.8464443045940844,0.8467589679043424,0.8467589679043424,0.8470736312146003,0.8470736312146003,0.8473882945248584,0.8473882945248584,0.8480176211453745,0.8480176211453745,0.8483322844556325,0.8483322844556325,0.8486469477658904,0.8486469477658904,0.8489616110761485,0.8489616110761485,0.8492762743864065,0.8492762743864065,0.8499056010069226,0.8499056010069226,0.8502202643171806,0.8502202643171806,0.8511642542479547,0.8511642542479547,0.8514789175582127,0.8514789175582127,0.8521082441787288,0.8521082441787288,0.8527375707992448,0.8527375707992448,0.8530522341095028,0.8530522341095028,0.8533668974197609,0.8533668974197609,0.8539962240402769,0.8539962240402769,0.854940213971051,0.854940213971051,0.855254877281309,0.855254877281309,0.855569540591567,0.855569540591567,0.8558842039018251,0.8558842039018251,0.856198867212083,0.856198867212083,0.8565135305223411,0.8565135305223411,0.8568281938325991,0.8568281938325991,0.8571428571428571,0.8571428571428571,0.8577721837633732,0.8577721837633732,0.8580868470736313,0.8580868470736313,0.8584015103838892,0.8584015103838892,0.8587161736941472,0.8587161736941472,0.8590308370044053,0.8590308370044053,0.8593455003146633,0.8593455003146633,0.8596601636249214,0.8596601636249214,0.8599748269351793,0.8599748269351793,0.8609188168659534,0.8609188168659534,0.8612334801762115,0.8612334801762115,0.8615481434864695,0.8615481434864695,0.8618628067967276,0.8618628067967276,0.8628067967275016,0.8628067967275016,0.8637507866582756,0.8637507866582756,0.8643801132787917,0.8643801132787917,0.8646947765890497,0.8646947765890497,0.8650094398993078,0.8650094398993078,0.8659534298300818,0.8659534298300818,0.8662680931403398,0.8662680931403398,0.8665827564505979,0.8665827564505979,0.8668974197608559,0.8668974197608559,0.867526746381372,0.867526746381372,0.8678414096916299,0.8678414096916299,0.868156073001888,0.868156073001888,0.868470736312146,0.868470736312146,0.868785399622404,0.868785399622404,0.8691000629326621,0.8691000629326621,0.8703587161736942,0.8703587161736942,0.8706733794839522,0.8706733794839522,0.8709880427942102,0.8709880427942102,0.8713027061044682,0.8713027061044682,0.8716173694147262,0.8716173694147262,0.8722466960352423,0.8722466960352423,0.8725613593455003,0.8725613593455003,0.8731906859660163,0.8731906859660163,0.8735053492762744,0.8735053492762744,0.8738200125865324,0.8738200125865324,0.8741346758967904,0.8741346758967904,0.8753933291378225,0.8753933291378225,0.8757079924480805,0.8757079924480805,0.8769666456891126,0.8769666456891126,0.8772813089993706,0.8772813089993706,0.8775959723096287,0.8775959723096287,0.8779106356198867,0.8779106356198867,0.8788546255506607,0.8788546255506607,0.8794839521711768,0.8794839521711768,0.8801132787916929,0.8801132787916929,0.880427942101951,0.880427942101951,0.880742605412209,0.880742605412209,0.8810572687224669,0.8810572687224669,0.881371932032725,0.881371932032725,0.881686595342983,0.881686595342983,0.8820012586532411,0.8820012586532411,0.8823159219634991,0.8823159219634991,0.882630585273757,0.882630585273757,0.8829452485840151,0.8829452485840151,0.8835745752045312,0.8845185651353052,0.8845185651353052,0.8851478917558213,0.8851478917558213,0.8854625550660793,0.8854625550660793,0.8857772183763373,0.8857772183763373,0.8860918816865954,0.8860918816865954,0.8873505349276274,0.8873505349276274,0.8876651982378855,0.8876651982378855,0.8879798615481435,0.8879798615481435,0.8882945248584015,0.8882945248584015,0.8886091881686595,0.8886091881686595,0.8889238514789175,0.8889238514789175,0.8895531780994336,0.8895531780994336,0.8904971680302077,0.8904971680302077,0.8911264946507237,0.8911264946507237,0.8930144745122719,0.8930144745122719,0.8933291378225299,0.8933291378225299,0.893643801132788,0.893643801132788,0.8939584644430459,0.8939584644430459,0.8942731277533039,0.8942731277533039,0.894587791063562,0.894587791063562,0.89490245437382,0.89490245437382,0.895846444304594,0.895846444304594,0.8961611076148521,0.8961611076148521,0.8964757709251101,0.8964757709251101,0.8967904342353682,0.8967904342353682,0.8971050975456262,0.8971050975456262,0.8977344241661422,0.8977344241661422,0.8980490874764002,0.8980490874764002,0.8983637507866583,0.8983637507866583,0.8989930774071743,0.8989930774071743,0.8993077407174324,0.8993077407174324,0.8996224040276903,0.8996224040276903,0.8999370673379484,0.8999370673379484,0.9002517306482064,0.9002517306482064,0.9005663939584645,0.9005663939584645,0.9008810572687225,0.9008810572687225,0.9011957205789805,0.9011957205789805,0.9015103838892385,0.9015103838892385,0.9018250471994965,0.9018250471994965,0.9030837004405287,0.9030837004405287,0.9043423536815607,0.9043423536815607,0.9059156702328508,0.9059156702328508,0.9062303335431089,0.9062303335431089,0.9065449968533669,0.9065449968533669,0.9074889867841409,0.9074889867841409,0.908118313404657,0.908118313404657,0.9084329767149151,0.9084329767149151,0.908747640025173,0.908747640025173,0.9096916299559471,0.9096916299559471,0.9100062932662052,0.9100062932662052,0.9115796098174953,0.9115796098174953,0.9122089364380114,0.9122089364380114,0.9125235997482694,0.9125235997482694,0.9128382630585273,0.9128382630585273,0.9131529263687854,0.9131529263687854,0.9134675896790434,0.9134675896790434,0.9137822529893015,0.9137822529893015,0.9144115796098174,0.9144115796098174,0.9150409062303335,0.9150409062303335,0.9153555695405916,0.9153555695405916,0.9156702328508496,0.9156702328508496,0.9162995594713657,0.9162995594713657,0.9166142227816236,0.9166142227816236,0.9181875393329137,0.9181875393329137,0.9185022026431718,0.9185022026431718,0.9188168659534298,0.9188168659534298,0.9191315292636879,0.9191315292636879,0.9197608558842039,0.9197608558842039,0.920075519194462,0.920075519194462,0.920704845814978,0.920704845814978,0.921019509125236,0.921019509125236,0.9216488357457521,0.9216488357457521,0.92196349905601,0.92196349905601,0.92196349905601,0.92196349905601,0.9222781623662681,0.9222781623662681,0.9225928256765261,0.9225928256765261,0.9229074889867841,0.9229074889867841,0.9235368156073002,0.9235368156073002,0.9238514789175583,0.9238514789175583,0.9241661422278162,0.9241661422278162,0.9254247954688484,0.9254247954688484,0.9257394587791064,0.9257394587791064,0.9260541220893643,0.9260541220893643,0.9263687853996224,0.9263687853996224,0.9269981120201385,0.9269981120201385,0.9273127753303965,0.9273127753303965,0.9282567652611705,0.9282567652611705,0.9285714285714286,0.9285714285714286,0.9292007551919447,0.9292007551919447,0.9295154185022027,0.9295154185022027,0.9301447451227187,0.9301447451227187,0.9304594084329767,0.9304594084329767,0.9310887350534928,0.9310887350534928,0.9314033983637507,0.9314033983637507,0.9317180616740088,0.9317180616740088,0.9329767149150409,0.9329767149150409,0.933920704845815,0.933920704845815,0.934235368156073,0.934235368156073,0.9348646947765891,0.9348646947765891,0.935179358086847,0.935179358086847,0.9354940213971051,0.9354940213971051,0.9361233480176211,0.9361233480176211,0.9364380113278792,0.9364380113278792,0.9364380113278792,0.9367526746381372,0.9367526746381372,0.9370673379483953,0.9370673379483953,0.9383259911894273,0.9383259911894273,0.9386406544996854,0.9386406544996854,0.9389553178099433,0.9389553178099433,0.9392699811202014,0.9392699811202014,0.9398993077407174,0.9398993077407174,0.9402139710509755,0.9402139710509755,0.9405286343612335,0.9405286343612335,0.9408432976714916,0.9408432976714916,0.9414726242920075,0.9414726242920075,0.9424166142227817,0.9424166142227817,0.9427312775330396,0.9427312775330396,0.9430459408432976,0.9430459408432976,0.9433606041535557,0.9433606041535557,0.9443045940843298,0.9443045940843298,0.9446192573945877,0.9446192573945877,0.9449339207048458,0.9449339207048458,0.9452485840151038,0.9452485840151038,0.9455632473253619,0.9455632473253619,0.9461925739458779,0.9461925739458779,0.9468219005663939,0.9468219005663939,0.947136563876652,0.947136563876652,0.9477658904971681,0.9477658904971681,0.948395217117684,0.948395217117684,0.9490245437382001,0.9490245437382001,0.9496538703587162,0.9496538703587162,0.9499685336689742,0.9499685336689742,0.9505978602894902,0.9505978602894902,0.9515418502202643,0.9515418502202643,0.9521711768407803,0.9521711768407803,0.9528005034612964,0.9528005034612964,0.9531151667715544,0.9531151667715544,0.9534298300818125,0.9534298300818125,0.9537444933920705,0.9537444933920705,0.9540591567023285,0.9540591567023285,0.9543738200125865,0.9543738200125865,0.9546884833228445,0.9546884833228445,0.9553178099433606,0.9553178099433606,0.9562617998741346,0.9562617998741346,0.9565764631843927,0.9565764631843927,0.9575204531151668,0.9575204531151668,0.9578351164254248,0.9578351164254248,0.9581497797356828,0.9581497797356828,0.9584644430459408,0.9584644430459408,0.9587791063561989,0.9587791063561989,0.959408432976715,0.959408432976715,0.960352422907489,0.960352422907489,0.9609817495280051,0.9609817495280051,0.9612964128382631,0.9612964128382631,0.961611076148521,0.961611076148521,0.9619257394587791,0.9619257394587791,0.9622404027690371,0.9622404027690371,0.9628697293895532,0.9628697293895532,0.9631843926998112,0.9631843926998112,0.9634990560100692,0.9634990560100692,0.9638137193203272,0.9638137193203272,0.9644430459408433,0.9644430459408433,0.9647577092511013,0.9647577092511013,0.9650723725613594,0.9650723725613594,0.9653870358716173,0.9653870358716173,0.9657016991818754,0.9657016991818754,0.9666456891126495,0.9666456891126495,0.9669603524229075,0.9669603524229075,0.9682190056639396,0.9682190056639396,0.9685336689741976,0.9685336689741976,0.9688483322844557,0.9688483322844557,0.9694776589049717,0.9694776589049717,0.9697923222152297,0.9697923222152297,0.9701069855254877,0.9701069855254877,0.9704216488357458,0.9704216488357458,0.9707363121460038,0.9707363121460038,0.9710509754562618,0.9710509754562618,0.9719949653870359,0.9719949653870359,0.9723096286972939,0.9723096286972939,0.972624292007552,0.972624292007552,0.9729389553178099,0.9729389553178099,0.9732536186280679,0.9732536186280679,0.973568281938326,0.973568281938326,0.973882945248584,0.973882945248584,0.9745122718691,0.9745122718691,0.9751415984896161,0.9751415984896161,0.9754562617998741,0.9754562617998741,0.9757709251101322,0.9757709251101322,0.9760855884203902,0.9760855884203902,0.9770295783511642,0.9770295783511642,0.9773442416614223,0.9773442416614223,0.9776589049716803,0.9776589049716803,0.9779735682819384,0.9779735682819384,0.9782882315921964,0.9782882315921964,0.9786028949024543,0.9786028949024543,0.9789175582127124,0.9789175582127124,0.9795468848332285,0.9795468848332285,0.9798615481434865,0.9798615481434865,0.9801762114537445,0.9801762114537445,0.9804908747640025,0.9804908747640025,0.9808055380742605,0.9808055380742605,0.9811202013845186,0.9811202013845186,0.9814348646947766,0.9814348646947766,0.9820641913152927,0.9820641913152927,0.9820641913152927,0.9820641913152927,0.9823788546255506,0.9823788546255506,0.9826935179358087,0.9826935179358087,0.9826935179358087,0.9826935179358087,0.9830081812460667,0.9839521711768408,0.9839521711768408,0.9839521711768408,0.9839521711768408,0.9839521711768408,0.9842668344870988,0.9855254877281309,0.9855254877281309,0.9855254877281309,0.9855254877281309,0.986469477658905,0.986469477658905,0.986469477658905,0.986469477658905,0.986469477658905,0.986469477658905,0.986784140969163,0.9883574575204531,0.9886721208307111,0.9886721208307111,0.9886721208307111,0.9886721208307111,0.9886721208307111,0.9893014474512272,0.9893014474512272,0.9896161107614853,0.9896161107614853,0.9899307740717432,0.9899307740717432,0.9902454373820012,0.9902454373820012,0.9905601006922593,0.9905601006922593,0.9905601006922593,0.9908747640025173,0.9908747640025173,0.9911894273127754,0.9911894273127754,0.9915040906230334,0.9915040906230334,0.9915040906230334,0.9915040906230334,0.9915040906230334,0.9918187539332913,0.9918187539332913,0.9921334172435494,0.9921334172435494,0.9924480805538074,0.9924480805538074,0.9924480805538074,0.9924480805538074,0.9927627438640655,0.9927627438640655,0.9930774071743235,0.9930774071743235,0.9937067337948395,0.9937067337948395,0.9940213971050975,0.9940213971050975,0.9943360604153556,0.9943360604153556,0.9943360604153556,0.9943360604153556,0.9946507237256136,0.9946507237256136,0.9949653870358716,0.9949653870358716,0.9952800503461297,0.9952800503461297,0.9955947136563876,0.9955947136563876,0.9955947136563876,0.9959093769666457,0.9959093769666457,0.9962240402769037,0.9962240402769037,0.9965387035871618,0.9965387035871618,0.9968533668974198,0.9968533668974198,0.9971680302076777,0.9971680302076777,0.9974826935179358,0.9974826935179358,0.9977973568281938,0.9977973568281938,0.9981120201384519,0.9981120201384519,0.9984266834487099,0.9984266834487099,0.9987413467589679,0.9987413467589679,0.9993706733794839,0.9993706733794839,0.999685336689742,0.999685336689742,1.0,1.0],\"type\":\"scatter\"},{\"line\":{\"dash\":\"dot\"},\"mode\":\"lines\",\"name\":\"Contrast Line\",\"x\":[0,1],\"y\":[0,1],\"type\":\"scatter\"},{\"line\":{\"dash\":\"dash\"},\"mode\":\"lines\",\"name\":\"Random\",\"x\":[0,1],\"y\":[0,1],\"type\":\"scatter\"}],                        {\"template\":{\"data\":{\"histogram2dcontour\":[{\"type\":\"histogram2dcontour\",\"colorbar\":{\"outlinewidth\":0,\"ticks\":\"\"},\"colorscale\":[[0.0,\"#0d0887\"],[0.1111111111111111,\"#46039f\"],[0.2222222222222222,\"#7201a8\"],[0.3333333333333333,\"#9c179e\"],[0.4444444444444444,\"#bd3786\"],[0.5555555555555556,\"#d8576b\"],[0.6666666666666666,\"#ed7953\"],[0.7777777777777778,\"#fb9f3a\"],[0.8888888888888888,\"#fdca26\"],[1.0,\"#f0f921\"]]}],\"choropleth\":[{\"type\":\"choropleth\",\"colorbar\":{\"outlinewidth\":0,\"ticks\":\"\"}}],\"histogram2d\":[{\"type\":\"histogram2d\",\"colorbar\":{\"outlinewidth\":0,\"ticks\":\"\"},\"colorscale\":[[0.0,\"#0d0887\"],[0.1111111111111111,\"#46039f\"],[0.2222222222222222,\"#7201a8\"],[0.3333333333333333,\"#9c179e\"],[0.4444444444444444,\"#bd3786\"],[0.5555555555555556,\"#d8576b\"],[0.6666666666666666,\"#ed7953\"],[0.7777777777777778,\"#fb9f3a\"],[0.8888888888888888,\"#fdca26\"],[1.0,\"#f0f921\"]]}],\"heatmap\":[{\"type\":\"heatmap\",\"colorbar\":{\"outlinewidth\":0,\"ticks\":\"\"},\"colorscale\":[[0.0,\"#0d0887\"],[0.1111111111111111,\"#46039f\"],[0.2222222222222222,\"#7201a8\"],[0.3333333333333333,\"#9c179e\"],[0.4444444444444444,\"#bd3786\"],[0.5555555555555556,\"#d8576b\"],[0.6666666666666666,\"#ed7953\"],[0.7777777777777778,\"#fb9f3a\"],[0.8888888888888888,\"#fdca26\"],[1.0,\"#f0f921\"]]}],\"heatmapgl\":[{\"type\":\"heatmapgl\",\"colorbar\":{\"outlinewidth\":0,\"ticks\":\"\"},\"colorscale\":[[0.0,\"#0d0887\"],[0.1111111111111111,\"#46039f\"],[0.2222222222222222,\"#7201a8\"],[0.3333333333333333,\"#9c179e\"],[0.4444444444444444,\"#bd3786\"],[0.5555555555555556,\"#d8576b\"],[0.6666666666666666,\"#ed7953\"],[0.7777777777777778,\"#fb9f3a\"],[0.8888888888888888,\"#fdca26\"],[1.0,\"#f0f921\"]]}],\"contourcarpet\":[{\"type\":\"contourcarpet\",\"colorbar\":{\"outlinewidth\":0,\"ticks\":\"\"}}],\"contour\":[{\"type\":\"contour\",\"colorbar\":{\"outlinewidth\":0,\"ticks\":\"\"},\"colorscale\":[[0.0,\"#0d0887\"],[0.1111111111111111,\"#46039f\"],[0.2222222222222222,\"#7201a8\"],[0.3333333333333333,\"#9c179e\"],[0.4444444444444444,\"#bd3786\"],[0.5555555555555556,\"#d8576b\"],[0.6666666666666666,\"#ed7953\"],[0.7777777777777778,\"#fb9f3a\"],[0.8888888888888888,\"#fdca26\"],[1.0,\"#f0f921\"]]}],\"surface\":[{\"type\":\"surface\",\"colorbar\":{\"outlinewidth\":0,\"ticks\":\"\"},\"colorscale\":[[0.0,\"#0d0887\"],[0.1111111111111111,\"#46039f\"],[0.2222222222222222,\"#7201a8\"],[0.3333333333333333,\"#9c179e\"],[0.4444444444444444,\"#bd3786\"],[0.5555555555555556,\"#d8576b\"],[0.6666666666666666,\"#ed7953\"],[0.7777777777777778,\"#fb9f3a\"],[0.8888888888888888,\"#fdca26\"],[1.0,\"#f0f921\"]]}],\"mesh3d\":[{\"type\":\"mesh3d\",\"colorbar\":{\"outlinewidth\":0,\"ticks\":\"\"}}],\"scatter\":[{\"fillpattern\":{\"fillmode\":\"overlay\",\"size\":10,\"solidity\":0.2},\"type\":\"scatter\"}],\"parcoords\":[{\"type\":\"parcoords\",\"line\":{\"colorbar\":{\"outlinewidth\":0,\"ticks\":\"\"}}}],\"scatterpolargl\":[{\"type\":\"scatterpolargl\",\"marker\":{\"colorbar\":{\"outlinewidth\":0,\"ticks\":\"\"}}}],\"bar\":[{\"error_x\":{\"color\":\"#2a3f5f\"},\"error_y\":{\"color\":\"#2a3f5f\"},\"marker\":{\"line\":{\"color\":\"#E5ECF6\",\"width\":0.5},\"pattern\":{\"fillmode\":\"overlay\",\"size\":10,\"solidity\":0.2}},\"type\":\"bar\"}],\"scattergeo\":[{\"type\":\"scattergeo\",\"marker\":{\"colorbar\":{\"outlinewidth\":0,\"ticks\":\"\"}}}],\"scatterpolar\":[{\"type\":\"scatterpolar\",\"marker\":{\"colorbar\":{\"outlinewidth\":0,\"ticks\":\"\"}}}],\"histogram\":[{\"marker\":{\"pattern\":{\"fillmode\":\"overlay\",\"size\":10,\"solidity\":0.2}},\"type\":\"histogram\"}],\"scattergl\":[{\"type\":\"scattergl\",\"marker\":{\"colorbar\":{\"outlinewidth\":0,\"ticks\":\"\"}}}],\"scatter3d\":[{\"type\":\"scatter3d\",\"line\":{\"colorbar\":{\"outlinewidth\":0,\"ticks\":\"\"}},\"marker\":{\"colorbar\":{\"outlinewidth\":0,\"ticks\":\"\"}}}],\"scattermapbox\":[{\"type\":\"scattermapbox\",\"marker\":{\"colorbar\":{\"outlinewidth\":0,\"ticks\":\"\"}}}],\"scatterternary\":[{\"type\":\"scatterternary\",\"marker\":{\"colorbar\":{\"outlinewidth\":0,\"ticks\":\"\"}}}],\"scattercarpet\":[{\"type\":\"scattercarpet\",\"marker\":{\"colorbar\":{\"outlinewidth\":0,\"ticks\":\"\"}}}],\"carpet\":[{\"aaxis\":{\"endlinecolor\":\"#2a3f5f\",\"gridcolor\":\"white\",\"linecolor\":\"white\",\"minorgridcolor\":\"white\",\"startlinecolor\":\"#2a3f5f\"},\"baxis\":{\"endlinecolor\":\"#2a3f5f\",\"gridcolor\":\"white\",\"linecolor\":\"white\",\"minorgridcolor\":\"white\",\"startlinecolor\":\"#2a3f5f\"},\"type\":\"carpet\"}],\"table\":[{\"cells\":{\"fill\":{\"color\":\"#EBF0F8\"},\"line\":{\"color\":\"white\"}},\"header\":{\"fill\":{\"color\":\"#C8D4E3\"},\"line\":{\"color\":\"white\"}},\"type\":\"table\"}],\"barpolar\":[{\"marker\":{\"line\":{\"color\":\"#E5ECF6\",\"width\":0.5},\"pattern\":{\"fillmode\":\"overlay\",\"size\":10,\"solidity\":0.2}},\"type\":\"barpolar\"}],\"pie\":[{\"automargin\":true,\"type\":\"pie\"}]},\"layout\":{\"autotypenumbers\":\"strict\",\"colorway\":[\"#636efa\",\"#EF553B\",\"#00cc96\",\"#ab63fa\",\"#FFA15A\",\"#19d3f3\",\"#FF6692\",\"#B6E880\",\"#FF97FF\",\"#FECB52\"],\"font\":{\"color\":\"#2a3f5f\"},\"hovermode\":\"closest\",\"hoverlabel\":{\"align\":\"left\"},\"paper_bgcolor\":\"white\",\"plot_bgcolor\":\"#E5ECF6\",\"polar\":{\"bgcolor\":\"#E5ECF6\",\"angularaxis\":{\"gridcolor\":\"white\",\"linecolor\":\"white\",\"ticks\":\"\"},\"radialaxis\":{\"gridcolor\":\"white\",\"linecolor\":\"white\",\"ticks\":\"\"}},\"ternary\":{\"bgcolor\":\"#E5ECF6\",\"aaxis\":{\"gridcolor\":\"white\",\"linecolor\":\"white\",\"ticks\":\"\"},\"baxis\":{\"gridcolor\":\"white\",\"linecolor\":\"white\",\"ticks\":\"\"},\"caxis\":{\"gridcolor\":\"white\",\"linecolor\":\"white\",\"ticks\":\"\"}},\"coloraxis\":{\"colorbar\":{\"outlinewidth\":0,\"ticks\":\"\"}},\"colorscale\":{\"sequential\":[[0.0,\"#0d0887\"],[0.1111111111111111,\"#46039f\"],[0.2222222222222222,\"#7201a8\"],[0.3333333333333333,\"#9c179e\"],[0.4444444444444444,\"#bd3786\"],[0.5555555555555556,\"#d8576b\"],[0.6666666666666666,\"#ed7953\"],[0.7777777777777778,\"#fb9f3a\"],[0.8888888888888888,\"#fdca26\"],[1.0,\"#f0f921\"]],\"sequentialminus\":[[0.0,\"#0d0887\"],[0.1111111111111111,\"#46039f\"],[0.2222222222222222,\"#7201a8\"],[0.3333333333333333,\"#9c179e\"],[0.4444444444444444,\"#bd3786\"],[0.5555555555555556,\"#d8576b\"],[0.6666666666666666,\"#ed7953\"],[0.7777777777777778,\"#fb9f3a\"],[0.8888888888888888,\"#fdca26\"],[1.0,\"#f0f921\"]],\"diverging\":[[0,\"#8e0152\"],[0.1,\"#c51b7d\"],[0.2,\"#de77ae\"],[0.3,\"#f1b6da\"],[0.4,\"#fde0ef\"],[0.5,\"#f7f7f7\"],[0.6,\"#e6f5d0\"],[0.7,\"#b8e186\"],[0.8,\"#7fbc41\"],[0.9,\"#4d9221\"],[1,\"#276419\"]]},\"xaxis\":{\"gridcolor\":\"white\",\"linecolor\":\"white\",\"ticks\":\"\",\"title\":{\"standoff\":15},\"zerolinecolor\":\"white\",\"automargin\":true,\"zerolinewidth\":2},\"yaxis\":{\"gridcolor\":\"white\",\"linecolor\":\"white\",\"ticks\":\"\",\"title\":{\"standoff\":15},\"zerolinecolor\":\"white\",\"automargin\":true,\"zerolinewidth\":2},\"scene\":{\"xaxis\":{\"backgroundcolor\":\"#E5ECF6\",\"gridcolor\":\"white\",\"linecolor\":\"white\",\"showbackground\":true,\"ticks\":\"\",\"zerolinecolor\":\"white\",\"gridwidth\":2},\"yaxis\":{\"backgroundcolor\":\"#E5ECF6\",\"gridcolor\":\"white\",\"linecolor\":\"white\",\"showbackground\":true,\"ticks\":\"\",\"zerolinecolor\":\"white\",\"gridwidth\":2},\"zaxis\":{\"backgroundcolor\":\"#E5ECF6\",\"gridcolor\":\"white\",\"linecolor\":\"white\",\"showbackground\":true,\"ticks\":\"\",\"zerolinecolor\":\"white\",\"gridwidth\":2}},\"shapedefaults\":{\"line\":{\"color\":\"#2a3f5f\"}},\"annotationdefaults\":{\"arrowcolor\":\"#2a3f5f\",\"arrowhead\":0,\"arrowwidth\":1},\"geo\":{\"bgcolor\":\"white\",\"landcolor\":\"#E5ECF6\",\"subunitcolor\":\"white\",\"showland\":true,\"showlakes\":true,\"lakecolor\":\"white\"},\"title\":{\"x\":0.05},\"mapbox\":{\"style\":\"light\"}}},\"title\":{\"text\":\"ROC Curve of Best SVM Model\",\"x\":0.5},\"xaxis\":{\"title\":{\"text\":\"False Positive Rate\"}},\"yaxis\":{\"title\":{\"text\":\"True Positive Rate\"}},\"showlegend\":true,\"legend\":{\"x\":1,\"y\":1}},                        {\"responsive\": true}                    ).then(function(){\n",
       "                            \n",
       "var gd = document.getElementById('f71f1319-d409-436e-b0ae-e1e29a0d8346');\n",
       "var x = new MutationObserver(function (mutations, observer) {{\n",
       "        var display = window.getComputedStyle(gd).display;\n",
       "        if (!display || display === 'none') {{\n",
       "            console.log([gd, 'removed!']);\n",
       "            Plotly.purge(gd);\n",
       "            observer.disconnect();\n",
       "        }}\n",
       "}});\n",
       "\n",
       "// Listen for the removal of the full notebook cells\n",
       "var notebookContainer = gd.closest('#notebook-container');\n",
       "if (notebookContainer) {{\n",
       "    x.observe(notebookContainer, {childList: true});\n",
       "}}\n",
       "\n",
       "// Listen for the clearing of the current output cell\n",
       "var outputEl = gd.closest('.output');\n",
       "if (outputEl) {{\n",
       "    x.observe(outputEl, {childList: true});\n",
       "}}\n",
       "\n",
       "                        })                };                });            </script>        </div>"
      ]
     },
     "metadata": {},
     "output_type": "display_data"
    }
   ],
   "source": [
    "import plotly.graph_objects as go\n",
    "from sklearn.metrics import roc_curve, auc\n",
    "\n",
    "#test_data and best_svm_model are defined\n",
    "\n",
    "# Convert string labels to numerical format\n",
    "test_data['controversiality'] = test_data['controversiality'].astype(int)\n",
    "\n",
    "# Function to plot ROC curve using Plotly\n",
    "def plot_roc_curve_plotly(y_true, y_scores, subplot_title):\n",
    "    fpr, tpr, _ = roc_curve(y_true, y_scores)\n",
    "    roc_auc = auc(fpr, tpr)\n",
    "\n",
    "    # Compute the contrast line (diagonal line)\n",
    "    contrast_line_x = [0, 1]\n",
    "    contrast_line_y = [0, 1]\n",
    "\n",
    "    fig = go.Figure()\n",
    "    fig.add_trace(go.Scatter(x=fpr, y=tpr, mode='lines', name=f'ROC curve (area = {roc_auc:.2f})'))\n",
    "    fig.add_trace(go.Scatter(x=contrast_line_x, y=contrast_line_y, mode='lines', name='Contrast Line', line={'dash': 'dot'}))\n",
    "    fig.add_trace(go.Scatter(x=[0, 1], y=[0, 1], mode='lines', name='Random', line={'dash': 'dash'}))\n",
    "    \n",
    "    fig.update_layout(\n",
    "        title=f'Receiver Operating Characteristic (ROC) Curve - {subplot_title}',\n",
    "        xaxis=dict(title='False Positive Rate'),\n",
    "        yaxis=dict(title='True Positive Rate'),\n",
    "        showlegend=True,\n",
    "    )\n",
    "\n",
    "    return fig\n",
    "\n",
    "# Get the predicted scores for the positive class\n",
    "y_scores_svm = best_svm_model.decision_function(test_data['clean_body'])\n",
    "\n",
    "# Create ROC curve using Plotly\n",
    "roc_fig = plot_roc_curve_plotly(test_data['controversiality'], y_scores_svm, 'SVM')\n",
    "\n",
    "# Update layout for the figure\n",
    "roc_fig.update_layout(\n",
    "    title_text='ROC Curve of Best SVM Model',\n",
    "    title_x=0.5,  # Center the title\n",
    "    legend=dict(x=1, y=1),  # Adjust legend position for the ROC curve subplot\n",
    "    xaxis_title='False Positive Rate',\n",
    "    yaxis_title='True Positive Rate',\n",
    ")\n",
    "\n",
    "# Save the ROC curve plot as an HTML file\n",
    "save_path = '/root/fall-2023-reddit-project-team-33/data/plots/ml/BestSVM_ROC.html'\n",
    "roc_fig.write_html(save_path)\n",
    "\n",
    "roc_fig.show()"
   ]
  },
  {
   "cell_type": "markdown",
   "id": "177fea9d-ddae-4bdd-a70b-f6b23b9c5b17",
   "metadata": {},
   "source": [
    "It shows ROC curve analysis of our Best SVM Model offers a clear view of its performance, highlighting the balance between sensitivity (true positive rate) and specificity (false positive rate). This curve, ideally close to the top-left corner, indicates the model's capability to differentiate between controversial and non-controversial instances effectively.\n",
    "\n"
   ]
  },
  {
   "cell_type": "code",
   "execution_count": 72,
   "id": "e55b837e-b8e1-48ec-8ea7-34e9e55e57d7",
   "metadata": {
    "tags": []
   },
   "outputs": [
    {
     "data": {
      "application/vnd.plotly.v1+json": {
       "config": {
        "plotlyServerURL": "https://plot.ly"
       },
       "data": [
        {
         "colorscale": [
          [
           0,
           "#440154"
          ],
          [
           0.1111111111111111,
           "#482878"
          ],
          [
           0.2222222222222222,
           "#3e4989"
          ],
          [
           0.3333333333333333,
           "#31688e"
          ],
          [
           0.4444444444444444,
           "#26828e"
          ],
          [
           0.5555555555555556,
           "#1f9e89"
          ],
          [
           0.6666666666666666,
           "#35b779"
          ],
          [
           0.7777777777777778,
           "#6ece58"
          ],
          [
           0.8888888888888888,
           "#b5de2b"
          ],
          [
           1,
           "#fde725"
          ]
         ],
         "reversescale": false,
         "showscale": false,
         "type": "heatmap",
         "x": [
          "Predicted controversiality",
          "Predicted non-controversiality"
         ],
         "y": [
          "Actual non-controversiality",
          "Actual controversiality"
         ],
         "z": [
          [
           675,
           2503
          ],
          [
           1638,
           1317
          ]
         ]
        }
       ],
       "layout": {
        "annotations": [
         {
          "font": {
           "color": "#FFFFFF"
          },
          "showarrow": false,
          "text": "675",
          "x": "Predicted controversiality",
          "xref": "x",
          "y": "Actual non-controversiality",
          "yref": "y"
         },
         {
          "font": {
           "color": "#000000"
          },
          "showarrow": false,
          "text": "2503",
          "x": "Predicted non-controversiality",
          "xref": "x",
          "y": "Actual non-controversiality",
          "yref": "y"
         },
         {
          "font": {
           "color": "#000000"
          },
          "showarrow": false,
          "text": "1638",
          "x": "Predicted controversiality",
          "xref": "x",
          "y": "Actual controversiality",
          "yref": "y"
         },
         {
          "font": {
           "color": "#FFFFFF"
          },
          "showarrow": false,
          "text": "1317",
          "x": "Predicted non-controversiality",
          "xref": "x",
          "y": "Actual controversiality",
          "yref": "y"
         }
        ],
        "autosize": true,
        "template": {
         "data": {
          "bar": [
           {
            "error_x": {
             "color": "#2a3f5f"
            },
            "error_y": {
             "color": "#2a3f5f"
            },
            "marker": {
             "line": {
              "color": "#E5ECF6",
              "width": 0.5
             },
             "pattern": {
              "fillmode": "overlay",
              "size": 10,
              "solidity": 0.2
             }
            },
            "type": "bar"
           }
          ],
          "barpolar": [
           {
            "marker": {
             "line": {
              "color": "#E5ECF6",
              "width": 0.5
             },
             "pattern": {
              "fillmode": "overlay",
              "size": 10,
              "solidity": 0.2
             }
            },
            "type": "barpolar"
           }
          ],
          "carpet": [
           {
            "aaxis": {
             "endlinecolor": "#2a3f5f",
             "gridcolor": "white",
             "linecolor": "white",
             "minorgridcolor": "white",
             "startlinecolor": "#2a3f5f"
            },
            "baxis": {
             "endlinecolor": "#2a3f5f",
             "gridcolor": "white",
             "linecolor": "white",
             "minorgridcolor": "white",
             "startlinecolor": "#2a3f5f"
            },
            "type": "carpet"
           }
          ],
          "choropleth": [
           {
            "colorbar": {
             "outlinewidth": 0,
             "ticks": ""
            },
            "type": "choropleth"
           }
          ],
          "contour": [
           {
            "colorbar": {
             "outlinewidth": 0,
             "ticks": ""
            },
            "colorscale": [
             [
              0,
              "#0d0887"
             ],
             [
              0.1111111111111111,
              "#46039f"
             ],
             [
              0.2222222222222222,
              "#7201a8"
             ],
             [
              0.3333333333333333,
              "#9c179e"
             ],
             [
              0.4444444444444444,
              "#bd3786"
             ],
             [
              0.5555555555555556,
              "#d8576b"
             ],
             [
              0.6666666666666666,
              "#ed7953"
             ],
             [
              0.7777777777777778,
              "#fb9f3a"
             ],
             [
              0.8888888888888888,
              "#fdca26"
             ],
             [
              1,
              "#f0f921"
             ]
            ],
            "type": "contour"
           }
          ],
          "contourcarpet": [
           {
            "colorbar": {
             "outlinewidth": 0,
             "ticks": ""
            },
            "type": "contourcarpet"
           }
          ],
          "heatmap": [
           {
            "colorbar": {
             "outlinewidth": 0,
             "ticks": ""
            },
            "colorscale": [
             [
              0,
              "#0d0887"
             ],
             [
              0.1111111111111111,
              "#46039f"
             ],
             [
              0.2222222222222222,
              "#7201a8"
             ],
             [
              0.3333333333333333,
              "#9c179e"
             ],
             [
              0.4444444444444444,
              "#bd3786"
             ],
             [
              0.5555555555555556,
              "#d8576b"
             ],
             [
              0.6666666666666666,
              "#ed7953"
             ],
             [
              0.7777777777777778,
              "#fb9f3a"
             ],
             [
              0.8888888888888888,
              "#fdca26"
             ],
             [
              1,
              "#f0f921"
             ]
            ],
            "type": "heatmap"
           }
          ],
          "heatmapgl": [
           {
            "colorbar": {
             "outlinewidth": 0,
             "ticks": ""
            },
            "colorscale": [
             [
              0,
              "#0d0887"
             ],
             [
              0.1111111111111111,
              "#46039f"
             ],
             [
              0.2222222222222222,
              "#7201a8"
             ],
             [
              0.3333333333333333,
              "#9c179e"
             ],
             [
              0.4444444444444444,
              "#bd3786"
             ],
             [
              0.5555555555555556,
              "#d8576b"
             ],
             [
              0.6666666666666666,
              "#ed7953"
             ],
             [
              0.7777777777777778,
              "#fb9f3a"
             ],
             [
              0.8888888888888888,
              "#fdca26"
             ],
             [
              1,
              "#f0f921"
             ]
            ],
            "type": "heatmapgl"
           }
          ],
          "histogram": [
           {
            "marker": {
             "pattern": {
              "fillmode": "overlay",
              "size": 10,
              "solidity": 0.2
             }
            },
            "type": "histogram"
           }
          ],
          "histogram2d": [
           {
            "colorbar": {
             "outlinewidth": 0,
             "ticks": ""
            },
            "colorscale": [
             [
              0,
              "#0d0887"
             ],
             [
              0.1111111111111111,
              "#46039f"
             ],
             [
              0.2222222222222222,
              "#7201a8"
             ],
             [
              0.3333333333333333,
              "#9c179e"
             ],
             [
              0.4444444444444444,
              "#bd3786"
             ],
             [
              0.5555555555555556,
              "#d8576b"
             ],
             [
              0.6666666666666666,
              "#ed7953"
             ],
             [
              0.7777777777777778,
              "#fb9f3a"
             ],
             [
              0.8888888888888888,
              "#fdca26"
             ],
             [
              1,
              "#f0f921"
             ]
            ],
            "type": "histogram2d"
           }
          ],
          "histogram2dcontour": [
           {
            "colorbar": {
             "outlinewidth": 0,
             "ticks": ""
            },
            "colorscale": [
             [
              0,
              "#0d0887"
             ],
             [
              0.1111111111111111,
              "#46039f"
             ],
             [
              0.2222222222222222,
              "#7201a8"
             ],
             [
              0.3333333333333333,
              "#9c179e"
             ],
             [
              0.4444444444444444,
              "#bd3786"
             ],
             [
              0.5555555555555556,
              "#d8576b"
             ],
             [
              0.6666666666666666,
              "#ed7953"
             ],
             [
              0.7777777777777778,
              "#fb9f3a"
             ],
             [
              0.8888888888888888,
              "#fdca26"
             ],
             [
              1,
              "#f0f921"
             ]
            ],
            "type": "histogram2dcontour"
           }
          ],
          "mesh3d": [
           {
            "colorbar": {
             "outlinewidth": 0,
             "ticks": ""
            },
            "type": "mesh3d"
           }
          ],
          "parcoords": [
           {
            "line": {
             "colorbar": {
              "outlinewidth": 0,
              "ticks": ""
             }
            },
            "type": "parcoords"
           }
          ],
          "pie": [
           {
            "automargin": true,
            "type": "pie"
           }
          ],
          "scatter": [
           {
            "fillpattern": {
             "fillmode": "overlay",
             "size": 10,
             "solidity": 0.2
            },
            "type": "scatter"
           }
          ],
          "scatter3d": [
           {
            "line": {
             "colorbar": {
              "outlinewidth": 0,
              "ticks": ""
             }
            },
            "marker": {
             "colorbar": {
              "outlinewidth": 0,
              "ticks": ""
             }
            },
            "type": "scatter3d"
           }
          ],
          "scattercarpet": [
           {
            "marker": {
             "colorbar": {
              "outlinewidth": 0,
              "ticks": ""
             }
            },
            "type": "scattercarpet"
           }
          ],
          "scattergeo": [
           {
            "marker": {
             "colorbar": {
              "outlinewidth": 0,
              "ticks": ""
             }
            },
            "type": "scattergeo"
           }
          ],
          "scattergl": [
           {
            "marker": {
             "colorbar": {
              "outlinewidth": 0,
              "ticks": ""
             }
            },
            "type": "scattergl"
           }
          ],
          "scattermapbox": [
           {
            "marker": {
             "colorbar": {
              "outlinewidth": 0,
              "ticks": ""
             }
            },
            "type": "scattermapbox"
           }
          ],
          "scatterpolar": [
           {
            "marker": {
             "colorbar": {
              "outlinewidth": 0,
              "ticks": ""
             }
            },
            "type": "scatterpolar"
           }
          ],
          "scatterpolargl": [
           {
            "marker": {
             "colorbar": {
              "outlinewidth": 0,
              "ticks": ""
             }
            },
            "type": "scatterpolargl"
           }
          ],
          "scatterternary": [
           {
            "marker": {
             "colorbar": {
              "outlinewidth": 0,
              "ticks": ""
             }
            },
            "type": "scatterternary"
           }
          ],
          "surface": [
           {
            "colorbar": {
             "outlinewidth": 0,
             "ticks": ""
            },
            "colorscale": [
             [
              0,
              "#0d0887"
             ],
             [
              0.1111111111111111,
              "#46039f"
             ],
             [
              0.2222222222222222,
              "#7201a8"
             ],
             [
              0.3333333333333333,
              "#9c179e"
             ],
             [
              0.4444444444444444,
              "#bd3786"
             ],
             [
              0.5555555555555556,
              "#d8576b"
             ],
             [
              0.6666666666666666,
              "#ed7953"
             ],
             [
              0.7777777777777778,
              "#fb9f3a"
             ],
             [
              0.8888888888888888,
              "#fdca26"
             ],
             [
              1,
              "#f0f921"
             ]
            ],
            "type": "surface"
           }
          ],
          "table": [
           {
            "cells": {
             "fill": {
              "color": "#EBF0F8"
             },
             "line": {
              "color": "white"
             }
            },
            "header": {
             "fill": {
              "color": "#C8D4E3"
             },
             "line": {
              "color": "white"
             }
            },
            "type": "table"
           }
          ]
         },
         "layout": {
          "annotationdefaults": {
           "arrowcolor": "#2a3f5f",
           "arrowhead": 0,
           "arrowwidth": 1
          },
          "autotypenumbers": "strict",
          "coloraxis": {
           "colorbar": {
            "outlinewidth": 0,
            "ticks": ""
           }
          },
          "colorscale": {
           "diverging": [
            [
             0,
             "#8e0152"
            ],
            [
             0.1,
             "#c51b7d"
            ],
            [
             0.2,
             "#de77ae"
            ],
            [
             0.3,
             "#f1b6da"
            ],
            [
             0.4,
             "#fde0ef"
            ],
            [
             0.5,
             "#f7f7f7"
            ],
            [
             0.6,
             "#e6f5d0"
            ],
            [
             0.7,
             "#b8e186"
            ],
            [
             0.8,
             "#7fbc41"
            ],
            [
             0.9,
             "#4d9221"
            ],
            [
             1,
             "#276419"
            ]
           ],
           "sequential": [
            [
             0,
             "#0d0887"
            ],
            [
             0.1111111111111111,
             "#46039f"
            ],
            [
             0.2222222222222222,
             "#7201a8"
            ],
            [
             0.3333333333333333,
             "#9c179e"
            ],
            [
             0.4444444444444444,
             "#bd3786"
            ],
            [
             0.5555555555555556,
             "#d8576b"
            ],
            [
             0.6666666666666666,
             "#ed7953"
            ],
            [
             0.7777777777777778,
             "#fb9f3a"
            ],
            [
             0.8888888888888888,
             "#fdca26"
            ],
            [
             1,
             "#f0f921"
            ]
           ],
           "sequentialminus": [
            [
             0,
             "#0d0887"
            ],
            [
             0.1111111111111111,
             "#46039f"
            ],
            [
             0.2222222222222222,
             "#7201a8"
            ],
            [
             0.3333333333333333,
             "#9c179e"
            ],
            [
             0.4444444444444444,
             "#bd3786"
            ],
            [
             0.5555555555555556,
             "#d8576b"
            ],
            [
             0.6666666666666666,
             "#ed7953"
            ],
            [
             0.7777777777777778,
             "#fb9f3a"
            ],
            [
             0.8888888888888888,
             "#fdca26"
            ],
            [
             1,
             "#f0f921"
            ]
           ]
          },
          "colorway": [
           "#636efa",
           "#EF553B",
           "#00cc96",
           "#ab63fa",
           "#FFA15A",
           "#19d3f3",
           "#FF6692",
           "#B6E880",
           "#FF97FF",
           "#FECB52"
          ],
          "font": {
           "color": "#2a3f5f"
          },
          "geo": {
           "bgcolor": "white",
           "lakecolor": "white",
           "landcolor": "#E5ECF6",
           "showlakes": true,
           "showland": true,
           "subunitcolor": "white"
          },
          "hoverlabel": {
           "align": "left"
          },
          "hovermode": "closest",
          "mapbox": {
           "style": "light"
          },
          "paper_bgcolor": "white",
          "plot_bgcolor": "#E5ECF6",
          "polar": {
           "angularaxis": {
            "gridcolor": "white",
            "linecolor": "white",
            "ticks": ""
           },
           "bgcolor": "#E5ECF6",
           "radialaxis": {
            "gridcolor": "white",
            "linecolor": "white",
            "ticks": ""
           }
          },
          "scene": {
           "xaxis": {
            "backgroundcolor": "#E5ECF6",
            "gridcolor": "white",
            "gridwidth": 2,
            "linecolor": "white",
            "showbackground": true,
            "ticks": "",
            "zerolinecolor": "white"
           },
           "yaxis": {
            "backgroundcolor": "#E5ECF6",
            "gridcolor": "white",
            "gridwidth": 2,
            "linecolor": "white",
            "showbackground": true,
            "ticks": "",
            "zerolinecolor": "white"
           },
           "zaxis": {
            "backgroundcolor": "#E5ECF6",
            "gridcolor": "white",
            "gridwidth": 2,
            "linecolor": "white",
            "showbackground": true,
            "ticks": "",
            "zerolinecolor": "white"
           }
          },
          "shapedefaults": {
           "line": {
            "color": "#2a3f5f"
           }
          },
          "ternary": {
           "aaxis": {
            "gridcolor": "white",
            "linecolor": "white",
            "ticks": ""
           },
           "baxis": {
            "gridcolor": "white",
            "linecolor": "white",
            "ticks": ""
           },
           "bgcolor": "#E5ECF6",
           "caxis": {
            "gridcolor": "white",
            "linecolor": "white",
            "ticks": ""
           }
          },
          "title": {
           "x": 0.05
          },
          "xaxis": {
           "automargin": true,
           "gridcolor": "white",
           "linecolor": "white",
           "ticks": "",
           "title": {
            "standoff": 15
           },
           "zerolinecolor": "white",
           "zerolinewidth": 2
          },
          "yaxis": {
           "automargin": true,
           "gridcolor": "white",
           "linecolor": "white",
           "ticks": "",
           "title": {
            "standoff": 15
           },
           "zerolinecolor": "white",
           "zerolinewidth": 2
          }
         }
        },
        "title": {
         "text": "Confusion Matrix (SVM)"
        },
        "xaxis": {
         "autorange": false,
         "dtick": 1,
         "gridcolor": "rgb(0, 0, 0)",
         "range": [
          -0.02338995943204869,
          0.11859787018255574
         ],
         "side": "top",
         "ticks": "",
         "title": {
          "text": "Predicted Label"
         },
         "type": "category"
        },
        "yaxis": {
         "autorange": false,
         "dtick": 1,
         "range": [
          0.1644965277777778,
          1.1422743055555555
         ],
         "ticks": "",
         "ticksuffix": "  ",
         "title": {
          "text": "Actual Label"
         },
         "type": "category"
        }
       }
      },
      "image/png": "[encoded data removed]",
      "text/html": [
       "<div>                            <div id=\"fe03714a-7201-4540-8074-f95ff755a528\" class=\"plotly-graph-div\" style=\"height:525px; width:100%;\"></div>            <script type=\"text/javascript\">                require([\"plotly\"], function(Plotly) {                    window.PLOTLYENV=window.PLOTLYENV || {};                                    if (document.getElementById(\"fe03714a-7201-4540-8074-f95ff755a528\")) {                    Plotly.newPlot(                        \"fe03714a-7201-4540-8074-f95ff755a528\",                        [{\"colorscale\":[[0.0,\"#440154\"],[0.1111111111111111,\"#482878\"],[0.2222222222222222,\"#3e4989\"],[0.3333333333333333,\"#31688e\"],[0.4444444444444444,\"#26828e\"],[0.5555555555555556,\"#1f9e89\"],[0.6666666666666666,\"#35b779\"],[0.7777777777777778,\"#6ece58\"],[0.8888888888888888,\"#b5de2b\"],[1.0,\"#fde725\"]],\"reversescale\":false,\"showscale\":false,\"x\":[\"Predicted controversiality\",\"Predicted non-controversiality\"],\"y\":[\"Actual non-controversiality\",\"Actual controversiality\"],\"z\":[[675,2503],[1638,1317]],\"type\":\"heatmap\"}],                        {\"annotations\":[{\"font\":{\"color\":\"#FFFFFF\"},\"showarrow\":false,\"text\":\"675\",\"x\":\"Predicted controversiality\",\"xref\":\"x\",\"y\":\"Actual non-controversiality\",\"yref\":\"y\"},{\"font\":{\"color\":\"#000000\"},\"showarrow\":false,\"text\":\"2503\",\"x\":\"Predicted non-controversiality\",\"xref\":\"x\",\"y\":\"Actual non-controversiality\",\"yref\":\"y\"},{\"font\":{\"color\":\"#000000\"},\"showarrow\":false,\"text\":\"1638\",\"x\":\"Predicted controversiality\",\"xref\":\"x\",\"y\":\"Actual controversiality\",\"yref\":\"y\"},{\"font\":{\"color\":\"#FFFFFF\"},\"showarrow\":false,\"text\":\"1317\",\"x\":\"Predicted non-controversiality\",\"xref\":\"x\",\"y\":\"Actual controversiality\",\"yref\":\"y\"}],\"xaxis\":{\"dtick\":1,\"gridcolor\":\"rgb(0, 0, 0)\",\"side\":\"top\",\"ticks\":\"\",\"title\":{\"text\":\"Predicted Label\"}},\"yaxis\":{\"dtick\":1,\"ticks\":\"\",\"ticksuffix\":\"  \",\"title\":{\"text\":\"Actual Label\"}},\"template\":{\"data\":{\"histogram2dcontour\":[{\"type\":\"histogram2dcontour\",\"colorbar\":{\"outlinewidth\":0,\"ticks\":\"\"},\"colorscale\":[[0.0,\"#0d0887\"],[0.1111111111111111,\"#46039f\"],[0.2222222222222222,\"#7201a8\"],[0.3333333333333333,\"#9c179e\"],[0.4444444444444444,\"#bd3786\"],[0.5555555555555556,\"#d8576b\"],[0.6666666666666666,\"#ed7953\"],[0.7777777777777778,\"#fb9f3a\"],[0.8888888888888888,\"#fdca26\"],[1.0,\"#f0f921\"]]}],\"choropleth\":[{\"type\":\"choropleth\",\"colorbar\":{\"outlinewidth\":0,\"ticks\":\"\"}}],\"histogram2d\":[{\"type\":\"histogram2d\",\"colorbar\":{\"outlinewidth\":0,\"ticks\":\"\"},\"colorscale\":[[0.0,\"#0d0887\"],[0.1111111111111111,\"#46039f\"],[0.2222222222222222,\"#7201a8\"],[0.3333333333333333,\"#9c179e\"],[0.4444444444444444,\"#bd3786\"],[0.5555555555555556,\"#d8576b\"],[0.6666666666666666,\"#ed7953\"],[0.7777777777777778,\"#fb9f3a\"],[0.8888888888888888,\"#fdca26\"],[1.0,\"#f0f921\"]]}],\"heatmap\":[{\"type\":\"heatmap\",\"colorbar\":{\"outlinewidth\":0,\"ticks\":\"\"},\"colorscale\":[[0.0,\"#0d0887\"],[0.1111111111111111,\"#46039f\"],[0.2222222222222222,\"#7201a8\"],[0.3333333333333333,\"#9c179e\"],[0.4444444444444444,\"#bd3786\"],[0.5555555555555556,\"#d8576b\"],[0.6666666666666666,\"#ed7953\"],[0.7777777777777778,\"#fb9f3a\"],[0.8888888888888888,\"#fdca26\"],[1.0,\"#f0f921\"]]}],\"heatmapgl\":[{\"type\":\"heatmapgl\",\"colorbar\":{\"outlinewidth\":0,\"ticks\":\"\"},\"colorscale\":[[0.0,\"#0d0887\"],[0.1111111111111111,\"#46039f\"],[0.2222222222222222,\"#7201a8\"],[0.3333333333333333,\"#9c179e\"],[0.4444444444444444,\"#bd3786\"],[0.5555555555555556,\"#d8576b\"],[0.6666666666666666,\"#ed7953\"],[0.7777777777777778,\"#fb9f3a\"],[0.8888888888888888,\"#fdca26\"],[1.0,\"#f0f921\"]]}],\"contourcarpet\":[{\"type\":\"contourcarpet\",\"colorbar\":{\"outlinewidth\":0,\"ticks\":\"\"}}],\"contour\":[{\"type\":\"contour\",\"colorbar\":{\"outlinewidth\":0,\"ticks\":\"\"},\"colorscale\":[[0.0,\"#0d0887\"],[0.1111111111111111,\"#46039f\"],[0.2222222222222222,\"#7201a8\"],[0.3333333333333333,\"#9c179e\"],[0.4444444444444444,\"#bd3786\"],[0.5555555555555556,\"#d8576b\"],[0.6666666666666666,\"#ed7953\"],[0.7777777777777778,\"#fb9f3a\"],[0.8888888888888888,\"#fdca26\"],[1.0,\"#f0f921\"]]}],\"surface\":[{\"type\":\"surface\",\"colorbar\":{\"outlinewidth\":0,\"ticks\":\"\"},\"colorscale\":[[0.0,\"#0d0887\"],[0.1111111111111111,\"#46039f\"],[0.2222222222222222,\"#7201a8\"],[0.3333333333333333,\"#9c179e\"],[0.4444444444444444,\"#bd3786\"],[0.5555555555555556,\"#d8576b\"],[0.6666666666666666,\"#ed7953\"],[0.7777777777777778,\"#fb9f3a\"],[0.8888888888888888,\"#fdca26\"],[1.0,\"#f0f921\"]]}],\"mesh3d\":[{\"type\":\"mesh3d\",\"colorbar\":{\"outlinewidth\":0,\"ticks\":\"\"}}],\"scatter\":[{\"fillpattern\":{\"fillmode\":\"overlay\",\"size\":10,\"solidity\":0.2},\"type\":\"scatter\"}],\"parcoords\":[{\"type\":\"parcoords\",\"line\":{\"colorbar\":{\"outlinewidth\":0,\"ticks\":\"\"}}}],\"scatterpolargl\":[{\"type\":\"scatterpolargl\",\"marker\":{\"colorbar\":{\"outlinewidth\":0,\"ticks\":\"\"}}}],\"bar\":[{\"error_x\":{\"color\":\"#2a3f5f\"},\"error_y\":{\"color\":\"#2a3f5f\"},\"marker\":{\"line\":{\"color\":\"#E5ECF6\",\"width\":0.5},\"pattern\":{\"fillmode\":\"overlay\",\"size\":10,\"solidity\":0.2}},\"type\":\"bar\"}],\"scattergeo\":[{\"type\":\"scattergeo\",\"marker\":{\"colorbar\":{\"outlinewidth\":0,\"ticks\":\"\"}}}],\"scatterpolar\":[{\"type\":\"scatterpolar\",\"marker\":{\"colorbar\":{\"outlinewidth\":0,\"ticks\":\"\"}}}],\"histogram\":[{\"marker\":{\"pattern\":{\"fillmode\":\"overlay\",\"size\":10,\"solidity\":0.2}},\"type\":\"histogram\"}],\"scattergl\":[{\"type\":\"scattergl\",\"marker\":{\"colorbar\":{\"outlinewidth\":0,\"ticks\":\"\"}}}],\"scatter3d\":[{\"type\":\"scatter3d\",\"line\":{\"colorbar\":{\"outlinewidth\":0,\"ticks\":\"\"}},\"marker\":{\"colorbar\":{\"outlinewidth\":0,\"ticks\":\"\"}}}],\"scattermapbox\":[{\"type\":\"scattermapbox\",\"marker\":{\"colorbar\":{\"outlinewidth\":0,\"ticks\":\"\"}}}],\"scatterternary\":[{\"type\":\"scatterternary\",\"marker\":{\"colorbar\":{\"outlinewidth\":0,\"ticks\":\"\"}}}],\"scattercarpet\":[{\"type\":\"scattercarpet\",\"marker\":{\"colorbar\":{\"outlinewidth\":0,\"ticks\":\"\"}}}],\"carpet\":[{\"aaxis\":{\"endlinecolor\":\"#2a3f5f\",\"gridcolor\":\"white\",\"linecolor\":\"white\",\"minorgridcolor\":\"white\",\"startlinecolor\":\"#2a3f5f\"},\"baxis\":{\"endlinecolor\":\"#2a3f5f\",\"gridcolor\":\"white\",\"linecolor\":\"white\",\"minorgridcolor\":\"white\",\"startlinecolor\":\"#2a3f5f\"},\"type\":\"carpet\"}],\"table\":[{\"cells\":{\"fill\":{\"color\":\"#EBF0F8\"},\"line\":{\"color\":\"white\"}},\"header\":{\"fill\":{\"color\":\"#C8D4E3\"},\"line\":{\"color\":\"white\"}},\"type\":\"table\"}],\"barpolar\":[{\"marker\":{\"line\":{\"color\":\"#E5ECF6\",\"width\":0.5},\"pattern\":{\"fillmode\":\"overlay\",\"size\":10,\"solidity\":0.2}},\"type\":\"barpolar\"}],\"pie\":[{\"automargin\":true,\"type\":\"pie\"}]},\"layout\":{\"autotypenumbers\":\"strict\",\"colorway\":[\"#636efa\",\"#EF553B\",\"#00cc96\",\"#ab63fa\",\"#FFA15A\",\"#19d3f3\",\"#FF6692\",\"#B6E880\",\"#FF97FF\",\"#FECB52\"],\"font\":{\"color\":\"#2a3f5f\"},\"hovermode\":\"closest\",\"hoverlabel\":{\"align\":\"left\"},\"paper_bgcolor\":\"white\",\"plot_bgcolor\":\"#E5ECF6\",\"polar\":{\"bgcolor\":\"#E5ECF6\",\"angularaxis\":{\"gridcolor\":\"white\",\"linecolor\":\"white\",\"ticks\":\"\"},\"radialaxis\":{\"gridcolor\":\"white\",\"linecolor\":\"white\",\"ticks\":\"\"}},\"ternary\":{\"bgcolor\":\"#E5ECF6\",\"aaxis\":{\"gridcolor\":\"white\",\"linecolor\":\"white\",\"ticks\":\"\"},\"baxis\":{\"gridcolor\":\"white\",\"linecolor\":\"white\",\"ticks\":\"\"},\"caxis\":{\"gridcolor\":\"white\",\"linecolor\":\"white\",\"ticks\":\"\"}},\"coloraxis\":{\"colorbar\":{\"outlinewidth\":0,\"ticks\":\"\"}},\"colorscale\":{\"sequential\":[[0.0,\"#0d0887\"],[0.1111111111111111,\"#46039f\"],[0.2222222222222222,\"#7201a8\"],[0.3333333333333333,\"#9c179e\"],[0.4444444444444444,\"#bd3786\"],[0.5555555555555556,\"#d8576b\"],[0.6666666666666666,\"#ed7953\"],[0.7777777777777778,\"#fb9f3a\"],[0.8888888888888888,\"#fdca26\"],[1.0,\"#f0f921\"]],\"sequentialminus\":[[0.0,\"#0d0887\"],[0.1111111111111111,\"#46039f\"],[0.2222222222222222,\"#7201a8\"],[0.3333333333333333,\"#9c179e\"],[0.4444444444444444,\"#bd3786\"],[0.5555555555555556,\"#d8576b\"],[0.6666666666666666,\"#ed7953\"],[0.7777777777777778,\"#fb9f3a\"],[0.8888888888888888,\"#fdca26\"],[1.0,\"#f0f921\"]],\"diverging\":[[0,\"#8e0152\"],[0.1,\"#c51b7d\"],[0.2,\"#de77ae\"],[0.3,\"#f1b6da\"],[0.4,\"#fde0ef\"],[0.5,\"#f7f7f7\"],[0.6,\"#e6f5d0\"],[0.7,\"#b8e186\"],[0.8,\"#7fbc41\"],[0.9,\"#4d9221\"],[1,\"#276419\"]]},\"xaxis\":{\"gridcolor\":\"white\",\"linecolor\":\"white\",\"ticks\":\"\",\"title\":{\"standoff\":15},\"zerolinecolor\":\"white\",\"automargin\":true,\"zerolinewidth\":2},\"yaxis\":{\"gridcolor\":\"white\",\"linecolor\":\"white\",\"ticks\":\"\",\"title\":{\"standoff\":15},\"zerolinecolor\":\"white\",\"automargin\":true,\"zerolinewidth\":2},\"scene\":{\"xaxis\":{\"backgroundcolor\":\"#E5ECF6\",\"gridcolor\":\"white\",\"linecolor\":\"white\",\"showbackground\":true,\"ticks\":\"\",\"zerolinecolor\":\"white\",\"gridwidth\":2},\"yaxis\":{\"backgroundcolor\":\"#E5ECF6\",\"gridcolor\":\"white\",\"linecolor\":\"white\",\"showbackground\":true,\"ticks\":\"\",\"zerolinecolor\":\"white\",\"gridwidth\":2},\"zaxis\":{\"backgroundcolor\":\"#E5ECF6\",\"gridcolor\":\"white\",\"linecolor\":\"white\",\"showbackground\":true,\"ticks\":\"\",\"zerolinecolor\":\"white\",\"gridwidth\":2}},\"shapedefaults\":{\"line\":{\"color\":\"#2a3f5f\"}},\"annotationdefaults\":{\"arrowcolor\":\"#2a3f5f\",\"arrowhead\":0,\"arrowwidth\":1},\"geo\":{\"bgcolor\":\"white\",\"landcolor\":\"#E5ECF6\",\"subunitcolor\":\"white\",\"showland\":true,\"showlakes\":true,\"lakecolor\":\"white\"},\"title\":{\"x\":0.05},\"mapbox\":{\"style\":\"light\"}}},\"title\":{\"text\":\"Confusion Matrix (SVM)\"}},                        {\"responsive\": true}                    ).then(function(){\n",
       "                            \n",
       "var gd = document.getElementById('fe03714a-7201-4540-8074-f95ff755a528');\n",
       "var x = new MutationObserver(function (mutations, observer) {{\n",
       "        var display = window.getComputedStyle(gd).display;\n",
       "        if (!display || display === 'none') {{\n",
       "            console.log([gd, 'removed!']);\n",
       "            Plotly.purge(gd);\n",
       "            observer.disconnect();\n",
       "        }}\n",
       "}});\n",
       "\n",
       "// Listen for the removal of the full notebook cells\n",
       "var notebookContainer = gd.closest('#notebook-container');\n",
       "if (notebookContainer) {{\n",
       "    x.observe(notebookContainer, {childList: true});\n",
       "}}\n",
       "\n",
       "// Listen for the clearing of the current output cell\n",
       "var outputEl = gd.closest('.output');\n",
       "if (outputEl) {{\n",
       "    x.observe(outputEl, {childList: true});\n",
       "}}\n",
       "\n",
       "                        })                };                });            </script>        </div>"
      ]
     },
     "metadata": {},
     "output_type": "display_data"
    }
   ],
   "source": [
    "\n",
    "import plotly.figure_factory as ff\n",
    "import pandas as pd\n",
    "from sklearn.metrics import confusion_matrix\n",
    "\n",
    "\n",
    "# Replace 'your_actual_values' and 'your_model_predictions' with your actual data\n",
    "confusion_mat_svm = confusion_matrix(test_data['controversiality'], predictions_svm.astype(int))\n",
    "\n",
    "# Swap the rows\n",
    "confusion_mat_svm = confusion_mat_svm[::-1]\n",
    "\n",
    "# Convert the confusion matrix to a DataFrame with columns reversed\n",
    "cm_df_svm = pd.DataFrame(\n",
    "    confusion_mat_svm, \n",
    "    columns=['Predicted controversiality', 'Predicted non-controversiality'], \n",
    "    index=['Actual non-controversiality', 'Actual controversiality']\n",
    ")\n",
    "\n",
    "# Plot the confusion matrix using Plotly with a different colorscale (e.g., 'Blues')\n",
    "fig = ff.create_annotated_heatmap(\n",
    "    z=cm_df_svm.values,\n",
    "    x=list(cm_df_svm.columns),\n",
    "    y=list(cm_df_svm.index),\n",
    "    colorscale='Viridis'  # Change this to the desired colorscale\n",
    ")\n",
    "\n",
    "# Customize layout\n",
    "fig.update_layout(\n",
    "    title_text='Confusion Matrix (SVM)',\n",
    "    xaxis=dict(title='Predicted Label'),\n",
    "    yaxis=dict(title='Actual Label')\n",
    ")\n",
    "\n",
    "# Show the plot\n",
    "fig.show()\n",
    "\n",
    "#  save the figure to HTML\n",
    "save_path_cm = '/root/fall-2023-reddit-project-team-33/data/plots/ml/BestSVM_ConfusionMatrix.html'\n",
    "fig.write_html(save_path_cm)\n"
   ]
  },
  {
   "cell_type": "markdown",
   "id": "efbdb8e8-4cd9-4a1c-bfbf-d5050e9fadfa",
   "metadata": {},
   "source": [
    "The confusion matrix of our Best SVM Model illustrates its performance on the test dataset, showing a prowess in distinguishing non-controversial instances with 2503 correct classifications and identifying 1638 controversial cases. However, the presence of 1317 false negatives and 675 false positives indicates room for improvement, particularly in reducing the misclassification of controversial content and minimizing the oversight of actual controversial instances. This suggests a need to enhance the model's discriminative ability to better balance false positives and negatives in future iterations.\n",
    "\n"
   ]
  },
  {
   "cell_type": "code",
   "execution_count": 73,
   "id": "e2fcd1ec-1217-43c5-bdf3-d5a85bb22849",
   "metadata": {
    "tags": []
   },
   "outputs": [
    {
     "name": "stderr",
     "output_type": "stream",
     "text": [
      "/tmp/ipykernel_29989/3868106040.py:46: FutureWarning:\n",
      "\n",
      "The frame.append method is deprecated and will be removed from pandas in a future version. Use pandas.concat instead.\n",
      "\n"
     ]
    },
    {
     "data": {
      "application/vnd.plotly.v1+json": {
       "config": {
        "plotlyServerURL": "https://plot.ly"
       },
       "data": [
        {
         "cells": {
          "fill": {
           "color": [
            [
             "rgba(255, 255, 255, 0)",
             "rgba(50, 171, 96, 0.2)"
            ]
           ]
          },
          "values": [
           [
            "Naive Bayes",
            "SVM"
           ],
           [
            0.74,
            0.71
           ],
           [
            0.64,
            0.66
           ],
           [
            0.5,
            0.55
           ],
           [
            0.84,
            0.79
           ],
           [
            0.59,
            0.62
           ],
           [
            0.73,
            0.72
           ],
           [
            0.67,
            0.68
           ]
          ]
         },
         "header": {
          "values": [
           "Model",
           "Precision (class 0)",
           "Precision (class 1)",
           "Recall (class 0)",
           "Recall (class 1)",
           "F1-Score (class 0)",
           "F1-Score (class 1)",
           "Accuracy"
          ]
         },
         "type": "table"
        }
       ],
       "layout": {
        "autosize": true,
        "template": {
         "data": {
          "bar": [
           {
            "error_x": {
             "color": "#2a3f5f"
            },
            "error_y": {
             "color": "#2a3f5f"
            },
            "marker": {
             "line": {
              "color": "#E5ECF6",
              "width": 0.5
             },
             "pattern": {
              "fillmode": "overlay",
              "size": 10,
              "solidity": 0.2
             }
            },
            "type": "bar"
           }
          ],
          "barpolar": [
           {
            "marker": {
             "line": {
              "color": "#E5ECF6",
              "width": 0.5
             },
             "pattern": {
              "fillmode": "overlay",
              "size": 10,
              "solidity": 0.2
             }
            },
            "type": "barpolar"
           }
          ],
          "carpet": [
           {
            "aaxis": {
             "endlinecolor": "#2a3f5f",
             "gridcolor": "white",
             "linecolor": "white",
             "minorgridcolor": "white",
             "startlinecolor": "#2a3f5f"
            },
            "baxis": {
             "endlinecolor": "#2a3f5f",
             "gridcolor": "white",
             "linecolor": "white",
             "minorgridcolor": "white",
             "startlinecolor": "#2a3f5f"
            },
            "type": "carpet"
           }
          ],
          "choropleth": [
           {
            "colorbar": {
             "outlinewidth": 0,
             "ticks": ""
            },
            "type": "choropleth"
           }
          ],
          "contour": [
           {
            "colorbar": {
             "outlinewidth": 0,
             "ticks": ""
            },
            "colorscale": [
             [
              0,
              "#0d0887"
             ],
             [
              0.1111111111111111,
              "#46039f"
             ],
             [
              0.2222222222222222,
              "#7201a8"
             ],
             [
              0.3333333333333333,
              "#9c179e"
             ],
             [
              0.4444444444444444,
              "#bd3786"
             ],
             [
              0.5555555555555556,
              "#d8576b"
             ],
             [
              0.6666666666666666,
              "#ed7953"
             ],
             [
              0.7777777777777778,
              "#fb9f3a"
             ],
             [
              0.8888888888888888,
              "#fdca26"
             ],
             [
              1,
              "#f0f921"
             ]
            ],
            "type": "contour"
           }
          ],
          "contourcarpet": [
           {
            "colorbar": {
             "outlinewidth": 0,
             "ticks": ""
            },
            "type": "contourcarpet"
           }
          ],
          "heatmap": [
           {
            "colorbar": {
             "outlinewidth": 0,
             "ticks": ""
            },
            "colorscale": [
             [
              0,
              "#0d0887"
             ],
             [
              0.1111111111111111,
              "#46039f"
             ],
             [
              0.2222222222222222,
              "#7201a8"
             ],
             [
              0.3333333333333333,
              "#9c179e"
             ],
             [
              0.4444444444444444,
              "#bd3786"
             ],
             [
              0.5555555555555556,
              "#d8576b"
             ],
             [
              0.6666666666666666,
              "#ed7953"
             ],
             [
              0.7777777777777778,
              "#fb9f3a"
             ],
             [
              0.8888888888888888,
              "#fdca26"
             ],
             [
              1,
              "#f0f921"
             ]
            ],
            "type": "heatmap"
           }
          ],
          "heatmapgl": [
           {
            "colorbar": {
             "outlinewidth": 0,
             "ticks": ""
            },
            "colorscale": [
             [
              0,
              "#0d0887"
             ],
             [
              0.1111111111111111,
              "#46039f"
             ],
             [
              0.2222222222222222,
              "#7201a8"
             ],
             [
              0.3333333333333333,
              "#9c179e"
             ],
             [
              0.4444444444444444,
              "#bd3786"
             ],
             [
              0.5555555555555556,
              "#d8576b"
             ],
             [
              0.6666666666666666,
              "#ed7953"
             ],
             [
              0.7777777777777778,
              "#fb9f3a"
             ],
             [
              0.8888888888888888,
              "#fdca26"
             ],
             [
              1,
              "#f0f921"
             ]
            ],
            "type": "heatmapgl"
           }
          ],
          "histogram": [
           {
            "marker": {
             "pattern": {
              "fillmode": "overlay",
              "size": 10,
              "solidity": 0.2
             }
            },
            "type": "histogram"
           }
          ],
          "histogram2d": [
           {
            "colorbar": {
             "outlinewidth": 0,
             "ticks": ""
            },
            "colorscale": [
             [
              0,
              "#0d0887"
             ],
             [
              0.1111111111111111,
              "#46039f"
             ],
             [
              0.2222222222222222,
              "#7201a8"
             ],
             [
              0.3333333333333333,
              "#9c179e"
             ],
             [
              0.4444444444444444,
              "#bd3786"
             ],
             [
              0.5555555555555556,
              "#d8576b"
             ],
             [
              0.6666666666666666,
              "#ed7953"
             ],
             [
              0.7777777777777778,
              "#fb9f3a"
             ],
             [
              0.8888888888888888,
              "#fdca26"
             ],
             [
              1,
              "#f0f921"
             ]
            ],
            "type": "histogram2d"
           }
          ],
          "histogram2dcontour": [
           {
            "colorbar": {
             "outlinewidth": 0,
             "ticks": ""
            },
            "colorscale": [
             [
              0,
              "#0d0887"
             ],
             [
              0.1111111111111111,
              "#46039f"
             ],
             [
              0.2222222222222222,
              "#7201a8"
             ],
             [
              0.3333333333333333,
              "#9c179e"
             ],
             [
              0.4444444444444444,
              "#bd3786"
             ],
             [
              0.5555555555555556,
              "#d8576b"
             ],
             [
              0.6666666666666666,
              "#ed7953"
             ],
             [
              0.7777777777777778,
              "#fb9f3a"
             ],
             [
              0.8888888888888888,
              "#fdca26"
             ],
             [
              1,
              "#f0f921"
             ]
            ],
            "type": "histogram2dcontour"
           }
          ],
          "mesh3d": [
           {
            "colorbar": {
             "outlinewidth": 0,
             "ticks": ""
            },
            "type": "mesh3d"
           }
          ],
          "parcoords": [
           {
            "line": {
             "colorbar": {
              "outlinewidth": 0,
              "ticks": ""
             }
            },
            "type": "parcoords"
           }
          ],
          "pie": [
           {
            "automargin": true,
            "type": "pie"
           }
          ],
          "scatter": [
           {
            "fillpattern": {
             "fillmode": "overlay",
             "size": 10,
             "solidity": 0.2
            },
            "type": "scatter"
           }
          ],
          "scatter3d": [
           {
            "line": {
             "colorbar": {
              "outlinewidth": 0,
              "ticks": ""
             }
            },
            "marker": {
             "colorbar": {
              "outlinewidth": 0,
              "ticks": ""
             }
            },
            "type": "scatter3d"
           }
          ],
          "scattercarpet": [
           {
            "marker": {
             "colorbar": {
              "outlinewidth": 0,
              "ticks": ""
             }
            },
            "type": "scattercarpet"
           }
          ],
          "scattergeo": [
           {
            "marker": {
             "colorbar": {
              "outlinewidth": 0,
              "ticks": ""
             }
            },
            "type": "scattergeo"
           }
          ],
          "scattergl": [
           {
            "marker": {
             "colorbar": {
              "outlinewidth": 0,
              "ticks": ""
             }
            },
            "type": "scattergl"
           }
          ],
          "scattermapbox": [
           {
            "marker": {
             "colorbar": {
              "outlinewidth": 0,
              "ticks": ""
             }
            },
            "type": "scattermapbox"
           }
          ],
          "scatterpolar": [
           {
            "marker": {
             "colorbar": {
              "outlinewidth": 0,
              "ticks": ""
             }
            },
            "type": "scatterpolar"
           }
          ],
          "scatterpolargl": [
           {
            "marker": {
             "colorbar": {
              "outlinewidth": 0,
              "ticks": ""
             }
            },
            "type": "scatterpolargl"
           }
          ],
          "scatterternary": [
           {
            "marker": {
             "colorbar": {
              "outlinewidth": 0,
              "ticks": ""
             }
            },
            "type": "scatterternary"
           }
          ],
          "surface": [
           {
            "colorbar": {
             "outlinewidth": 0,
             "ticks": ""
            },
            "colorscale": [
             [
              0,
              "#0d0887"
             ],
             [
              0.1111111111111111,
              "#46039f"
             ],
             [
              0.2222222222222222,
              "#7201a8"
             ],
             [
              0.3333333333333333,
              "#9c179e"
             ],
             [
              0.4444444444444444,
              "#bd3786"
             ],
             [
              0.5555555555555556,
              "#d8576b"
             ],
             [
              0.6666666666666666,
              "#ed7953"
             ],
             [
              0.7777777777777778,
              "#fb9f3a"
             ],
             [
              0.8888888888888888,
              "#fdca26"
             ],
             [
              1,
              "#f0f921"
             ]
            ],
            "type": "surface"
           }
          ],
          "table": [
           {
            "cells": {
             "fill": {
              "color": "#EBF0F8"
             },
             "line": {
              "color": "white"
             }
            },
            "header": {
             "fill": {
              "color": "#C8D4E3"
             },
             "line": {
              "color": "white"
             }
            },
            "type": "table"
           }
          ]
         },
         "layout": {
          "annotationdefaults": {
           "arrowcolor": "#2a3f5f",
           "arrowhead": 0,
           "arrowwidth": 1
          },
          "autotypenumbers": "strict",
          "coloraxis": {
           "colorbar": {
            "outlinewidth": 0,
            "ticks": ""
           }
          },
          "colorscale": {
           "diverging": [
            [
             0,
             "#8e0152"
            ],
            [
             0.1,
             "#c51b7d"
            ],
            [
             0.2,
             "#de77ae"
            ],
            [
             0.3,
             "#f1b6da"
            ],
            [
             0.4,
             "#fde0ef"
            ],
            [
             0.5,
             "#f7f7f7"
            ],
            [
             0.6,
             "#e6f5d0"
            ],
            [
             0.7,
             "#b8e186"
            ],
            [
             0.8,
             "#7fbc41"
            ],
            [
             0.9,
             "#4d9221"
            ],
            [
             1,
             "#276419"
            ]
           ],
           "sequential": [
            [
             0,
             "#0d0887"
            ],
            [
             0.1111111111111111,
             "#46039f"
            ],
            [
             0.2222222222222222,
             "#7201a8"
            ],
            [
             0.3333333333333333,
             "#9c179e"
            ],
            [
             0.4444444444444444,
             "#bd3786"
            ],
            [
             0.5555555555555556,
             "#d8576b"
            ],
            [
             0.6666666666666666,
             "#ed7953"
            ],
            [
             0.7777777777777778,
             "#fb9f3a"
            ],
            [
             0.8888888888888888,
             "#fdca26"
            ],
            [
             1,
             "#f0f921"
            ]
           ],
           "sequentialminus": [
            [
             0,
             "#0d0887"
            ],
            [
             0.1111111111111111,
             "#46039f"
            ],
            [
             0.2222222222222222,
             "#7201a8"
            ],
            [
             0.3333333333333333,
             "#9c179e"
            ],
            [
             0.4444444444444444,
             "#bd3786"
            ],
            [
             0.5555555555555556,
             "#d8576b"
            ],
            [
             0.6666666666666666,
             "#ed7953"
            ],
            [
             0.7777777777777778,
             "#fb9f3a"
            ],
            [
             0.8888888888888888,
             "#fdca26"
            ],
            [
             1,
             "#f0f921"
            ]
           ]
          },
          "colorway": [
           "#636efa",
           "#EF553B",
           "#00cc96",
           "#ab63fa",
           "#FFA15A",
           "#19d3f3",
           "#FF6692",
           "#B6E880",
           "#FF97FF",
           "#FECB52"
          ],
          "font": {
           "color": "#2a3f5f"
          },
          "geo": {
           "bgcolor": "white",
           "lakecolor": "white",
           "landcolor": "#E5ECF6",
           "showlakes": true,
           "showland": true,
           "subunitcolor": "white"
          },
          "hoverlabel": {
           "align": "left"
          },
          "hovermode": "closest",
          "mapbox": {
           "style": "light"
          },
          "paper_bgcolor": "white",
          "plot_bgcolor": "#E5ECF6",
          "polar": {
           "angularaxis": {
            "gridcolor": "white",
            "linecolor": "white",
            "ticks": ""
           },
           "bgcolor": "#E5ECF6",
           "radialaxis": {
            "gridcolor": "white",
            "linecolor": "white",
            "ticks": ""
           }
          },
          "scene": {
           "xaxis": {
            "backgroundcolor": "#E5ECF6",
            "gridcolor": "white",
            "gridwidth": 2,
            "linecolor": "white",
            "showbackground": true,
            "ticks": "",
            "zerolinecolor": "white"
           },
           "yaxis": {
            "backgroundcolor": "#E5ECF6",
            "gridcolor": "white",
            "gridwidth": 2,
            "linecolor": "white",
            "showbackground": true,
            "ticks": "",
            "zerolinecolor": "white"
           },
           "zaxis": {
            "backgroundcolor": "#E5ECF6",
            "gridcolor": "white",
            "gridwidth": 2,
            "linecolor": "white",
            "showbackground": true,
            "ticks": "",
            "zerolinecolor": "white"
           }
          },
          "shapedefaults": {
           "line": {
            "color": "#2a3f5f"
           }
          },
          "ternary": {
           "aaxis": {
            "gridcolor": "white",
            "linecolor": "white",
            "ticks": ""
           },
           "baxis": {
            "gridcolor": "white",
            "linecolor": "white",
            "ticks": ""
           },
           "bgcolor": "#E5ECF6",
           "caxis": {
            "gridcolor": "white",
            "linecolor": "white",
            "ticks": ""
           }
          },
          "title": {
           "x": 0.05
          },
          "xaxis": {
           "automargin": true,
           "gridcolor": "white",
           "linecolor": "white",
           "ticks": "",
           "title": {
            "standoff": 15
           },
           "zerolinecolor": "white",
           "zerolinewidth": 2
          },
          "yaxis": {
           "automargin": true,
           "gridcolor": "white",
           "linecolor": "white",
           "ticks": "",
           "title": {
            "standoff": 15
           },
           "zerolinecolor": "white",
           "zerolinewidth": 2
          }
         }
        },
        "title": {
         "text": "Model Metrics Comparison"
        }
       }
      },
      "image/png": "[encoded data removed]",
      "text/html": [
       "<div>                            <div id=\"b1f080e3-193d-4755-b25c-d2512b55769f\" class=\"plotly-graph-div\" style=\"height:525px; width:100%;\"></div>            <script type=\"text/javascript\">                require([\"plotly\"], function(Plotly) {                    window.PLOTLYENV=window.PLOTLYENV || {};                                    if (document.getElementById(\"b1f080e3-193d-4755-b25c-d2512b55769f\")) {                    Plotly.newPlot(                        \"b1f080e3-193d-4755-b25c-d2512b55769f\",                        [{\"cells\":{\"fill\":{\"color\":[[\"rgba(255, 255, 255, 0)\",\"rgba(50, 171, 96, 0.2)\"]]},\"values\":[[\"Naive Bayes\",\"SVM\"],[0.74,0.71],[0.64,0.66],[0.5,0.55],[0.84,0.79],[0.59,0.62],[0.73,0.72],[0.67,0.68]]},\"header\":{\"values\":[\"Model\",\"Precision (class 0)\",\"Precision (class 1)\",\"Recall (class 0)\",\"Recall (class 1)\",\"F1-Score (class 0)\",\"F1-Score (class 1)\",\"Accuracy\"]},\"type\":\"table\"}],                        {\"title\":{\"text\":\"Model Metrics Comparison\"},\"template\":{\"data\":{\"histogram2dcontour\":[{\"type\":\"histogram2dcontour\",\"colorbar\":{\"outlinewidth\":0,\"ticks\":\"\"},\"colorscale\":[[0.0,\"#0d0887\"],[0.1111111111111111,\"#46039f\"],[0.2222222222222222,\"#7201a8\"],[0.3333333333333333,\"#9c179e\"],[0.4444444444444444,\"#bd3786\"],[0.5555555555555556,\"#d8576b\"],[0.6666666666666666,\"#ed7953\"],[0.7777777777777778,\"#fb9f3a\"],[0.8888888888888888,\"#fdca26\"],[1.0,\"#f0f921\"]]}],\"choropleth\":[{\"type\":\"choropleth\",\"colorbar\":{\"outlinewidth\":0,\"ticks\":\"\"}}],\"histogram2d\":[{\"type\":\"histogram2d\",\"colorbar\":{\"outlinewidth\":0,\"ticks\":\"\"},\"colorscale\":[[0.0,\"#0d0887\"],[0.1111111111111111,\"#46039f\"],[0.2222222222222222,\"#7201a8\"],[0.3333333333333333,\"#9c179e\"],[0.4444444444444444,\"#bd3786\"],[0.5555555555555556,\"#d8576b\"],[0.6666666666666666,\"#ed7953\"],[0.7777777777777778,\"#fb9f3a\"],[0.8888888888888888,\"#fdca26\"],[1.0,\"#f0f921\"]]}],\"heatmap\":[{\"type\":\"heatmap\",\"colorbar\":{\"outlinewidth\":0,\"ticks\":\"\"},\"colorscale\":[[0.0,\"#0d0887\"],[0.1111111111111111,\"#46039f\"],[0.2222222222222222,\"#7201a8\"],[0.3333333333333333,\"#9c179e\"],[0.4444444444444444,\"#bd3786\"],[0.5555555555555556,\"#d8576b\"],[0.6666666666666666,\"#ed7953\"],[0.7777777777777778,\"#fb9f3a\"],[0.8888888888888888,\"#fdca26\"],[1.0,\"#f0f921\"]]}],\"heatmapgl\":[{\"type\":\"heatmapgl\",\"colorbar\":{\"outlinewidth\":0,\"ticks\":\"\"},\"colorscale\":[[0.0,\"#0d0887\"],[0.1111111111111111,\"#46039f\"],[0.2222222222222222,\"#7201a8\"],[0.3333333333333333,\"#9c179e\"],[0.4444444444444444,\"#bd3786\"],[0.5555555555555556,\"#d8576b\"],[0.6666666666666666,\"#ed7953\"],[0.7777777777777778,\"#fb9f3a\"],[0.8888888888888888,\"#fdca26\"],[1.0,\"#f0f921\"]]}],\"contourcarpet\":[{\"type\":\"contourcarpet\",\"colorbar\":{\"outlinewidth\":0,\"ticks\":\"\"}}],\"contour\":[{\"type\":\"contour\",\"colorbar\":{\"outlinewidth\":0,\"ticks\":\"\"},\"colorscale\":[[0.0,\"#0d0887\"],[0.1111111111111111,\"#46039f\"],[0.2222222222222222,\"#7201a8\"],[0.3333333333333333,\"#9c179e\"],[0.4444444444444444,\"#bd3786\"],[0.5555555555555556,\"#d8576b\"],[0.6666666666666666,\"#ed7953\"],[0.7777777777777778,\"#fb9f3a\"],[0.8888888888888888,\"#fdca26\"],[1.0,\"#f0f921\"]]}],\"surface\":[{\"type\":\"surface\",\"colorbar\":{\"outlinewidth\":0,\"ticks\":\"\"},\"colorscale\":[[0.0,\"#0d0887\"],[0.1111111111111111,\"#46039f\"],[0.2222222222222222,\"#7201a8\"],[0.3333333333333333,\"#9c179e\"],[0.4444444444444444,\"#bd3786\"],[0.5555555555555556,\"#d8576b\"],[0.6666666666666666,\"#ed7953\"],[0.7777777777777778,\"#fb9f3a\"],[0.8888888888888888,\"#fdca26\"],[1.0,\"#f0f921\"]]}],\"mesh3d\":[{\"type\":\"mesh3d\",\"colorbar\":{\"outlinewidth\":0,\"ticks\":\"\"}}],\"scatter\":[{\"fillpattern\":{\"fillmode\":\"overlay\",\"size\":10,\"solidity\":0.2},\"type\":\"scatter\"}],\"parcoords\":[{\"type\":\"parcoords\",\"line\":{\"colorbar\":{\"outlinewidth\":0,\"ticks\":\"\"}}}],\"scatterpolargl\":[{\"type\":\"scatterpolargl\",\"marker\":{\"colorbar\":{\"outlinewidth\":0,\"ticks\":\"\"}}}],\"bar\":[{\"error_x\":{\"color\":\"#2a3f5f\"},\"error_y\":{\"color\":\"#2a3f5f\"},\"marker\":{\"line\":{\"color\":\"#E5ECF6\",\"width\":0.5},\"pattern\":{\"fillmode\":\"overlay\",\"size\":10,\"solidity\":0.2}},\"type\":\"bar\"}],\"scattergeo\":[{\"type\":\"scattergeo\",\"marker\":{\"colorbar\":{\"outlinewidth\":0,\"ticks\":\"\"}}}],\"scatterpolar\":[{\"type\":\"scatterpolar\",\"marker\":{\"colorbar\":{\"outlinewidth\":0,\"ticks\":\"\"}}}],\"histogram\":[{\"marker\":{\"pattern\":{\"fillmode\":\"overlay\",\"size\":10,\"solidity\":0.2}},\"type\":\"histogram\"}],\"scattergl\":[{\"type\":\"scattergl\",\"marker\":{\"colorbar\":{\"outlinewidth\":0,\"ticks\":\"\"}}}],\"scatter3d\":[{\"type\":\"scatter3d\",\"line\":{\"colorbar\":{\"outlinewidth\":0,\"ticks\":\"\"}},\"marker\":{\"colorbar\":{\"outlinewidth\":0,\"ticks\":\"\"}}}],\"scattermapbox\":[{\"type\":\"scattermapbox\",\"marker\":{\"colorbar\":{\"outlinewidth\":0,\"ticks\":\"\"}}}],\"scatterternary\":[{\"type\":\"scatterternary\",\"marker\":{\"colorbar\":{\"outlinewidth\":0,\"ticks\":\"\"}}}],\"scattercarpet\":[{\"type\":\"scattercarpet\",\"marker\":{\"colorbar\":{\"outlinewidth\":0,\"ticks\":\"\"}}}],\"carpet\":[{\"aaxis\":{\"endlinecolor\":\"#2a3f5f\",\"gridcolor\":\"white\",\"linecolor\":\"white\",\"minorgridcolor\":\"white\",\"startlinecolor\":\"#2a3f5f\"},\"baxis\":{\"endlinecolor\":\"#2a3f5f\",\"gridcolor\":\"white\",\"linecolor\":\"white\",\"minorgridcolor\":\"white\",\"startlinecolor\":\"#2a3f5f\"},\"type\":\"carpet\"}],\"table\":[{\"cells\":{\"fill\":{\"color\":\"#EBF0F8\"},\"line\":{\"color\":\"white\"}},\"header\":{\"fill\":{\"color\":\"#C8D4E3\"},\"line\":{\"color\":\"white\"}},\"type\":\"table\"}],\"barpolar\":[{\"marker\":{\"line\":{\"color\":\"#E5ECF6\",\"width\":0.5},\"pattern\":{\"fillmode\":\"overlay\",\"size\":10,\"solidity\":0.2}},\"type\":\"barpolar\"}],\"pie\":[{\"automargin\":true,\"type\":\"pie\"}]},\"layout\":{\"autotypenumbers\":\"strict\",\"colorway\":[\"#636efa\",\"#EF553B\",\"#00cc96\",\"#ab63fa\",\"#FFA15A\",\"#19d3f3\",\"#FF6692\",\"#B6E880\",\"#FF97FF\",\"#FECB52\"],\"font\":{\"color\":\"#2a3f5f\"},\"hovermode\":\"closest\",\"hoverlabel\":{\"align\":\"left\"},\"paper_bgcolor\":\"white\",\"plot_bgcolor\":\"#E5ECF6\",\"polar\":{\"bgcolor\":\"#E5ECF6\",\"angularaxis\":{\"gridcolor\":\"white\",\"linecolor\":\"white\",\"ticks\":\"\"},\"radialaxis\":{\"gridcolor\":\"white\",\"linecolor\":\"white\",\"ticks\":\"\"}},\"ternary\":{\"bgcolor\":\"#E5ECF6\",\"aaxis\":{\"gridcolor\":\"white\",\"linecolor\":\"white\",\"ticks\":\"\"},\"baxis\":{\"gridcolor\":\"white\",\"linecolor\":\"white\",\"ticks\":\"\"},\"caxis\":{\"gridcolor\":\"white\",\"linecolor\":\"white\",\"ticks\":\"\"}},\"coloraxis\":{\"colorbar\":{\"outlinewidth\":0,\"ticks\":\"\"}},\"colorscale\":{\"sequential\":[[0.0,\"#0d0887\"],[0.1111111111111111,\"#46039f\"],[0.2222222222222222,\"#7201a8\"],[0.3333333333333333,\"#9c179e\"],[0.4444444444444444,\"#bd3786\"],[0.5555555555555556,\"#d8576b\"],[0.6666666666666666,\"#ed7953\"],[0.7777777777777778,\"#fb9f3a\"],[0.8888888888888888,\"#fdca26\"],[1.0,\"#f0f921\"]],\"sequentialminus\":[[0.0,\"#0d0887\"],[0.1111111111111111,\"#46039f\"],[0.2222222222222222,\"#7201a8\"],[0.3333333333333333,\"#9c179e\"],[0.4444444444444444,\"#bd3786\"],[0.5555555555555556,\"#d8576b\"],[0.6666666666666666,\"#ed7953\"],[0.7777777777777778,\"#fb9f3a\"],[0.8888888888888888,\"#fdca26\"],[1.0,\"#f0f921\"]],\"diverging\":[[0,\"#8e0152\"],[0.1,\"#c51b7d\"],[0.2,\"#de77ae\"],[0.3,\"#f1b6da\"],[0.4,\"#fde0ef\"],[0.5,\"#f7f7f7\"],[0.6,\"#e6f5d0\"],[0.7,\"#b8e186\"],[0.8,\"#7fbc41\"],[0.9,\"#4d9221\"],[1,\"#276419\"]]},\"xaxis\":{\"gridcolor\":\"white\",\"linecolor\":\"white\",\"ticks\":\"\",\"title\":{\"standoff\":15},\"zerolinecolor\":\"white\",\"automargin\":true,\"zerolinewidth\":2},\"yaxis\":{\"gridcolor\":\"white\",\"linecolor\":\"white\",\"ticks\":\"\",\"title\":{\"standoff\":15},\"zerolinecolor\":\"white\",\"automargin\":true,\"zerolinewidth\":2},\"scene\":{\"xaxis\":{\"backgroundcolor\":\"#E5ECF6\",\"gridcolor\":\"white\",\"linecolor\":\"white\",\"showbackground\":true,\"ticks\":\"\",\"zerolinecolor\":\"white\",\"gridwidth\":2},\"yaxis\":{\"backgroundcolor\":\"#E5ECF6\",\"gridcolor\":\"white\",\"linecolor\":\"white\",\"showbackground\":true,\"ticks\":\"\",\"zerolinecolor\":\"white\",\"gridwidth\":2},\"zaxis\":{\"backgroundcolor\":\"#E5ECF6\",\"gridcolor\":\"white\",\"linecolor\":\"white\",\"showbackground\":true,\"ticks\":\"\",\"zerolinecolor\":\"white\",\"gridwidth\":2}},\"shapedefaults\":{\"line\":{\"color\":\"#2a3f5f\"}},\"annotationdefaults\":{\"arrowcolor\":\"#2a3f5f\",\"arrowhead\":0,\"arrowwidth\":1},\"geo\":{\"bgcolor\":\"white\",\"landcolor\":\"#E5ECF6\",\"subunitcolor\":\"white\",\"showland\":true,\"showlakes\":true,\"lakecolor\":\"white\"},\"title\":{\"x\":0.05},\"mapbox\":{\"style\":\"light\"}}}},                        {\"responsive\": true}                    ).then(function(){\n",
       "                            \n",
       "var gd = document.getElementById('b1f080e3-193d-4755-b25c-d2512b55769f');\n",
       "var x = new MutationObserver(function (mutations, observer) {{\n",
       "        var display = window.getComputedStyle(gd).display;\n",
       "        if (!display || display === 'none') {{\n",
       "            console.log([gd, 'removed!']);\n",
       "            Plotly.purge(gd);\n",
       "            observer.disconnect();\n",
       "        }}\n",
       "}});\n",
       "\n",
       "// Listen for the removal of the full notebook cells\n",
       "var notebookContainer = gd.closest('#notebook-container');\n",
       "if (notebookContainer) {{\n",
       "    x.observe(notebookContainer, {childList: true});\n",
       "}}\n",
       "\n",
       "// Listen for the clearing of the current output cell\n",
       "var outputEl = gd.closest('.output');\n",
       "if (outputEl) {{\n",
       "    x.observe(outputEl, {childList: true});\n",
       "}}\n",
       "\n",
       "                        })                };                });            </script>        </div>"
      ]
     },
     "metadata": {},
     "output_type": "display_data"
    }
   ],
   "source": [
    "import pandas as pd\n",
    "import plotly.graph_objects as go\n",
    "\n",
    "# Placeholder values for Naive Bayes metrics\n",
    "naive_bayes_accuracy = 0.67\n",
    "naive_bayes_precision_class_0 = 0.74\n",
    "naive_bayes_precision_class_1 = 0.64\n",
    "naive_bayes_recall_class_0 = 0.50\n",
    "naive_bayes_recall_class_1 = 0.84\n",
    "naive_bayes_f1_score_class_0 = 0.59\n",
    "naive_bayes_f1_score_class_1 = 0.73\n",
    "\n",
    "# Provided SVM metrics\n",
    "svm_accuracy_1 = 0.68\n",
    "svm_precision_class_0_1 = 0.71\n",
    "svm_precision_class_1_1 = 0.66\n",
    "svm_recall_class_0_1 = 0.55\n",
    "svm_recall_class_1_1 = 0.79\n",
    "svm_f1_score_class_0_1 = 0.62\n",
    "svm_f1_score_class_1_1 = 0.72\n",
    "\n",
    "# Create DataFrames for Naive Bayes and SVM\n",
    "naive_bayes_data = {\n",
    "    \"Model\": [\"Naive Bayes\"],\n",
    "    \"Accuracy\": [naive_bayes_accuracy],\n",
    "    \"Precision (class 0)\": [naive_bayes_precision_class_0],\n",
    "    \"Precision (class 1)\": [naive_bayes_precision_class_1],\n",
    "    \"Recall (class 0)\": [naive_bayes_recall_class_0],\n",
    "    \"Recall (class 1)\": [naive_bayes_recall_class_1],\n",
    "    \"F1-Score (class 0)\": [naive_bayes_f1_score_class_0],\n",
    "    \"F1-Score (class 1)\": [naive_bayes_f1_score_class_1]\n",
    "}\n",
    "\n",
    "svm_data_1 = {\n",
    "    \"Model\": [\"SVM\"],\n",
    "    \"Accuracy\": [svm_accuracy_1],\n",
    "    \"Precision (class 0)\": [svm_precision_class_0_1],\n",
    "    \"Precision (class 1)\": [svm_precision_class_1_1],\n",
    "    \"Recall (class 0)\": [svm_recall_class_0_1],\n",
    "    \"Recall (class 1)\": [svm_recall_class_1_1],\n",
    "    \"F1-Score (class 0)\": [svm_f1_score_class_0_1],\n",
    "    \"F1-Score (class 1)\": [svm_f1_score_class_1_1]\n",
    "}\n",
    "\n",
    "# Combine the data into a single DataFrame\n",
    "df = pd.DataFrame(naive_bayes_data).append([pd.DataFrame(svm_data_1)], ignore_index=True)\n",
    "\n",
    "# Extracting metrics and models from the DataFrame\n",
    "metrics = df.columns[2:]\n",
    "models = df[\"Model\"].tolist()\n",
    "\n",
    "# Create a table trace\n",
    "trace = go.Table(\n",
    "    header=dict(values=[\"Model\"] + metrics.tolist() + [\"Accuracy\"]),\n",
    "    cells=dict(values=[df[\"Model\"]] + [df[metric] for metric in metrics] + [df[\"Accuracy\"]]),\n",
    ")\n",
    "\n",
    "# Highlight SVM rows by changing the background color\n",
    "colors = ['rgba(50, 171, 96, 0.2)' if \"SVM\" in model else 'rgba(255, 255, 255, 0)' for model in df[\"Model\"]]\n",
    "trace['cells']['fill']['color'] = [colors]\n",
    "\n",
    "layout = go.Layout(\n",
    "    title=\"Model Metrics Comparison\",\n",
    ")\n",
    "\n",
    "fig = go.Figure(data=[trace], layout=layout)\n",
    "\n",
    "# Display the table\n",
    "fig.show()\n",
    "\n",
    "# Save the HTML file\n",
    "save_path_cm = '/root/fall-2023-reddit-project-team-33/data/plots/ml/Model_Compare.html'\n",
    "fig.write_html(save_path_cm)\n"
   ]
  },
  {
   "cell_type": "markdown",
   "id": "c2fcc881-61a3-4910-99e5-db689731dbbd",
   "metadata": {},
   "source": [
    "Conclusion\n",
    "Based on the comparison of model metrics, the SVM model exhibits a solid accuracy of 68%, reflecting its capability in analyzing comments. It shows a slightly better precision for class 1 (intricate comments) at 66% compared to the Naive Bayes model and maintains a competitive recall rate of 79%. The F1-scores for the SVM model are 0.62 for class 0 (standard comments) and 0.72 for class 1, indicating a balanced performance between precision and recall, particularly for complex comments.\n",
    "\n",
    "From a business standpoint, the deployment of our SVM-based comment classification tool can enhance user engagement by efficiently moderating discussions and preserving a constructive conversation atmosphere. The tool's nuanced handling of complex comments provides critical input for content curation and user engagement strategies, fostering relevancy and user interest. Proactive monitoring and management of intricate discussions also mitigate potential conflicts, ensuring platform integrity and a superior user experience.\n",
    "\n",
    "Commitment to continuous improvement is paramount. Regular assessments of the tool's performance, coupled with iterative refinements, will ensure its adaptability to evolving language trends and user behaviors. Similar to mobile apps receiving updates, our tool will evolve intelligently to stay attuned to the dynamics of user interactions."
   ]
  },
  {
   "cell_type": "code",
   "execution_count": null,
   "id": "716ff121-6253-4a14-aabd-d5652a402558",
   "metadata": {},
   "outputs": [],
   "source": []
  }
 ],
 "metadata": {
  "availableInstances": [
   {
    "_defaultOrder": 0,
    "_isFastLaunch": true,
    "category": "General purpose",
    "gpuNum": 0,
    "hideHardwareSpecs": false,
    "memoryGiB": 4,
    "name": "ml.t3.medium",
    "vcpuNum": 2
   },
   {
    "_defaultOrder": 1,
    "_isFastLaunch": false,
    "category": "General purpose",
    "gpuNum": 0,
    "hideHardwareSpecs": false,
    "memoryGiB": 8,
    "name": "ml.t3.large",
    "vcpuNum": 2
   },
   {
    "_defaultOrder": 2,
    "_isFastLaunch": false,
    "category": "General purpose",
    "gpuNum": 0,
    "hideHardwareSpecs": false,
    "memoryGiB": 16,
    "name": "ml.t3.xlarge",
    "vcpuNum": 4
   },
   {
    "_defaultOrder": 3,
    "_isFastLaunch": false,
    "category": "General purpose",
    "gpuNum": 0,
    "hideHardwareSpecs": false,
    "memoryGiB": 32,
    "name": "ml.t3.2xlarge",
    "vcpuNum": 8
   },
   {
    "_defaultOrder": 4,
    "_isFastLaunch": true,
    "category": "General purpose",
    "gpuNum": 0,
    "hideHardwareSpecs": false,
    "memoryGiB": 8,
    "name": "ml.m5.large",
    "vcpuNum": 2
   },
   {
    "_defaultOrder": 5,
    "_isFastLaunch": false,
    "category": "General purpose",
    "gpuNum": 0,
    "hideHardwareSpecs": false,
    "memoryGiB": 16,
    "name": "ml.m5.xlarge",
    "vcpuNum": 4
   },
   {
    "_defaultOrder": 6,
    "_isFastLaunch": false,
    "category": "General purpose",
    "gpuNum": 0,
    "hideHardwareSpecs": false,
    "memoryGiB": 32,
    "name": "ml.m5.2xlarge",
    "vcpuNum": 8
   },
   {
    "_defaultOrder": 7,
    "_isFastLaunch": false,
    "category": "General purpose",
    "gpuNum": 0,
    "hideHardwareSpecs": false,
    "memoryGiB": 64,
    "name": "ml.m5.4xlarge",
    "vcpuNum": 16
   },
   {
    "_defaultOrder": 8,
    "_isFastLaunch": false,
    "category": "General purpose",
    "gpuNum": 0,
    "hideHardwareSpecs": false,
    "memoryGiB": 128,
    "name": "ml.m5.8xlarge",
    "vcpuNum": 32
   },
   {
    "_defaultOrder": 9,
    "_isFastLaunch": false,
    "category": "General purpose",
    "gpuNum": 0,
    "hideHardwareSpecs": false,
    "memoryGiB": 192,
    "name": "ml.m5.12xlarge",
    "vcpuNum": 48
   },
   {
    "_defaultOrder": 10,
    "_isFastLaunch": false,
    "category": "General purpose",
    "gpuNum": 0,
    "hideHardwareSpecs": false,
    "memoryGiB": 256,
    "name": "ml.m5.16xlarge",
    "vcpuNum": 64
   },
   {
    "_defaultOrder": 11,
    "_isFastLaunch": false,
    "category": "General purpose",
    "gpuNum": 0,
    "hideHardwareSpecs": false,
    "memoryGiB": 384,
    "name": "ml.m5.24xlarge",
    "vcpuNum": 96
   },
   {
    "_defaultOrder": 12,
    "_isFastLaunch": false,
    "category": "General purpose",
    "gpuNum": 0,
    "hideHardwareSpecs": false,
    "memoryGiB": 8,
    "name": "ml.m5d.large",
    "vcpuNum": 2
   },
   {
    "_defaultOrder": 13,
    "_isFastLaunch": false,
    "category": "General purpose",
    "gpuNum": 0,
    "hideHardwareSpecs": false,
    "memoryGiB": 16,
    "name": "ml.m5d.xlarge",
    "vcpuNum": 4
   },
   {
    "_defaultOrder": 14,
    "_isFastLaunch": false,
    "category": "General purpose",
    "gpuNum": 0,
    "hideHardwareSpecs": false,
    "memoryGiB": 32,
    "name": "ml.m5d.2xlarge",
    "vcpuNum": 8
   },
   {
    "_defaultOrder": 15,
    "_isFastLaunch": false,
    "category": "General purpose",
    "gpuNum": 0,
    "hideHardwareSpecs": false,
    "memoryGiB": 64,
    "name": "ml.m5d.4xlarge",
    "vcpuNum": 16
   },
   {
    "_defaultOrder": 16,
    "_isFastLaunch": false,
    "category": "General purpose",
    "gpuNum": 0,
    "hideHardwareSpecs": false,
    "memoryGiB": 128,
    "name": "ml.m5d.8xlarge",
    "vcpuNum": 32
   },
   {
    "_defaultOrder": 17,
    "_isFastLaunch": false,
    "category": "General purpose",
    "gpuNum": 0,
    "hideHardwareSpecs": false,
    "memoryGiB": 192,
    "name": "ml.m5d.12xlarge",
    "vcpuNum": 48
   },
   {
    "_defaultOrder": 18,
    "_isFastLaunch": false,
    "category": "General purpose",
    "gpuNum": 0,
    "hideHardwareSpecs": false,
    "memoryGiB": 256,
    "name": "ml.m5d.16xlarge",
    "vcpuNum": 64
   },
   {
    "_defaultOrder": 19,
    "_isFastLaunch": false,
    "category": "General purpose",
    "gpuNum": 0,
    "hideHardwareSpecs": false,
    "memoryGiB": 384,
    "name": "ml.m5d.24xlarge",
    "vcpuNum": 96
   },
   {
    "_defaultOrder": 20,
    "_isFastLaunch": false,
    "category": "General purpose",
    "gpuNum": 0,
    "hideHardwareSpecs": true,
    "memoryGiB": 0,
    "name": "ml.geospatial.interactive",
    "supportedImageNames": [
     "sagemaker-geospatial-v1-0"
    ],
    "vcpuNum": 0
   },
   {
    "_defaultOrder": 21,
    "_isFastLaunch": true,
    "category": "Compute optimized",
    "gpuNum": 0,
    "hideHardwareSpecs": false,
    "memoryGiB": 4,
    "name": "ml.c5.large",
    "vcpuNum": 2
   },
   {
    "_defaultOrder": 22,
    "_isFastLaunch": false,
    "category": "Compute optimized",
    "gpuNum": 0,
    "hideHardwareSpecs": false,
    "memoryGiB": 8,
    "name": "ml.c5.xlarge",
    "vcpuNum": 4
   },
   {
    "_defaultOrder": 23,
    "_isFastLaunch": false,
    "category": "Compute optimized",
    "gpuNum": 0,
    "hideHardwareSpecs": false,
    "memoryGiB": 16,
    "name": "ml.c5.2xlarge",
    "vcpuNum": 8
   },
   {
    "_defaultOrder": 24,
    "_isFastLaunch": false,
    "category": "Compute optimized",
    "gpuNum": 0,
    "hideHardwareSpecs": false,
    "memoryGiB": 32,
    "name": "ml.c5.4xlarge",
    "vcpuNum": 16
   },
   {
    "_defaultOrder": 25,
    "_isFastLaunch": false,
    "category": "Compute optimized",
    "gpuNum": 0,
    "hideHardwareSpecs": false,
    "memoryGiB": 72,
    "name": "ml.c5.9xlarge",
    "vcpuNum": 36
   },
   {
    "_defaultOrder": 26,
    "_isFastLaunch": false,
    "category": "Compute optimized",
    "gpuNum": 0,
    "hideHardwareSpecs": false,
    "memoryGiB": 96,
    "name": "ml.c5.12xlarge",
    "vcpuNum": 48
   },
   {
    "_defaultOrder": 27,
    "_isFastLaunch": false,
    "category": "Compute optimized",
    "gpuNum": 0,
    "hideHardwareSpecs": false,
    "memoryGiB": 144,
    "name": "ml.c5.18xlarge",
    "vcpuNum": 72
   },
   {
    "_defaultOrder": 28,
    "_isFastLaunch": false,
    "category": "Compute optimized",
    "gpuNum": 0,
    "hideHardwareSpecs": false,
    "memoryGiB": 192,
    "name": "ml.c5.24xlarge",
    "vcpuNum": 96
   },
   {
    "_defaultOrder": 29,
    "_isFastLaunch": true,
    "category": "Accelerated computing",
    "gpuNum": 1,
    "hideHardwareSpecs": false,
    "memoryGiB": 16,
    "name": "ml.g4dn.xlarge",
    "vcpuNum": 4
   },
   {
    "_defaultOrder": 30,
    "_isFastLaunch": false,
    "category": "Accelerated computing",
    "gpuNum": 1,
    "hideHardwareSpecs": false,
    "memoryGiB": 32,
    "name": "ml.g4dn.2xlarge",
    "vcpuNum": 8
   },
   {
    "_defaultOrder": 31,
    "_isFastLaunch": false,
    "category": "Accelerated computing",
    "gpuNum": 1,
    "hideHardwareSpecs": false,
    "memoryGiB": 64,
    "name": "ml.g4dn.4xlarge",
    "vcpuNum": 16
   },
   {
    "_defaultOrder": 32,
    "_isFastLaunch": false,
    "category": "Accelerated computing",
    "gpuNum": 1,
    "hideHardwareSpecs": false,
    "memoryGiB": 128,
    "name": "ml.g4dn.8xlarge",
    "vcpuNum": 32
   },
   {
    "_defaultOrder": 33,
    "_isFastLaunch": false,
    "category": "Accelerated computing",
    "gpuNum": 4,
    "hideHardwareSpecs": false,
    "memoryGiB": 192,
    "name": "ml.g4dn.12xlarge",
    "vcpuNum": 48
   },
   {
    "_defaultOrder": 34,
    "_isFastLaunch": false,
    "category": "Accelerated computing",
    "gpuNum": 1,
    "hideHardwareSpecs": false,
    "memoryGiB": 256,
    "name": "ml.g4dn.16xlarge",
    "vcpuNum": 64
   },
   {
    "_defaultOrder": 35,
    "_isFastLaunch": false,
    "category": "Accelerated computing",
    "gpuNum": 1,
    "hideHardwareSpecs": false,
    "memoryGiB": 61,
    "name": "ml.p3.2xlarge",
    "vcpuNum": 8
   },
   {
    "_defaultOrder": 36,
    "_isFastLaunch": false,
    "category": "Accelerated computing",
    "gpuNum": 4,
    "hideHardwareSpecs": false,
    "memoryGiB": 244,
    "name": "ml.p3.8xlarge",
    "vcpuNum": 32
   },
   {
    "_defaultOrder": 37,
    "_isFastLaunch": false,
    "category": "Accelerated computing",
    "gpuNum": 8,
    "hideHardwareSpecs": false,
    "memoryGiB": 488,
    "name": "ml.p3.16xlarge",
    "vcpuNum": 64
   },
   {
    "_defaultOrder": 38,
    "_isFastLaunch": false,
    "category": "Accelerated computing",
    "gpuNum": 8,
    "hideHardwareSpecs": false,
    "memoryGiB": 768,
    "name": "ml.p3dn.24xlarge",
    "vcpuNum": 96
   },
   {
    "_defaultOrder": 39,
    "_isFastLaunch": false,
    "category": "Memory Optimized",
    "gpuNum": 0,
    "hideHardwareSpecs": false,
    "memoryGiB": 16,
    "name": "ml.r5.large",
    "vcpuNum": 2
   },
   {
    "_defaultOrder": 40,
    "_isFastLaunch": false,
    "category": "Memory Optimized",
    "gpuNum": 0,
    "hideHardwareSpecs": false,
    "memoryGiB": 32,
    "name": "ml.r5.xlarge",
    "vcpuNum": 4
   },
   {
    "_defaultOrder": 41,
    "_isFastLaunch": false,
    "category": "Memory Optimized",
    "gpuNum": 0,
    "hideHardwareSpecs": false,
    "memoryGiB": 64,
    "name": "ml.r5.2xlarge",
    "vcpuNum": 8
   },
   {
    "_defaultOrder": 42,
    "_isFastLaunch": false,
    "category": "Memory Optimized",
    "gpuNum": 0,
    "hideHardwareSpecs": false,
    "memoryGiB": 128,
    "name": "ml.r5.4xlarge",
    "vcpuNum": 16
   },
   {
    "_defaultOrder": 43,
    "_isFastLaunch": false,
    "category": "Memory Optimized",
    "gpuNum": 0,
    "hideHardwareSpecs": false,
    "memoryGiB": 256,
    "name": "ml.r5.8xlarge",
    "vcpuNum": 32
   },
   {
    "_defaultOrder": 44,
    "_isFastLaunch": false,
    "category": "Memory Optimized",
    "gpuNum": 0,
    "hideHardwareSpecs": false,
    "memoryGiB": 384,
    "name": "ml.r5.12xlarge",
    "vcpuNum": 48
   },
   {
    "_defaultOrder": 45,
    "_isFastLaunch": false,
    "category": "Memory Optimized",
    "gpuNum": 0,
    "hideHardwareSpecs": false,
    "memoryGiB": 512,
    "name": "ml.r5.16xlarge",
    "vcpuNum": 64
   },
   {
    "_defaultOrder": 46,
    "_isFastLaunch": false,
    "category": "Memory Optimized",
    "gpuNum": 0,
    "hideHardwareSpecs": false,
    "memoryGiB": 768,
    "name": "ml.r5.24xlarge",
    "vcpuNum": 96
   },
   {
    "_defaultOrder": 47,
    "_isFastLaunch": false,
    "category": "Accelerated computing",
    "gpuNum": 1,
    "hideHardwareSpecs": false,
    "memoryGiB": 16,
    "name": "ml.g5.xlarge",
    "vcpuNum": 4
   },
   {
    "_defaultOrder": 48,
    "_isFastLaunch": false,
    "category": "Accelerated computing",
    "gpuNum": 1,
    "hideHardwareSpecs": false,
    "memoryGiB": 32,
    "name": "ml.g5.2xlarge",
    "vcpuNum": 8
   },
   {
    "_defaultOrder": 49,
    "_isFastLaunch": false,
    "category": "Accelerated computing",
    "gpuNum": 1,
    "hideHardwareSpecs": false,
    "memoryGiB": 64,
    "name": "ml.g5.4xlarge",
    "vcpuNum": 16
   },
   {
    "_defaultOrder": 50,
    "_isFastLaunch": false,
    "category": "Accelerated computing",
    "gpuNum": 1,
    "hideHardwareSpecs": false,
    "memoryGiB": 128,
    "name": "ml.g5.8xlarge",
    "vcpuNum": 32
   },
   {
    "_defaultOrder": 51,
    "_isFastLaunch": false,
    "category": "Accelerated computing",
    "gpuNum": 1,
    "hideHardwareSpecs": false,
    "memoryGiB": 256,
    "name": "ml.g5.16xlarge",
    "vcpuNum": 64
   },
   {
    "_defaultOrder": 52,
    "_isFastLaunch": false,
    "category": "Accelerated computing",
    "gpuNum": 4,
    "hideHardwareSpecs": false,
    "memoryGiB": 192,
    "name": "ml.g5.12xlarge",
    "vcpuNum": 48
   },
   {
    "_defaultOrder": 53,
    "_isFastLaunch": false,
    "category": "Accelerated computing",
    "gpuNum": 4,
    "hideHardwareSpecs": false,
    "memoryGiB": 384,
    "name": "ml.g5.24xlarge",
    "vcpuNum": 96
   },
   {
    "_defaultOrder": 54,
    "_isFastLaunch": false,
    "category": "Accelerated computing",
    "gpuNum": 8,
    "hideHardwareSpecs": false,
    "memoryGiB": 768,
    "name": "ml.g5.48xlarge",
    "vcpuNum": 192
   },
   {
    "_defaultOrder": 55,
    "_isFastLaunch": false,
    "category": "Accelerated computing",
    "gpuNum": 8,
    "hideHardwareSpecs": false,
    "memoryGiB": 1152,
    "name": "ml.p4d.24xlarge",
    "vcpuNum": 96
   },
   {
    "_defaultOrder": 56,
    "_isFastLaunch": false,
    "category": "Accelerated computing",
    "gpuNum": 8,
    "hideHardwareSpecs": false,
    "memoryGiB": 1152,
    "name": "ml.p4de.24xlarge",
    "vcpuNum": 96
   },
   {
    "_defaultOrder": 57,
    "_isFastLaunch": false,
    "category": "Accelerated computing",
    "gpuNum": 0,
    "hideHardwareSpecs": false,
    "memoryGiB": 32,
    "name": "ml.trn1.2xlarge",
    "vcpuNum": 8
   },
   {
    "_defaultOrder": 58,
    "_isFastLaunch": false,
    "category": "Accelerated computing",
    "gpuNum": 0,
    "hideHardwareSpecs": false,
    "memoryGiB": 512,
    "name": "ml.trn1.32xlarge",
    "vcpuNum": 128
   },
   {
    "_defaultOrder": 59,
    "_isFastLaunch": false,
    "category": "Accelerated computing",
    "gpuNum": 0,
    "hideHardwareSpecs": false,
    "memoryGiB": 512,
    "name": "ml.trn1n.32xlarge",
    "vcpuNum": 128
   }
  ],
  "instance_type": "ml.t3.xlarge",
  "kernelspec": {
   "display_name": "Python 3 (Data Science 3.0)",
   "language": "python",
   "name": "python3__SAGEMAKER_INTERNAL__arn:aws:sagemaker:us-east-1:081325390199:image/sagemaker-data-science-310-v1"
  },
  "language_info": {
   "codemirror_mode": {
    "name": "ipython",
    "version": 3
   },
   "file_extension": ".py",
   "mimetype": "text/x-python",
   "name": "python",
   "nbconvert_exporter": "python",
   "pygments_lexer": "ipython3",
   "version": "3.10.6"
  }
 },
 "nbformat": 4,
 "nbformat_minor": 5
}

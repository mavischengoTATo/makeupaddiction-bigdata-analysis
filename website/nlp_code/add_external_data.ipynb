{
 "cells": [
  {
   "cell_type": "markdown",
   "metadata": {},
   "source": [
    "---\n",
    "format:\n",
    "  html:\n",
    "    toc: true\n",
    "    embed-resources: true\n",
    "    code-fold: false\n",
    "execute:\n",
    "  echo: true\n",
    "---"
   ]
  },
  {
   "cell_type": "markdown",
   "id": "629524ec-1bfc-4109-ba92-5bc70653a920",
   "metadata": {
    "tags": []
   },
   "source": [
    "#### External resource:  www.Reddit.com, [Google Index](https://trends.google.com/trends/?geo=US&hl=en-US)\n",
    "\n",
    "## new varaible : posting_karma\n",
    "\"Karma is a reflection of how much a Redditor's contributions mean to the community. Making posts that communities find valuable is the way to gain Karma.\" --Reddit.com"
   ]
  },
  {
   "cell_type": "code",
   "execution_count": 19,
   "id": "9bbcefbd-09d7-49ea-8537-fffe57e03506",
   "metadata": {
    "tags": []
   },
   "outputs": [],
   "source": [
    "# Get posting karma of the creator from Python Reddit API Wrapper\n",
    "def udf_get_karma(author_str):\n",
    "    #Reddit API Credential\n",
    "    client_id = 'UViHJJ217cLodAY9AraMWg'\n",
    "    client_secret = 'dvpLKVfv7ItyQhHkYPPOK6o_ssI63w'\n",
    "    user_agent = 'android:com.example.myredditapp:v1.2.3 (by u/sf_suzyfeng)'\n",
    "    #Reddit Username\n",
    "    username = 'sf_suzyfeng'\n",
    "    \n",
    "    #Initialize a Reddit instance\n",
    "    reddit = praw.Reddit(client_id=client_id,client_secret=client_secret,user_agent=user_agent)\n",
    "    try:\n",
    "        redditor= reddit.redditor(author_str)\n",
    "        link_karma= redditor.link_karma\n",
    "    # if the account was deleted, set Karma to 0 \n",
    "    except:\n",
    "        link_karma= 0   \n",
    "    return link_karma"
   ]
  },
  {
   "cell_type": "markdown",
   "id": "379b8274-1f2c-46b1-a3c8-9258599a9799",
   "metadata": {},
   "source": [
    "**Distribution of posting_karma:**"
   ]
  },
  {
   "cell_type": "code",
   "execution_count": 54,
   "id": "554a875d-d83d-4131-ad3f-99e8231db70d",
   "metadata": {
    "tags": []
   },
   "outputs": [
    {
     "data": {
      "application/vnd.plotly.v1+json": {
       "config": {
        "plotlyServerURL": "https://plot.ly"
       },
       "data": [
        {
         "customdata": [
          [
           "ahbagelxo"
          ],
          [
           "cigarte"
          ],
          [
           "urfavdisappointmentf"
          ],
          [
           "sadperson123456"
          ],
          [
           "Veeeeezy"
          ],
          [
           "kyrazyme"
          ],
          [
           "glowymel"
          ],
          [
           "waterfromthevalley"
          ],
          [
           "Theotherdaytho"
          ],
          [
           "Dominorepulsa"
          ]
         ],
         "hovertemplate": "Created Year=2021<br>Posting Karma=%{x}<br>Creator Score=%{y}<br>size=%{marker.size}<br>author=%{customdata[0]}<extra></extra>",
         "legendgroup": "2021",
         "marker": {
          "color": "#636efa",
          "size": [
           0.5,
           0.5,
           0.5,
           0.5,
           0.5,
           0.5,
           0.5,
           0.5,
           0.5,
           0.5
          ],
          "sizemode": "area",
          "sizeref": 0.00125,
          "symbol": "circle"
         },
         "mode": "markers",
         "name": "2021",
         "orientation": "v",
         "showlegend": true,
         "type": "scatter",
         "x": [
          129078,
          177409,
          61350,
          92361,
          325270,
          57773,
          99984,
          145266,
          32888,
          55993
         ],
         "xaxis": "x",
         "y": [
          116159.577,
          89684.031,
          66008.876,
          63073.23,
          61284.914,
          57412.021,
          48020.679,
          43339.453,
          42378.94,
          39295.591
         ],
         "yaxis": "y"
        },
        {
         "customdata": [
          [
           "Ralucamakeup"
          ],
          [
           "The_Alchemyst"
          ],
          [
           "sadperson123456"
          ],
          [
           "Butt_Fucking_Smurfs"
          ],
          [
           "ahbagelxo"
          ],
          [
           "urfavdisappointmentf"
          ],
          [
           "cuziluvmakeup"
          ],
          [
           "Brittgirl23"
          ],
          [
           "Sick-Sad-World32"
          ],
          [
           "chinghiskhan"
          ]
         ],
         "hovertemplate": "Created Year=2022<br>Posting Karma=%{x}<br>Creator Score=%{y}<br>size=%{marker.size}<br>author=%{customdata[0]}<extra></extra>",
         "legendgroup": "2022",
         "marker": {
          "color": "#EF553B",
          "size": [
           0.5,
           0.5,
           0.5,
           0.5,
           0.5,
           0.5,
           0.5,
           0.5,
           0.5,
           0.5
          ],
          "sizemode": "area",
          "sizeref": 0.00125,
          "symbol": "circle"
         },
         "mode": "markers",
         "name": "2022",
         "orientation": "v",
         "showlegend": true,
         "type": "scatter",
         "x": [
          70930,
          108994,
          92361,
          119404,
          129078,
          61350,
          16514,
          21458,
          18848,
          15556
         ],
         "xaxis": "x",
         "y": [
          160218.88,
          93012.218,
          81184.232,
          64631,
          62250.654,
          56407.277,
          48221.124,
          46164.235,
          37102.222,
          34828.134
         ],
         "yaxis": "y"
        },
        {
         "customdata": [
          [
           "Faris-Hilton"
          ],
          [
           "The_Alchemyst"
          ],
          [
           "Evening_Attention_45"
          ],
          [
           "Lefty-boomer"
          ],
          [
           "zemele"
          ],
          [
           "BrandoLeeB"
          ],
          [
           "beesarebrown"
          ],
          [
           "sadperson123456"
          ],
          [
           "DisheveledBoy"
          ],
          [
           "No-Property-6892"
          ]
         ],
         "hovertemplate": "Created Year=2023<br>Posting Karma=%{x}<br>Creator Score=%{y}<br>size=%{marker.size}<br>author=%{customdata[0]}<extra></extra>",
         "legendgroup": "2023",
         "marker": {
          "color": "#00cc96",
          "size": [
           0.5,
           0.5,
           0.5,
           0.5,
           0.5,
           0.5,
           0.5,
           0.5,
           0.5,
           0.5
          ],
          "sizemode": "area",
          "sizeref": 0.00125,
          "symbol": "circle"
         },
         "mode": "markers",
         "name": "2023",
         "orientation": "v",
         "showlegend": true,
         "type": "scatter",
         "x": [
          309183,
          108994,
          14561,
          8177,
          40024,
          47883,
          10812,
          92361,
          10383,
          9163
         ],
         "xaxis": "x",
         "y": [
          55392.327,
          32111.733,
          24529.679,
          21076.01,
          19036.404,
          17639.649,
          14266.653,
          11884.794,
          11773.02,
          10943
         ],
         "yaxis": "y"
        }
       ],
       "layout": {
        "autosize": true,
        "legend": {
         "itemsizing": "constant",
         "title": {
          "text": "Created Year"
         },
         "tracegroupgap": 0
        },
        "template": {
         "data": {
          "bar": [
           {
            "error_x": {
             "color": "#2a3f5f"
            },
            "error_y": {
             "color": "#2a3f5f"
            },
            "marker": {
             "line": {
              "color": "#E5ECF6",
              "width": 0.5
             },
             "pattern": {
              "fillmode": "overlay",
              "size": 10,
              "solidity": 0.2
             }
            },
            "type": "bar"
           }
          ],
          "barpolar": [
           {
            "marker": {
             "line": {
              "color": "#E5ECF6",
              "width": 0.5
             },
             "pattern": {
              "fillmode": "overlay",
              "size": 10,
              "solidity": 0.2
             }
            },
            "type": "barpolar"
           }
          ],
          "carpet": [
           {
            "aaxis": {
             "endlinecolor": "#2a3f5f",
             "gridcolor": "white",
             "linecolor": "white",
             "minorgridcolor": "white",
             "startlinecolor": "#2a3f5f"
            },
            "baxis": {
             "endlinecolor": "#2a3f5f",
             "gridcolor": "white",
             "linecolor": "white",
             "minorgridcolor": "white",
             "startlinecolor": "#2a3f5f"
            },
            "type": "carpet"
           }
          ],
          "choropleth": [
           {
            "colorbar": {
             "outlinewidth": 0,
             "ticks": ""
            },
            "type": "choropleth"
           }
          ],
          "contour": [
           {
            "colorbar": {
             "outlinewidth": 0,
             "ticks": ""
            },
            "colorscale": [
             [
              0,
              "#0d0887"
             ],
             [
              0.1111111111111111,
              "#46039f"
             ],
             [
              0.2222222222222222,
              "#7201a8"
             ],
             [
              0.3333333333333333,
              "#9c179e"
             ],
             [
              0.4444444444444444,
              "#bd3786"
             ],
             [
              0.5555555555555556,
              "#d8576b"
             ],
             [
              0.6666666666666666,
              "#ed7953"
             ],
             [
              0.7777777777777778,
              "#fb9f3a"
             ],
             [
              0.8888888888888888,
              "#fdca26"
             ],
             [
              1,
              "#f0f921"
             ]
            ],
            "type": "contour"
           }
          ],
          "contourcarpet": [
           {
            "colorbar": {
             "outlinewidth": 0,
             "ticks": ""
            },
            "type": "contourcarpet"
           }
          ],
          "heatmap": [
           {
            "colorbar": {
             "outlinewidth": 0,
             "ticks": ""
            },
            "colorscale": [
             [
              0,
              "#0d0887"
             ],
             [
              0.1111111111111111,
              "#46039f"
             ],
             [
              0.2222222222222222,
              "#7201a8"
             ],
             [
              0.3333333333333333,
              "#9c179e"
             ],
             [
              0.4444444444444444,
              "#bd3786"
             ],
             [
              0.5555555555555556,
              "#d8576b"
             ],
             [
              0.6666666666666666,
              "#ed7953"
             ],
             [
              0.7777777777777778,
              "#fb9f3a"
             ],
             [
              0.8888888888888888,
              "#fdca26"
             ],
             [
              1,
              "#f0f921"
             ]
            ],
            "type": "heatmap"
           }
          ],
          "heatmapgl": [
           {
            "colorbar": {
             "outlinewidth": 0,
             "ticks": ""
            },
            "colorscale": [
             [
              0,
              "#0d0887"
             ],
             [
              0.1111111111111111,
              "#46039f"
             ],
             [
              0.2222222222222222,
              "#7201a8"
             ],
             [
              0.3333333333333333,
              "#9c179e"
             ],
             [
              0.4444444444444444,
              "#bd3786"
             ],
             [
              0.5555555555555556,
              "#d8576b"
             ],
             [
              0.6666666666666666,
              "#ed7953"
             ],
             [
              0.7777777777777778,
              "#fb9f3a"
             ],
             [
              0.8888888888888888,
              "#fdca26"
             ],
             [
              1,
              "#f0f921"
             ]
            ],
            "type": "heatmapgl"
           }
          ],
          "histogram": [
           {
            "marker": {
             "pattern": {
              "fillmode": "overlay",
              "size": 10,
              "solidity": 0.2
             }
            },
            "type": "histogram"
           }
          ],
          "histogram2d": [
           {
            "colorbar": {
             "outlinewidth": 0,
             "ticks": ""
            },
            "colorscale": [
             [
              0,
              "#0d0887"
             ],
             [
              0.1111111111111111,
              "#46039f"
             ],
             [
              0.2222222222222222,
              "#7201a8"
             ],
             [
              0.3333333333333333,
              "#9c179e"
             ],
             [
              0.4444444444444444,
              "#bd3786"
             ],
             [
              0.5555555555555556,
              "#d8576b"
             ],
             [
              0.6666666666666666,
              "#ed7953"
             ],
             [
              0.7777777777777778,
              "#fb9f3a"
             ],
             [
              0.8888888888888888,
              "#fdca26"
             ],
             [
              1,
              "#f0f921"
             ]
            ],
            "type": "histogram2d"
           }
          ],
          "histogram2dcontour": [
           {
            "colorbar": {
             "outlinewidth": 0,
             "ticks": ""
            },
            "colorscale": [
             [
              0,
              "#0d0887"
             ],
             [
              0.1111111111111111,
              "#46039f"
             ],
             [
              0.2222222222222222,
              "#7201a8"
             ],
             [
              0.3333333333333333,
              "#9c179e"
             ],
             [
              0.4444444444444444,
              "#bd3786"
             ],
             [
              0.5555555555555556,
              "#d8576b"
             ],
             [
              0.6666666666666666,
              "#ed7953"
             ],
             [
              0.7777777777777778,
              "#fb9f3a"
             ],
             [
              0.8888888888888888,
              "#fdca26"
             ],
             [
              1,
              "#f0f921"
             ]
            ],
            "type": "histogram2dcontour"
           }
          ],
          "mesh3d": [
           {
            "colorbar": {
             "outlinewidth": 0,
             "ticks": ""
            },
            "type": "mesh3d"
           }
          ],
          "parcoords": [
           {
            "line": {
             "colorbar": {
              "outlinewidth": 0,
              "ticks": ""
             }
            },
            "type": "parcoords"
           }
          ],
          "pie": [
           {
            "automargin": true,
            "type": "pie"
           }
          ],
          "scatter": [
           {
            "fillpattern": {
             "fillmode": "overlay",
             "size": 10,
             "solidity": 0.2
            },
            "type": "scatter"
           }
          ],
          "scatter3d": [
           {
            "line": {
             "colorbar": {
              "outlinewidth": 0,
              "ticks": ""
             }
            },
            "marker": {
             "colorbar": {
              "outlinewidth": 0,
              "ticks": ""
             }
            },
            "type": "scatter3d"
           }
          ],
          "scattercarpet": [
           {
            "marker": {
             "colorbar": {
              "outlinewidth": 0,
              "ticks": ""
             }
            },
            "type": "scattercarpet"
           }
          ],
          "scattergeo": [
           {
            "marker": {
             "colorbar": {
              "outlinewidth": 0,
              "ticks": ""
             }
            },
            "type": "scattergeo"
           }
          ],
          "scattergl": [
           {
            "marker": {
             "colorbar": {
              "outlinewidth": 0,
              "ticks": ""
             }
            },
            "type": "scattergl"
           }
          ],
          "scattermapbox": [
           {
            "marker": {
             "colorbar": {
              "outlinewidth": 0,
              "ticks": ""
             }
            },
            "type": "scattermapbox"
           }
          ],
          "scatterpolar": [
           {
            "marker": {
             "colorbar": {
              "outlinewidth": 0,
              "ticks": ""
             }
            },
            "type": "scatterpolar"
           }
          ],
          "scatterpolargl": [
           {
            "marker": {
             "colorbar": {
              "outlinewidth": 0,
              "ticks": ""
             }
            },
            "type": "scatterpolargl"
           }
          ],
          "scatterternary": [
           {
            "marker": {
             "colorbar": {
              "outlinewidth": 0,
              "ticks": ""
             }
            },
            "type": "scatterternary"
           }
          ],
          "surface": [
           {
            "colorbar": {
             "outlinewidth": 0,
             "ticks": ""
            },
            "colorscale": [
             [
              0,
              "#0d0887"
             ],
             [
              0.1111111111111111,
              "#46039f"
             ],
             [
              0.2222222222222222,
              "#7201a8"
             ],
             [
              0.3333333333333333,
              "#9c179e"
             ],
             [
              0.4444444444444444,
              "#bd3786"
             ],
             [
              0.5555555555555556,
              "#d8576b"
             ],
             [
              0.6666666666666666,
              "#ed7953"
             ],
             [
              0.7777777777777778,
              "#fb9f3a"
             ],
             [
              0.8888888888888888,
              "#fdca26"
             ],
             [
              1,
              "#f0f921"
             ]
            ],
            "type": "surface"
           }
          ],
          "table": [
           {
            "cells": {
             "fill": {
              "color": "#EBF0F8"
             },
             "line": {
              "color": "white"
             }
            },
            "header": {
             "fill": {
              "color": "#C8D4E3"
             },
             "line": {
              "color": "white"
             }
            },
            "type": "table"
           }
          ]
         },
         "layout": {
          "annotationdefaults": {
           "arrowcolor": "#2a3f5f",
           "arrowhead": 0,
           "arrowwidth": 1
          },
          "autotypenumbers": "strict",
          "coloraxis": {
           "colorbar": {
            "outlinewidth": 0,
            "ticks": ""
           }
          },
          "colorscale": {
           "diverging": [
            [
             0,
             "#8e0152"
            ],
            [
             0.1,
             "#c51b7d"
            ],
            [
             0.2,
             "#de77ae"
            ],
            [
             0.3,
             "#f1b6da"
            ],
            [
             0.4,
             "#fde0ef"
            ],
            [
             0.5,
             "#f7f7f7"
            ],
            [
             0.6,
             "#e6f5d0"
            ],
            [
             0.7,
             "#b8e186"
            ],
            [
             0.8,
             "#7fbc41"
            ],
            [
             0.9,
             "#4d9221"
            ],
            [
             1,
             "#276419"
            ]
           ],
           "sequential": [
            [
             0,
             "#0d0887"
            ],
            [
             0.1111111111111111,
             "#46039f"
            ],
            [
             0.2222222222222222,
             "#7201a8"
            ],
            [
             0.3333333333333333,
             "#9c179e"
            ],
            [
             0.4444444444444444,
             "#bd3786"
            ],
            [
             0.5555555555555556,
             "#d8576b"
            ],
            [
             0.6666666666666666,
             "#ed7953"
            ],
            [
             0.7777777777777778,
             "#fb9f3a"
            ],
            [
             0.8888888888888888,
             "#fdca26"
            ],
            [
             1,
             "#f0f921"
            ]
           ],
           "sequentialminus": [
            [
             0,
             "#0d0887"
            ],
            [
             0.1111111111111111,
             "#46039f"
            ],
            [
             0.2222222222222222,
             "#7201a8"
            ],
            [
             0.3333333333333333,
             "#9c179e"
            ],
            [
             0.4444444444444444,
             "#bd3786"
            ],
            [
             0.5555555555555556,
             "#d8576b"
            ],
            [
             0.6666666666666666,
             "#ed7953"
            ],
            [
             0.7777777777777778,
             "#fb9f3a"
            ],
            [
             0.8888888888888888,
             "#fdca26"
            ],
            [
             1,
             "#f0f921"
            ]
           ]
          },
          "colorway": [
           "#636efa",
           "#EF553B",
           "#00cc96",
           "#ab63fa",
           "#FFA15A",
           "#19d3f3",
           "#FF6692",
           "#B6E880",
           "#FF97FF",
           "#FECB52"
          ],
          "font": {
           "color": "#2a3f5f"
          },
          "geo": {
           "bgcolor": "white",
           "lakecolor": "white",
           "landcolor": "#E5ECF6",
           "showlakes": true,
           "showland": true,
           "subunitcolor": "white"
          },
          "hoverlabel": {
           "align": "left"
          },
          "hovermode": "closest",
          "mapbox": {
           "style": "light"
          },
          "paper_bgcolor": "white",
          "plot_bgcolor": "#E5ECF6",
          "polar": {
           "angularaxis": {
            "gridcolor": "white",
            "linecolor": "white",
            "ticks": ""
           },
           "bgcolor": "#E5ECF6",
           "radialaxis": {
            "gridcolor": "white",
            "linecolor": "white",
            "ticks": ""
           }
          },
          "scene": {
           "xaxis": {
            "backgroundcolor": "#E5ECF6",
            "gridcolor": "white",
            "gridwidth": 2,
            "linecolor": "white",
            "showbackground": true,
            "ticks": "",
            "zerolinecolor": "white"
           },
           "yaxis": {
            "backgroundcolor": "#E5ECF6",
            "gridcolor": "white",
            "gridwidth": 2,
            "linecolor": "white",
            "showbackground": true,
            "ticks": "",
            "zerolinecolor": "white"
           },
           "zaxis": {
            "backgroundcolor": "#E5ECF6",
            "gridcolor": "white",
            "gridwidth": 2,
            "linecolor": "white",
            "showbackground": true,
            "ticks": "",
            "zerolinecolor": "white"
           }
          },
          "shapedefaults": {
           "line": {
            "color": "#2a3f5f"
           }
          },
          "ternary": {
           "aaxis": {
            "gridcolor": "white",
            "linecolor": "white",
            "ticks": ""
           },
           "baxis": {
            "gridcolor": "white",
            "linecolor": "white",
            "ticks": ""
           },
           "bgcolor": "#E5ECF6",
           "caxis": {
            "gridcolor": "white",
            "linecolor": "white",
            "ticks": ""
           }
          },
          "title": {
           "x": 0.05
          },
          "xaxis": {
           "automargin": true,
           "gridcolor": "white",
           "linecolor": "white",
           "ticks": "",
           "title": {
            "standoff": 15
           },
           "zerolinecolor": "white",
           "zerolinewidth": 2
          },
          "yaxis": {
           "automargin": true,
           "gridcolor": "white",
           "linecolor": "white",
           "ticks": "",
           "title": {
            "standoff": 15
           },
           "zerolinecolor": "white",
           "zerolinewidth": 2
          }
         }
        },
        "title": {
         "text": "Relationship between Posting Karma and Creator Score"
        },
        "xaxis": {
         "anchor": "y",
         "autorange": true,
         "domain": [
          0,
          1
         ],
         "range": [
          -18583.999466684785,
          352030.99946668476
         ],
         "title": {
          "text": "Posting Karma"
         },
         "type": "linear"
        },
        "yaxis": {
         "anchor": "x",
         "autorange": true,
         "domain": [
          0,
          1
         ],
         "range": [
          -17464.890013998498,
          188626.7700139985
         ],
         "title": {
          "text": "Creator Score"
         },
         "type": "linear"
        }
       }
      },
      "image/png": "[encoded data removed]",
      "text/html": [
       "<div>                            <div id=\"4200c3d8-7153-41fa-a0a6-b4acc5b8b7b1\" class=\"plotly-graph-div\" style=\"height:525px; width:100%;\"></div>            <script type=\"text/javascript\">                require([\"plotly\"], function(Plotly) {                    window.PLOTLYENV=window.PLOTLYENV || {};                                    if (document.getElementById(\"4200c3d8-7153-41fa-a0a6-b4acc5b8b7b1\")) {                    Plotly.newPlot(                        \"4200c3d8-7153-41fa-a0a6-b4acc5b8b7b1\",                        [{\"customdata\":[[\"ahbagelxo\"],[\"cigarte\"],[\"urfavdisappointmentf\"],[\"sadperson123456\"],[\"Veeeeezy\"],[\"kyrazyme\"],[\"glowymel\"],[\"waterfromthevalley\"],[\"Theotherdaytho\"],[\"Dominorepulsa\"]],\"hovertemplate\":\"Created Year=2021<br>Posting Karma=%{x}<br>Creator Score=%{y}<br>size=%{marker.size}<br>author=%{customdata[0]}<extra></extra>\",\"legendgroup\":\"2021\",\"marker\":{\"color\":\"#636efa\",\"size\":[0.5,0.5,0.5,0.5,0.5,0.5,0.5,0.5,0.5,0.5],\"sizemode\":\"area\",\"sizeref\":0.00125,\"symbol\":\"circle\"},\"mode\":\"markers\",\"name\":\"2021\",\"orientation\":\"v\",\"showlegend\":true,\"x\":[129078,177409,61350,92361,325270,57773,99984,145266,32888,55993],\"xaxis\":\"x\",\"y\":[116159.577,89684.031,66008.876,63073.23,61284.914,57412.021,48020.679,43339.453,42378.94,39295.591],\"yaxis\":\"y\",\"type\":\"scatter\"},{\"customdata\":[[\"Ralucamakeup\"],[\"The_Alchemyst\"],[\"sadperson123456\"],[\"Butt_Fucking_Smurfs\"],[\"ahbagelxo\"],[\"urfavdisappointmentf\"],[\"cuziluvmakeup\"],[\"Brittgirl23\"],[\"Sick-Sad-World32\"],[\"chinghiskhan\"]],\"hovertemplate\":\"Created Year=2022<br>Posting Karma=%{x}<br>Creator Score=%{y}<br>size=%{marker.size}<br>author=%{customdata[0]}<extra></extra>\",\"legendgroup\":\"2022\",\"marker\":{\"color\":\"#EF553B\",\"size\":[0.5,0.5,0.5,0.5,0.5,0.5,0.5,0.5,0.5,0.5],\"sizemode\":\"area\",\"sizeref\":0.00125,\"symbol\":\"circle\"},\"mode\":\"markers\",\"name\":\"2022\",\"orientation\":\"v\",\"showlegend\":true,\"x\":[70930,108994,92361,119404,129078,61350,16514,21458,18848,15556],\"xaxis\":\"x\",\"y\":[160218.88,93012.218,81184.232,64631.0,62250.654,56407.277,48221.124,46164.235,37102.222,34828.134],\"yaxis\":\"y\",\"type\":\"scatter\"},{\"customdata\":[[\"Faris-Hilton\"],[\"The_Alchemyst\"],[\"Evening_Attention_45\"],[\"Lefty-boomer\"],[\"zemele\"],[\"BrandoLeeB\"],[\"beesarebrown\"],[\"sadperson123456\"],[\"DisheveledBoy\"],[\"No-Property-6892\"]],\"hovertemplate\":\"Created Year=2023<br>Posting Karma=%{x}<br>Creator Score=%{y}<br>size=%{marker.size}<br>author=%{customdata[0]}<extra></extra>\",\"legendgroup\":\"2023\",\"marker\":{\"color\":\"#00cc96\",\"size\":[0.5,0.5,0.5,0.5,0.5,0.5,0.5,0.5,0.5,0.5],\"sizemode\":\"area\",\"sizeref\":0.00125,\"symbol\":\"circle\"},\"mode\":\"markers\",\"name\":\"2023\",\"orientation\":\"v\",\"showlegend\":true,\"x\":[309183,108994,14561,8177,40024,47883,10812,92361,10383,9163],\"xaxis\":\"x\",\"y\":[55392.327,32111.733,24529.679,21076.01,19036.404,17639.649,14266.653,11884.794,11773.02,10943.0],\"yaxis\":\"y\",\"type\":\"scatter\"}],                        {\"template\":{\"data\":{\"histogram2dcontour\":[{\"type\":\"histogram2dcontour\",\"colorbar\":{\"outlinewidth\":0,\"ticks\":\"\"},\"colorscale\":[[0.0,\"#0d0887\"],[0.1111111111111111,\"#46039f\"],[0.2222222222222222,\"#7201a8\"],[0.3333333333333333,\"#9c179e\"],[0.4444444444444444,\"#bd3786\"],[0.5555555555555556,\"#d8576b\"],[0.6666666666666666,\"#ed7953\"],[0.7777777777777778,\"#fb9f3a\"],[0.8888888888888888,\"#fdca26\"],[1.0,\"#f0f921\"]]}],\"choropleth\":[{\"type\":\"choropleth\",\"colorbar\":{\"outlinewidth\":0,\"ticks\":\"\"}}],\"histogram2d\":[{\"type\":\"histogram2d\",\"colorbar\":{\"outlinewidth\":0,\"ticks\":\"\"},\"colorscale\":[[0.0,\"#0d0887\"],[0.1111111111111111,\"#46039f\"],[0.2222222222222222,\"#7201a8\"],[0.3333333333333333,\"#9c179e\"],[0.4444444444444444,\"#bd3786\"],[0.5555555555555556,\"#d8576b\"],[0.6666666666666666,\"#ed7953\"],[0.7777777777777778,\"#fb9f3a\"],[0.8888888888888888,\"#fdca26\"],[1.0,\"#f0f921\"]]}],\"heatmap\":[{\"type\":\"heatmap\",\"colorbar\":{\"outlinewidth\":0,\"ticks\":\"\"},\"colorscale\":[[0.0,\"#0d0887\"],[0.1111111111111111,\"#46039f\"],[0.2222222222222222,\"#7201a8\"],[0.3333333333333333,\"#9c179e\"],[0.4444444444444444,\"#bd3786\"],[0.5555555555555556,\"#d8576b\"],[0.6666666666666666,\"#ed7953\"],[0.7777777777777778,\"#fb9f3a\"],[0.8888888888888888,\"#fdca26\"],[1.0,\"#f0f921\"]]}],\"heatmapgl\":[{\"type\":\"heatmapgl\",\"colorbar\":{\"outlinewidth\":0,\"ticks\":\"\"},\"colorscale\":[[0.0,\"#0d0887\"],[0.1111111111111111,\"#46039f\"],[0.2222222222222222,\"#7201a8\"],[0.3333333333333333,\"#9c179e\"],[0.4444444444444444,\"#bd3786\"],[0.5555555555555556,\"#d8576b\"],[0.6666666666666666,\"#ed7953\"],[0.7777777777777778,\"#fb9f3a\"],[0.8888888888888888,\"#fdca26\"],[1.0,\"#f0f921\"]]}],\"contourcarpet\":[{\"type\":\"contourcarpet\",\"colorbar\":{\"outlinewidth\":0,\"ticks\":\"\"}}],\"contour\":[{\"type\":\"contour\",\"colorbar\":{\"outlinewidth\":0,\"ticks\":\"\"},\"colorscale\":[[0.0,\"#0d0887\"],[0.1111111111111111,\"#46039f\"],[0.2222222222222222,\"#7201a8\"],[0.3333333333333333,\"#9c179e\"],[0.4444444444444444,\"#bd3786\"],[0.5555555555555556,\"#d8576b\"],[0.6666666666666666,\"#ed7953\"],[0.7777777777777778,\"#fb9f3a\"],[0.8888888888888888,\"#fdca26\"],[1.0,\"#f0f921\"]]}],\"surface\":[{\"type\":\"surface\",\"colorbar\":{\"outlinewidth\":0,\"ticks\":\"\"},\"colorscale\":[[0.0,\"#0d0887\"],[0.1111111111111111,\"#46039f\"],[0.2222222222222222,\"#7201a8\"],[0.3333333333333333,\"#9c179e\"],[0.4444444444444444,\"#bd3786\"],[0.5555555555555556,\"#d8576b\"],[0.6666666666666666,\"#ed7953\"],[0.7777777777777778,\"#fb9f3a\"],[0.8888888888888888,\"#fdca26\"],[1.0,\"#f0f921\"]]}],\"mesh3d\":[{\"type\":\"mesh3d\",\"colorbar\":{\"outlinewidth\":0,\"ticks\":\"\"}}],\"scatter\":[{\"fillpattern\":{\"fillmode\":\"overlay\",\"size\":10,\"solidity\":0.2},\"type\":\"scatter\"}],\"parcoords\":[{\"type\":\"parcoords\",\"line\":{\"colorbar\":{\"outlinewidth\":0,\"ticks\":\"\"}}}],\"scatterpolargl\":[{\"type\":\"scatterpolargl\",\"marker\":{\"colorbar\":{\"outlinewidth\":0,\"ticks\":\"\"}}}],\"bar\":[{\"error_x\":{\"color\":\"#2a3f5f\"},\"error_y\":{\"color\":\"#2a3f5f\"},\"marker\":{\"line\":{\"color\":\"#E5ECF6\",\"width\":0.5},\"pattern\":{\"fillmode\":\"overlay\",\"size\":10,\"solidity\":0.2}},\"type\":\"bar\"}],\"scattergeo\":[{\"type\":\"scattergeo\",\"marker\":{\"colorbar\":{\"outlinewidth\":0,\"ticks\":\"\"}}}],\"scatterpolar\":[{\"type\":\"scatterpolar\",\"marker\":{\"colorbar\":{\"outlinewidth\":0,\"ticks\":\"\"}}}],\"histogram\":[{\"marker\":{\"pattern\":{\"fillmode\":\"overlay\",\"size\":10,\"solidity\":0.2}},\"type\":\"histogram\"}],\"scattergl\":[{\"type\":\"scattergl\",\"marker\":{\"colorbar\":{\"outlinewidth\":0,\"ticks\":\"\"}}}],\"scatter3d\":[{\"type\":\"scatter3d\",\"line\":{\"colorbar\":{\"outlinewidth\":0,\"ticks\":\"\"}},\"marker\":{\"colorbar\":{\"outlinewidth\":0,\"ticks\":\"\"}}}],\"scattermapbox\":[{\"type\":\"scattermapbox\",\"marker\":{\"colorbar\":{\"outlinewidth\":0,\"ticks\":\"\"}}}],\"scatterternary\":[{\"type\":\"scatterternary\",\"marker\":{\"colorbar\":{\"outlinewidth\":0,\"ticks\":\"\"}}}],\"scattercarpet\":[{\"type\":\"scattercarpet\",\"marker\":{\"colorbar\":{\"outlinewidth\":0,\"ticks\":\"\"}}}],\"carpet\":[{\"aaxis\":{\"endlinecolor\":\"#2a3f5f\",\"gridcolor\":\"white\",\"linecolor\":\"white\",\"minorgridcolor\":\"white\",\"startlinecolor\":\"#2a3f5f\"},\"baxis\":{\"endlinecolor\":\"#2a3f5f\",\"gridcolor\":\"white\",\"linecolor\":\"white\",\"minorgridcolor\":\"white\",\"startlinecolor\":\"#2a3f5f\"},\"type\":\"carpet\"}],\"table\":[{\"cells\":{\"fill\":{\"color\":\"#EBF0F8\"},\"line\":{\"color\":\"white\"}},\"header\":{\"fill\":{\"color\":\"#C8D4E3\"},\"line\":{\"color\":\"white\"}},\"type\":\"table\"}],\"barpolar\":[{\"marker\":{\"line\":{\"color\":\"#E5ECF6\",\"width\":0.5},\"pattern\":{\"fillmode\":\"overlay\",\"size\":10,\"solidity\":0.2}},\"type\":\"barpolar\"}],\"pie\":[{\"automargin\":true,\"type\":\"pie\"}]},\"layout\":{\"autotypenumbers\":\"strict\",\"colorway\":[\"#636efa\",\"#EF553B\",\"#00cc96\",\"#ab63fa\",\"#FFA15A\",\"#19d3f3\",\"#FF6692\",\"#B6E880\",\"#FF97FF\",\"#FECB52\"],\"font\":{\"color\":\"#2a3f5f\"},\"hovermode\":\"closest\",\"hoverlabel\":{\"align\":\"left\"},\"paper_bgcolor\":\"white\",\"plot_bgcolor\":\"#E5ECF6\",\"polar\":{\"bgcolor\":\"#E5ECF6\",\"angularaxis\":{\"gridcolor\":\"white\",\"linecolor\":\"white\",\"ticks\":\"\"},\"radialaxis\":{\"gridcolor\":\"white\",\"linecolor\":\"white\",\"ticks\":\"\"}},\"ternary\":{\"bgcolor\":\"#E5ECF6\",\"aaxis\":{\"gridcolor\":\"white\",\"linecolor\":\"white\",\"ticks\":\"\"},\"baxis\":{\"gridcolor\":\"white\",\"linecolor\":\"white\",\"ticks\":\"\"},\"caxis\":{\"gridcolor\":\"white\",\"linecolor\":\"white\",\"ticks\":\"\"}},\"coloraxis\":{\"colorbar\":{\"outlinewidth\":0,\"ticks\":\"\"}},\"colorscale\":{\"sequential\":[[0.0,\"#0d0887\"],[0.1111111111111111,\"#46039f\"],[0.2222222222222222,\"#7201a8\"],[0.3333333333333333,\"#9c179e\"],[0.4444444444444444,\"#bd3786\"],[0.5555555555555556,\"#d8576b\"],[0.6666666666666666,\"#ed7953\"],[0.7777777777777778,\"#fb9f3a\"],[0.8888888888888888,\"#fdca26\"],[1.0,\"#f0f921\"]],\"sequentialminus\":[[0.0,\"#0d0887\"],[0.1111111111111111,\"#46039f\"],[0.2222222222222222,\"#7201a8\"],[0.3333333333333333,\"#9c179e\"],[0.4444444444444444,\"#bd3786\"],[0.5555555555555556,\"#d8576b\"],[0.6666666666666666,\"#ed7953\"],[0.7777777777777778,\"#fb9f3a\"],[0.8888888888888888,\"#fdca26\"],[1.0,\"#f0f921\"]],\"diverging\":[[0,\"#8e0152\"],[0.1,\"#c51b7d\"],[0.2,\"#de77ae\"],[0.3,\"#f1b6da\"],[0.4,\"#fde0ef\"],[0.5,\"#f7f7f7\"],[0.6,\"#e6f5d0\"],[0.7,\"#b8e186\"],[0.8,\"#7fbc41\"],[0.9,\"#4d9221\"],[1,\"#276419\"]]},\"xaxis\":{\"gridcolor\":\"white\",\"linecolor\":\"white\",\"ticks\":\"\",\"title\":{\"standoff\":15},\"zerolinecolor\":\"white\",\"automargin\":true,\"zerolinewidth\":2},\"yaxis\":{\"gridcolor\":\"white\",\"linecolor\":\"white\",\"ticks\":\"\",\"title\":{\"standoff\":15},\"zerolinecolor\":\"white\",\"automargin\":true,\"zerolinewidth\":2},\"scene\":{\"xaxis\":{\"backgroundcolor\":\"#E5ECF6\",\"gridcolor\":\"white\",\"linecolor\":\"white\",\"showbackground\":true,\"ticks\":\"\",\"zerolinecolor\":\"white\",\"gridwidth\":2},\"yaxis\":{\"backgroundcolor\":\"#E5ECF6\",\"gridcolor\":\"white\",\"linecolor\":\"white\",\"showbackground\":true,\"ticks\":\"\",\"zerolinecolor\":\"white\",\"gridwidth\":2},\"zaxis\":{\"backgroundcolor\":\"#E5ECF6\",\"gridcolor\":\"white\",\"linecolor\":\"white\",\"showbackground\":true,\"ticks\":\"\",\"zerolinecolor\":\"white\",\"gridwidth\":2}},\"shapedefaults\":{\"line\":{\"color\":\"#2a3f5f\"}},\"annotationdefaults\":{\"arrowcolor\":\"#2a3f5f\",\"arrowhead\":0,\"arrowwidth\":1},\"geo\":{\"bgcolor\":\"white\",\"landcolor\":\"#E5ECF6\",\"subunitcolor\":\"white\",\"showland\":true,\"showlakes\":true,\"lakecolor\":\"white\"},\"title\":{\"x\":0.05},\"mapbox\":{\"style\":\"light\"}}},\"xaxis\":{\"anchor\":\"y\",\"domain\":[0.0,1.0],\"title\":{\"text\":\"Posting Karma\"}},\"yaxis\":{\"anchor\":\"x\",\"domain\":[0.0,1.0],\"title\":{\"text\":\"Creator Score\"}},\"legend\":{\"title\":{\"text\":\"Created Year\"},\"tracegroupgap\":0,\"itemsizing\":\"constant\"},\"title\":{\"text\":\"Relationship between Posting Karma and Creator Score\"}},                        {\"responsive\": true}                    ).then(function(){\n",
       "                            \n",
       "var gd = document.getElementById('4200c3d8-7153-41fa-a0a6-b4acc5b8b7b1');\n",
       "var x = new MutationObserver(function (mutations, observer) {{\n",
       "        var display = window.getComputedStyle(gd).display;\n",
       "        if (!display || display === 'none') {{\n",
       "            console.log([gd, 'removed!']);\n",
       "            Plotly.purge(gd);\n",
       "            observer.disconnect();\n",
       "        }}\n",
       "}});\n",
       "\n",
       "// Listen for the removal of the full notebook cells\n",
       "var notebookContainer = gd.closest('#notebook-container');\n",
       "if (notebookContainer) {{\n",
       "    x.observe(notebookContainer, {childList: true});\n",
       "}}\n",
       "\n",
       "// Listen for the clearing of the current output cell\n",
       "var outputEl = gd.closest('.output');\n",
       "if (outputEl) {{\n",
       "    x.observe(outputEl, {childList: true});\n",
       "}}\n",
       "\n",
       "                        })                };                });            </script>        </div>"
      ]
     },
     "metadata": {},
     "output_type": "display_data"
    },
    {
     "name": "stdout",
     "output_type": "stream",
     "text": [
      "Pearson Correlation Coefficient: 0.362\n",
      "P-value: 0.049\n"
     ]
    }
   ],
   "source": [
    "import pandas as pd\n",
    "import plotly.express as px\n",
    "\n",
    "df= pd.read_csv('../../data/csv/top10creator.csv')\n",
    "\n",
    "\n",
    "# Convert 'created_year' to categorical\n",
    "df['created_year'] = df['created_year'].astype('category')\n",
    "\n",
    "# Plotting using Plotly Express\n",
    "fig = px.scatter(df, x='posting_karma', y='creator_score', color='created_year', title='Relationship between Posting Karma and Creator Score',\n",
    "                 labels={'posting_karma': 'Posting Karma', 'creator_score': 'Creator Score', 'created_year': 'Created Year'},\n",
    "                 hover_data=['author'],\n",
    "                 size=[0.5] * len(df))\n",
    "\n",
    "\n",
    "fig.write_html('../../data/plots/karma_relation_plot.html')\n",
    "fig.show()\n",
    "\n",
    "# Calculate Pearson correlation coefficient and p-value\n",
    "correlation_coefficient, p_value = pearsonr(df['posting_karma'], df['creator_score'])\n",
    "print(f\"Pearson Correlation Coefficient: {round(correlation_coefficient,3)}\")\n",
    "print(f\"P-value: {round(p_value,3)}\")"
   ]
  },
  {
   "cell_type": "markdown",
   "id": "1c74d27c-ec60-4e6d-96bc-fd1a766050fa",
   "metadata": {},
   "source": [
    "The Pearson correlation coefficient between \"posting karma\" and \"creator score\" is approximately 0.362, indicating a moderately positive correlation. The p-value of 0.0494 is close to the common significance threshold of 0.05. This suggests that there is some evidence to reject the null hypothesis that the correlation is zero (no correlation). \n",
    "\n",
    "Quality of Contributions: The positive correlation could imply that users who receive positive engagement externally out of our dataset, possibly through quality contributions or popular content, are likely to be recognized as influential contributors by our creator score calculating scheme."
   ]
  },
  {
   "cell_type": "markdown",
   "id": "6a928eca-41d0-4382-bcbe-1003ba34271a",
   "metadata": {
    "tags": []
   },
   "source": [
    "### Why we choose to select Google Index as Reference Data?\n",
    "\n",
    "Accessing external data from Google's index of top brands and products in the Makeup and Skincare industry can offer invaluable insights for businesses. Firstly, it serves as a powerful tool for market research by unveiling current consumer trends and preferences. Identifying the most popular brands and products enables companies to stay competitive and understand the dynamics of the market. Additionally, this data facilitates competitor analysis, allowing businesses to benchmark themselves against industry leaders and identify opportunities for improvement or innovation. The information gleaned can inform product development strategies by revealing gaps in the market and areas where consumer needs are not adequately addressed.\n",
    "\n",
    "Moreover, understanding the top brands and products aids in the formulation of effective marketing strategies. It provides insights into target audiences and helps tailor promotional efforts to align with consumer interests. For businesses focusing on online presence, analyzing this data contributes to SEO optimization by identifying relevant keywords that resonate with consumer searches. This, in turn, enhances the visibility of the business in online search results.\n",
    "\n",
    "Furthermore, the data can guide content creation efforts, ensuring that businesses produce timely and relevant material that aligns with consumer interests. It also opens up opportunities for partnerships and collaborations with successful brands, leveraging their popularity to reach a broader audience. Lastly, monitoring the popularity of brands and products through Google's index provides a means of risk mitigation by keeping businesses informed about market stability. Sudden shifts in consumer preferences or emerging trends can be detected early, allowing for proactive adjustments to business strategies. In essence, accessing external data from Google's index is a multifaceted approach that empowers businesses across various aspects of the Makeup and Skincare industry, facilitating informed decision-making and sustained relevance in a dynamic market.\n",
    "\n",
    "### Why we Only get Top 5 for both skincare and makeup brands and products?\n",
    "\n",
    "Due to the fluctuating nature of the top 10 skincare and makeup brands and product quantities each year, for the sake of analytical consistency, we have opted to exclusively focus on the top 5 brands and products for the years 2021-2023, along with Google Index data. The comparative analysis results are summarized below.\n"
   ]
  },
  {
   "cell_type": "markdown",
   "id": "dd175d75-ec2e-4ac5-a196-f69246fbd273",
   "metadata": {
    "tags": []
   },
   "source": [
    "# For skincare Products\n",
    "\n",
    "## Comparative Analysis of Top 5 Skincare Products (2021-2023)\n",
    "\n",
    "### 2021:\n",
    "In 2021, the top 5 skincare products on Reddit were predominantly moisturizer, sunscreen, mask, serum, and cleanser. Notably, moisturizer had the highest average Google index of 76, indicating a significant online presence. Sunscreen and mask followed closely with indices of 22 and 64, respectively. Serum and cleanser also ranked high with indices of 65 and 38, respectively. This suggests that, according to Reddit discussions, moisturizers were highly discussed and popular, aligning with their strong online visibility.\n",
    "\n",
    "### 2022:\n",
    "The skincare landscape shifted in 2022, with sunscreen taking the lead in both Reddit mentions and average Google index (23). Moisturizer maintained a strong presence with an index of 63, indicating sustained popularity. Serum and cleanser also continued to be discussed, with indices of 70 and 33, respectively. Notably, BHA (beta hydroxy acid) entered the top 5, indicating a growing interest in specific skincare ingredients. This suggests a dynamic shift in consumer preferences and a diversification of the most talked-about products on Reddit.\n",
    "\n",
    "### 2023:\n",
    "In 2023, the top 5 products on Reddit included moisturizer, sunscreen, serum, cleanser, and essence. Moisturizer maintained its high average Google index of 80, reaffirming its popularity. Sunscreen also remained significant with an index of 28. Serum saw a slight increase in index to 82, indicating sustained interest. Cleanser and essence rounded out the top 5, with cleanser seeing a minor increase in index (36). The addition of essence suggests a growing focus on specific skincare steps beyond traditional products.\n",
    "\n",
    "## Comparative Analysis Result:\n",
    "**Meaningful Insights for Business Goals:**\n",
    "- **Moisturizer Dominance:** Moisturizer consistently held a strong position throughout the three years, indicating its enduring popularity and importance in skincare routines.\n",
    "  \n",
    "- **Sunscreen's Steady Presence:** Sunscreen remained a key focus, underlining the consistent emphasis on sun protection in skincare discussions.\n",
    "\n",
    "- **Dynamic Shifts in Product Interest:** The emergence of BHA in 2022 and essence in 2023 suggests an evolving interest in specific skincare ingredients and steps beyond the traditional routine.\n",
    "\n",
    "- **Sustained Interest in Serum:** Serum consistently maintained a high level of interest, showcasing its significance in skincare discussions.\n",
    "\n",
    "- **Cleanser's Stability:** Cleanser consistently ranked in the top 5, indicating its steady relevance in skincare routines.\n",
    "\n",
    "\n",
    "## Conclusion\n",
    "In summary, the skincare landscape witnessed dynamic changes over the three years, with certain products maintaining their popularity (e.g., moisturizer, sunscreen) and others entering the spotlight (e.g., BHA in 2022, essence in 2023). These trends highlight the evolving preferences and interests within the skincare community, as reflected in both Reddit discussions and the average Google index of the mentioned products.\n"
   ]
  },
  {
   "cell_type": "markdown",
   "id": "50e938d6-9742-4dd8-a6c1-4a8266ebc440",
   "metadata": {},
   "source": [
    "# For skincare Brands\n",
    "## Comparative Analysis of Top 5 Skincare Brands (2021-2023)\n",
    "## 2021:\n",
    "In 2021, Reddit discussions on skincare revealed a clear hierarchy of popular products. **Moisturizer** emerged as a standout, with a substantial Google index of 76, indicating its widespread recognition and usage. **Sunscreen** followed closely with an index of 22, underlining its importance in skincare routines. Notably, **masks** garnered considerable attention, boasting a high index of 64. **Serums** and **cleansers** also held strong positions in the top 5, with indices of 65 and 38, respectively. This data suggests a balanced interest in a variety of skincare categories, with a particular focus on moisturizing and protective measures.\n",
    "\n",
    "## 2022:\n",
    "The skincare landscape underwent notable changes in 2022. **Sunscreen** surged to the forefront, both in Reddit mentions and with the highest average Google index of 23, indicating an increased emphasis on sun protection. **Moisturizer** maintained its popularity with a substantial index of 63, suggesting its enduring significance. **Serum** experienced a significant boost in interest, reflected in its elevated index of 70. **Cleansers** remained in the top 5 but with a slightly reduced index of 33. Notably, the introduction of **BHA** to the top 5 indicated a growing fascination with specific skincare ingredients.\n",
    "\n",
    "## 2023:\n",
    "In 2023, the skincare discussions continued to evolve. **Moisturizer** retained its dominance, boasting an increased Google index of 80. **Sunscreen**, although slightly less prominent than moisturizer, maintained a significant presence with an index of 28. **Serum** sustained its high level of interest with an impressive index of 82. **Cleansers** continued to be relevant, though with a slightly diminished index of 36. **Essence** made its appearance in the top 5, reflecting a growing interest in additional skincare steps beyond the conventional routine. This suggests an expanding and diversifying landscape of skincare preferences.\n",
    "\n",
    "## Comparative Analysis Result:\n",
    "**Meaningful Insights for Business Goals:**\n",
    "\n",
    "- **Consistent Favorites:** Moisturizer and sunscreen consistently held top positions, emphasizing their enduring importance in skincare routines.\n",
    "\n",
    "- **Dynamic Shifts:** The inclusion of BHA in 2022 and essence in 2023 showcased evolving interests, reflecting a dynamic and diverse skincare landscape.\n",
    "\n",
    "- **Sustained Interest in Serums:** Serums consistently maintained a high level of interest, indicating their significance in skincare discussions.\n",
    "\n",
    "- **Cleanser's Stability:** Cleansers remained relevant, though with slight variations in popularity.\n",
    "\n",
    "## Conclusion\n",
    "In conclusion, the skincare landscape evolved over the three years, with certain products maintaining their popularity and new elements entering the spotlight. The consistent dominance of moisturizer and sunscreen, along with the emergence of specific ingredients like BHA and steps like essence, highlights the dynamic and diverse nature of skincare trends within the Makeupaddiction community. The Google indices provide quantitative insights into the online visibility and discussions surrounding these products.\n",
    "\n",
    "\n"
   ]
  },
  {
   "cell_type": "markdown",
   "id": "05df5010-431d-4297-b0c9-595341999038",
   "metadata": {},
   "source": []
  },
  {
   "cell_type": "markdown",
   "id": "a0c658ac-f98a-4556-8f38-c315f661ffc0",
   "metadata": {},
   "source": [
    "# For Makeup Brands\n",
    "## Comparative Analysis of Top 5 Makeup Brands (2021-2023)\n",
    "\n",
    "## 2021:\n",
    "In 2021, the landscape of makeup brands on Reddit showcased a clear hierarchy. **Mac** dominated the discussions, securing the top position with a considerable Google index of 49, indicative of its widespread recognition and popularity. **Maybelline**, although ranking second in Reddit mentions, had a notably lower average Google index of 6, suggesting potential for increased online visibility. **Nyx** and **Sephora** held their positions in the top 5, with Sephora displaying a higher index of 28, emphasizing its strong online presence. **Loreal**, with a significant index of 34, rounded out the top 5, demonstrating sustained popularity.\n",
    "\n",
    "## 2022:\n",
    "The makeup landscape underwent notable changes in 2022. **Maybelline** surged to the forefront, taking the lead with an increased average Google index of 7, indicating growing popularity and online visibility. **Mac** maintained its stronghold with a consistent index of 49, affirming its enduring brand recognition. The introduction of **Nars** and **Colourpop** to the top 5 showcased evolving interests, with Colourpop entering the list despite having a low Google index of 1. **Sephora** continued to be a significant player, with an increased index of 37.\n",
    "\n",
    "## 2023:\n",
    "In 2023, the makeup discussions continued to evolve, revealing shifts in brand preferences. **Elf** emerged as the top brand with a moderate average Google index of 16, indicating a rise in popularity. **Maybelline** maintained its strong presence with a consistent index of 15, underscoring its continued popularity. **Nyx** retained its relevance with a moderate index, while **Benefit** entered the top 5, showcasing a growing interest. **Mac**, while still popular, saw a decrease in index, suggesting a slight decline in online visibility.\n",
    "\n",
    "\n",
    "## Comparative Analysis Result:\n",
    "**Meaningful Insights for Business Goals:**\n",
    "\n",
    "- **Maybelline's Consistency:** Maybelline consistently held a top position across the three years, maintaining popularity and relevance.\n",
    "\n",
    "- **Mac's Enduring Presence:** Mac remained a dominant force, consistently ranking high in both Reddit mentions and Google index, showcasing enduring brand recognition.\n",
    "\n",
    "- **Dynamic Shifts:** The introduction of new brands like Nars, Colourpop, Elf, and Benefit reflected dynamic shifts and evolving interests in the makeup community.\n",
    "\n",
    "- **Sephora's Steady Presence:** Sephora consistently held a strong position, reflecting its sustained popularity and significance.\n",
    "\n",
    "## Conclusion:\n",
    "\n",
    "The makeup landscape experienced dynamic shifts over the three years, with certain brands maintaining their popularity and new entrants gaining traction. Maybelline consistently held a top position, while Mac demonstrated enduring brand recognition. The introduction of new brands and fluctuations in Google indices indicate the ever-evolving nature of makeup brand preferences within the Makeupaddiction community. The Google indices provide valuable insights into the online visibility and discussions surrounding these brands.\n"
   ]
  },
  {
   "cell_type": "markdown",
   "id": "4f86c5c8-13d4-44a2-bfb2-4d07bd1194ae",
   "metadata": {},
   "source": [
    "# For Makeup Products\n",
    "## Comparative Analysis of Top 5 Makeup Products (2021-2023)\n",
    "## 2021:\n",
    "In 2021, the landscape of makeup products revealed interesting patterns. **Mascara** emerged as the most-discussed product with a notably low average Google index of 5, suggesting room for increased online visibility and discussions. **Foundation** and **Lipstick** secured the second and third positions with indices of 27 and 55, respectively, indicating a moderate to high level of interest. **Concealer** had a low index of 3, signaling potential for increased online visibility, while **Powder** rounded out the top 5 with a moderate index of 10.\n",
    "\n",
    "## 2022:\n",
    "The makeup landscape witnessed dynamic shifts in 2022. **Foundation** surged to the forefront, claiming the top spot with a significantly higher average Google index of 50, showcasing a substantial increase in popularity. **Mascara** maintained its relevance with an increased index of 10, indicating sustained popularity. **Lipstick** held a strong position with an impressive index of 79, affirming its enduring popularity. **Concealer** sustained interest with a moderate increase in average index. **Powder** remained in the top 5 but with an increased index of 20, reflecting growing interest.\n",
    "\n",
    "## 2023:\n",
    "In 2023, the makeup discussions continued to evolve, revealing shifts in product preferences. **Mascara** continued to be a popular choice, with a moderate increase in average index, indicating sustained interest. **Foundation** retained its relevance with a moderate increase in average index, suggesting continued popularity. **Lipstick** maintained a strong presence with a moderate average index, showcasing consistent popularity. **Primer** entered the top 5 with a low average index of 5, indicating potential for increased online visibility. **Eyeliner** rounded out the top 5 with a moderate increase in average index, reflecting sustained interest.\n",
    "\n",
    "## Comparative Analysis Result:\n",
    "**Meaningful Insights for Business Goals:**\n",
    "\n",
    "- **Trend Identification:** Foundation consistently emerged as a significant trend, experiencing a substantial increase in popularity in 2022. This trend continued in 2023, reinforcing its importance in the makeup industry.\n",
    "\n",
    "- **Stable Performers:** Mascara, lipstick, and concealer remained stable performers across the three years, indicating their enduring popularity and consistent relevance to makeup enthusiasts.\n",
    "\n",
    "- **New Entrants:** Primer entered the top 5 in 2023, suggesting a potential emerging trend or heightened interest in this makeup product. This insight could be valuable for businesses looking to capitalize on evolving consumer preferences.\n",
    "\n",
    "- **Sustained Interest:** Products like mascara and foundation consistently held the top positions, indicating sustained interest and popularity. This stability could guide business strategies for product development, marketing, and inventory management.\n",
    "\n",
    "\n",
    "## Conclusion:\n",
    "In conclusion, the comparative analysis of makeup products from 2021 to 2023 provides valuable insights into shifting trends, stable performers, and potential emerging products. Businesses can leverage this information to align their strategies with consumer preferences, optimize marketing efforts, and capitalize on the evolving landscape of makeup trends.\n"
   ]
  },
  {
   "cell_type": "code",
   "execution_count": null,
   "id": "938bcd91-0ee2-4631-a5e7-412ff462d52d",
   "metadata": {},
   "outputs": [],
   "source": []
  }
 ],
 "metadata": {
  "availableInstances": [
   {
    "_defaultOrder": 0,
    "_isFastLaunch": true,
    "category": "General purpose",
    "gpuNum": 0,
    "hideHardwareSpecs": false,
    "memoryGiB": 4,
    "name": "ml.t3.medium",
    "vcpuNum": 2
   },
   {
    "_defaultOrder": 1,
    "_isFastLaunch": false,
    "category": "General purpose",
    "gpuNum": 0,
    "hideHardwareSpecs": false,
    "memoryGiB": 8,
    "name": "ml.t3.large",
    "vcpuNum": 2
   },
   {
    "_defaultOrder": 2,
    "_isFastLaunch": false,
    "category": "General purpose",
    "gpuNum": 0,
    "hideHardwareSpecs": false,
    "memoryGiB": 16,
    "name": "ml.t3.xlarge",
    "vcpuNum": 4
   },
   {
    "_defaultOrder": 3,
    "_isFastLaunch": false,
    "category": "General purpose",
    "gpuNum": 0,
    "hideHardwareSpecs": false,
    "memoryGiB": 32,
    "name": "ml.t3.2xlarge",
    "vcpuNum": 8
   },
   {
    "_defaultOrder": 4,
    "_isFastLaunch": true,
    "category": "General purpose",
    "gpuNum": 0,
    "hideHardwareSpecs": false,
    "memoryGiB": 8,
    "name": "ml.m5.large",
    "vcpuNum": 2
   },
   {
    "_defaultOrder": 5,
    "_isFastLaunch": false,
    "category": "General purpose",
    "gpuNum": 0,
    "hideHardwareSpecs": false,
    "memoryGiB": 16,
    "name": "ml.m5.xlarge",
    "vcpuNum": 4
   },
   {
    "_defaultOrder": 6,
    "_isFastLaunch": false,
    "category": "General purpose",
    "gpuNum": 0,
    "hideHardwareSpecs": false,
    "memoryGiB": 32,
    "name": "ml.m5.2xlarge",
    "vcpuNum": 8
   },
   {
    "_defaultOrder": 7,
    "_isFastLaunch": false,
    "category": "General purpose",
    "gpuNum": 0,
    "hideHardwareSpecs": false,
    "memoryGiB": 64,
    "name": "ml.m5.4xlarge",
    "vcpuNum": 16
   },
   {
    "_defaultOrder": 8,
    "_isFastLaunch": false,
    "category": "General purpose",
    "gpuNum": 0,
    "hideHardwareSpecs": false,
    "memoryGiB": 128,
    "name": "ml.m5.8xlarge",
    "vcpuNum": 32
   },
   {
    "_defaultOrder": 9,
    "_isFastLaunch": false,
    "category": "General purpose",
    "gpuNum": 0,
    "hideHardwareSpecs": false,
    "memoryGiB": 192,
    "name": "ml.m5.12xlarge",
    "vcpuNum": 48
   },
   {
    "_defaultOrder": 10,
    "_isFastLaunch": false,
    "category": "General purpose",
    "gpuNum": 0,
    "hideHardwareSpecs": false,
    "memoryGiB": 256,
    "name": "ml.m5.16xlarge",
    "vcpuNum": 64
   },
   {
    "_defaultOrder": 11,
    "_isFastLaunch": false,
    "category": "General purpose",
    "gpuNum": 0,
    "hideHardwareSpecs": false,
    "memoryGiB": 384,
    "name": "ml.m5.24xlarge",
    "vcpuNum": 96
   },
   {
    "_defaultOrder": 12,
    "_isFastLaunch": false,
    "category": "General purpose",
    "gpuNum": 0,
    "hideHardwareSpecs": false,
    "memoryGiB": 8,
    "name": "ml.m5d.large",
    "vcpuNum": 2
   },
   {
    "_defaultOrder": 13,
    "_isFastLaunch": false,
    "category": "General purpose",
    "gpuNum": 0,
    "hideHardwareSpecs": false,
    "memoryGiB": 16,
    "name": "ml.m5d.xlarge",
    "vcpuNum": 4
   },
   {
    "_defaultOrder": 14,
    "_isFastLaunch": false,
    "category": "General purpose",
    "gpuNum": 0,
    "hideHardwareSpecs": false,
    "memoryGiB": 32,
    "name": "ml.m5d.2xlarge",
    "vcpuNum": 8
   },
   {
    "_defaultOrder": 15,
    "_isFastLaunch": false,
    "category": "General purpose",
    "gpuNum": 0,
    "hideHardwareSpecs": false,
    "memoryGiB": 64,
    "name": "ml.m5d.4xlarge",
    "vcpuNum": 16
   },
   {
    "_defaultOrder": 16,
    "_isFastLaunch": false,
    "category": "General purpose",
    "gpuNum": 0,
    "hideHardwareSpecs": false,
    "memoryGiB": 128,
    "name": "ml.m5d.8xlarge",
    "vcpuNum": 32
   },
   {
    "_defaultOrder": 17,
    "_isFastLaunch": false,
    "category": "General purpose",
    "gpuNum": 0,
    "hideHardwareSpecs": false,
    "memoryGiB": 192,
    "name": "ml.m5d.12xlarge",
    "vcpuNum": 48
   },
   {
    "_defaultOrder": 18,
    "_isFastLaunch": false,
    "category": "General purpose",
    "gpuNum": 0,
    "hideHardwareSpecs": false,
    "memoryGiB": 256,
    "name": "ml.m5d.16xlarge",
    "vcpuNum": 64
   },
   {
    "_defaultOrder": 19,
    "_isFastLaunch": false,
    "category": "General purpose",
    "gpuNum": 0,
    "hideHardwareSpecs": false,
    "memoryGiB": 384,
    "name": "ml.m5d.24xlarge",
    "vcpuNum": 96
   },
   {
    "_defaultOrder": 20,
    "_isFastLaunch": false,
    "category": "General purpose",
    "gpuNum": 0,
    "hideHardwareSpecs": true,
    "memoryGiB": 0,
    "name": "ml.geospatial.interactive",
    "supportedImageNames": [
     "sagemaker-geospatial-v1-0"
    ],
    "vcpuNum": 0
   },
   {
    "_defaultOrder": 21,
    "_isFastLaunch": true,
    "category": "Compute optimized",
    "gpuNum": 0,
    "hideHardwareSpecs": false,
    "memoryGiB": 4,
    "name": "ml.c5.large",
    "vcpuNum": 2
   },
   {
    "_defaultOrder": 22,
    "_isFastLaunch": false,
    "category": "Compute optimized",
    "gpuNum": 0,
    "hideHardwareSpecs": false,
    "memoryGiB": 8,
    "name": "ml.c5.xlarge",
    "vcpuNum": 4
   },
   {
    "_defaultOrder": 23,
    "_isFastLaunch": false,
    "category": "Compute optimized",
    "gpuNum": 0,
    "hideHardwareSpecs": false,
    "memoryGiB": 16,
    "name": "ml.c5.2xlarge",
    "vcpuNum": 8
   },
   {
    "_defaultOrder": 24,
    "_isFastLaunch": false,
    "category": "Compute optimized",
    "gpuNum": 0,
    "hideHardwareSpecs": false,
    "memoryGiB": 32,
    "name": "ml.c5.4xlarge",
    "vcpuNum": 16
   },
   {
    "_defaultOrder": 25,
    "_isFastLaunch": false,
    "category": "Compute optimized",
    "gpuNum": 0,
    "hideHardwareSpecs": false,
    "memoryGiB": 72,
    "name": "ml.c5.9xlarge",
    "vcpuNum": 36
   },
   {
    "_defaultOrder": 26,
    "_isFastLaunch": false,
    "category": "Compute optimized",
    "gpuNum": 0,
    "hideHardwareSpecs": false,
    "memoryGiB": 96,
    "name": "ml.c5.12xlarge",
    "vcpuNum": 48
   },
   {
    "_defaultOrder": 27,
    "_isFastLaunch": false,
    "category": "Compute optimized",
    "gpuNum": 0,
    "hideHardwareSpecs": false,
    "memoryGiB": 144,
    "name": "ml.c5.18xlarge",
    "vcpuNum": 72
   },
   {
    "_defaultOrder": 28,
    "_isFastLaunch": false,
    "category": "Compute optimized",
    "gpuNum": 0,
    "hideHardwareSpecs": false,
    "memoryGiB": 192,
    "name": "ml.c5.24xlarge",
    "vcpuNum": 96
   },
   {
    "_defaultOrder": 29,
    "_isFastLaunch": true,
    "category": "Accelerated computing",
    "gpuNum": 1,
    "hideHardwareSpecs": false,
    "memoryGiB": 16,
    "name": "ml.g4dn.xlarge",
    "vcpuNum": 4
   },
   {
    "_defaultOrder": 30,
    "_isFastLaunch": false,
    "category": "Accelerated computing",
    "gpuNum": 1,
    "hideHardwareSpecs": false,
    "memoryGiB": 32,
    "name": "ml.g4dn.2xlarge",
    "vcpuNum": 8
   },
   {
    "_defaultOrder": 31,
    "_isFastLaunch": false,
    "category": "Accelerated computing",
    "gpuNum": 1,
    "hideHardwareSpecs": false,
    "memoryGiB": 64,
    "name": "ml.g4dn.4xlarge",
    "vcpuNum": 16
   },
   {
    "_defaultOrder": 32,
    "_isFastLaunch": false,
    "category": "Accelerated computing",
    "gpuNum": 1,
    "hideHardwareSpecs": false,
    "memoryGiB": 128,
    "name": "ml.g4dn.8xlarge",
    "vcpuNum": 32
   },
   {
    "_defaultOrder": 33,
    "_isFastLaunch": false,
    "category": "Accelerated computing",
    "gpuNum": 4,
    "hideHardwareSpecs": false,
    "memoryGiB": 192,
    "name": "ml.g4dn.12xlarge",
    "vcpuNum": 48
   },
   {
    "_defaultOrder": 34,
    "_isFastLaunch": false,
    "category": "Accelerated computing",
    "gpuNum": 1,
    "hideHardwareSpecs": false,
    "memoryGiB": 256,
    "name": "ml.g4dn.16xlarge",
    "vcpuNum": 64
   },
   {
    "_defaultOrder": 35,
    "_isFastLaunch": false,
    "category": "Accelerated computing",
    "gpuNum": 1,
    "hideHardwareSpecs": false,
    "memoryGiB": 61,
    "name": "ml.p3.2xlarge",
    "vcpuNum": 8
   },
   {
    "_defaultOrder": 36,
    "_isFastLaunch": false,
    "category": "Accelerated computing",
    "gpuNum": 4,
    "hideHardwareSpecs": false,
    "memoryGiB": 244,
    "name": "ml.p3.8xlarge",
    "vcpuNum": 32
   },
   {
    "_defaultOrder": 37,
    "_isFastLaunch": false,
    "category": "Accelerated computing",
    "gpuNum": 8,
    "hideHardwareSpecs": false,
    "memoryGiB": 488,
    "name": "ml.p3.16xlarge",
    "vcpuNum": 64
   },
   {
    "_defaultOrder": 38,
    "_isFastLaunch": false,
    "category": "Accelerated computing",
    "gpuNum": 8,
    "hideHardwareSpecs": false,
    "memoryGiB": 768,
    "name": "ml.p3dn.24xlarge",
    "vcpuNum": 96
   },
   {
    "_defaultOrder": 39,
    "_isFastLaunch": false,
    "category": "Memory Optimized",
    "gpuNum": 0,
    "hideHardwareSpecs": false,
    "memoryGiB": 16,
    "name": "ml.r5.large",
    "vcpuNum": 2
   },
   {
    "_defaultOrder": 40,
    "_isFastLaunch": false,
    "category": "Memory Optimized",
    "gpuNum": 0,
    "hideHardwareSpecs": false,
    "memoryGiB": 32,
    "name": "ml.r5.xlarge",
    "vcpuNum": 4
   },
   {
    "_defaultOrder": 41,
    "_isFastLaunch": false,
    "category": "Memory Optimized",
    "gpuNum": 0,
    "hideHardwareSpecs": false,
    "memoryGiB": 64,
    "name": "ml.r5.2xlarge",
    "vcpuNum": 8
   },
   {
    "_defaultOrder": 42,
    "_isFastLaunch": false,
    "category": "Memory Optimized",
    "gpuNum": 0,
    "hideHardwareSpecs": false,
    "memoryGiB": 128,
    "name": "ml.r5.4xlarge",
    "vcpuNum": 16
   },
   {
    "_defaultOrder": 43,
    "_isFastLaunch": false,
    "category": "Memory Optimized",
    "gpuNum": 0,
    "hideHardwareSpecs": false,
    "memoryGiB": 256,
    "name": "ml.r5.8xlarge",
    "vcpuNum": 32
   },
   {
    "_defaultOrder": 44,
    "_isFastLaunch": false,
    "category": "Memory Optimized",
    "gpuNum": 0,
    "hideHardwareSpecs": false,
    "memoryGiB": 384,
    "name": "ml.r5.12xlarge",
    "vcpuNum": 48
   },
   {
    "_defaultOrder": 45,
    "_isFastLaunch": false,
    "category": "Memory Optimized",
    "gpuNum": 0,
    "hideHardwareSpecs": false,
    "memoryGiB": 512,
    "name": "ml.r5.16xlarge",
    "vcpuNum": 64
   },
   {
    "_defaultOrder": 46,
    "_isFastLaunch": false,
    "category": "Memory Optimized",
    "gpuNum": 0,
    "hideHardwareSpecs": false,
    "memoryGiB": 768,
    "name": "ml.r5.24xlarge",
    "vcpuNum": 96
   },
   {
    "_defaultOrder": 47,
    "_isFastLaunch": false,
    "category": "Accelerated computing",
    "gpuNum": 1,
    "hideHardwareSpecs": false,
    "memoryGiB": 16,
    "name": "ml.g5.xlarge",
    "vcpuNum": 4
   },
   {
    "_defaultOrder": 48,
    "_isFastLaunch": false,
    "category": "Accelerated computing",
    "gpuNum": 1,
    "hideHardwareSpecs": false,
    "memoryGiB": 32,
    "name": "ml.g5.2xlarge",
    "vcpuNum": 8
   },
   {
    "_defaultOrder": 49,
    "_isFastLaunch": false,
    "category": "Accelerated computing",
    "gpuNum": 1,
    "hideHardwareSpecs": false,
    "memoryGiB": 64,
    "name": "ml.g5.4xlarge",
    "vcpuNum": 16
   },
   {
    "_defaultOrder": 50,
    "_isFastLaunch": false,
    "category": "Accelerated computing",
    "gpuNum": 1,
    "hideHardwareSpecs": false,
    "memoryGiB": 128,
    "name": "ml.g5.8xlarge",
    "vcpuNum": 32
   },
   {
    "_defaultOrder": 51,
    "_isFastLaunch": false,
    "category": "Accelerated computing",
    "gpuNum": 1,
    "hideHardwareSpecs": false,
    "memoryGiB": 256,
    "name": "ml.g5.16xlarge",
    "vcpuNum": 64
   },
   {
    "_defaultOrder": 52,
    "_isFastLaunch": false,
    "category": "Accelerated computing",
    "gpuNum": 4,
    "hideHardwareSpecs": false,
    "memoryGiB": 192,
    "name": "ml.g5.12xlarge",
    "vcpuNum": 48
   },
   {
    "_defaultOrder": 53,
    "_isFastLaunch": false,
    "category": "Accelerated computing",
    "gpuNum": 4,
    "hideHardwareSpecs": false,
    "memoryGiB": 384,
    "name": "ml.g5.24xlarge",
    "vcpuNum": 96
   },
   {
    "_defaultOrder": 54,
    "_isFastLaunch": false,
    "category": "Accelerated computing",
    "gpuNum": 8,
    "hideHardwareSpecs": false,
    "memoryGiB": 768,
    "name": "ml.g5.48xlarge",
    "vcpuNum": 192
   },
   {
    "_defaultOrder": 55,
    "_isFastLaunch": false,
    "category": "Accelerated computing",
    "gpuNum": 8,
    "hideHardwareSpecs": false,
    "memoryGiB": 1152,
    "name": "ml.p4d.24xlarge",
    "vcpuNum": 96
   },
   {
    "_defaultOrder": 56,
    "_isFastLaunch": false,
    "category": "Accelerated computing",
    "gpuNum": 8,
    "hideHardwareSpecs": false,
    "memoryGiB": 1152,
    "name": "ml.p4de.24xlarge",
    "vcpuNum": 96
   },
   {
    "_defaultOrder": 57,
    "_isFastLaunch": false,
    "category": "Accelerated computing",
    "gpuNum": 0,
    "hideHardwareSpecs": false,
    "memoryGiB": 32,
    "name": "ml.trn1.2xlarge",
    "vcpuNum": 8
   },
   {
    "_defaultOrder": 58,
    "_isFastLaunch": false,
    "category": "Accelerated computing",
    "gpuNum": 0,
    "hideHardwareSpecs": false,
    "memoryGiB": 512,
    "name": "ml.trn1.32xlarge",
    "vcpuNum": 128
   },
   {
    "_defaultOrder": 59,
    "_isFastLaunch": false,
    "category": "Accelerated computing",
    "gpuNum": 0,
    "hideHardwareSpecs": false,
    "memoryGiB": 512,
    "name": "ml.trn1n.32xlarge",
    "vcpuNum": 128
   }
  ],
  "instance_type": "ml.t3.medium",
  "kernelspec": {
   "display_name": "Python 3 (Data Science 3.0)",
   "language": "python",
   "name": "python3__SAGEMAKER_INTERNAL__arn:aws:sagemaker:us-east-1:081325390199:image/sagemaker-data-science-310-v1"
  },
  "language_info": {
   "codemirror_mode": {
    "name": "ipython",
    "version": 3
   },
   "file_extension": ".py",
   "mimetype": "text/x-python",
   "name": "python",
   "nbconvert_exporter": "python",
   "pygments_lexer": "ipython3",
   "version": "3.10.6"
  }
 },
 "nbformat": 4,
 "nbformat_minor": 5
}
